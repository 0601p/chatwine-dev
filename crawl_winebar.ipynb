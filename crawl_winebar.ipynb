{
 "cells": [
  {
   "attachments": {},
   "cell_type": "markdown",
   "metadata": {},
   "source": [
    "## 이 문서를 수정할 당신에게...\n",
    "#### 현재 상황은 아래와 같습니다.\n",
    "1. 우리의 앱에서 중요한 요소 중 하나는 와인을 추천하고, 이를 실제로 구매할 수 있는 링크에 연결하는 것입니다. 또, 실제 와인바를 추천해주기도 합니다. 이를 위해서 실제 와인을 파는 사이트와 와인바를 데이터베이스로 만들어두어야하기 때문에 이를 위해서는 크롤링이 필요합니다.\n",
    "\n",
    "#### 당신의 목표는 아래와 같습니다.\n",
    "1. 아래 사이트에 대한 크롤링을 진행합니다. 크롤링이 필요한 요소는 와인바 추천에 필요하다고 생각하는 모든 것을 하면 됩니다. 또한 추가로 더 좋은 사이트의 크롤링도 좋습니다.\n",
    "\n",
    "    <strong>와인바</strong>\n",
    "    - 서울내에 있는 와인바(사이트 찾아야함)\n",
    "\n",
    "2. 와인바에 대한 데이터베이스도 통합합니다. 추가로 다른 schema도 추가해줍니다.\n",
    "- 상호명\n",
    "- 위치(위도, 경도)\n",
    "- 도로명주소\n",
    "- 메뉴\n",
    "- 영업시간\n",
    "\n",
    "#### 참고 사항\n",
    "현재 작성된 크롤링은 아래의 프레임워크로 작업했습니다.\n",
    "- [Scrapy](https://docs.scrapy.org/en/latest/intro/tutorial.html)\n",
    "- [Selenium](https://selenium-python.readthedocs.io/)"
   ]
  },
  {
   "cell_type": "code",
   "execution_count": 9,
   "metadata": {},
   "outputs": [],
   "source": [
    "import os\n",
    "from time import sleep\n",
    "import configparser\n",
    "\n",
    "from tqdm import tqdm\n",
    "from selenium import webdriver\n",
    "from selenium.webdriver.common.keys import Keys\n",
    "from webdriver_manager.chrome import ChromeDriverManager\n",
    "from selenium.webdriver.common.by import By\n",
    "from selenium.webdriver.support.ui import WebDriverWait\n",
    "from selenium.webdriver.support import expected_conditions as EC"
   ]
  },
  {
   "attachments": {},
   "cell_type": "markdown",
   "metadata": {},
   "source": [
    "아래 코드를 실행하면 크롬이 열리고, 와인앤모어 로그인 페이지로 접속하게 된다."
   ]
  },
  {
   "cell_type": "code",
   "execution_count": 16,
   "metadata": {},
   "outputs": [],
   "source": [
    "# Setup the driver. This one uses chrome with some options and a path to the chromedriver\n",
    "# driver = webdriver.Chrome(ChromeDriverManager().install())\n",
    "driver = webdriver.Chrome()\n",
    "\n",
    "# implicitly_wait tells the driver to wait before throwing an exception\n",
    "driver.implicitly_wait(30)\n",
    "\n",
    "# go to the login page\n",
    "driver.get('https://www.mangoplate.com/search/%EC%99%80%EC%9D%B8?keyword=%EC%99%80%EC%9D%B8&page=1') # 망고플레이트 와인 검색 창으로 이동"
   ]
  },
  {
   "cell_type": "code",
   "execution_count": 8,
   "metadata": {},
   "outputs": [],
   "source": [
    "driver.get('https://www.mangoplate.com/search/%EC%99%80%EC%9D%B8?keyword=%EC%99%80%EC%9D%B8&page=1')"
   ]
  },
  {
   "cell_type": "code",
   "execution_count": 61,
   "metadata": {},
   "outputs": [],
   "source": [
    "def get_detail_info(detail_url):\n",
    "    driver.get(detail_url)\n",
    "    # Allow time for the website to load\n",
    "    sleep(10)\n",
    "    data_dict = {}\n",
    "    data_dict['url'] = driver.current_url\n",
    "\n",
    "    name = driver.find_element(By.CSS_SELECTOR, \"h1.restaurant_name\")\n",
    "    data_dict['name'] = name.text if name else ''\n",
    "\n",
    "    rating = driver.find_element(By.CSS_SELECTOR, \"strong.rate-point span\")\n",
    "    data_dict['rating'] = rating.text if rating else ''\n",
    "\n",
    "    try:\n",
    "        address = driver.find_element(By.XPATH, '//tr[th[contains(text(), \"주소\")]]/td')\n",
    "        data_dict['address'] = address.text if address else ''\n",
    "    except:\n",
    "        data_dict['address'] = ''\n",
    "\n",
    "    try:\n",
    "        phone = driver.find_element(By.XPATH, '//tr[th[contains(text(), \"전화번호\")]]/td')\n",
    "        data_dict['phone'] = phone.text if phone else ''\n",
    "    except:\n",
    "        data_dict['phone'] = ''\n",
    "\n",
    "    # 가격대\n",
    "    try:\n",
    "        price_range = driver.find_element(By.XPATH, '//tr[th[contains(text(), \"가격대\")]]/td')\n",
    "        data_dict['price_range'] = price_range.text if price_range else ''\n",
    "    except:\n",
    "        data_dict['price_range'] = ''\n",
    "\n",
    "\n",
    "    # 주차\n",
    "    try:\n",
    "        parking = driver.find_element(By.XPATH, '//tr[th[contains(text(), \"주차\")]]/td')\n",
    "        data_dict['parking'] = parking.text if parking else '' \n",
    "    except:\n",
    "        data_dict['parking'] = ''\n",
    "\n",
    "    # 영업시간\n",
    "    try:\n",
    "        opening_hours = driver.find_element(By.XPATH, '//tr[th[contains(text(), \"영업시간\")]]/td')\n",
    "        data_dict['opening_hours'] = opening_hours.text if opening_hours else ''\n",
    "    except:\n",
    "        data_dict['opening_hours'] = ''\n",
    "\n",
    "    # 휴일\n",
    "    try:\n",
    "        holidays = driver.find_element(By.XPATH, '//tr[th[contains(text(), \"휴일\")]]/td')\n",
    "        data_dict['holidays'] = holidays.text if holidays else ''\n",
    "    except:\n",
    "        data_dict['holidays'] = ''\n",
    "\n",
    "    # 메뉴\n",
    "    menu_items = driver.find_elements(By.XPATH, '//tr[th[contains(text(), \"메뉴\")]]//li')\n",
    "    menu = {}\n",
    "    for item in menu_items:\n",
    "        menu_name = item.find_element(By.CLASS_NAME, 'Restaurant_Menu').text\n",
    "        menu_price = item.find_element(By.CLASS_NAME, 'Restaurant_MenuPrice').text\n",
    "        menu[menu_name] = menu_price\n",
    "    data_dict['menu'] = menu\n",
    "\n",
    "    img_elements = driver.find_elements(By.XPATH, '//img[@class=\"center-croping\"]')\n",
    "\n",
    "    # 각 이미지 요소에서 'src' 속성을 추출합니다.\n",
    "    img_urls = [img.get_attribute('src') for img in img_elements]\n",
    "    data_dict['img_urls'] = img_urls\n",
    "\n",
    "    reviews = driver.find_elements(By.CSS_SELECTOR, 'p.RestaurantReviewItem__ReviewText')\n",
    "    review = {}\n",
    "    review_list = []\n",
    "    for review in reviews:\n",
    "        review_list.append(review.text)\n",
    "    data_dict['review'] = review_list   \n",
    "\n",
    "    return data_dict"
   ]
  },
  {
   "cell_type": "code",
   "execution_count": 54,
   "metadata": {},
   "outputs": [
    {
     "data": {
      "text/plain": [
       "{'url': 'https://www.mangoplate.com/restaurants/Ha-RjMRFLWAZ',\n",
       " 'name': '미도림',\n",
       " 'rating': '3.9',\n",
       " 'address': '서울특별시 성동구 왕십리로 108 3F\\n지번 서울시 성동구 성수동1가 656-1069 3F',\n",
       " 'phone': '02-469-8486',\n",
       " 'price_range': '만원-2만원',\n",
       " 'parking': '주차공간없음',\n",
       " 'opening_hours': '월-금: 16:00 - 24:00\\n토-일: 13:00 - 01:00',\n",
       " 'holidays': '',\n",
       " 'menu': {'취나물파스타': '14,000원',\n",
       "  '부추교자': '12,000원',\n",
       "  '더덕약고추장 곁들인 새우전변': '12,000원',\n",
       "  '미더덕소스로 버무린 육회': '17,000원',\n",
       "  '성게파테와 기정떡': '13,000원'},\n",
       " 'img_urls': ['https://mp-seoul-image-production-s3.mangoplate.com/572183_1624961579224137.jpg?fit=around|512:512&crop=512:512;*,*&output-format=jpg&output-quality=80',\n",
       "  'https://mp-seoul-image-production-s3.mangoplate.com/576647_1675389463747207.jpg?fit=around|512:512&crop=512:512;*,*&output-format=jpg&output-quality=80',\n",
       "  'https://mp-seoul-image-production-s3.mangoplate.com/576647_1675389464599858.jpg?fit=around|512:512&crop=512:512;*,*&output-format=jpg&output-quality=80',\n",
       "  'https://mp-seoul-image-production-s3.mangoplate.com/576647_1675389464840907.jpg?fit=around|512:512&crop=512:512;*,*&output-format=jpg&output-quality=80',\n",
       "  'https://mp-seoul-image-production-s3.mangoplate.com/576647_1675389465154474.jpg?fit=around|512:512&crop=512:512;*,*&output-format=jpg&output-quality=80'],\n",
       " 'review': ['오랫동안 가고 싶었던 와인바 미도림. 성수동 와인바하면 대표적인 곳이 되었네요.\\n\\n연휴 + 이른 시각이어서 그랬는지 비교적 쉽게 캐치테이블로 예약하고 방문했습니다. 2호선 뚝섬역에서 도보 10분? 정도인데, 눈에 띄는 간판이 없어서 밀도까지 내려왔다가 다시 되돌아갔었어요.\\n\\n코키지를 할까 하다가, 미도림에서 화이트 와인을 시켰어요. 그리고 다양하게 시켜봤는데, 음식 서빙받는데까지 시간이 조금 걸리는 편이었어요. 양이 많은 편은 아니예요. 취나물 파스타는 크림소스가 맛났고, 깻잎으로 만들면 향이 좀 더 강한 음식이 되겠구나 생각이 들었어요. 딸기 아이스크림이 맛있었어요. 그리고 스탭분들이 정말정말 친절했어요.\\n\\n주차는 불가합니다.',\n",
       "  '점심시간에 근처에서 차 맡기고 갈곳이 있나 해서 아이들이랑 갔는데, 노키드존이라고 말하는데. 여기 어린애들 왜데리고 오느냐는 태도가 기분이 너무 상했네요. 뭐 노키드존인지 확인 안한 저희의 잘못도 있지만. 어찌됐든 기분은 나쁘네요.\\n아이들이 뭔 잘못이 있다고. 노키드존 영업장들 이해안되고 다 없어지면 좋겠어요.',\n",
       "  '음식이 너무 맛있다는 후기를 보고 찾아갔던 와인바. 안주들이 양이 적긴 한데 여러개 맛볼 수 있어서 오히려 좋았다. 요리들이 생소한 것도 있긴 했는데 대부분 준수했다. 메뉴를 거의 다 먹었는데 오징어토스트, 굴파테&기정떡이 너무 맛있었다. 오징어토스트는 당연히 맛있을거라고 생각하고 먹은거긴 했는데 그래도 너무 맛있었고, 굴파테&기정떡은 상상도 안됐는데 은근 그 둘의 조합이 잘어울리고 너무 좋았다. 곁들였던 와인들도 전부 맛있어서 좋았던 곳ㅎㅎ',\n",
       "  '맛있다에 가까운 괜찮다!\\n첫번째로 먹은 소카레찜 너무 맛있었다. 한피쓰 더 먹고 싶었음\\n육회를 먹을 땐 같이 나오는 소스가 특히나 맛있어서 더 요청함.\\n마지막 솥밥은 조금 기다려서 먹었는데, 괜찮았다.\\n약간 힙지로 느낌이 나는 곳이어서, 사실 갠적으로 나의 취향은 아니라.. 재방문할 지는 모르겠다',\n",
       "  '너무 기대한 탓일까, 요새 이런 분위기의 와인바가 많아져서 일까, 음식도, 와인리스트도, 분위기도, 서비스도 특별한 구석이 없었다. 인상적인 건 이용시간 안내. 와인을 글라스로 주문하느냐 보틀로 주문하느냐에 따라 이용시간이 달라지는지 막상 자리에 앉아 보틀을 주문하니, 입구에 안내받은 것보다 이용시간을 넉넉하게 알려줬다.(좀 치사하지 않나,, 음식이 저렴한 편도 아니면서) 아무튼 재방문의사 없음.']}"
      ]
     },
     "execution_count": 54,
     "metadata": {},
     "output_type": "execute_result"
    }
   ],
   "source": [
    "get_detail_info('https://www.mangoplate.com/restaurants/Ha-RjMRFLWAZ')"
   ]
  },
  {
   "attachments": {},
   "cell_type": "markdown",
   "metadata": {},
   "source": [
    "아래 코드를 실행하면 페이지를 순회하면 크롤링을 진행하고, 이를 data_list에 저장한다."
   ]
  },
  {
   "cell_type": "code",
   "execution_count": 42,
   "metadata": {},
   "outputs": [],
   "source": [
    "# Navigate to product list page\n",
    "data_list = []\n",
    "links = set()\n",
    "for idx in range(1, 11):\n",
    "    driver.get(f'https://www.mangoplate.com/search/%EC%99%80%EC%9D%B8?keyword=%EC%99%80%EC%9D%B8&page={idx}')\n",
    "    sleep(10)\n",
    "    product_links = driver.find_elements(By.CSS_SELECTOR, \"a.only-desktop_not\")\n",
    "    for link in product_links:\n",
    "        links.add(link.get_attribute('href'))\n",
    "    for i in product_links:\n",
    "        if i.get_attribute('href') not in links:\n",
    "            links.add(i.get_attribute('href'))"
   ]
  },
  {
   "cell_type": "code",
   "execution_count": 63,
   "metadata": {},
   "outputs": [],
   "source": [
    "links_list = list(links)"
   ]
  },
  {
   "cell_type": "code",
   "execution_count": 66,
   "metadata": {},
   "outputs": [
    {
     "name": "stderr",
     "output_type": "stream",
     "text": [
      "100%|██████████| 200/200 [3:13:29<00:00, 58.05s/it]   \n"
     ]
    }
   ],
   "source": [
    "cnt = 0\n",
    "for detail_url in tqdm(links):\n",
    "    cnt += 1\n",
    "    if cnt <= 3:\n",
    "        continue\n",
    "    data_list.append(get_detail_info(detail_url))"
   ]
  },
  {
   "cell_type": "code",
   "execution_count": 69,
   "metadata": {},
   "outputs": [],
   "source": [
    "import json"
   ]
  },
  {
   "cell_type": "code",
   "execution_count": 70,
   "metadata": {},
   "outputs": [],
   "source": [
    "with open('./data/wine_bar.json', 'w', encoding='utf-8') as json_file:\n",
    "    for data in data_list:\n",
    "        json_file.write(json.dumps(data, ensure_ascii=False) + '\\n')"
   ]
  },
  {
   "cell_type": "code",
   "execution_count": 71,
   "metadata": {},
   "outputs": [],
   "source": [
    "driver.close()"
   ]
  },
  {
   "attachments": {},
   "cell_type": "markdown",
   "metadata": {},
   "source": [
    "### wrtn을 이용한 리뷰 데이터 요약"
   ]
  },
  {
   "cell_type": "code",
   "execution_count": 1,
   "metadata": {},
   "outputs": [],
   "source": [
    "import pandas as pd"
   ]
  },
  {
   "cell_type": "code",
   "execution_count": 2,
   "metadata": {},
   "outputs": [],
   "source": [
    "df = pd.read_json('./data/wine_bar.json', encoding='utf-8', lines=True)"
   ]
  },
  {
   "cell_type": "code",
   "execution_count": 56,
   "metadata": {},
   "outputs": [],
   "source": [
    "driver.quit()"
   ]
  },
  {
   "cell_type": "code",
   "execution_count": 4,
   "metadata": {},
   "outputs": [
    {
     "name": "stderr",
     "output_type": "stream",
     "text": [
      "C:\\Users\\chois\\AppData\\Local\\Temp\\ipykernel_14736\\4108177843.py:2: SettingWithCopyWarning: \n",
      "A value is trying to be set on a copy of a slice from a DataFrame\n",
      "\n",
      "See the caveats in the documentation: https://pandas.pydata.org/pandas-docs/stable/user_guide/indexing.html#returning-a-view-versus-a-copy\n",
      "  df['review'][idx] = df['review'][idx].replace('\\n', '')\n"
     ]
    }
   ],
   "source": [
    "for idx in range(len(df['review'])):\n",
    "    df['review'][idx] = df['review'][idx].replace('\\n', '')"
   ]
  },
  {
   "cell_type": "code",
   "execution_count": 5,
   "metadata": {},
   "outputs": [],
   "source": [
    "import time"
   ]
  },
  {
   "cell_type": "code",
   "execution_count": 10,
   "metadata": {},
   "outputs": [],
   "source": [
    "# Setup the driver. This one uses chrome with some options and a path to the chromedriver\n",
    "# driver = webdriver.Chrome(ChromeDriverManager().install())\n",
    "driver = webdriver.Chrome()\n",
    "\n",
    "# implicitly_wait tells the driver to wait before throwing an exception\n",
    "driver.implicitly_wait(30)\n",
    "\n",
    "# # go to the login page\n",
    "# driver.get('https://wrtn.ai/') "
   ]
  },
  {
   "cell_type": "code",
   "execution_count": 51,
   "metadata": {},
   "outputs": [
    {
     "name": "stdout",
     "output_type": "stream",
     "text": [
      "르챔버 이 리뷰를 보고, 가게 정보를 요약해줘: ['너무 유명한 곳이지만, 이름값 못한다고 느꼈던 곳\\n\\n커버차지: 만원\\n기본안주: 생수/탄산수 택 1, 과자\\n추천메뉴: 챔버스토리\\n\\n한국 스피크이지바 열풍의 역사를 시작한 곳이자 내로라하는 많은 바텐더분들이 한번씩 거쳐갔다는 르챔버. 정말 손님이 많다. 오픈시간 맞춰가니 입장이 가능했지만 곧 만석이었고 9시경 나올 때는 웨이팅이 길었다. 외국인 손님들도 많이 보인다.\\n\\n전반적으로 시그니처 칵테일들이 78년 전에는 참신했을지 모르나 이제는 특별함이 많이 부족한 느낌이었고 비주얼이 맛보다 강하다는 느낌을 받았다. 관광객, 인스타그래머들을 겨냥한 건지 달고 대중적인데다 맛이 입 안에서 변하는 색다른 재미나 깊이가 떨어지는 느낌. 그렇다고 공간과 서비스가 압도적이냐 하면 그것도 아니다. 캐주얼한 바라고 하기에는 가격대가 잔당 270003만원 선에 커버차지도 받으니 사람 씀씀이는 다 다르지만 나한테는 캐주얼한 가격대가 아니고.... 그렇다고 공간이 훌륭하거나 접객이 세심하거나 기본안주 구성이 좋은 것도 아니고 좀 많이 애매한 분위기. 홀 좌석에 등받이 없는 의자로 안내해주셔서 의자를 청하니 바틀로 주문하면 등받이 있는 자리로 옮겨준다는 말까지 좀 어이없었다 ㅋㅋㅋ\\n\\n첫잔 Chamber story\\nDark rum, pinepple, lime\\nSweet vermouth, bitter, hazelnut\\n\\n훈연향이 은근히 풍기고 럼 맛은 약한 편. 상자가 스르륵 열리며 연기가 뿜어나오고 보석처럼 빛나는 칵테일잔은 확실히 엄청 인스타그래머블하다. 괜히 수많은 업장에서 따라하는 게 아니다. 정말 예뻤다. 비주얼에 미치지 못했을 뿐 맛도 무난하게 맛있다.\\n\\n2. Laughing buddha\\nLychee, pineapple, lime, butter, yeontae kaliang\\n\\n굉장히 고급진 열대과일주스 맛~ 고량주 향이 뒤에 풍기면서 약간의 킥을 선사해서 물리지 않게 마실 수 있다. 부처상 모양의 특이한 잔에 나와서 빨대로 빨아먹는 구조.\\n\\n3. Post man\\nHibiscus cassis, cassis, lemon, cranberry, earl grey, pomegranate\\n\\n빨간 우편상자에 담겨나오는 퍼포먼스가 인상적.\\n파우스트류의 강한 단맛과 크랜베리맛이 주가 되고\\n카시스의 불량식품스러운 맛을 좋아한다면 맛없없 조합.\\n\\n4. Aged negroni\\nGin, campari, sweet vermouth\\n\\n여기까지 마셔보고 다 참 예쁜데 맛이 아쉬워서 비주얼 위주인듯한 첫잔 시그니처 메뉴 스킵하고 직접 오크통에서 숙성하셨다는 aged negroni 주문.\\n\\n처음먹어보는데 확실히 숙성하셔서 통일감도 좋고 훈연 느낌도 나고 향도 강렬해서 첫모금에 그래 이런 걸 원했어 싶음.\\n다만 오렌지필로 너무 시트러스맛을 위에 과하게 입혀서 달다는 느낌. 기존 네그로니가 워낙 밸런스 좋은 칵테일이어서인지 클래식 레시피보다 향은 좋아도 길게 마시기에는 인상적이지 못했다.\\n\\n5. Im pine\\nMilk punch rum, pineapple, lime, le.ingrass, honey\\n새콤하고 부드럽고. 파인애플맛에 강세. 밀크펀치맛 특유의 부드러움과 레몬그레스향이 좀 약하게 피니시에 나타나는데 이것도 특별한 느낌은 아니었다.\\n\\n6. Fortune\\nMuscat liqueur, strawberry lillet, pino sherry, lemon\\n정말 달달하고 포도향이 난다. 머스캣 리큐르 때문인지 좀 인공적으로 느껴졌다. 네잎클로버를 넣은 봉투가 같이 나온다.\\n\\n접객은 편차가 그날그날 있을 수밖에 없고 홀좌석이 바좌석보다 케어가 떨어지는것도 특히 장사가 잘되는 업장에서는 당연하게 생각하지만 우선 맛에서 많이 실망. 엄밀히 말하면 맛만으로는 괜찮다에 가깝지만, 공간이나 네임밸류를 따지지 않을 수 없고 동네에 좋은 바가 너무 많다는 것도 생각하지 않을 수 없음. 아마도 피아노연주가 분위기를 크게 담당하는 듯한데 우리 갔을때는 그마저 없었으니...\\n\\n르챔버가 한남-청담 일대 칵테일바중 가격이 유난히 비싼 편이 아닌데도 계산하면서 돈이 많이! 아깝다고 느끼는 경험이 오랜만이어서 별로.\\n\\n#바리뷰 38', '스피크이지 바로 유명한 르챔버에 다녀왔어요. 시크릿바로도 불리는 이곳은 입구에서부터 비밀스럽게 생겼어요. 책장 모양의 입구에서 특정 책을 누르면 문이 열려요. 그럼 드라마 속에 들어온 듯한 바가 보이죠.\\n\\n저희는 시그니쳐 칵테일을 주문했고, 각 칵테일이 스토리를 담고 있어서 서버분이 설명을 해주세요.\\n\\nUn boxing : 선물을 받은 듯한 기분을 전달하는 페이퍼백 안에 칵테일이 있어요. 백을 손으로 뜯으면 연기와 함께 짜라란~ 칵테일이 나타나요. 좀 센 술을 좋아하시면 추천합니다.\\n\\nPost man : 우체통 같이 생긴 핑크 상자를 열면 또 연기와 함께 칵테일이 나타나요. 크렌베리와 레몬 맛이 강해서 새콤하고 약한 술을 원하시면 추천합니다.\\n\\nSilky night : 특별한 이벤트는 없지만 기네스 맥주처럼 묵직하고 부드러운 술을 좋아하시면 추천합니다. 바삭한 말린 대추가 들어있고 절임 배와 함께 곁들여 먹는 술이라 뭔가 어르신을 위한 술 느낌이에요.\\n\\n외국인 친구들과 가서 영어와 한국어로 설명을 해주셨는데 설명을 숨도 안 쉬고 너무 빠르게 하셔서 좀 정신이 없었던 점 빼고 모든 것이 좋았습니다.', '분위기 너무 좋았던 르챔버!\\n청담의 분위기를 잔뜩 느끼고 왔답니다~.~\\n\\n하몽메론도 당연히 맛있었고\\n추천해주신 칵테일도 딱 제가 원하던 거였어요…\\n입문용 드라이함 ㅋㅋㅋ\\n\\n드라이아이스를 코스터로 깔아주거나,\\n박스에 드라이라벤더와 함께 훈연한 칵테일을\\n서브해주시는 등\\n퍼포먼스도 좋았습니다!\\n\\n책꽂이 입구도 인상적이었어요..\\n사장님의 어렸을 적 로망을 실현시킨 게 아닌가 싶은 ㅎㅎ\\n\\n좋은 주말 저녁 시간이었습니다 ღ’ᴗ’ღ', '일단 보여주는 것만으로도 시각적 만족.', '주말 저녁 방문.\\n\\n5개월 만에 재방문하는 르챔버. 지난 번 다소 불편했던 서비스 때문에 안 좋았던 인상을 그 이상으로 메꿔준 방문이었다. 첫 잔으로 올드패션드를 먹다가 바에 자리가 나서 옮겼는데, 지난 방문에 바텐딩하셨던 분이 기억하시고 그때 내가 드린 피드백에 감사하다며 본인의 이야기를 공유해주셔서 편한 마음으로 즐거운 시간을 보낼 수 있었다.\\n\\n▪️Pornstar Martini 27,000원 ⭐️\\n마티니를 좋아하지 않아도 괜찮다. 2000년대 초반 영국에서 만들어진 이 칵테일은 달달한 바닐라와 새콤한 패션후르츠 향이 지배적이라 전혀 거부감없이 마실 수 있었다. 스푸만테의 가벼운 탄산감까지 여름에 마시기 좋을 칵테일.\\n\\n▪️General MacArthur 27,000원\\n다크럼 베이스의 비터향이 가득한 시그니처 칵테일. 메뉴판에 따르면 시가를 즐기던 맥아더 장군의 향을 비터로 표현한 것 같다. 일행이 시킨 칵테일로 맥아더 장군 초상화가 그려져 있는 박스와 시가 대신 시나몬 스틱을 살짝 그을려서 제공한다. 이 박스가 두 개 밖에 없어서 다른 손님에게 주문이 들어오면 박스는 수거해 간다ㅋㅋ\\n\\n▪️Ski Lodge ⭐️\\n바텐더 분께 칵테일을 추천 부탁드렸는데 스키롯지를 주셔서 너무 신기하고 반가웠다. 코블러에서 로빈님이 만들어주신 이후로 마실 기회가 없었는데 약간 잊고 있던 옛 친구를 만난 기분. B&B에 그랑 마르니에를 섞어 불을 붙인 후 따뜻하게 마시는 칵테일이다.'],\n"
     ]
    },
    {
     "name": "stderr",
     "output_type": "stream",
     "text": [
      "C:\\Users\\chois\\AppData\\Local\\Temp\\ipykernel_14736\\3549620362.py:25: SettingWithCopyWarning: \n",
      "A value is trying to be set on a copy of a slice from a DataFrame\n",
      "\n",
      "See the caveats in the documentation: https://pandas.pydata.org/pandas-docs/stable/user_guide/indexing.html#returning-a-view-versus-a-copy\n",
      "  df['summary'][idx] = review_text\n"
     ]
    }
   ],
   "source": [
    "\n",
    "for idx in range(161, 162):\n",
    "    driver.get('https://wrtn.ai/') \n",
    "    sleep(10)\n",
    "    input_textarea = driver.find_element(By.CSS_SELECTOR, \"div.sc-gsnTZi > textarea\")\n",
    "\n",
    "    llm_model_buttons = driver.find_elements(By.CSS_SELECTOR, \"div.sc-hFvvYD\")\n",
    "\n",
    "    for llm_model_button in llm_model_buttons:\n",
    "        if llm_model_button.text == 'GPT-4':\n",
    "            break  # 원하는 요소를 찾았으므로 반복문을 종료합니다.\n",
    "\n",
    "    submit_buttons = driver.find_element(By.CSS_SELECTOR, \"div.sc-gsnTZi.sc-lkcIho\")\n",
    "    llm_model_button.click()\n",
    "\n",
    "    prompt = f\"\"\"이 리뷰를 보고, 가게 정보를 요약해줘: {df['review'][idx]}\"\"\"\n",
    "    input_textarea.send_keys(prompt)\n",
    "    \n",
    "    submit_buttons.click()\n",
    "    sleep(60)\n",
    "    review_elements = driver.find_elements(By.CSS_SELECTOR, \"div.sc-gauFBm.ecjxKC>p\")\n",
    "    review_text = ''\n",
    "    for i in range(len(review_elements)):\n",
    "        review_text += review_elements[i].text\n",
    "    review_text= review_text.replace(prompt, '')\n",
    "    df['summary'][idx] = review_text\n",
    "    print(df['name'][idx], df['summary'][idx])\n"
   ]
  },
  {
   "cell_type": "code",
   "execution_count": 54,
   "metadata": {},
   "outputs": [],
   "source": [
    "import json"
   ]
  },
  {
   "cell_type": "code",
   "execution_count": 55,
   "metadata": {},
   "outputs": [],
   "source": [
    "# convert DataFrame to list of dicts\n",
    "data_list = df.to_dict(orient='records')\n",
    "\n",
    "# write to file\n",
    "with open('./data/wine_bar.json', 'w', encoding='utf-8') as json_file:\n",
    "    for data in data_list:\n",
    "        json_file.write(json.dumps(data, ensure_ascii=False) + '\\n')"
   ]
  }
 ],
 "metadata": {
  "kernelspec": {
   "display_name": ".venv",
   "language": "python",
   "name": "python3"
  },
  "language_info": {
   "codemirror_mode": {
    "name": "ipython",
    "version": 3
   },
   "file_extension": ".py",
   "mimetype": "text/x-python",
   "name": "python",
   "nbconvert_exporter": "python",
   "pygments_lexer": "ipython3",
   "version": "3.10.11"
  },
  "orig_nbformat": 4
 },
 "nbformat": 4,
 "nbformat_minor": 2
}
