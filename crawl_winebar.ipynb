{
 "cells": [
  {
   "attachments": {},
   "cell_type": "markdown",
   "metadata": {},
   "source": [
    "## 이 문서를 수정할 당신에게...\n",
    "#### 현재 상황은 아래와 같습니다.\n",
    "1. 우리의 앱에서 중요한 요소 중 하나는 와인을 추천하고, 이를 실제로 구매할 수 있는 링크에 연결하는 것입니다. 또, 실제 와인바를 추천해주기도 합니다. 이를 위해서 실제 와인을 파는 사이트와 와인바를 데이터베이스로 만들어두어야하기 때문에 이를 위해서는 크롤링이 필요합니다.\n",
    "\n",
    "#### 당신의 목표는 아래와 같습니다.\n",
    "1. 아래 사이트에 대한 크롤링을 진행합니다. 크롤링이 필요한 요소는 와인바 추천에 필요하다고 생각하는 모든 것을 하면 됩니다. 또한 추가로 더 좋은 사이트의 크롤링도 좋습니다.\n",
    "\n",
    "    <strong>와인바</strong>\n",
    "    - 서울내에 있는 와인바(사이트 찾아야함)\n",
    "\n",
    "2. 와인바에 대한 데이터베이스도 통합합니다. 추가로 다른 schema도 추가해줍니다.\n",
    "- 상호명\n",
    "- 위치(위도, 경도)\n",
    "- 도로명주소\n",
    "- 메뉴\n",
    "- 영업시간\n",
    "\n",
    "#### 참고 사항\n",
    "현재 작성된 크롤링은 아래의 프레임워크로 작업했습니다.\n",
    "- [Scrapy](https://docs.scrapy.org/en/latest/intro/tutorial.html)\n",
    "- [Selenium](https://selenium-python.readthedocs.io/)"
   ]
  },
  {
   "cell_type": "code",
   "execution_count": null,
   "metadata": {},
   "outputs": [],
   "source": []
  }
 ],
 "metadata": {
  "language_info": {
   "name": "python"
  },
  "orig_nbformat": 4
 },
 "nbformat": 4,
 "nbformat_minor": 2
}
