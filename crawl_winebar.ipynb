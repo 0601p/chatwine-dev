{
 "cells": [
  {
   "attachments": {},
   "cell_type": "markdown",
   "metadata": {},
   "source": [
    "## 이 문서를 수정할 당신에게...\n",
    "#### 현재 상황은 아래와 같습니다.\n",
    "1. 우리의 앱에서 중요한 요소 중 하나는 와인을 추천하고, 이를 실제로 구매할 수 있는 링크에 연결하는 것입니다. 또, 실제 와인바를 추천해주기도 합니다. 이를 위해서 실제 와인을 파는 사이트와 와인바를 데이터베이스로 만들어두어야하기 때문에 이를 위해서는 크롤링이 필요합니다.\n",
    "\n",
    "#### 당신의 목표는 아래와 같습니다.\n",
    "1. 아래 사이트에 대한 크롤링을 진행합니다. 크롤링이 필요한 요소는 와인바 추천에 필요하다고 생각하는 모든 것을 하면 됩니다. 또한 추가로 더 좋은 사이트의 크롤링도 좋습니다.\n",
    "\n",
    "    <strong>와인바</strong>\n",
    "    - 서울내에 있는 와인바(사이트 찾아야함)\n",
    "\n",
    "2. 와인바에 대한 데이터베이스도 통합합니다. 추가로 다른 schema도 추가해줍니다.\n",
    "- 상호명\n",
    "- 위치(위도, 경도)\n",
    "- 도로명주소\n",
    "- 메뉴\n",
    "- 영업시간\n",
    "\n",
    "#### 참고 사항\n",
    "현재 작성된 크롤링은 아래의 프레임워크로 작업했습니다.\n",
    "- [Scrapy](https://docs.scrapy.org/en/latest/intro/tutorial.html)\n",
    "- [Selenium](https://selenium-python.readthedocs.io/)"
   ]
  },
  {
   "cell_type": "code",
   "execution_count": 1,
   "metadata": {},
   "outputs": [],
   "source": [
    "import os\n",
    "from time import sleep\n",
    "import configparser\n",
    "\n",
    "from tqdm import tqdm\n",
    "from selenium import webdriver\n",
    "from selenium.webdriver.common.keys import Keys\n",
    "from webdriver_manager.chrome import ChromeDriverManager\n",
    "from selenium.webdriver.common.by import By\n",
    "from selenium.webdriver.support.ui import WebDriverWait\n",
    "from selenium.webdriver.support import expected_conditions as EC"
   ]
  },
  {
   "attachments": {},
   "cell_type": "markdown",
   "metadata": {},
   "source": [
    "아래 코드를 실행하면 크롬이 열리고, 와인앤모어 로그인 페이지로 접속하게 된다."
   ]
  },
  {
   "cell_type": "code",
   "execution_count": 16,
   "metadata": {},
   "outputs": [],
   "source": [
    "# Setup the driver. This one uses chrome with some options and a path to the chromedriver\n",
    "# driver = webdriver.Chrome(ChromeDriverManager().install())\n",
    "driver = webdriver.Chrome()\n",
    "\n",
    "# implicitly_wait tells the driver to wait before throwing an exception\n",
    "driver.implicitly_wait(30)\n",
    "\n",
    "# go to the login page\n",
    "driver.get('https://www.mangoplate.com/search/%EC%99%80%EC%9D%B8?keyword=%EC%99%80%EC%9D%B8&page=1') # 와인앤모어 로그인페이지 접속"
   ]
  },
  {
   "cell_type": "code",
   "execution_count": 8,
   "metadata": {},
   "outputs": [],
   "source": [
    "driver.get('https://www.mangoplate.com/search/%EC%99%80%EC%9D%B8?keyword=%EC%99%80%EC%9D%B8&page=1')"
   ]
  },
  {
   "cell_type": "code",
   "execution_count": 61,
   "metadata": {},
   "outputs": [],
   "source": [
    "def get_detail_info(detail_url):\n",
    "    driver.get(detail_url)\n",
    "    # Allow time for the website to load\n",
    "    sleep(10)\n",
    "    data_dict = {}\n",
    "    data_dict['url'] = driver.current_url\n",
    "\n",
    "    name = driver.find_element(By.CSS_SELECTOR, \"h1.restaurant_name\")\n",
    "    data_dict['name'] = name.text if name else ''\n",
    "\n",
    "    rating = driver.find_element(By.CSS_SELECTOR, \"strong.rate-point span\")\n",
    "    data_dict['rating'] = rating.text if rating else ''\n",
    "\n",
    "    try:\n",
    "        address = driver.find_element(By.XPATH, '//tr[th[contains(text(), \"주소\")]]/td')\n",
    "        data_dict['address'] = address.text if address else ''\n",
    "    except:\n",
    "        data_dict['address'] = ''\n",
    "\n",
    "    try:\n",
    "        phone = driver.find_element(By.XPATH, '//tr[th[contains(text(), \"전화번호\")]]/td')\n",
    "        data_dict['phone'] = phone.text if phone else ''\n",
    "    except:\n",
    "        data_dict['phone'] = ''\n",
    "\n",
    "    # 가격대\n",
    "    try:\n",
    "        price_range = driver.find_element(By.XPATH, '//tr[th[contains(text(), \"가격대\")]]/td')\n",
    "        data_dict['price_range'] = price_range.text if price_range else ''\n",
    "    except:\n",
    "        data_dict['price_range'] = ''\n",
    "\n",
    "\n",
    "    # 주차\n",
    "    try:\n",
    "        parking = driver.find_element(By.XPATH, '//tr[th[contains(text(), \"주차\")]]/td')\n",
    "        data_dict['parking'] = parking.text if parking else '' \n",
    "    except:\n",
    "        data_dict['parking'] = ''\n",
    "\n",
    "    # 영업시간\n",
    "    try:\n",
    "        opening_hours = driver.find_element(By.XPATH, '//tr[th[contains(text(), \"영업시간\")]]/td')\n",
    "        data_dict['opening_hours'] = opening_hours.text if opening_hours else ''\n",
    "    except:\n",
    "        data_dict['opening_hours'] = ''\n",
    "\n",
    "    # 휴일\n",
    "    try:\n",
    "        holidays = driver.find_element(By.XPATH, '//tr[th[contains(text(), \"휴일\")]]/td')\n",
    "        data_dict['holidays'] = holidays.text if holidays else ''\n",
    "    except:\n",
    "        data_dict['holidays'] = ''\n",
    "\n",
    "    # 메뉴\n",
    "    menu_items = driver.find_elements(By.XPATH, '//tr[th[contains(text(), \"메뉴\")]]//li')\n",
    "    menu = {}\n",
    "    for item in menu_items:\n",
    "        menu_name = item.find_element(By.CLASS_NAME, 'Restaurant_Menu').text\n",
    "        menu_price = item.find_element(By.CLASS_NAME, 'Restaurant_MenuPrice').text\n",
    "        menu[menu_name] = menu_price\n",
    "    data_dict['menu'] = menu\n",
    "\n",
    "    img_elements = driver.find_elements(By.XPATH, '//img[@class=\"center-croping\"]')\n",
    "\n",
    "    # 각 이미지 요소에서 'src' 속성을 추출합니다.\n",
    "    img_urls = [img.get_attribute('src') for img in img_elements]\n",
    "    data_dict['img_urls'] = img_urls\n",
    "\n",
    "    reviews = driver.find_elements(By.CSS_SELECTOR, 'p.RestaurantReviewItem__ReviewText')\n",
    "    review = {}\n",
    "    review_list = []\n",
    "    for review in reviews:\n",
    "        review_list.append(review.text)\n",
    "    data_dict['review'] = review_list   \n",
    "\n",
    "    return data_dict"
   ]
  },
  {
   "cell_type": "code",
   "execution_count": 54,
   "metadata": {},
   "outputs": [
    {
     "data": {
      "text/plain": [
       "{'url': 'https://www.mangoplate.com/restaurants/Ha-RjMRFLWAZ',\n",
       " 'name': '미도림',\n",
       " 'rating': '3.9',\n",
       " 'address': '서울특별시 성동구 왕십리로 108 3F\\n지번 서울시 성동구 성수동1가 656-1069 3F',\n",
       " 'phone': '02-469-8486',\n",
       " 'price_range': '만원-2만원',\n",
       " 'parking': '주차공간없음',\n",
       " 'opening_hours': '월-금: 16:00 - 24:00\\n토-일: 13:00 - 01:00',\n",
       " 'holidays': '',\n",
       " 'menu': {'취나물파스타': '14,000원',\n",
       "  '부추교자': '12,000원',\n",
       "  '더덕약고추장 곁들인 새우전변': '12,000원',\n",
       "  '미더덕소스로 버무린 육회': '17,000원',\n",
       "  '성게파테와 기정떡': '13,000원'},\n",
       " 'img_urls': ['https://mp-seoul-image-production-s3.mangoplate.com/572183_1624961579224137.jpg?fit=around|512:512&crop=512:512;*,*&output-format=jpg&output-quality=80',\n",
       "  'https://mp-seoul-image-production-s3.mangoplate.com/576647_1675389463747207.jpg?fit=around|512:512&crop=512:512;*,*&output-format=jpg&output-quality=80',\n",
       "  'https://mp-seoul-image-production-s3.mangoplate.com/576647_1675389464599858.jpg?fit=around|512:512&crop=512:512;*,*&output-format=jpg&output-quality=80',\n",
       "  'https://mp-seoul-image-production-s3.mangoplate.com/576647_1675389464840907.jpg?fit=around|512:512&crop=512:512;*,*&output-format=jpg&output-quality=80',\n",
       "  'https://mp-seoul-image-production-s3.mangoplate.com/576647_1675389465154474.jpg?fit=around|512:512&crop=512:512;*,*&output-format=jpg&output-quality=80'],\n",
       " 'review': ['오랫동안 가고 싶었던 와인바 미도림. 성수동 와인바하면 대표적인 곳이 되었네요.\\n\\n연휴 + 이른 시각이어서 그랬는지 비교적 쉽게 캐치테이블로 예약하고 방문했습니다. 2호선 뚝섬역에서 도보 10분? 정도인데, 눈에 띄는 간판이 없어서 밀도까지 내려왔다가 다시 되돌아갔었어요.\\n\\n코키지를 할까 하다가, 미도림에서 화이트 와인을 시켰어요. 그리고 다양하게 시켜봤는데, 음식 서빙받는데까지 시간이 조금 걸리는 편이었어요. 양이 많은 편은 아니예요. 취나물 파스타는 크림소스가 맛났고, 깻잎으로 만들면 향이 좀 더 강한 음식이 되겠구나 생각이 들었어요. 딸기 아이스크림이 맛있었어요. 그리고 스탭분들이 정말정말 친절했어요.\\n\\n주차는 불가합니다.',\n",
       "  '점심시간에 근처에서 차 맡기고 갈곳이 있나 해서 아이들이랑 갔는데, 노키드존이라고 말하는데. 여기 어린애들 왜데리고 오느냐는 태도가 기분이 너무 상했네요. 뭐 노키드존인지 확인 안한 저희의 잘못도 있지만. 어찌됐든 기분은 나쁘네요.\\n아이들이 뭔 잘못이 있다고. 노키드존 영업장들 이해안되고 다 없어지면 좋겠어요.',\n",
       "  '음식이 너무 맛있다는 후기를 보고 찾아갔던 와인바. 안주들이 양이 적긴 한데 여러개 맛볼 수 있어서 오히려 좋았다. 요리들이 생소한 것도 있긴 했는데 대부분 준수했다. 메뉴를 거의 다 먹었는데 오징어토스트, 굴파테&기정떡이 너무 맛있었다. 오징어토스트는 당연히 맛있을거라고 생각하고 먹은거긴 했는데 그래도 너무 맛있었고, 굴파테&기정떡은 상상도 안됐는데 은근 그 둘의 조합이 잘어울리고 너무 좋았다. 곁들였던 와인들도 전부 맛있어서 좋았던 곳ㅎㅎ',\n",
       "  '맛있다에 가까운 괜찮다!\\n첫번째로 먹은 소카레찜 너무 맛있었다. 한피쓰 더 먹고 싶었음\\n육회를 먹을 땐 같이 나오는 소스가 특히나 맛있어서 더 요청함.\\n마지막 솥밥은 조금 기다려서 먹었는데, 괜찮았다.\\n약간 힙지로 느낌이 나는 곳이어서, 사실 갠적으로 나의 취향은 아니라.. 재방문할 지는 모르겠다',\n",
       "  '너무 기대한 탓일까, 요새 이런 분위기의 와인바가 많아져서 일까, 음식도, 와인리스트도, 분위기도, 서비스도 특별한 구석이 없었다. 인상적인 건 이용시간 안내. 와인을 글라스로 주문하느냐 보틀로 주문하느냐에 따라 이용시간이 달라지는지 막상 자리에 앉아 보틀을 주문하니, 입구에 안내받은 것보다 이용시간을 넉넉하게 알려줬다.(좀 치사하지 않나,, 음식이 저렴한 편도 아니면서) 아무튼 재방문의사 없음.']}"
      ]
     },
     "execution_count": 54,
     "metadata": {},
     "output_type": "execute_result"
    }
   ],
   "source": [
    "get_detail_info('https://www.mangoplate.com/restaurants/Ha-RjMRFLWAZ')"
   ]
  },
  {
   "attachments": {},
   "cell_type": "markdown",
   "metadata": {},
   "source": [
    "아래 코드를 실행하면 페이지를 순회하면 크롤링을 진행하고, 이를 data_list에 저장한다."
   ]
  },
  {
   "cell_type": "code",
   "execution_count": 60,
   "metadata": {},
   "outputs": [
    {
     "data": {
      "text/plain": [
       "[{'url': 'https://www.mangoplate.com/restaurants/Ha-RjMRFLWAZ',\n",
       "  'name': '미도림',\n",
       "  'rating': '3.9',\n",
       "  'address': '서울특별시 성동구 왕십리로 108 3F\\n지번 서울시 성동구 성수동1가 656-1069 3F',\n",
       "  'phone': '02-469-8486',\n",
       "  'price_range': '만원-2만원',\n",
       "  'parking': '주차공간없음',\n",
       "  'opening_hours': '월-금: 16:00 - 24:00\\n토-일: 13:00 - 01:00',\n",
       "  'holidays': '',\n",
       "  'menu': {'취나물파스타': '14,000원',\n",
       "   '부추교자': '12,000원',\n",
       "   '더덕약고추장 곁들인 새우전변': '12,000원',\n",
       "   '미더덕소스로 버무린 육회': '17,000원',\n",
       "   '성게파테와 기정떡': '13,000원'},\n",
       "  'img_urls': ['https://mp-seoul-image-production-s3.mangoplate.com/572183_1624961579224137.jpg?fit=around|512:512&crop=512:512;*,*&output-format=jpg&output-quality=80',\n",
       "   'https://mp-seoul-image-production-s3.mangoplate.com/576647_1675389463747207.jpg?fit=around|512:512&crop=512:512;*,*&output-format=jpg&output-quality=80',\n",
       "   'https://mp-seoul-image-production-s3.mangoplate.com/576647_1675389464599858.jpg?fit=around|512:512&crop=512:512;*,*&output-format=jpg&output-quality=80',\n",
       "   'https://mp-seoul-image-production-s3.mangoplate.com/576647_1675389464840907.jpg?fit=around|512:512&crop=512:512;*,*&output-format=jpg&output-quality=80',\n",
       "   'https://mp-seoul-image-production-s3.mangoplate.com/576647_1675389465154474.jpg?fit=around|512:512&crop=512:512;*,*&output-format=jpg&output-quality=80'],\n",
       "  'review': ['오랫동안 가고 싶었던 와인바 미도림. 성수동 와인바하면 대표적인 곳이 되었네요.\\n\\n연휴 + 이른 시각이어서 그랬는지 비교적 쉽게 캐치테이블로 예약하고 방문했습니다. 2호선 뚝섬역에서 도보 10분? 정도인데, 눈에 띄는 간판이 없어서 밀도까지 내려왔다가 다시 되돌아갔었어요.\\n\\n코키지를 할까 하다가, 미도림에서 화이트 와인을 시켰어요. 그리고 다양하게 시켜봤는데, 음식 서빙받는데까지 시간이 조금 걸리는 편이었어요. 양이 많은 편은 아니예요. 취나물 파스타는 크림소스가 맛났고, 깻잎으로 만들면 향이 좀 더 강한 음식이 되겠구나 생각이 들었어요. 딸기 아이스크림이 맛있었어요. 그리고 스탭분들이 정말정말 친절했어요.\\n\\n주차는 불가합니다.',\n",
       "   '점심시간에 근처에서 차 맡기고 갈곳이 있나 해서 아이들이랑 갔는데, 노키드존이라고 말하는데. 여기 어린애들 왜데리고 오느냐는 태도가 기분이 너무 상했네요. 뭐 노키드존인지 확인 안한 저희의 잘못도 있지만. 어찌됐든 기분은 나쁘네요.\\n아이들이 뭔 잘못이 있다고. 노키드존 영업장들 이해안되고 다 없어지면 좋겠어요.',\n",
       "   '음식이 너무 맛있다는 후기를 보고 찾아갔던 와인바. 안주들이 양이 적긴 한데 여러개 맛볼 수 있어서 오히려 좋았다. 요리들이 생소한 것도 있긴 했는데 대부분 준수했다. 메뉴를 거의 다 먹었는데 오징어토스트, 굴파테&기정떡이 너무 맛있었다. 오징어토스트는 당연히 맛있을거라고 생각하고 먹은거긴 했는데 그래도 너무 맛있었고, 굴파테&기정떡은 상상도 안됐는데 은근 그 둘의 조합이 잘어울리고 너무 좋았다. 곁들였던 와인들도 전부 맛있어서 좋았던 곳ㅎㅎ',\n",
       "   '맛있다에 가까운 괜찮다!\\n첫번째로 먹은 소카레찜 너무 맛있었다. 한피쓰 더 먹고 싶었음\\n육회를 먹을 땐 같이 나오는 소스가 특히나 맛있어서 더 요청함.\\n마지막 솥밥은 조금 기다려서 먹었는데, 괜찮았다.\\n약간 힙지로 느낌이 나는 곳이어서, 사실 갠적으로 나의 취향은 아니라.. 재방문할 지는 모르겠다',\n",
       "   '너무 기대한 탓일까, 요새 이런 분위기의 와인바가 많아져서 일까, 음식도, 와인리스트도, 분위기도, 서비스도 특별한 구석이 없었다. 인상적인 건 이용시간 안내. 와인을 글라스로 주문하느냐 보틀로 주문하느냐에 따라 이용시간이 달라지는지 막상 자리에 앉아 보틀을 주문하니, 입구에 안내받은 것보다 이용시간을 넉넉하게 알려줬다.(좀 치사하지 않나,, 음식이 저렴한 편도 아니면서) 아무튼 재방문의사 없음.']},\n",
       " {'url': 'https://www.mangoplate.com/restaurants/dU0u62bWkZp1',\n",
       "  'name': '사브서울',\n",
       "  'rating': '4.6',\n",
       "  'address': '서울특별시 강남구 논현로175길 6 B1\\n지번 서울시 강남구 신사동 580-5 B1',\n",
       "  'phone': '02-512-4939',\n",
       "  'price_range': '3만원-4만원',\n",
       "  'parking': '주차공간없음',\n",
       "  'opening_hours': '18:00 - 24:00',\n",
       "  'holidays': '일',\n",
       "  'menu': {'대왕문어 카르파쵸': '15,000원',\n",
       "   '비트앤엔다이브': '17,000원',\n",
       "   '라비올로디우보': '28,000원',\n",
       "   '한우채끝스테이크': '59,000원',\n",
       "   '생선스튜': '30,000원'},\n",
       "  'img_urls': ['https://mp-seoul-image-production-s3.mangoplate.com/2196417_1649124497884742.jpg?fit=around|512:512&crop=512:512;*,*&output-format=jpg&output-quality=80',\n",
       "   'https://mp-seoul-image-production-s3.mangoplate.com/598583_1676693382617735.jpg?fit=around|512:512&crop=512:512;*,*&output-format=jpg&output-quality=80',\n",
       "   'https://mp-seoul-image-production-s3.mangoplate.com/598583_1676693384456054.jpg?fit=around|512:512&crop=512:512;*,*&output-format=jpg&output-quality=80',\n",
       "   'https://mp-seoul-image-production-s3.mangoplate.com/598583_1676693384992053.jpg?fit=around|512:512&crop=512:512;*,*&output-format=jpg&output-quality=80',\n",
       "   'https://mp-seoul-image-production-s3.mangoplate.com/598583_1676693385465790.jpg?fit=around|512:512&crop=512:512;*,*&output-format=jpg&output-quality=80'],\n",
       "  'review': ['맛집을 좋아하긴 하지만 그렇다고 예약이 치열하거나 웨이팅이 심한 곳은 별로 탐하지 않는 편.\\n사브서울이 내게도 아직은 그런 곳 중 하나였는데, 우연히 캐치테이블 들어갔더니 생각했던 날짜에 자리가 있었고 냉큼 예약해서 토요일 저녁에 다녀왔다.\\n사브서울을 최대한으로 즐기고 싶어서 1층 와인나라에서 와인 세병을 샀다. 바틀 한병을 시키면 콜키지 3병까지 무료로 이용할 수 있다.\\n화와 1, 레와 2를 사고 사브서울에선 샴페인을 주문해서 샴팡으로 스타트, 음식에 맞춰 레와를 같이 먹는다고 말슴드려 스스로 와인 페어링을 했다.ㅋㅋㅋ\\n한우타르타르,꽈리고추,홍고추리조또,양갈비스테이크, 방울양배추,를 시켰다.\\n라비올로도 먹어보려 했는데 나중엔 솔드아웃이었다. 인기메뉴는 먼저 솔드아웃되기도 하는 것 같으니 처음에 많이 시키는게 좋은거같다.\\n베스트픽은 한우타르타르. 큰송이버섯, 한우, 소스가 어우러져 향과 풍미가 너무 좋았다. 가평잣도 들어가 고소하면서도 부드러운 식감 사이 나름의 크런치함이 심심치 않았다. 홍새우 리조또는 위에 올라간 빨간 소스가 약간 curry스러운 이국적 느낌을 자아냈는데 고트치즈도 응근하게 들어가 약간 눅진한 맛과 알알한 리조또 식감이 재밌고 맛있었다. 홍고추도 통통해서 여러식감이 밸런스가 좋았다.\\n꽈리고추의 훈연한 향은 처음에 매우 임팩트가 컸고 우도땅콩소스가 고소함까지 더해주어 가볍고 또 맛있는 메뉴였다. 맛은 있었지만 재방문시 또 시킬 것 같진 않다. 하지만 시키는 건 추천\\n방울 양배추는, 그 동글동글한 양배추 구이가 나오는 따뜻한 메뉴인 줄 알고 시켰는데, 블루치즈와 나주배등이 곁들여져 채썰어 나오는 콜드메뉴였다. 블루치즈의 꼬릿함, 나주배의 향긋함과 달콤함, 양배추의 상큼함이 어우러져 입가심하기에도 좋았는데 생각지 못한 방향이어서 다소 당황스러웠다. ㅎㅎ이름에서 좀더 유추가능하게 뭔가 바꿔주면 좋겠다. 양갈비 구이는 엄청엄청 부드러웠다. 이제까지 먹어보지 못한 양갈비 느낌이었다. 예전에 캠핑가서 친구가 거의 하루 이상 수비드 시킨 소고기를 맛보여준 적이 있는데 딱 그런 느낌이었다. 갈비찜의 갈비가 결대로 부드럽게 흩어지는 것같은 식감의 부드럽고 고소한 느낌. 위에 쯔란 스러운 시즈닝도 잔뜩 올라가 맛도 있엇다.\\n전반적으로 너무 다소 캐주얼한 분위기에 와인을 편하게 즐길 수 있고, 모두 친절하시고, 테이블 간격도 부담스럽지 않을 정도로 여유 있어서 참 좋았다.\\n\\n\\n** 앗 와인나라 멤버쉽 가입하면 와인 살때도 계산할때도 10% 할인받을 수 있다!',\n",
       "   '이상적인 와인바\\n\\n옛날엔 와인바라고 하면 클래식한 바처럼 간단한 안주에 다양한 와인 리스트만 구비해 놓은 스타일이 대부분이었는데 요 몇 년 사이 훌륭한 음식을 함께 내놓는 집이 많아졌다. 여기 사브서울은 와인나라-아영FC라는 수입사에서 직영하는 업장인데(수입사는 마음에 안들지만...ㅋ) 덕분에 와인 가격이 강남인데도 정말 저렴하고 국내 경력도 좋고 해외에서 경력을 쌓고 온 쉐프를 영입해 맛있는 요리까지 많다.\\n\\n21년 11월 오픈 당시 직원 지인과 영업사원들에게 초대권을 뿌려 많이 할인된 가격으로 먹을 수 있었는데 5명이 가서 서비스 포함, 사이드 빼고 전 메뉴를 뿌시고 올 수 있었다. 개인적으로 양이 적은 게 좀 아쉬웠지만 메인요리 한두 개 말고는 전체적으로 음식이 다 맛있었다. 호불호 갈릴 메뉴도 적고. 와인 가격이 저렴해 큰 부담 없이 여러 병 주문할 수 있는 것도 좋음.\\n\\n인테리어도 예뻐서 금방 인기 업장이 되어 예약이 여전히 힘든데, 기회 되면 또 방문하고 싶은 곳.',\n",
       "   '극악의 예약 사브서울\\n심지어 룸은 미니멈 차지도 있어서 같이 가자고 하기에 매우 부담이였던 ㅋㅋㅋ\\n다행히 연말 행사로 8명을 꽉꽉채워\\n주머니 사정 안힘들게 적당히 잘먹고 잘 놀고 잘마시고 왔다요!!!\\n코로나 전에 거의 맨날 보던 인간들이 오랜만에 8명이나 모였더니 어색어색\\n하지만 배고파서 포풍주문\\n와인이 한두잔 들어가니 그동안 못했던 대화가 술술~\\n음식들이 대체로 짜긴 했는데 매우 다양하고 복합적인 맛으로 맛있었습니다 (대충 맛짜)\\n와인은 가격이 괜찮은편인데\\n개인적으로는 뷰가 좋은 무드서울 갈랭',\n",
       "   '예약이 너무 힘든게 단점이지만\\n갈때마다 만족하는곳인것 같아요.\\n글라스와인 가격이 좋아서 음식마다 페어링해서 먹어보려고 해요. 게다가 음식이 요즘 와인바들에서 나오는 수준보다 훨씬 위의 수준인것 같아서 새로운 메뉴가 있으면 항상 시도해보려고하는 편이에요. 추천합니다.',\n",
       "   '.']},\n",
       " {'url': 'https://www.mangoplate.com/restaurants/9Ldy8KHLdfJz',\n",
       "  'name': '바코드',\n",
       "  'rating': '4.3',\n",
       "  'address': '서울특별시 서대문구 연세로9길 26\\n지번 서울시 서대문구 창천동 52-38',\n",
       "  'phone': '010-9029-6369',\n",
       "  'price_range': '만원-2만원',\n",
       "  'parking': '주차공간없음',\n",
       "  'opening_hours': '19:00 - 03:00',\n",
       "  'holidays': '',\n",
       "  'menu': {},\n",
       "  'img_urls': ['https://mp-seoul-image-production-s3.mangoplate.com/424921_1510916403439638.jpg?fit=around|512:512&crop=512:512;*,*&output-format=jpg&output-quality=80',\n",
       "   'https://mp-seoul-image-production-s3.mangoplate.com/840737_1681169799217182.jpg?fit=around|512:512&crop=512:512;*,*&output-format=jpg&output-quality=80',\n",
       "   'https://mp-seoul-image-production-s3.mangoplate.com/321192/28187_1652009801259_39658?fit=around|512:512&crop=512:512;*,*&output-format=jpg&output-quality=80',\n",
       "   'https://mp-seoul-image-production-s3.mangoplate.com/321192/28187_1652009801259_39660?fit=around|512:512&crop=512:512;*,*&output-format=jpg&output-quality=80',\n",
       "   'https://mp-seoul-image-production-s3.mangoplate.com/321192/28187_1652009801259_39659?fit=around|512:512&crop=512:512;*,*&output-format=jpg&output-quality=80'],\n",
       "  'review': ['간단평: 옛날에 가서 기억이 잘안나긴 하는데 칵테일바인데 음식이 꽤 괜찮아서 놀람. 술기운 때문인가?\\n\\n바텐더 분이 술에 대해 잘 아시는 거 같고(당연한건가?), 혼자 갔었는데 꽤 재밌게 수다떨고 왔다. 음식에 대한 수다를 떨었던 기억. 위스키 다른것도 샘플로 맛보게 도와주셨다.',\n",
       "   '캐쥬얼한 분위기+퀄리티있는 칵테일!! 보통 클래식 칵테일/위스키 먹으러 가면 너무 차려입은 분위기에 비싼 가격대에 불편할 수 있는데 여기는 대학가 상권에 잘 맞게 부담없이 갈 수 있어요~ 맛은 확실하게 맛있습니다!!! 혼술하기도 좋아요',\n",
       "   '자칫 부담스러울수도 있지만 유쾌한 바텐더분들의 친화력은 초면임에도 무색하게 친근함을 느끼게한다\\n\\n칵테일의 맛과 완성도, 보여주는 서비스는 말할필요도 없다',\n",
       "   '0. Bar_code_. 5주년 이라는데 기념파티가 미뤄지고 있으시다고.\\n\\n\\n1. 메뉴판이 없고 말하면 주문 된다는데 잔당 15,000원.\\n\\n\\n2. 결론부터 얘기하면 초보자 용 바는 아닌데.. 말 하면 만들어주다니 뉴비용인가? 싶디만 고기도 먹는 놈이 먹는다고 말도 뭘 알아야 하지. 메뉴판이 아예 없는건 좀 그렇지만.\\n\\n맛있다와 괜찮다 사이에서 좀 고민을 했는데 잘 마시고 잘 즐겼는데 이게 술 깨고 생각하니 내가 딱히 원한건가 싶었던 거죠. 그냥 결론적으론 바텐더가 만들어 주고 싶었던게 아닌가 싶은 느낌.\\n\\n주는대로 잘 먹어서 맛있다 주긴 하는데.. 다음에 간다면 그냥 위스키 온더락으로만 즐길듯.\\n\\n\\n3. 여기서 매우 매우 신기한 경험을 했는데 여자친구와 카페 식당 등등 많은 곳을 다니면서 나만 남자인 경험은 꽤 많이 했는데 여자친구만 여자인 경험은 여기가 처음.\\n\\n직원 손님 우리 합쳐서 8-9명 있었는데 여자가 여자친구 혼자 인 경험을 하다니. 이 무슨 양기 가득한 곳이란 말인가.\\n\\n나머지 손님들은 전부 대학(원)생으로 보였습니다. 주륵',\n",
       "   '친구의 공연을 보고 왠지 감상적이 되어 찾은 바코드. 지하에 있는 클래식한 바이다. 주문판이 없다는건 리뷰를 보고 알아서 그냥 알고있는 칵테일중 러스티네일과 김렛을 시켰다. 바텐더 분들이 친절하시고 술을 굉장히 잘 만드셨다. 김렛에서 진의 알코올 맛은 나지않으면서 이름그대로 송곳으로 찌른다는 느낌이 났다.\\n술에 대해 잘 모르는 초심자라도 바텐더분에게 말씀하면 어울리는 칵테일을 추천해주신다. 주량과 선호하는 맛 스타일까지 체크해서 만들어주시니 믿을만하다. 단골들도 많은거 같고 편안히 술을 즐길수 있는 분위기라 추천드린다.']}]"
      ]
     },
     "execution_count": 60,
     "metadata": {},
     "output_type": "execute_result"
    }
   ],
   "source": [
    "data_list"
   ]
  },
  {
   "cell_type": "code",
   "execution_count": 42,
   "metadata": {},
   "outputs": [],
   "source": [
    "# Navigate to product list page\n",
    "data_list = []\n",
    "links = set()\n",
    "for idx in range(1, 11):\n",
    "    driver.get(f'https://www.mangoplate.com/search/%EC%99%80%EC%9D%B8?keyword=%EC%99%80%EC%9D%B8&page={idx}')\n",
    "    sleep(10)\n",
    "    product_links = driver.find_elements(By.CSS_SELECTOR, \"a.only-desktop_not\")\n",
    "    for link in product_links:\n",
    "        links.add(link.get_attribute('href'))\n",
    "    for i in product_links:\n",
    "        if i.get_attribute('href') not in links:\n",
    "            links.add(i.get_attribute('href'))"
   ]
  },
  {
   "cell_type": "code",
   "execution_count": 63,
   "metadata": {},
   "outputs": [],
   "source": [
    "links_list = list(links)"
   ]
  },
  {
   "cell_type": "code",
   "execution_count": 66,
   "metadata": {},
   "outputs": [
    {
     "name": "stderr",
     "output_type": "stream",
     "text": [
      "100%|██████████| 200/200 [3:13:29<00:00, 58.05s/it]   \n"
     ]
    }
   ],
   "source": [
    "cnt = 0\n",
    "for detail_url in tqdm(links):\n",
    "    cnt += 1\n",
    "    if cnt <= 3:\n",
    "        continue\n",
    "    data_list.append(get_detail_info(detail_url))"
   ]
  },
  {
   "cell_type": "code",
   "execution_count": 69,
   "metadata": {},
   "outputs": [],
   "source": [
    "import json"
   ]
  },
  {
   "cell_type": "code",
   "execution_count": 70,
   "metadata": {},
   "outputs": [],
   "source": [
    "with open('./data/wine_bar.json', 'w', encoding='utf-8') as json_file:\n",
    "    for data in data_list:\n",
    "        json_file.write(json.dumps(data, ensure_ascii=False) + '\\n')"
   ]
  },
  {
   "cell_type": "code",
   "execution_count": 71,
   "metadata": {},
   "outputs": [],
   "source": [
    "driver.close()"
   ]
  }
 ],
 "metadata": {
  "kernelspec": {
   "display_name": ".venv",
   "language": "python",
   "name": "python3"
  },
  "language_info": {
   "codemirror_mode": {
    "name": "ipython",
    "version": 3
   },
   "file_extension": ".py",
   "mimetype": "text/x-python",
   "name": "python",
   "nbconvert_exporter": "python",
   "pygments_lexer": "ipython3",
   "version": "3.10.11"
  },
  "orig_nbformat": 4
 },
 "nbformat": 4,
 "nbformat_minor": 2
}
