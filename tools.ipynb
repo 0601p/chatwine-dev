{
 "cells": [
  {
   "attachments": {},
   "cell_type": "markdown",
   "metadata": {},
   "source": [
    "## 이 문서를 수정할 당신에게...\n",
    "#### 현재 상황은 아래와 같습니다.\n",
    "1. 아래 4가지의 도구를 사용하고 있습니다.\n",
    "- 필터 query로 데이터베이스 정보 추출(추천을 위함): chroma를 활용해 수집된 wine database에 필터를 적용하여 특정 와인만 뽑아올 수 있습니다.    \n",
    "    - input: {body:3, price:100000~120000}\n",
    "    - output: [Document(page_content='포지오 데이 젤시', metadata={'price': '30000', ...}),]\n",
    "- 자연어 query로 데이터베이스 정보 추출(추천을 위함): DocArrayInMemorySearch을 활용해 wine database에 자연어로 특정 데이터를 뽑아 올 수 있습니다.\n",
    "    - input: \"프랑스에서 만들어진 와인은?\"\n",
    "- 특정 URL query로 웹 페이지에서 정보 추출(와인 구매링크에서 정보를 가져올 때 사용): SeleniumURLLoader를 이용해 특정 url로 부터 웹페이지 정보를 얻을 수 있습니다.\n",
    "- 자연어 구글 검색으로 웹 페이지에서 정보 추출(Q&A처럼 그 외 검색이 필요한 경우 사용): SerpAPI를 이용해 구글에서 검색 결과를 가져올 수 있습니다.\n",
    "\n",
    "#### 당신의 목표는 아래와 같습니다.\n",
    "1. 다양한 도구를 사용하거나 알고리즘을 탐구하여 데이터베이스를 연결할 수 있는 좋은 방식을 찾습니다. (예를 들면 와인바의 상세정보를 검색하기 위한 카카오 위치 정보 API등을 추가할 수 있을 듯 합니다.)\n",
    "2. 도구를 사용할 때는 적절한 format을 사용하는 것이 성능에 영향을 줍니다. 각 도구들에 대한 적절한 input format을 찾습니다.\n",
    "\n",
    "\n",
    "#### 참고사항\n",
    "현재 말이 너무 모호하게 써있고, 도구의 사용처가 확실하지 않습니다. 이를 구체화하는 과정이 필요하기도 합니다."
   ]
  },
  {
   "attachments": {},
   "cell_type": "markdown",
   "metadata": {},
   "source": [
    "-------------------------------------------------------------------------------"
   ]
  },
  {
   "attachments": {},
   "cell_type": "markdown",
   "metadata": {},
   "source": [
    "### API 키 불러오기"
   ]
  },
  {
   "cell_type": "code",
   "execution_count": 1,
   "metadata": {},
   "outputs": [],
   "source": [
    "import os\n",
    "import configparser"
   ]
  },
  {
   "cell_type": "code",
   "execution_count": 2,
   "metadata": {},
   "outputs": [
    {
     "data": {
      "text/plain": [
       "['./secrets.ini']"
      ]
     },
     "execution_count": 2,
     "metadata": {},
     "output_type": "execute_result"
    }
   ],
   "source": [
    "config = configparser.ConfigParser()\n",
    "config.read('./secrets.ini')"
   ]
  },
  {
   "cell_type": "code",
   "execution_count": 5,
   "metadata": {},
   "outputs": [],
   "source": [
    "openai_api_key = config['OPENAI']['OPENAI_API_KEY']\n",
    "serper_api_key = config['SERPER']['SERPER_API_KEY']\n",
    "serp_api_key = config['SERPAPI']['SERPAPI_API_KEY']\n",
    "kakao_api_key = config['KAKAO_MAP']['KAKAO_API_KEY']\n",
    "os.environ.update({'OPENAI_API_KEY': openai_api_key})\n",
    "os.environ.update({'SERPER_API_KEY': serper_api_key})\n",
    "os.environ.update({'SERPAPI_API_KEY': serp_api_key})"
   ]
  },
  {
   "cell_type": "code",
   "execution_count": 6,
   "metadata": {},
   "outputs": [],
   "source": [
    "from typing import List, Union\n",
    "import re\n",
    "import json\n",
    "\n",
    "import pandas as pd\n",
    "from langchain import SerpAPIWrapper, LLMChain\n",
    "from langchain.agents import Tool, AgentType, AgentExecutor, LLMSingleActionAgent, AgentOutputParser\n",
    "from langchain.chat_models import ChatOpenAI\n",
    "from langchain.chains import LLMChain, SimpleSequentialChain\n",
    "from langchain.chains.query_constructor.base import AttributeInfo\n",
    "from langchain.document_loaders import DataFrameLoader, SeleniumURLLoader\n",
    "from langchain.embeddings import OpenAIEmbeddings\n",
    "from langchain.indexes import VectorstoreIndexCreator\n",
    "from langchain.prompts import PromptTemplate, StringPromptTemplate, load_prompt, BaseChatPromptTemplate\n",
    "from langchain.llms import OpenAI\n",
    "from langchain.retrievers.self_query.base import SelfQueryRetriever\n",
    "from langchain.schema import AgentAction, AgentFinish, HumanMessage\n",
    "from langchain.vectorstores import Chroma"
   ]
  },
  {
   "attachments": {},
   "cell_type": "markdown",
   "metadata": {},
   "source": [
    "### Load wine database json"
   ]
  },
  {
   "cell_type": "code",
   "execution_count": 7,
   "metadata": {},
   "outputs": [],
   "source": [
    "df = pd.read_json('./data/unified_wine_data.json', encoding='utf-8', lines=True)"
   ]
  },
  {
   "cell_type": "code",
   "execution_count": 8,
   "metadata": {},
   "outputs": [
    {
     "data": {
      "text/html": [
       "<div>\n",
       "<style scoped>\n",
       "    .dataframe tbody tr th:only-of-type {\n",
       "        vertical-align: middle;\n",
       "    }\n",
       "\n",
       "    .dataframe tbody tr th {\n",
       "        vertical-align: top;\n",
       "    }\n",
       "\n",
       "    .dataframe thead th {\n",
       "        text-align: right;\n",
       "    }\n",
       "</style>\n",
       "<table border=\"1\" class=\"dataframe\">\n",
       "  <thead>\n",
       "    <tr style=\"text-align: right;\">\n",
       "      <th></th>\n",
       "      <th>url</th>\n",
       "      <th>site_name</th>\n",
       "      <th>price</th>\n",
       "      <th>name</th>\n",
       "      <th>en_name</th>\n",
       "      <th>img_url</th>\n",
       "      <th>body</th>\n",
       "      <th>acidity</th>\n",
       "      <th>tannin</th>\n",
       "      <th>sweetness</th>\n",
       "      <th>alcohol</th>\n",
       "      <th>wine_type</th>\n",
       "      <th>country</th>\n",
       "      <th>grape</th>\n",
       "      <th>rating</th>\n",
       "      <th>pickup_location</th>\n",
       "      <th>vivino_link</th>\n",
       "      <th>flavor_description</th>\n",
       "      <th>pairing</th>\n",
       "    </tr>\n",
       "  </thead>\n",
       "  <tbody>\n",
       "    <tr>\n",
       "      <th>0</th>\n",
       "      <td>https://www.winenara.com/shop/product/product_...</td>\n",
       "      <td>winenara</td>\n",
       "      <td>38800</td>\n",
       "      <td>샹동 로제 브룻</td>\n",
       "      <td>Chandon Rose brut</td>\n",
       "      <td>https://www.winenara.com/uploads/product/550/8...</td>\n",
       "      <td>-1</td>\n",
       "      <td></td>\n",
       "      <td></td>\n",
       "      <td>-1</td>\n",
       "      <td>-1</td>\n",
       "      <td>로제</td>\n",
       "      <td>호주</td>\n",
       "      <td></td>\n",
       "      <td>3.7</td>\n",
       "      <td></td>\n",
       "      <td>https://www.vivino.com/US-CA/en/chandon-califo...</td>\n",
       "      <td>로제 와인의 생동감을 더한 우아한 스파클링 와인으로 입 안을 가득 채우는 체리파이 ...</td>\n",
       "      <td></td>\n",
       "    </tr>\n",
       "    <tr>\n",
       "      <th>1</th>\n",
       "      <td>https://www.winenara.com/shop/product/product_...</td>\n",
       "      <td>winenara</td>\n",
       "      <td>200000</td>\n",
       "      <td>티터 토터 카베르네소비뇽</td>\n",
       "      <td>TEETER-TOTTER CABERNET SAUVIGNON</td>\n",
       "      <td>https://www.winenara.com/uploads/product/550/4...</td>\n",
       "      <td>4</td>\n",
       "      <td></td>\n",
       "      <td></td>\n",
       "      <td>-1</td>\n",
       "      <td>-1</td>\n",
       "      <td>레드</td>\n",
       "      <td>미국</td>\n",
       "      <td></td>\n",
       "      <td>4.3</td>\n",
       "      <td></td>\n",
       "      <td>https://www.vivino.com/US-CA/en/teeter-totter-...</td>\n",
       "      <td>첫 향으로 블랙베리, 라즈베리, 바닐라 향이 튀어 오르며 뒤이어 정향, 제비꽃, 라...</td>\n",
       "      <td>피자, 스테이크</td>\n",
       "    </tr>\n",
       "    <tr>\n",
       "      <th>2</th>\n",
       "      <td>https://www.winenara.com/shop/product/product_...</td>\n",
       "      <td>winenara</td>\n",
       "      <td>1100000</td>\n",
       "      <td>아르망 드 브리냑 브룻 골드</td>\n",
       "      <td>Armand De Brignac Brut Gold</td>\n",
       "      <td>https://www.winenara.com/uploads/product/550/5...</td>\n",
       "      <td>-1</td>\n",
       "      <td></td>\n",
       "      <td></td>\n",
       "      <td>2</td>\n",
       "      <td>-1</td>\n",
       "      <td>스파클링</td>\n",
       "      <td>프랑스</td>\n",
       "      <td></td>\n",
       "      <td>4.4</td>\n",
       "      <td></td>\n",
       "      <td>https://www.vivino.com/US-CA/en/armand-de-brig...</td>\n",
       "      <td>전통 샴페인의 진수를 보여주는 와인으로, 복합적이며 풀바디한 느낌이 압도적입니다. ...</td>\n",
       "      <td>기름진 생선 요리, 돼지고기 요리</td>\n",
       "    </tr>\n",
       "    <tr>\n",
       "      <th>3</th>\n",
       "      <td>https://www.winenara.com/shop/product/product_...</td>\n",
       "      <td>winenara</td>\n",
       "      <td>595000</td>\n",
       "      <td>크룩 로제</td>\n",
       "      <td>Krug brut Rose</td>\n",
       "      <td>https://www.winenara.com/uploads/product/550/0...</td>\n",
       "      <td>-1</td>\n",
       "      <td></td>\n",
       "      <td></td>\n",
       "      <td>-1</td>\n",
       "      <td>-1</td>\n",
       "      <td>로제</td>\n",
       "      <td>프랑스</td>\n",
       "      <td></td>\n",
       "      <td>4.6</td>\n",
       "      <td></td>\n",
       "      <td>https://www.vivino.com/US-CA/en/krug-brut-rose...</td>\n",
       "      <td></td>\n",
       "      <td></td>\n",
       "    </tr>\n",
       "    <tr>\n",
       "      <th>4</th>\n",
       "      <td>https://www.winenara.com/shop/product/product_...</td>\n",
       "      <td>winenara</td>\n",
       "      <td>100000</td>\n",
       "      <td>도멘 퐁사르 슈발리에 마랑지 1er 라 푸시에</td>\n",
       "      <td>DOMAINE PONSARD CHEVALIER MARANGES 1ER LA FUSS...</td>\n",
       "      <td>https://www.winenara.com/uploads/product/550/1...</td>\n",
       "      <td>3</td>\n",
       "      <td></td>\n",
       "      <td></td>\n",
       "      <td>-1</td>\n",
       "      <td>-1</td>\n",
       "      <td>레드</td>\n",
       "      <td>프랑스</td>\n",
       "      <td></td>\n",
       "      <td>4.2</td>\n",
       "      <td></td>\n",
       "      <td>https://www.vivino.com/US-CA/en/ponsard-cheval...</td>\n",
       "      <td>밝은 가넷 컬러가 아름다우며 잘 익은 체리와 자두 등 핵과 열매의 아로마와 함께 잘...</td>\n",
       "      <td></td>\n",
       "    </tr>\n",
       "  </tbody>\n",
       "</table>\n",
       "</div>"
      ],
      "text/plain": [
       "                                                 url site_name    price  \\\n",
       "0  https://www.winenara.com/shop/product/product_...  winenara    38800   \n",
       "1  https://www.winenara.com/shop/product/product_...  winenara   200000   \n",
       "2  https://www.winenara.com/shop/product/product_...  winenara  1100000   \n",
       "3  https://www.winenara.com/shop/product/product_...  winenara   595000   \n",
       "4  https://www.winenara.com/shop/product/product_...  winenara   100000   \n",
       "\n",
       "                        name  \\\n",
       "0                   샹동 로제 브룻   \n",
       "1              티터 토터 카베르네소비뇽   \n",
       "2            아르망 드 브리냑 브룻 골드   \n",
       "3                      크룩 로제   \n",
       "4  도멘 퐁사르 슈발리에 마랑지 1er 라 푸시에   \n",
       "\n",
       "                                             en_name  \\\n",
       "0                                  Chandon Rose brut   \n",
       "1                   TEETER-TOTTER CABERNET SAUVIGNON   \n",
       "2                        Armand De Brignac Brut Gold   \n",
       "3                                     Krug brut Rose   \n",
       "4  DOMAINE PONSARD CHEVALIER MARANGES 1ER LA FUSS...   \n",
       "\n",
       "                                             img_url body acidity tannin  \\\n",
       "0  https://www.winenara.com/uploads/product/550/8...   -1                  \n",
       "1  https://www.winenara.com/uploads/product/550/4...    4                  \n",
       "2  https://www.winenara.com/uploads/product/550/5...   -1                  \n",
       "3  https://www.winenara.com/uploads/product/550/0...   -1                  \n",
       "4  https://www.winenara.com/uploads/product/550/1...    3                  \n",
       "\n",
       "  sweetness alcohol wine_type country grape rating pickup_location  \\\n",
       "0        -1      -1        로제      호주          3.7                   \n",
       "1        -1      -1        레드      미국          4.3                   \n",
       "2         2      -1      스파클링     프랑스          4.4                   \n",
       "3        -1      -1        로제     프랑스          4.6                   \n",
       "4        -1      -1        레드     프랑스          4.2                   \n",
       "\n",
       "                                         vivino_link  \\\n",
       "0  https://www.vivino.com/US-CA/en/chandon-califo...   \n",
       "1  https://www.vivino.com/US-CA/en/teeter-totter-...   \n",
       "2  https://www.vivino.com/US-CA/en/armand-de-brig...   \n",
       "3  https://www.vivino.com/US-CA/en/krug-brut-rose...   \n",
       "4  https://www.vivino.com/US-CA/en/ponsard-cheval...   \n",
       "\n",
       "                                  flavor_description             pairing  \n",
       "0  로제 와인의 생동감을 더한 우아한 스파클링 와인으로 입 안을 가득 채우는 체리파이 ...                      \n",
       "1  첫 향으로 블랙베리, 라즈베리, 바닐라 향이 튀어 오르며 뒤이어 정향, 제비꽃, 라...            피자, 스테이크  \n",
       "2  전통 샴페인의 진수를 보여주는 와인으로, 복합적이며 풀바디한 느낌이 압도적입니다. ...  기름진 생선 요리, 돼지고기 요리  \n",
       "3                                                                         \n",
       "4  밝은 가넷 컬러가 아름다우며 잘 익은 체리와 자두 등 핵과 열매의 아로마와 함께 잘...                      "
      ]
     },
     "execution_count": 8,
     "metadata": {},
     "output_type": "execute_result"
    }
   ],
   "source": [
    "df.head()"
   ]
  },
  {
   "attachments": {},
   "cell_type": "markdown",
   "metadata": {},
   "source": [
    "### Prepare Langchain Tool"
   ]
  },
  {
   "attachments": {},
   "cell_type": "markdown",
   "metadata": {},
   "source": [
    "#### Tool1: Wine database 1"
   ]
  },
  {
   "cell_type": "code",
   "execution_count": 9,
   "metadata": {},
   "outputs": [],
   "source": [
    "df['page_content'] = ''\n",
    "columns = ['name', 'pairing']\n",
    "for column in columns:\n",
    "    if column != 'page_content':\n",
    "        df['page_content'] += column + ':' + df[column].astype(str) + ','"
   ]
  },
  {
   "cell_type": "code",
   "execution_count": 10,
   "metadata": {},
   "outputs": [],
   "source": [
    "columns = ['rating', 'price', 'body', 'sweetness', 'alcohol', 'acidity', 'tannin']\n",
    "for idx in df.index:\n",
    "    for column in columns:\n",
    "        if type(df[column][idx]) == str:\n",
    "            df[column][idx] = df[column][idx].replace(',', '')\n",
    "        df[column][idx] = float(df[column][idx]) if df[column][idx] != '' else -1"
   ]
  },
  {
   "cell_type": "code",
   "execution_count": 11,
   "metadata": {},
   "outputs": [],
   "source": [
    "df = df.drop(columns=['name', 'pairing'])\n",
    "df = df.sort_values('rating', ascending=False) # rating이 높은 순서대로 정렬"
   ]
  },
  {
   "cell_type": "code",
   "execution_count": 21,
   "metadata": {},
   "outputs": [],
   "source": [
    "loader =DataFrameLoader(data_frame=df, page_content_column='page_content')\n",
    "docs = loader.load()\n",
    "embeddings = OpenAIEmbeddings()"
   ]
  },
  {
   "attachments": {},
   "cell_type": "markdown",
   "metadata": {},
   "source": [
    "아래는 wine database1에 metadata_field Attribute이다. 아래를 기준으로 서치를 진행하게 된다."
   ]
  },
  {
   "cell_type": "code",
   "execution_count": 14,
   "metadata": {},
   "outputs": [],
   "source": [
    "metadata_field_info = [\n",
    "    AttributeInfo(\n",
    "        name=\"body\",\n",
    "        description=\"1-5 rating for the body of wine\",\n",
    "        type=\"int\",\n",
    "    ),\n",
    "    AttributeInfo(\n",
    "        name=\"tannin\",\n",
    "        description=\"1-5 rating for the tannin of wine\",\n",
    "        type=\"int\",\n",
    "    ),\n",
    "    AttributeInfo(\n",
    "        name=\"sweetness\",\n",
    "        description=\"1-5 rating for the sweetness of wine\",\n",
    "        type=\"int\",\n",
    "    ),\n",
    "    AttributeInfo(\n",
    "        name=\"alcohol\",\n",
    "        description=\"1-5 rating for the alcohol of wine\",\n",
    "        type=\"int\",\n",
    "    ),\n",
    "    AttributeInfo(\n",
    "        name=\"price\",\n",
    "        description=\"The price of the wine\",\n",
    "        type=\"int\",\n",
    "    ),\n",
    "    AttributeInfo(\n",
    "        name=\"rating\", \n",
    "        description=\"1-5 rating for the wine\", \n",
    "        type=\"float\"\n",
    "    ),\n",
    "    AttributeInfo(\n",
    "        name=\"wine_type\", \n",
    "        description=\"The type of wine. It can be '레드', '로제', '스파클링', '화이트', '디저트', '주정강화'\", \n",
    "        type=\"string\"\n",
    "    ),\n",
    "    AttributeInfo(\n",
    "        name=\"country\", \n",
    "        description=\"The country of wine. It can be '기타 신대륙', '기타구대륙', '뉴질랜드', '독일', '미국', '스페인', '아르헨티나', '이탈리아', '칠레', '포루투칼', '프랑스', '호주'\", \n",
    "        type=\"float\"\n",
    "    ),\n",
    "]"
   ]
  },
  {
   "cell_type": "code",
   "execution_count": null,
   "metadata": {},
   "outputs": [],
   "source": [
    "vectorstore = Chroma.from_documents(docs, embeddings)"
   ]
  },
  {
   "cell_type": "code",
   "execution_count": 43,
   "metadata": {},
   "outputs": [],
   "source": [
    "document_content_description = \"A database of wines. 'name' and 'pairing' must be included in the query, and 'Body', 'Tannin', 'Sweetness', 'Alcohol', 'Price', 'Rating', 'Wine_Type', and 'Country' can be included in the filter. query and filter must be form of 'key: value'. For example, query: 'name: 돔페리뇽, pairing:육류'.\"\n",
    "llm = OpenAI(temperature=0)\n",
    "retriever = SelfQueryRetriever.from_llm(\n",
    "    llm, vectorstore, document_content_description, metadata_field_info, verbose=True\n",
    ")  # Added missing closing parenthesis\n"
   ]
  },
  {
   "cell_type": "code",
   "execution_count": 46,
   "metadata": {},
   "outputs": [
    {
     "name": "stdout",
     "output_type": "stream",
     "text": [
      "query='pairing:육류' filter=None limit=None\n"
     ]
    },
    {
     "data": {
      "text/plain": [
       "[Document(page_content='name:멈 그랑 꼬르똥,pairing:육류 신선한 해물요리,', metadata={'url': 'https://www.wineandmore.co.kr/goods/goods_view.php?goodsNo=1000001577', 'site_name': 'wine_and_more', 'price': 89000.0, 'en_name': 'MUMM Mumm Grand Cordon G', 'img_url': 'https://github.com/audreyaiai/chatwine-dev/blob/main/data/wine_and_more/img/멈_그랑_꼬르똥.png?raw=True', 'body': -1, 'acidity': -1, 'tannin': -1, 'sweetness': -1, 'alcohol': -1, 'wine_type': '', 'country': '', 'grape': '', 'rating': -1, 'pickup_location': '와인앤모어 광화문점,와인앤모어 삼성1호점,와인앤모어 서래점,와인앤모어 서울대입구역점,와인앤모어 스타필드시티 명지점,와인앤모어 역삼센터필드점,와인앤모어 학동역점', 'vivino_link': '', 'flavor_description': \".H.MUMM CHAMPAGNE 축하의 순간을 함께하는 샴페인 샴페인 하우스 멈은 축하의 아이콘이자 가장 아방가르드한 샴페인으로 '오직 최고만을 추구한다'는 멈의 . 모토를 현대적으로 재해석하며 완벽함을 추구한다. 특히, 멈 그랑 꼬르동 제품은 Red Sash가 병에 입체적으로 새겨져있는 유니크한 바틀 디자인으로 혁신적이고 대담함을 드러낸다. 한 모금을 머금는 순간, 입 안 가득 풍부한 버블, 신선한 복숭아, 살구 등의 과일과 바닐라, 견과류의 느낌이 결합되어 끝 맛의 응축도를 더해준다.\"}),\n",
       " Document(page_content='name:페트라 징가리,pairing:육류 스테이크 살라미 경성치즈류,', metadata={'url': 'https://www.wineandmore.co.kr/goods/goods_view.php?goodsNo=1000002188', 'site_name': 'wine_and_more', 'price': 29900.0, 'en_name': 'Petra Zingari ZINGARI', 'img_url': 'https://github.com/audreyaiai/chatwine-dev/blob/main/data/wine_and_more/img/페트라_징가리.png?raw=True', 'body': -1, 'acidity': -1, 'tannin': -1, 'sweetness': -1, 'alcohol': -1, 'wine_type': '', 'country': '', 'grape': '', 'rating': -1, 'pickup_location': '와인앤모어 AK광명점,와인앤모어 교대역점,와인앤모어 다산점,와인앤모어 서래점,와인앤모어 서울숲점,와인앤모어 센텀점,와인앤모어 스타필드 안성점,와인앤모어 청담점,와인앤모어 학동역점', 'vivino_link': '', 'flavor_description': '프란치아코르타 명문, 벨라비스타가 생산하는 수퍼 투스칸 브랜드 징가리는 고대 순례자와 여행객들이 오가던 유럽과 로마를 연결하는 주요도로 Aurelia Street에 위치했던 샘물에 그 뿌리를 두고 있다 그래서 이름도 집시를 뜻하는 \"징가리\" \\'를 사용한다. 마치 예전 순례자와 여행객들이 모였던 것처럼 이 샘물 주변에 위치한 포도밭에 4개의 품종을 동일한 비율로 재배하여 와인을 만든다. 레이블은 샘물 중심으로 펼쳐진 4개의 포도원을 상징화 하여 나타낸 예술적 컨셉을 담아 표현했다.'}),\n",
       " Document(page_content='name:얀 뒤리외 씨알,pairing:붉은 육류 양고기 치즈 오리고기,', metadata={'url': 'https://www.wineandmore.co.kr/goods/goods_view.php?goodsNo=1000002410', 'site_name': 'wine_and_more', 'price': 360000.0, 'en_name': 'Yann Durieux CR nDaviey', 'img_url': 'https://github.com/audreyaiai/chatwine-dev/blob/main/data/wine_and_more/img/얀_뒤리외_씨알.png?raw=True', 'body': -1, 'acidity': -1, 'tannin': -1, 'sweetness': -1, 'alcohol': -1, 'wine_type': '', 'country': '', 'grape': '', 'rating': -1, 'pickup_location': '와인앤모어 한남점', 'vivino_link': '', 'flavor_description': '부르고뉴를 대표하는 전설의 내추럴 와인메이커 비교적 오랜기간동안 침용 과정을 거쳐 만들어졌지만, 와인의 신선함과 활기를 유지하기 위해 탱크에서 1년 동안 숙성했다. 와인메이커는 이 와인을 \"파워풀하고 아로마틱한\" 와인이라고 부른다.'}),\n",
       " Document(page_content='name:뻬스께라 크리안자,pairing:야생 가금류 이베리코 햄 베요타 돼지고기 등 풍미가 진한 육류요리,', metadata={'url': 'https://www.wineandmore.co.kr/goods/goods_view.php?goodsNo=1000002227', 'site_name': 'wine_and_more', 'price': 44800.0, 'en_name': 'Pesquera Crianza', 'img_url': 'https://github.com/audreyaiai/chatwine-dev/blob/main/data/wine_and_more/img/뻬스께라_크리안자.png?raw=True', 'body': -1, 'acidity': -1, 'tannin': -1, 'sweetness': -1, 'alcohol': -1, 'wine_type': '', 'country': '', 'grape': '', 'rating': -1, 'pickup_location': '와인앤모어 AK광명점,와인앤모어 광교점,와인앤모어 논현점,와인앤모어 다산점,와인앤모어 마포공덕점,와인앤모어 뱅뱅사거리점,와인앤모어 서래점,와인앤모어 서울대입구역점,와인앤모어 서울숲점,와인앤모어 성수역점,와인앤모어 센텀점,와인앤모어 수성만촌점,와인앤모어 스타필드시티 부천점,와인앤모어 역삼센터필드점,와인앤모어 일렉트로마트 고양점,와인앤모어 학동역점,와인앤모어 한남점,와인앤모어 합정역점', 'vivino_link': '', 'flavor_description': ', Ribera del Duero PESOUERA RIGERA DEL DUERO 스페인의 전설 알레한드로 페르난데스의 대표 와인 블랙베리, 라스베리 등 검붉은 과일의 진한 향에 이어 바닐라, 감초, 스파이시한 노트가 나타나며 와인에 풍성함을 더한다. 입 안에서는 실크처럼 부드러운 감촉, , 라운드하게 다듬어진 탄닌의 촘촘한 맛을 즐길 수 있으며, 오크 숙성에서 베어나는 매력적인 스모키함이 느껴진다. 블랙베리의 진한 과일 풍미와 함께 끝 맛에서 감초, 스파이시한 여운이 길고 은은하게 남는다.'})]"
      ]
     },
     "execution_count": 46,
     "metadata": {},
     "output_type": "execute_result"
    }
   ],
   "source": [
    "retriever.get_relevant_documents('pairing:육류') # gt means greater than, lt means less than, eq means equal to"
   ]
  },
  {
   "cell_type": "code",
   "execution_count": 17,
   "metadata": {},
   "outputs": [],
   "source": []
  },
  {
   "cell_type": "code",
   "execution_count": 19,
   "metadata": {},
   "outputs": [
    {
     "data": {
      "text/html": [
       "<div>\n",
       "<style scoped>\n",
       "    .dataframe tbody tr th:only-of-type {\n",
       "        vertical-align: middle;\n",
       "    }\n",
       "\n",
       "    .dataframe tbody tr th {\n",
       "        vertical-align: top;\n",
       "    }\n",
       "\n",
       "    .dataframe thead th {\n",
       "        text-align: right;\n",
       "    }\n",
       "</style>\n",
       "<table border=\"1\" class=\"dataframe\">\n",
       "  <thead>\n",
       "    <tr style=\"text-align: right;\">\n",
       "      <th></th>\n",
       "      <th>url</th>\n",
       "      <th>site_name</th>\n",
       "      <th>price</th>\n",
       "      <th>en_name</th>\n",
       "      <th>img_url</th>\n",
       "      <th>body</th>\n",
       "      <th>acidity</th>\n",
       "      <th>tannin</th>\n",
       "      <th>sweetness</th>\n",
       "      <th>alcohol</th>\n",
       "      <th>wine_type</th>\n",
       "      <th>country</th>\n",
       "      <th>grape</th>\n",
       "      <th>rating</th>\n",
       "      <th>pickup_location</th>\n",
       "      <th>vivino_link</th>\n",
       "      <th>flavor_description</th>\n",
       "      <th>page_content</th>\n",
       "    </tr>\n",
       "  </thead>\n",
       "  <tbody>\n",
       "    <tr>\n",
       "      <th>1192</th>\n",
       "      <td>https://www.wineandmore.co.kr/goods/goods_view...</td>\n",
       "      <td>wine_and_more</td>\n",
       "      <td>20000.0</td>\n",
       "      <td>Wabi Sabi Pet Nat</td>\n",
       "      <td>https://github.com/audreyaiai/chatwine-dev/blo...</td>\n",
       "      <td>-1</td>\n",
       "      <td>-1</td>\n",
       "      <td>-1</td>\n",
       "      <td>-1</td>\n",
       "      <td>-1</td>\n",
       "      <td></td>\n",
       "      <td></td>\n",
       "      <td></td>\n",
       "      <td>-1</td>\n",
       "      <td>SSG푸드마켓 도곡점,와인앤모어 AK광명점,와인앤모어 교대역점,와인앤모어 논현점,와...</td>\n",
       "      <td></td>\n",
       "      <td>아로마틱한 과실의 촘촘한 구조감의 내추럴 스파클링 와인 Kremstal 지역의 역암...</td>\n",
       "      <td>name:[클리어런스] 와비 사비 펫 낫,pairing:리조또 흰 육류,</td>\n",
       "    </tr>\n",
       "    <tr>\n",
       "      <th>1191</th>\n",
       "      <td>https://www.wineandmore.co.kr/goods/goods_view...</td>\n",
       "      <td>wine_and_more</td>\n",
       "      <td>29900.0</td>\n",
       "      <td>Chateau de Laborde CHATEAU DE LABORDE Annonali...</td>\n",
       "      <td>https://github.com/audreyaiai/chatwine-dev/blo...</td>\n",
       "      <td>-1</td>\n",
       "      <td>-1</td>\n",
       "      <td>-1</td>\n",
       "      <td>-1</td>\n",
       "      <td>-1</td>\n",
       "      <td></td>\n",
       "      <td></td>\n",
       "      <td></td>\n",
       "      <td>-1</td>\n",
       "      <td>와인앤모어 청담점,와인앤모어 합정역점</td>\n",
       "      <td></td>\n",
       "      <td>45년 올드바인 포도로 만든 와인 체리 색을 띠고 있고 블랙 체리, 페퍼 등 동양적...</td>\n",
       "      <td>name:샤또 드 라보르드 부르고뉴 피노누아 뀌베 에이치,pairing:안심, 등심...</td>\n",
       "    </tr>\n",
       "    <tr>\n",
       "      <th>1190</th>\n",
       "      <td>https://www.wineandmore.co.kr/goods/goods_view...</td>\n",
       "      <td>wine_and_more</td>\n",
       "      <td>105000.0</td>\n",
       "      <td>Chateau Lynch Moussas LYNCH</td>\n",
       "      <td>https://github.com/audreyaiai/chatwine-dev/blo...</td>\n",
       "      <td>-1</td>\n",
       "      <td>-1</td>\n",
       "      <td>-1</td>\n",
       "      <td>-1</td>\n",
       "      <td>-1</td>\n",
       "      <td></td>\n",
       "      <td></td>\n",
       "      <td></td>\n",
       "      <td>-1</td>\n",
       "      <td>와인앤모어 AK광명점,와인앤모어 광교점,와인앤모어 교대역점,와인앤모어 동판교점,와인...</td>\n",
       "      <td></td>\n",
       "      <td>-MOUSSES PAUILLAC 부드럽고 차분한 개성있는 와인 짙은 루비색을 띤 개...</td>\n",
       "      <td>name:샤또 랭쉬 무싸,pairing:양고기 치즈 그릴에 구운 육류요리,</td>\n",
       "    </tr>\n",
       "    <tr>\n",
       "      <th>1189</th>\n",
       "      <td>https://www.wineandmore.co.kr/goods/goods_view...</td>\n",
       "      <td>wine_and_more</td>\n",
       "      <td>78000.0</td>\n",
       "      <td>Wolf Blass Gold Label WOLF BLASS Gold Label Re...</td>\n",
       "      <td>https://github.com/audreyaiai/chatwine-dev/blo...</td>\n",
       "      <td>-1</td>\n",
       "      <td>-1</td>\n",
       "      <td>-1</td>\n",
       "      <td>-1</td>\n",
       "      <td>-1</td>\n",
       "      <td></td>\n",
       "      <td></td>\n",
       "      <td></td>\n",
       "      <td>-1</td>\n",
       "      <td>와인앤모어 광교점,와인앤모어 군자역점,와인앤모어 다산점,와인앤모어 서래점,와인앤모어...</td>\n",
       "      <td></td>\n",
       "      <td>남호주 최상의 품종을 선별한 우수한 와인 바로사는 강렬함과 풍성함을 잘 드러내는 쉬...</td>\n",
       "      <td>name:울프 블라스 골드라벨 리저브 쉬라즈,pairing:각종 육류 요리, 치즈 ...</td>\n",
       "    </tr>\n",
       "    <tr>\n",
       "      <th>1569</th>\n",
       "      <td>https://www.wineandmore.co.kr/goods/goods_view...</td>\n",
       "      <td>wine_and_more</td>\n",
       "      <td>22000.0</td>\n",
       "      <td>R</td>\n",
       "      <td>https://github.com/audreyaiai/chatwine-dev/blo...</td>\n",
       "      <td>-1</td>\n",
       "      <td>-1</td>\n",
       "      <td>-1</td>\n",
       "      <td>-1</td>\n",
       "      <td>-1</td>\n",
       "      <td></td>\n",
       "      <td></td>\n",
       "      <td></td>\n",
       "      <td>-1</td>\n",
       "      <td>와인앤모어 AK광명점,와인앤모어 광교점,와인앤모어 동판교점,와인앤모어 삼성1호점,와...</td>\n",
       "      <td></td>\n",
       "      <td>모스카토 로사 Brown Brothers Moscato Rosa MOSCATO 사랑...</td>\n",
       "      <td>name:브라운 브라더스 모스카토 로사,pairing:부드러운 치즈 과일 디저트,</td>\n",
       "    </tr>\n",
       "  </tbody>\n",
       "</table>\n",
       "</div>"
      ],
      "text/plain": [
       "                                                    url      site_name  \\\n",
       "1192  https://www.wineandmore.co.kr/goods/goods_view...  wine_and_more   \n",
       "1191  https://www.wineandmore.co.kr/goods/goods_view...  wine_and_more   \n",
       "1190  https://www.wineandmore.co.kr/goods/goods_view...  wine_and_more   \n",
       "1189  https://www.wineandmore.co.kr/goods/goods_view...  wine_and_more   \n",
       "1569  https://www.wineandmore.co.kr/goods/goods_view...  wine_and_more   \n",
       "\n",
       "         price                                            en_name  \\\n",
       "1192   20000.0                                  Wabi Sabi Pet Nat   \n",
       "1191   29900.0  Chateau de Laborde CHATEAU DE LABORDE Annonali...   \n",
       "1190  105000.0                        Chateau Lynch Moussas LYNCH   \n",
       "1189   78000.0  Wolf Blass Gold Label WOLF BLASS Gold Label Re...   \n",
       "1569   22000.0                                                  R   \n",
       "\n",
       "                                                img_url body acidity tannin  \\\n",
       "1192  https://github.com/audreyaiai/chatwine-dev/blo...   -1      -1     -1   \n",
       "1191  https://github.com/audreyaiai/chatwine-dev/blo...   -1      -1     -1   \n",
       "1190  https://github.com/audreyaiai/chatwine-dev/blo...   -1      -1     -1   \n",
       "1189  https://github.com/audreyaiai/chatwine-dev/blo...   -1      -1     -1   \n",
       "1569  https://github.com/audreyaiai/chatwine-dev/blo...   -1      -1     -1   \n",
       "\n",
       "     sweetness alcohol wine_type country grape rating  \\\n",
       "1192        -1      -1                             -1   \n",
       "1191        -1      -1                             -1   \n",
       "1190        -1      -1                             -1   \n",
       "1189        -1      -1                             -1   \n",
       "1569        -1      -1                             -1   \n",
       "\n",
       "                                        pickup_location vivino_link  \\\n",
       "1192  SSG푸드마켓 도곡점,와인앤모어 AK광명점,와인앤모어 교대역점,와인앤모어 논현점,와...               \n",
       "1191                               와인앤모어 청담점,와인앤모어 합정역점               \n",
       "1190  와인앤모어 AK광명점,와인앤모어 광교점,와인앤모어 교대역점,와인앤모어 동판교점,와인...               \n",
       "1189  와인앤모어 광교점,와인앤모어 군자역점,와인앤모어 다산점,와인앤모어 서래점,와인앤모어...               \n",
       "1569  와인앤모어 AK광명점,와인앤모어 광교점,와인앤모어 동판교점,와인앤모어 삼성1호점,와...               \n",
       "\n",
       "                                     flavor_description  \\\n",
       "1192  아로마틱한 과실의 촘촘한 구조감의 내추럴 스파클링 와인 Kremstal 지역의 역암...   \n",
       "1191  45년 올드바인 포도로 만든 와인 체리 색을 띠고 있고 블랙 체리, 페퍼 등 동양적...   \n",
       "1190  -MOUSSES PAUILLAC 부드럽고 차분한 개성있는 와인 짙은 루비색을 띤 개...   \n",
       "1189  남호주 최상의 품종을 선별한 우수한 와인 바로사는 강렬함과 풍성함을 잘 드러내는 쉬...   \n",
       "1569  모스카토 로사 Brown Brothers Moscato Rosa MOSCATO 사랑...   \n",
       "\n",
       "                                           page_content  \n",
       "1192           name:[클리어런스] 와비 사비 펫 낫,pairing:리조또 흰 육류,  \n",
       "1191  name:샤또 드 라보르드 부르고뉴 피노누아 뀌베 에이치,pairing:안심, 등심...  \n",
       "1190          name:샤또 랭쉬 무싸,pairing:양고기 치즈 그릴에 구운 육류요리,  \n",
       "1189  name:울프 블라스 골드라벨 리저브 쉬라즈,pairing:각종 육류 요리, 치즈 ...  \n",
       "1569      name:브라운 브라더스 모스카토 로사,pairing:부드러운 치즈 과일 디저트,  "
      ]
     },
     "execution_count": 19,
     "metadata": {},
     "output_type": "execute_result"
    }
   ],
   "source": [
    "df_new.tail()"
   ]
  },
  {
   "cell_type": "code",
   "execution_count": null,
   "metadata": {},
   "outputs": [],
   "source": [
    "retriever.get_relevant_documents('{\"wine_type\":\"레드\", \"body\": \"lt 3 gt 0\"}')"
   ]
  },
  {
   "attachments": {},
   "cell_type": "markdown",
   "metadata": {},
   "source": [
    "#### Tool2: Search specific wine with url"
   ]
  },
  {
   "cell_type": "code",
   "execution_count": null,
   "metadata": {},
   "outputs": [],
   "source": [
    "def search_with_url(query):\n",
    "    return SeleniumURLLoader(urls=[query]).load()"
   ]
  },
  {
   "attachments": {},
   "cell_type": "markdown",
   "metadata": {},
   "source": [
    "#### Tool3: Wine database 2"
   ]
  },
  {
   "cell_type": "code",
   "execution_count": null,
   "metadata": {},
   "outputs": [],
   "source": [
    "index = VectorstoreIndexCreator(\n",
    "    vectorstore_cls=DocArrayInMemorySearch\n",
    ").from_loaders([loader])"
   ]
  },
  {
   "attachments": {},
   "cell_type": "markdown",
   "metadata": {},
   "source": [
    "#### Tool4: Search in Google"
   ]
  },
  {
   "cell_type": "code",
   "execution_count": null,
   "metadata": {},
   "outputs": [],
   "source": [
    "search = SerpAPIWrapper()"
   ]
  },
  {
   "cell_type": "code",
   "execution_count": null,
   "metadata": {},
   "outputs": [],
   "source": [
    "tools = [\n",
    "    Tool(\n",
    "        name=\"Wine database\",\n",
    "        func=retriever.get_relevant_documents,\n",
    "        description=\"\"\"\n",
    "Database about the wines in wine store. You can get information such as the price of the wine, purchase URL, features, rating information, and more.\n",
    "You can search wines with the following attributes:\n",
    "- body: 1-5 rating int for the body of wine. You have to specify greater than or less than. For example, if you want to search for wines with a body rating of less than 3, enter 'body: gt 0 lt 3'\n",
    "- price: The price range of the wine. Please enter the price range in the form of range. For example, if you want to search for wines that cost less than 20,000 won, enter 'price: gt 0 lt20000'\n",
    "- rating: 1-5 rating float for the wine. You have to specify greater than or less than. For example, if you want to search for wines with a rating of less than 3, enter 'rating: gt 0 lt 3'\n",
    "- wine_type: The type of wine. It can be '레드', '로제', '스파클링', '화이트', '디저트', '주정강화'\n",
    "- name: The name of wine. 입력할 때는 '와인 이름은 \"비냐 조잘\" 입니다' 이런 식으로 입력해주세요.\n",
    "\"\"\"\n",
    "    ),\n",
    "    Tool(\n",
    "        name = \"Search specific wine with url\",\n",
    "        func=search_with_url,\n",
    "        description=\"Search specific wine with url. Query must be url\"\n",
    "    ),\n",
    "    Tool(\n",
    "        name = \"Wine database 2\",\n",
    "        func=index.query,\n",
    "        description=\"Database about the wines in wine store. You can use this tool if you're having trouble getting information from the wine database tool above. Query must be in String\"\n",
    "    ),\n",
    "    Tool(\n",
    "        name = \"Search\",\n",
    "        func=search.run,\n",
    "        description=\"Useful for when you need to ask with search. Search in English only.\"\n",
    "    ),\n",
    "]"
   ]
  }
 ],
 "metadata": {
  "kernelspec": {
   "display_name": ".venv",
   "language": "python",
   "name": "python3"
  },
  "language_info": {
   "codemirror_mode": {
    "name": "ipython",
    "version": 3
   },
   "file_extension": ".py",
   "mimetype": "text/x-python",
   "name": "python",
   "nbconvert_exporter": "python",
   "pygments_lexer": "ipython3",
   "version": "3.10.11"
  },
  "orig_nbformat": 4
 },
 "nbformat": 4,
 "nbformat_minor": 2
}
