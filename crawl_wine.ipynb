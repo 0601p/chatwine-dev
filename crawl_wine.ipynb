{
 "cells": [
  {
   "attachments": {},
   "cell_type": "markdown",
   "metadata": {},
   "source": [
    "## 이 문서를 수정할 당신에게...\n",
    "#### 현재 상황은 아래와 같습니다.\n",
    "1. 우리의 앱에서 중요한 요소 중 하나는 와인을 추천하고, 이를 실제로 구매할 수 있는 링크에 연결하는 것입니다. 또, 실제 와인바를 추천해주기도 합니다. 이를 위해서 실제 와인을 파는 사이트와 와인바를 데이터베이스로 만들어두어야하기 때문에 이를 위해서는 크롤링이 필요합니다.\n",
    "2. 현재 와인나라와 와인앤모어에 대한 크롤링을 완료한 상태입니다. 하지만 이를 통합된 하나의 데이터베이스로 만드는 과정이 필요합니다.\n",
    "- 와인나라: [winenara.json](./winenara_scrapy/winenara.json)\n",
    "- 와인앤모어: [wine_and_more.json](./wine_and_more.json)\n",
    "3. 와인나라에 대한 데이터를 크롤링했으나 바디, 산도 등 없는 데이터가 많았습니다. 이 때문에 X wine dataset을 이용해 부족한 부분을 추가해주어야합니다.\n",
    "\n",
    "#### 당신의 목표는 아래와 같습니다.\n",
    "1. 아래 사이트에 대한 크롤링을 진행합니다. 크롤링이 필요한 요소는 와인이나 와인바 추천에 필요하다고 생각하는 모든 것을 하면 됩니다. 또한 추가로 더 좋은 사이트의 크롤링도 좋습니다.\n",
    "\n",
    "    <strong>와인</strong>\n",
    "    - [와인나라](https://www.winenara.com/shop/main)\n",
    "    - [와인앤모어](https://www.wineandmore.co.kr/)\n",
    "    - [CU 편의점](https://pocketcu.co.kr/)\n",
    "    - [SSG 와인장터](https://emart.ssg.com/specialStore/wineliquor/main.ssg)\n",
    "    - [롯데온](https://www.lotteon.com/search/search/search.ecn?render=search&platform=pc&q=%EC%99%80%EC%9D%B8&mallId=1)\n",
    "\n",
    "\n",
    "<br>\n",
    "\n",
    "2. 이후 와인에 대한 데이터베이스를 통합합니다. 현재 아래의 schema를 생각하고 있으나 다른 것을 추가하는 것도 좋습니다.\n",
    "- url(required): 해당 페이지의 url\n",
    "- site_name(required): 해당 페이지의 출처(와인나라, 와인앤모어 등)\n",
    "- price(required): 가격\n",
    "- name: 한글 이름\n",
    "- en_name: 영어 이름\n",
    "- img_url(required): 이미지 url 리스트\n",
    "- body: 바디감(1~5점)\n",
    "- acidity: 산도(1~5점)\n",
    "- tannin: 타닌(1~5점)\n",
    "- sweetness: 당도(1~5점)\n",
    "- alcohol: %\n",
    "- wine_type(required): 와인타입(레드, 화이트 등)\n",
    "- country: 원산지(미국, 독일 등)\n",
    "- grape: 포도품종\n",
    "- rating: vivino 점수(1~5점)\n",
    "- pickup_location: 픽업장소\n",
    "- vivino_link: vivino 사이트의 와인 상세페이지 url\n",
    "\n",
    "#### 참고 사항\n",
    "현재 작성된 크롤링은 아래의 프레임워크로 작업했습니다.\n",
    "- [Scrapy](https://docs.scrapy.org/en/latest/intro/tutorial.html)\n",
    "- [Selenium](https://selenium-python.readthedocs.io/)"
   ]
  },
  {
   "attachments": {},
   "cell_type": "markdown",
   "metadata": {},
   "source": [
    "## 와인나라 크롤링"
   ]
  },
  {
   "attachments": {},
   "cell_type": "markdown",
   "metadata": {},
   "source": [
    "와인나라에 있는 와인에 대한 정보를 가져오는 것을 목적으로 한다.\n",
    "\n",
    "크롤링에는 [Scrapy](https://docs.scrapy.org/en/latest/intro/tutorial.html)를 사용한다.\n",
    "\n",
    "scrapy를 사용하기 위해서 [새로운 프로젝트](./winenara_scrapy)에서 작업을 한다. 여기서 [winenara_spiders](./winenara_scrapy/tutorial/spiders/winenara_spider.py) 파일을 수정한다."
   ]
  },
  {
   "attachments": {},
   "cell_type": "markdown",
   "metadata": {},
   "source": [
    "### 상품목록페이지에서 각 상품 상세페이지 링크 추출\n",
    "<img src=\"./assets/winenara_mainpage.png\" width=\"500\" height=\"500\">"
   ]
  },
  {
   "attachments": {},
   "cell_type": "markdown",
   "metadata": {},
   "source": [
    "위에서 각 상세페이지의 주소를 가져오고, 모든 상세페이지에서 정보를 가져왔다면 다음 페이지 링크를 이용해 다음 페이지로 넘어간다."
   ]
  },
  {
   "attachments": {},
   "cell_type": "markdown",
   "metadata": {},
   "source": [
    "### 상세페이지에서 와인 정보 추출\n",
    "<img src=\"./assets/winenara.png\" width=\"1000\" height=\"500\">"
   ]
  },
  {
   "attachments": {},
   "cell_type": "markdown",
   "metadata": {},
   "source": [
    "위의 이미지는 와인나라의 상세페이지이다. 상세페이지로부터 아래의 값들을 가져온다.\n",
    "- url: 해당 페이지의 url\n",
    "- price: 가격\n",
    "- name: 한글 이름\n",
    "- en_name: 영어 이름\n",
    "- img_url: 이미지 url 리스트\n",
    "- features: 와인에 대한 정보 딕셔너리(바디, 산도, 타닌, 알코올 등)\n",
    "- tag: 와인에 대한 정보 리스트(와인의 종류, 원산지, 포도품종)\n",
    "- rating: vivino 점수(1~5점)\n",
    "- vivino_link: vivino url (vivino는 전세계의 와인 데이터베이스 웹페이지이다.)"
   ]
  },
  {
   "attachments": {},
   "cell_type": "markdown",
   "metadata": {},
   "source": [
    "예를 들어 위의 이미지에 대해서는 아래와 같이 만들어진다.\n",
    "```json\n",
    "{\"url\": \"https://www.winenara.com/shop/product/product_view?product_cd=29E033\",\n",
    " \"price\": \"50,000원\", \n",
    " \"name\": \"SET)페데럴리스트 카베르네 소비뇽 원통 패키지\", \n",
    " \"en_name\": \"SET)THE FEDERALIST CABERNET SAUVIGNON\", \n",
    " \"img_url\": [\"https://www.winenara.com/uploads/product/550/e0705cecad48a9e01710b6fbf7b2f8c5.png\"], \n",
    " \"features\": {\"바디\": \"중간\"},\n",
    " \"feature_img_url\": [\"https://www.winenara.com/uploads/editor/202212081007511218373150.jpg\"],\n",
    " \"tag\": [\"레드\", \"미국\", \"카베르네 소비뇽\"], \n",
    " \"rating\": \"3.8\", \n",
    " \"vivino_link\": \"https://www.vivino.com/federalist-cabernet-sauvignon/w/3048981\", \"images\": [{\"url\": \"https://www.winenara.com/uploads/product/550/e0705cecad48a9e01710b6fbf7b2f8c5.png\", \"path\": \"product\\\\550\\\\e0705cecad48a9e01710b6fbf7b2f8c5.png\", \"checksum\": \"e04ed429fd54db2478136c3e03ab592f\", \"status\": \"downloaded\"}]}\n",
    "```"
   ]
  },
  {
   "attachments": {},
   "cell_type": "markdown",
   "metadata": {},
   "source": [
    "----------------- 코드 실행 ------------------"
   ]
  },
  {
   "cell_type": "code",
   "execution_count": 1,
   "metadata": {},
   "outputs": [
    {
     "name": "stdout",
     "output_type": "stream",
     "text": [
      "c:\\Users\\chois\\Desktop\\chatwine\\winenara_scrapy\n"
     ]
    }
   ],
   "source": [
    "%cd winenara_scrapy"
   ]
  },
  {
   "cell_type": "code",
   "execution_count": 3,
   "metadata": {},
   "outputs": [
    {
     "name": "stdout",
     "output_type": "stream",
     "text": [
      "c:\\Users\\chois\\Desktop\\chatwine\\winenara_scrapy\\tutorial\n"
     ]
    }
   ],
   "source": [
    "%cd tutorial"
   ]
  },
  {
   "attachments": {},
   "cell_type": "markdown",
   "metadata": {},
   "source": [
    "크롤링 과정에서 img_url의 이미지가 로컬에 저장된다. 이를 위해 [settings.py](./winenara_scrapy/tutorial/settings.py)에 이미지가 저장될 경로를 설정한다. settings.py에 경로를 변경해서 아래 코드를 추가해준다.\n",
    "```python\n",
    "ITEM_PIPELINES = {'tutorial.pipelines.CustomImagesPipeline': 1}\n",
    "IMAGES_STORE = 'C:/Users/chois/Desktop/Audrey/chatwine/winenara_scrapy/assets/img'\n",
    "```"
   ]
  },
  {
   "attachments": {},
   "cell_type": "markdown",
   "metadata": {},
   "source": [
    "또한 이미지 저장에 있어서 이미지의 이름을 변경해주기 위해 [pipelines.py](./winenara_scrapy/tutorial/pipelines.py)에 CustomImagePipeline 클래스를 추가해준다. 코드는 아래와 같다.\n",
    "```python\n",
    "import os\n",
    "from urllib.parse import urlparse\n",
    "\n",
    "import scrapy\n",
    "from scrapy.pipelines.images import ImagesPipeline\n",
    "\n",
    "class CustomImagesPipeline(ImagesPipeline):\n",
    "    def file_path(self, request, response=None, info=None, *, item=None):\n",
    "        path = urlparse(request.url).path\n",
    "        path_parts = path.split('/')\n",
    "        filename = os.path.join(*path_parts[-3:])\n",
    "        return filename\n",
    "\n",
    "    def get_media_requests(self, item, info):\n",
    "        if 'img_url' in item:\n",
    "            for image_url in item['img_url']:\n",
    "                yield scrapy.Request(image_url)\n",
    "```"
   ]
  },
  {
   "attachments": {},
   "cell_type": "markdown",
   "metadata": {},
   "source": [
    "아래 코드를 실행하여 얻은 결과는 [winenara.json](./winenara_scrapy/winenara.json)에서 확인할 수 있다."
   ]
  },
  {
   "cell_type": "code",
   "execution_count": null,
   "metadata": {},
   "outputs": [],
   "source": [
    "!scrapy crawl winenara -o new_winenara.json # winenara spider를 실행하여 결과를 winenara.json에 저장, 터미널에서 실행해야해요."
   ]
  },
  {
   "attachments": {},
   "cell_type": "markdown",
   "metadata": {},
   "source": [
    "아래는 파일 feature_img_url을 [저장 경로](./winenara_scrapy/assets/img/feature_img/)에 저장하는 코드이다.(위의 CustomImagePipeline을 수정하면 된다. 그런데 깜빡했다!)"
   ]
  },
  {
   "cell_type": "code",
   "execution_count": null,
   "metadata": {},
   "outputs": [],
   "source": [
    "import json\n",
    "import os\n",
    "import requests\n",
    "\n",
    "# JSON 파일 열기\n",
    "with open('./new_winenara.json', 'r', encoding='utf-8') as f:\n",
    "    data = json.load(f)\n",
    "\n",
    "# 저장 경로 지정\n",
    "save_path = '../assets/img/feature_img'\n",
    "\n",
    "# 모든 아이템에 대해 반복\n",
    "for item in data:\n",
    "    image_url = item['feature_img_url'][0]  # feature_img_url에서 이미지 URL 가져오기\n",
    "    image_name = item['name'] + '.png'  # 이미지 이름 지정하기\n",
    "\n",
    "    # URL에서 이미지 다운로드하기\n",
    "    try:\n",
    "        response = requests.get(image_url)\n",
    "\n",
    "        # 이미지를 파일로 저장하기\n",
    "        with open(os.path.join(save_path, image_name), 'wb') as img_file:\n",
    "            img_file.write(response.content)\n",
    "    except:\n",
    "        print('Cannot download image from:', item['name'])\n",
    "        continue   \n"
   ]
  },
  {
   "attachments": {},
   "cell_type": "markdown",
   "metadata": {},
   "source": [
    "아래는 저장한 feature_img로 부터 OCR을 통해 정보를 가져오는 단계이다. \n",
    "feature 이미지는 아래와 같다.\n",
    "\n",
    "<img src=\"./assets/winenara_feature_img.png\" width=\"500\" height=\"1000\">\n",
    "\n",
    "가져올 수 있는 feature에는 아래와 같은 값이 있다.\n",
    "- 대표 맛과 향\n",
    "- 핸들링\n",
    "- 와이너리이야기\n",
    "- 페어링"
   ]
  },
  {
   "cell_type": "code",
   "execution_count": 103,
   "metadata": {},
   "outputs": [],
   "source": [
    "import os\n",
    "import configparser"
   ]
  },
  {
   "cell_type": "code",
   "execution_count": 112,
   "metadata": {},
   "outputs": [
    {
     "name": "stdout",
     "output_type": "stream",
     "text": [
      "c:\\Users\\chois\\Desktop\\chatwine\n"
     ]
    }
   ],
   "source": [
    "%cd ../"
   ]
  },
  {
   "cell_type": "code",
   "execution_count": 113,
   "metadata": {},
   "outputs": [
    {
     "data": {
      "text/plain": [
       "'c:\\\\Users\\\\chois\\\\Desktop\\\\chatwine'"
      ]
     },
     "execution_count": 113,
     "metadata": {},
     "output_type": "execute_result"
    }
   ],
   "source": [
    "%pwd # 'c:\\\\Users\\\\chois\\\\Desktop\\\\chatwine'"
   ]
  },
  {
   "cell_type": "code",
   "execution_count": 114,
   "metadata": {},
   "outputs": [
    {
     "data": {
      "text/plain": [
       "['./secrets.ini']"
      ]
     },
     "execution_count": 114,
     "metadata": {},
     "output_type": "execute_result"
    }
   ],
   "source": [
    "config = configparser.ConfigParser()\n",
    "config.read('./secrets.ini')"
   ]
  },
  {
   "cell_type": "code",
   "execution_count": 115,
   "metadata": {},
   "outputs": [],
   "source": [
    "NAVER_OCR_API_URL = config['NAVER_OCR']['API_URL']\n",
    "NAVER_OCR_SECRET_KEY = config['NAVER_OCR']['SECRET_KEY']"
   ]
  },
  {
   "cell_type": "code",
   "execution_count": 117,
   "metadata": {},
   "outputs": [],
   "source": [
    "import requests\n",
    "import uuid\n",
    "import time\n",
    "import json\n",
    "import os\n",
    "from tqdm import tqdm\n",
    "import re\n",
    "\n",
    "class NaverOCR:\n",
    "    def __init__(self, save_root_path='../assets/ocr_result'):\n",
    "        self.api_url = NAVER_OCR_API_URL\n",
    "        self.secret_key = NAVER_OCR_SECRET_KEY\n",
    "        self.save_root_path = save_root_path\n",
    "        os.makedirs(save_root_path, exist_ok=True)\n",
    "\n",
    "        request_json = {\n",
    "        'images': [\n",
    "        {\n",
    "        'format': 'jpg',\n",
    "        'name': 'demo'\n",
    "        }\n",
    "        ],\n",
    "        'requestId': str(uuid.uuid4()),\n",
    "        'version': 'V2',\n",
    "        'timestamp': int(round(time.time() * 1000))\n",
    "        }\n",
    "\n",
    "        self.payload = {'message': json.dumps(request_json).encode('UTF-8')}\n",
    "        \n",
    "        self.headers = {\n",
    "        'X-OCR-SECRET': self.secret_key\n",
    "        }\n",
    "\n",
    "    def get_ocr(self, img_file):\n",
    "        files = [\n",
    "        ('file', open(img_file,'rb'))\n",
    "        ]\n",
    "        filename = os.path.basename(img_file)\n",
    "        response = requests.request(\"POST\", self.api_url, headers=self.headers, data = self.payload, files = files)\n",
    "        with open(os.path.join(self.save_root_path, filename.replace('.png', '.json')), 'w', encoding='utf-8') as f:\n",
    "            f.write(response.text)\n",
    "        return response.text"
   ]
  },
  {
   "cell_type": "code",
   "execution_count": 46,
   "metadata": {},
   "outputs": [],
   "source": [
    "ocr = NaverOCR()"
   ]
  },
  {
   "attachments": {},
   "cell_type": "markdown",
   "metadata": {},
   "source": [
    "아래 코드를 통해서 feature_img를 Naver OCR에 통과시키고, 그 response를 ./winenara_scrapy/assets/raw_ocr_results/ 에 저장한다."
   ]
  },
  {
   "cell_type": "code",
   "execution_count": 55,
   "metadata": {},
   "outputs": [
    {
     "name": "stderr",
     "output_type": "stream",
     "text": [
      "  0%|          | 0/472 [00:00<?, ?it/s]"
     ]
    },
    {
     "name": "stderr",
     "output_type": "stream",
     "text": [
      "100%|██████████| 472/472 [14:43<00:00,  1.87s/it]\n"
     ]
    }
   ],
   "source": [
    "for img_file_path in tqdm(img_file_path_list):\n",
    "    ocr.get_ocr(os.path.join(img_file_root_path, img_file_path))"
   ]
  },
  {
   "attachments": {},
   "cell_type": "markdown",
   "metadata": {},
   "source": [
    "아래코드는 Naver OCR을 통해 저장한 raw response를 실제 우리가 원하는 feature로 정제하여 json으로 저장하는 코드이다. 정제된 feature는 ./winenara_scrapy/assets/ocr_results/ 에 저장된다. feature는 위에서 말한것 처럼 다음과 같다. \n",
    "\n",
    "- 대표 맛과 향\n",
    "- 핸들링\n",
    "- 와이너리이야기\n",
    "- 페어링"
   ]
  },
  {
   "cell_type": "code",
   "execution_count": 102,
   "metadata": {},
   "outputs": [
    {
     "name": "stderr",
     "output_type": "stream",
     "text": [
      "  0%|          | 0/472 [00:00<?, ?it/s]"
     ]
    },
    {
     "name": "stderr",
     "output_type": "stream",
     "text": [
      "100%|██████████| 472/472 [00:01<00:00, 340.14it/s]\n"
     ]
    }
   ],
   "source": [
    "def split_text_to_dict(text, keywords):\n",
    "    keyword_positions = []\n",
    "    \n",
    "    for keyword in keywords:\n",
    "        keyword_index = text.find(keyword)\n",
    "        if keyword_index != -1:\n",
    "            keyword_positions.append((keyword, keyword_index))\n",
    "\n",
    "    keyword_positions.sort(key=lambda x: x[1])\n",
    "    \n",
    "    split_dict = {}\n",
    "    current_index = 0\n",
    "    for keyword, position in keyword_positions:\n",
    "        if current_index != 0:\n",
    "            last_keyword, _ = keyword_positions[keyword_positions.index((keyword, position))-1]\n",
    "            split_dict[last_keyword] = text[current_index:position].strip()\n",
    "        current_index = position + len(keyword)\n",
    "\n",
    "    if current_index != 0:\n",
    "        last_keyword, _ = keyword_positions[-1]\n",
    "        split_dict[last_keyword] = text[current_index:].strip()\n",
    "\n",
    "    if \"대표 맛과 향\" in split_dict:\n",
    "        # Remove English letters\n",
    "        split_dict[\"대표 맛과 향\"] = re.sub(r'[a-zA-Z]', '', split_dict[\"대표 맛과 향\"])\n",
    "\n",
    "    if \"핸들링\" in split_dict:\n",
    "        # Split by space, reorder, and join again\n",
    "        split_dict[\"핸들링\"] = split_dict[\"핸들링\"].strip()\n",
    "        \n",
    "        special_chars = '()YG오'\n",
    "        for special_char in special_chars:\n",
    "            split_dict[\"핸들링\"] = split_dict[\"핸들링\"].replace(special_char, '')\n",
    "        handling_parts = split_dict[\"핸들링\"].split(' ')\n",
    "        handling_parts = [string for string in handling_parts if string != '']\n",
    "\n",
    "        if len(handling_parts) == 11:\n",
    "            order = [0, 5, 6, 1, 7, 2, 8, 3, 9, 4, 10]\n",
    "        elif len(handling_parts) == 10:\n",
    "            order = [0, 5, 1, 6, 2, 7, 3, 8, 4, 9]\n",
    "        elif len(handling_parts) == 9:\n",
    "            order = [0, 4, 5, 1, 6, 2, 7, 3, 8]\n",
    "        elif len(handling_parts) == 8:\n",
    "            if '아로마' in handling_parts:\n",
    "                order = [0, 3, 4, 1, 5, 6, 2, 7]\n",
    "            else:\n",
    "                order = [0, 4, 1, 5, 2, 6, 3, 7]\n",
    "        elif len(handling_parts) == 7:\n",
    "            order = [0, 3, 4, 1, 5, 2, 6]\n",
    "        elif len(handling_parts) == 6:\n",
    "            order = [0, 3, 1, 4, 2, 5]\n",
    "        else:\n",
    "            print(len(handling_parts), handling_parts)\n",
    "            print(split_dict[\"핸들링\"])\n",
    "        reordered_handling_parts = [handling_parts[i] for i in order]\n",
    "        \n",
    "        split_dict[\"핸들링\"] = ' '.join(reordered_handling_parts)\n",
    "\n",
    "    return split_dict"
   ]
  },
  {
   "cell_type": "code",
   "execution_count": null,
   "metadata": {},
   "outputs": [],
   "source": [
    "keywords = ['대표 맛과 향', '핸들링', '페어링', '와이너리이야기']\n",
    "raw_ocr_file_root_path = '../assets/raw_ocr_results'\n",
    "ocr_file_root_path = '../assets/ocr_results'\n",
    "os.makedirs(ocr_file_root_path, exist_ok=True)\n",
    "raw_ocr_file_path_list = os.listdir(raw_ocr_file_root_path)\n",
    "\n",
    "for raw_ocr_file_path in tqdm(raw_ocr_file_path_list):\n",
    "    filename = os.path.basename(raw_ocr_file_path)\n",
    "    with open(os.path.join(raw_ocr_file_root_path, raw_ocr_file_path), 'r', encoding='utf-8') as f:\n",
    "        dictionary = json.load(f)\n",
    "        unified_text = ''\n",
    "        for text in dictionary['images'][0]['fields']:\n",
    "            unified_text += text['inferText'] + ' '\n",
    "        split_dict = split_text_to_dict(unified_text, keywords)\n",
    "\n",
    "    with open(os.path.join(ocr_file_root_path, filename), 'w', encoding='utf-8') as f:\n",
    "        json.dump(split_dict, f, ensure_ascii=False, indent=4)"
   ]
  },
  {
   "attachments": {},
   "cell_type": "markdown",
   "metadata": {},
   "source": [
    "### 와인나라 와인의 vivino를 통한 특징 추출"
   ]
  },
  {
   "attachments": {},
   "cell_type": "markdown",
   "metadata": {},
   "source": [
    "와인나라에서는 판매하는 와인에 대한 feature(바디감, 당도 등...)를 제공하고 있다. 하지만 작성이 안되어있는 와인들도 많다. 따라서 이 정보들을 가져오기 위해서 아래 두 가지의 외부 데이터를 사용할 것이다. \n",
    "1. [vivino api](https://github.com/aptash/vivino-api)\n",
    "2. [X-wine dataset](https://github.com/rogerioxavier/X-Wines)"
   ]
  },
  {
   "attachments": {},
   "cell_type": "markdown",
   "metadata": {},
   "source": [
    "이를 위해 먼저 vivino api github을 클론한다."
   ]
  },
  {
   "cell_type": "code",
   "execution_count": null,
   "metadata": {},
   "outputs": [],
   "source": [
    "%cd .. # pwd가 chatwine이 되도록 함\n",
    "!git clone \"https://github.com/aptash/vivino-api.git\""
   ]
  },
  {
   "attachments": {},
   "cell_type": "markdown",
   "metadata": {},
   "source": [
    "이후 [vivino.js](./vivino-api/vivino.js)의 244 line을 일부 수정한다. 이는 각 와인 검색의 json파일이 저장될 경로를 지정하기 위함이다.\n",
    "```javascript\n",
    "const outFile = fs.createWriteStream('./output/'+name+'.json');\n",
    "```"
   ]
  },
  {
   "attachments": {},
   "cell_type": "markdown",
   "metadata": {},
   "source": [
    "vivino api는 아래와 같이 사용할 수 있다.\n",
    "```shell\n",
    "cd vivino-api\n",
    "node vivino.js --name=ad-vivum-cabernet-sauvignon --minPrice=10 --maxPrice=25\n",
    "```\n",
    "\n",
    "이것에 대한 결과는 [./output/ad-vivum-cabernet-sauvignon.json](vivino-api/output/ad-vivum-cabernet-sauvignon.json)과 같이 json파일로 얻을 수 있다.\n",
    "```json\n",
    "{\n",
    "  \"vinos\": [\n",
    "    {\n",
    "      \"name\": \"AD VIVUM Cabernet Sauvignon\",\n",
    "      \"link\": \"https://www.vivino.com/US-CA/en/wines/2493776\",\n",
    "      \"thumb\": \"https://images.vivino.com/thumbs/O_7LrDsLQSOxl2CqVfRHVA_pb_300x300.png\",\n",
    "      \"country\": \"United States\",\n",
    "      \"region\": \"Napa Valley\",\n",
    "      \"average_rating\": 4.4,\n",
    "      \"ratings\": 261,\n",
    "      \"price\": 186.16\n",
    "    }\n",
    "  ],\n",
    "  \"status\": \"FULL_DATA\"\n",
    "}\n",
    "```"
   ]
  },
  {
   "attachments": {},
   "cell_type": "markdown",
   "metadata": {},
   "source": [
    "이제 [winenara.json](./winenara_scrapy/winenara.json)의 와인들에 대해서 vivino api를 통해 검색하는 코드를 보자.\n",
    "\n",
    "검색을 위해서는 winenara.json의 vivino_link를 활용한다. url의 쿼리에서 와인 이름을 추출하여 이를 이용하여 검색한다. 예시는 아래와 같다.\n",
    "\n",
    "> vivino_link: https://www.vivino.com/monopole-la-rioja-blanco-seco-clasico/w/1925448 <br>\n",
    "> -> 추출한 와인이름: monopole-la-rioja-blanco-seco-clasico"
   ]
  },
  {
   "cell_type": "code",
   "execution_count": null,
   "metadata": {},
   "outputs": [],
   "source": [
    "import json\n",
    "from tqdm import tqdm\n",
    "\n",
    "# Read the winenara json file\n",
    "with open('./winenara_scrapy/winenara.json', 'r') as f:\n",
    "    data = json.load(f)"
   ]
  },
  {
   "cell_type": "code",
   "execution_count": null,
   "metadata": {},
   "outputs": [],
   "source": [
    "%cd vivino-api"
   ]
  },
  {
   "attachments": {},
   "cell_type": "markdown",
   "metadata": {},
   "source": [
    "아래 코드처럼 멀티프로세싱을 활용하여 와인 데이터를 검색한다. 그 결과는 \"./vivino-api/output\"에 저장된다."
   ]
  },
  {
   "cell_type": "code",
   "execution_count": null,
   "metadata": {},
   "outputs": [],
   "source": [
    "import concurrent.futures\n",
    "from tqdm import tqdm\n",
    "\n",
    "import os\n",
    "file_list = os.listdir('./output')\n",
    "json_list = [file.replace('.json', '') for file in file_list]\n",
    "\n",
    "data_list   = []\n",
    "for wine_data  in data:\n",
    "    if wine_data['vivino_link'].split('/')[-3] not in json_list:\n",
    "        data_list.append(wine_data)\n",
    "\n",
    "def fetch_wine_data(wine_data):\n",
    "    wine_name = wine_data['vivino_link'].split('/')[-3]\n",
    "    !node vivino.js \"--name={wine_name}\"\n",
    "\n",
    "# Use a ThreadPoolExecutor to run fetch_wine_data in parallel\n",
    "with concurrent.futures.ThreadPoolExecutor(max_workers=8) as executor:\n",
    "    list(tqdm(executor.map(fetch_wine_data, data_list), total=len(data_list)))"
   ]
  },
  {
   "attachments": {},
   "cell_type": "markdown",
   "metadata": {},
   "source": [
    "### 와인나라 와인의 X-wine 데이터셋을 통한 특징 추출"
   ]
  },
  {
   "attachments": {},
   "cell_type": "markdown",
   "metadata": {},
   "source": [
    "### 와인나라 와인의 데이터 통합"
   ]
  },
  {
   "attachments": {},
   "cell_type": "markdown",
   "metadata": {},
   "source": [
    "아래 과정은 naive하게 크롤링한 와인나라 와인의 통합된 형태로 변경하고, json을 저장하는 과정입니다."
   ]
  },
  {
   "cell_type": "code",
   "execution_count": 118,
   "metadata": {},
   "outputs": [],
   "source": [
    "import json\n",
    "import pandas as pd"
   ]
  },
  {
   "cell_type": "code",
   "execution_count": 119,
   "metadata": {},
   "outputs": [],
   "source": [
    "with open('./data/winenara.json', 'r', encoding='utf-8') as f:\n",
    "    wine_list = json.load(f)\n",
    "df = pd.DataFrame(wine_list, columns=['price', 'name', 'en_name','rating', 'url', 'tag', 'features', 'img_url', 'vivino_link'])"
   ]
  },
  {
   "cell_type": "code",
   "execution_count": 120,
   "metadata": {},
   "outputs": [],
   "source": [
    "wine_type_list = ['레드', '로제', '스파클링', '화이트', '디저트', '주정강화']\n",
    "country_list = ['기타 신대륙', '기타구대륙', '뉴질랜드', '독일', '미국', '스페인', '아르헨티나', '이탈리아', '칠레', '포루투칼', '프랑스', '호주']"
   ]
  },
  {
   "cell_type": "code",
   "execution_count": 121,
   "metadata": {},
   "outputs": [],
   "source": [
    "drop_idx = []\n",
    "for idx in range(len(df)):\n",
    "    if (df['tag'][idx][0] not in wine_type_list) or (df['tag'][idx][1] not in country_list):\n",
    "        drop_idx.append(idx)\n",
    "df = df.drop(drop_idx)\n",
    "df = df.reset_index(drop=True)\n"
   ]
  },
  {
   "cell_type": "code",
   "execution_count": 122,
   "metadata": {},
   "outputs": [],
   "source": [
    "df['wine_type'] = ''\n",
    "df['country'] = ''\n",
    "df['sweetness'] = ''\n",
    "df['body'] = ''\n",
    "df['alcohol'] = ''\n",
    "for idx in range(len(df)):\n",
    "    df['wine_type'][idx] = df['tag'][idx][0]\n",
    "    df['country'][idx] = df['tag'][idx][1]\n",
    "    for key, value in df['features'][idx].items():\n",
    "        if key == '당도':\n",
    "            df['sweetness'][idx] = value\n",
    "        elif key == '알코올':\n",
    "            df['alcohol'][idx] = value\n",
    "        elif key == '바디':\n",
    "            df['body'][idx] = value\n",
    "        else:\n",
    "            raise ValueError('Wrong feature key')"
   ]
  },
  {
   "cell_type": "code",
   "execution_count": 123,
   "metadata": {},
   "outputs": [],
   "source": [
    "df = df.drop(columns=['tag', 'features'])"
   ]
  },
  {
   "cell_type": "code",
   "execution_count": 124,
   "metadata": {},
   "outputs": [],
   "source": [
    "df['price'] = df['price'].replace('원', '', regex=True)\n",
    "df['price'] = df['price'].replace(',', '', regex=True)"
   ]
  },
  {
   "cell_type": "code",
   "execution_count": 125,
   "metadata": {},
   "outputs": [],
   "source": [
    "sweetness_dict = {'':-1, '드라이':1, '미디움드라이':2, '미디엄':3, '미디움스윗':4, '스윗':5}\n",
    "body_dict = {'':-1, '가벼움':1, '약간가벼움':2, '중간':3, '약간무거움':4, '무거움':5}\n",
    "alcohol_dict = {'':-1, '중간(12~13%)':3,'높음(14%+)':5}\n"
   ]
  },
  {
   "cell_type": "code",
   "execution_count": 126,
   "metadata": {},
   "outputs": [],
   "source": [
    "for idx in range(len(df)):\n",
    "    df['sweetness'][idx] = sweetness_dict[df['sweetness'][idx]]\n",
    "    df['body'][idx] = body_dict[df['body'][idx]]\n",
    "    df['alcohol'][idx] = alcohol_dict[df['alcohol'][idx]]"
   ]
  },
  {
   "cell_type": "code",
   "execution_count": 127,
   "metadata": {},
   "outputs": [
    {
     "data": {
      "text/plain": [
       "Index(['price', 'name', 'en_name', 'rating', 'url', 'img_url', 'vivino_link',\n",
       "       'wine_type', 'country', 'sweetness', 'body', 'alcohol'],\n",
       "      dtype='object')"
      ]
     },
     "execution_count": 127,
     "metadata": {},
     "output_type": "execute_result"
    }
   ],
   "source": [
    "df.columns"
   ]
  },
  {
   "cell_type": "code",
   "execution_count": 32,
   "metadata": {},
   "outputs": [
    {
     "data": {
      "text/html": [
       "<div>\n",
       "<style scoped>\n",
       "    .dataframe tbody tr th:only-of-type {\n",
       "        vertical-align: middle;\n",
       "    }\n",
       "\n",
       "    .dataframe tbody tr th {\n",
       "        vertical-align: top;\n",
       "    }\n",
       "\n",
       "    .dataframe thead th {\n",
       "        text-align: right;\n",
       "    }\n",
       "</style>\n",
       "<table border=\"1\" class=\"dataframe\">\n",
       "  <thead>\n",
       "    <tr style=\"text-align: right;\">\n",
       "      <th></th>\n",
       "      <th>price</th>\n",
       "      <th>name</th>\n",
       "      <th>en_name</th>\n",
       "      <th>rating</th>\n",
       "      <th>url</th>\n",
       "      <th>img_url</th>\n",
       "      <th>vivino_link</th>\n",
       "      <th>wine_type</th>\n",
       "      <th>country</th>\n",
       "      <th>sweetness</th>\n",
       "      <th>body</th>\n",
       "      <th>alcohol</th>\n",
       "    </tr>\n",
       "  </thead>\n",
       "  <tbody>\n",
       "    <tr>\n",
       "      <th>0</th>\n",
       "      <td>49000</td>\n",
       "      <td>모노폴 클라시코</td>\n",
       "      <td>Monopole Classico</td>\n",
       "      <td>3.8</td>\n",
       "      <td>https://www.winenara.com/shop/product/product_...</td>\n",
       "      <td>[https://www.winenara.com/uploads/product/550/...</td>\n",
       "      <td>https://www.vivino.com/monopole-la-rioja-blanc...</td>\n",
       "      <td>화이트</td>\n",
       "      <td>스페인</td>\n",
       "      <td>-1</td>\n",
       "      <td>3</td>\n",
       "      <td>-1</td>\n",
       "    </tr>\n",
       "    <tr>\n",
       "      <th>1</th>\n",
       "      <td>32000</td>\n",
       "      <td>슐럼베르거 로제 스페셜 브뤼</td>\n",
       "      <td>Schlumberger Rose Special Brut</td>\n",
       "      <td>3.8</td>\n",
       "      <td>https://www.winenara.com/shop/product/product_...</td>\n",
       "      <td>[https://www.winenara.com/uploads/product/550/...</td>\n",
       "      <td>https://www.vivino.com/schlumberger-spring-edi...</td>\n",
       "      <td>스파클링</td>\n",
       "      <td>독일</td>\n",
       "      <td>-1</td>\n",
       "      <td>3</td>\n",
       "      <td>-1</td>\n",
       "    </tr>\n",
       "    <tr>\n",
       "      <th>2</th>\n",
       "      <td>50000</td>\n",
       "      <td>SET)페데럴리스트 샤르도네 원통 패키지</td>\n",
       "      <td>SET)THE FEDERALIST CHARDONNAY</td>\n",
       "      <td>3.7</td>\n",
       "      <td>https://www.winenara.com/shop/product/product_...</td>\n",
       "      <td>[https://www.winenara.com/uploads/product/550/...</td>\n",
       "      <td>https://www.vivino.com/federalist-chardonnay-m...</td>\n",
       "      <td>화이트</td>\n",
       "      <td>미국</td>\n",
       "      <td>-1</td>\n",
       "      <td>3</td>\n",
       "      <td>-1</td>\n",
       "    </tr>\n",
       "    <tr>\n",
       "      <th>3</th>\n",
       "      <td>55000</td>\n",
       "      <td>베니카 트레 비니스</td>\n",
       "      <td>VENICA TRE VIGNIS</td>\n",
       "      <td>3.9</td>\n",
       "      <td>https://www.winenara.com/shop/product/product_...</td>\n",
       "      <td>[https://www.winenara.com/uploads/product/550/...</td>\n",
       "      <td>https://www.vivino.com/US-CA/en/venica-venica-...</td>\n",
       "      <td>화이트</td>\n",
       "      <td>이탈리아</td>\n",
       "      <td>-1</td>\n",
       "      <td>4</td>\n",
       "      <td>-1</td>\n",
       "    </tr>\n",
       "    <tr>\n",
       "      <th>4</th>\n",
       "      <td>24900</td>\n",
       "      <td>SET)빌라엠비앙코 + 글라스2개 윈터패키지</td>\n",
       "      <td>SET)VILLA M Bianco + GLASS WINTER PACKAGE</td>\n",
       "      <td>3.9</td>\n",
       "      <td>https://www.winenara.com/shop/product/product_...</td>\n",
       "      <td>[https://www.winenara.com/uploads/product/550/...</td>\n",
       "      <td>https://www.vivino.com/villa-m-bianco/w/1774733</td>\n",
       "      <td>디저트</td>\n",
       "      <td>이탈리아</td>\n",
       "      <td>4</td>\n",
       "      <td>-1</td>\n",
       "      <td>-1</td>\n",
       "    </tr>\n",
       "  </tbody>\n",
       "</table>\n",
       "</div>"
      ],
      "text/plain": [
       "   price                      name                                    en_name  \\\n",
       "0  49000                  모노폴 클라시코                          Monopole Classico   \n",
       "1  32000           슐럼베르거 로제 스페셜 브뤼             Schlumberger Rose Special Brut   \n",
       "2  50000    SET)페데럴리스트 샤르도네 원통 패키지              SET)THE FEDERALIST CHARDONNAY   \n",
       "3  55000                베니카 트레 비니스                          VENICA TRE VIGNIS   \n",
       "4  24900  SET)빌라엠비앙코 + 글라스2개 윈터패키지  SET)VILLA M Bianco + GLASS WINTER PACKAGE   \n",
       "\n",
       "  rating                                                url  \\\n",
       "0    3.8  https://www.winenara.com/shop/product/product_...   \n",
       "1    3.8  https://www.winenara.com/shop/product/product_...   \n",
       "2    3.7  https://www.winenara.com/shop/product/product_...   \n",
       "3    3.9  https://www.winenara.com/shop/product/product_...   \n",
       "4    3.9  https://www.winenara.com/shop/product/product_...   \n",
       "\n",
       "                                             img_url  \\\n",
       "0  [https://www.winenara.com/uploads/product/550/...   \n",
       "1  [https://www.winenara.com/uploads/product/550/...   \n",
       "2  [https://www.winenara.com/uploads/product/550/...   \n",
       "3  [https://www.winenara.com/uploads/product/550/...   \n",
       "4  [https://www.winenara.com/uploads/product/550/...   \n",
       "\n",
       "                                         vivino_link wine_type country  \\\n",
       "0  https://www.vivino.com/monopole-la-rioja-blanc...       화이트     스페인   \n",
       "1  https://www.vivino.com/schlumberger-spring-edi...      스파클링      독일   \n",
       "2  https://www.vivino.com/federalist-chardonnay-m...       화이트      미국   \n",
       "3  https://www.vivino.com/US-CA/en/venica-venica-...       화이트    이탈리아   \n",
       "4    https://www.vivino.com/villa-m-bianco/w/1774733       디저트    이탈리아   \n",
       "\n",
       "  sweetness body alcohol  \n",
       "0        -1    3      -1  \n",
       "1        -1    3      -1  \n",
       "2        -1    3      -1  \n",
       "3        -1    4      -1  \n",
       "4         4   -1      -1  "
      ]
     },
     "execution_count": 32,
     "metadata": {},
     "output_type": "execute_result"
    }
   ],
   "source": [
    "df.head()"
   ]
  },
  {
   "cell_type": "code",
   "execution_count": 128,
   "metadata": {},
   "outputs": [],
   "source": [
    "winenara_attribute = ['price', 'name', 'en_name', 'rating', 'url', 'wine_type', 'country', 'sweetness', 'body', 'alcohol', 'img_url', 'vivino_link']\n",
    "unified_attribute = ['url', 'site_name', 'price', 'name', 'en_name', 'img_url', 'body', 'acidity', 'tannin', \"sweetness\", \"alcohol\", \"wine_type\", 'country', 'grape', 'rating', 'pickup_location', 'vivino_link']\n",
    "unified_dict = {'url':'url', 'site_name':'', 'price':'price', 'name':'name', 'en_name':'en_name', 'img_url':'img_url', 'body':'body', 'acidity':'', 'tannin':'', \"sweetness\":'sweetness', \"alcohol\":'alcohol', \"wine_type\":'wine_type', 'country':'country', 'grape':'', 'rating':'rating', 'pickup_location':'', 'vivino_link':'vivino_link'}\n",
    "data_list = []\n",
    "for idx in range(len(df)):\n",
    "    single_data = {}\n",
    "    for unified_attr, winenara_attr in unified_dict.items():\n",
    "        if winenara_attr != '':\n",
    "            if type(df[winenara_attr][idx]) == list:\n",
    "                single_data[unified_attr] = ', '.join(df[winenara_attr][idx])\n",
    "            else:\n",
    "                single_data[unified_attr] = df[winenara_attr][idx]            \n",
    "        elif unified_attr == 'site_name':\n",
    "            single_data[unified_attr] = 'winenara'\n",
    "        else:\n",
    "            single_data[unified_attr] = ''\n",
    "    data_list.append(single_data)"
   ]
  },
  {
   "attachments": {},
   "cell_type": "markdown",
   "metadata": {},
   "source": [
    "아래는 feature_img로 부터 뽑은 feature(./winenara_scrapy/assets/ocr_results)를 data_list에 추가하는 코드입니다."
   ]
  },
  {
   "cell_type": "code",
   "execution_count": 130,
   "metadata": {},
   "outputs": [],
   "source": [
    "ocr_file_list = os.listdir('./winenara_scrapy/assets/ocr_results/')"
   ]
  },
  {
   "cell_type": "code",
   "execution_count": 133,
   "metadata": {},
   "outputs": [
    {
     "data": {
      "text/plain": [
       "'14핸즈 메를로.'"
      ]
     },
     "execution_count": 133,
     "metadata": {},
     "output_type": "execute_result"
    }
   ],
   "source": [
    "ocr_file_list[0][:-4]"
   ]
  },
  {
   "cell_type": "code",
   "execution_count": 135,
   "metadata": {},
   "outputs": [
    {
     "name": "stdout",
     "output_type": "stream",
     "text": [
      "{'대표 맛과 향': '피노 블렌딩으로 붉은 과실 캐릭터가 지배적으로 느껴지며, 무수히 피어나는 수많은 꽃의 산뜻하고 화사한 향기를 느낄 수 있습니다. 와인을 즐기는 모든 순간이 즐거움으로 물들이는 플로럴 스파클링 노트를 선사합니다. 섬세하고 우아한 피니쉬 까지 깔끔하게 즐기기 좋은 스타일의 샴페인입니다.', '핸들링': '적정온도 6-7°C 아로마 와인잔 콜렉터 디캔팅 NO', '와이너리이야기': '슐룸베르거 빈, 오스트리아 Schlumberger in 1842 오스트리아 최초 샴페인 방식 양조자의 이름으로 만들 어진 최대 규모 회사며 샴페인 Ruinart에서 샴페인 양조 기술을 배워 탄생시킨 오스트리아 젝트의 원조로 유럽 내 젝트 판매 1위를 기록하고 있습니다.'}\n",
      "{'대표 맛과 향': \"잘 익은 사과, 감귤, 배와 같은 풍부한 과일향의 아로마가 감도는 와인입니다. 라벨에 자유의 여신상을 거대하게 그려냈 듯, 이 와인의 바디감 또한 '거대하다'고 부를만하며 누구나 편하게 즐길 수 있습니다.\", '핸들링': '적정온도 10-13 °C 와인잔 화이트 디캔팅 NO 적정시기 2020-2040', '페어링': '돼지고기 생선요리'}\n",
      "{'대표 맛과 향': '강렬하게 반짝이는 금빛으로 아몬드의 쌉싸름한 향, 바나나향, 스파이시한 향이 복합적으로 펼쳐지고 옅은 바닐라향, 스모키함이 뒤따릅니다. 입에선 풀바디감과 풍만하고 부드러운 과일 맛과 크리미함이 느껴집니다. 지역을 대표하는 프리울라노를 주 품종으로 우아한 샤르도네와 아로마가 풍부한 소비뇽블랑을 블렝딩한 콜리오 지역의 클래식한 화이트와인입니다.  바디     탄닌  당도  산도', '핸들링': 'X 12-13 적정온도 °C 와인잔 화이트 디캔팅 NO 적정시기 2020-2025', '페어링': '로스트 치킨 고르곤졸라 리조또'}\n",
      "{}\n",
      "{}\n",
      "{'대표 맛과 향': '자두, 블랙베리, 블랙 커런트 향에 약간의 스파이스를 느낄 수 있으며, 입안에서는 풍부하고 부드러운 촉감과 긴 여운을 선사합니다. 미국 노예 해방의 주역 아브라함 링컨에 대한 존경을 메를로, 진판델, 카베르네 소비뇽의  독특한 블렌딩으로 담아냈습니다.', '핸들링': '적정온도 14-18 °C 와인잔 버사이즈 디캔팅 30분 적정시기 2020-2040', '페어링': '갈비찜 피자'}\n",
      "{'대표 맛과 향': '레드 체리, 석류, 딸기, 레드커런트, 복숭아, 살구 ※ 또한 모카, 진저 브레드와 미네랄감이 느껴지며 층 브리오쉬와 부드러운 스파이스도 느껴집니다. 구조감이 좋으며 섬세한 기포가 매력적입니다.', '핸들링': '적정온도 8-10°C 와인잔 플루트 디캔팅 NO', '와이너리이야기': '뵈브 클리코 · 샴페인, 프랑스 Veuve Clicquot 1772년 마담 클리코가 근대 최초 여성 기업가 중한 명으로 하우스 경영자가 되며 국제적 명성을 얻었습니다. 품질에 대한 타협 없이 최상급의 단 한가지 품질만 추구, 더불어 새로움과 혁신에 대해 끊임없이 도전해온 샴페인 입니다. 더불어 볼드 바이 뵈브 클리코 프로그램을 진행하며 여성 에게 다양한 영감을 제공하고 있습니다.'}\n",
      "{'대표 맛과 향': '로제 와인의 생동감을 더한 우아한 스파클링 와인으로 입 안을 가득 채우는 체리파이 아로마와 크리스피한  딸기 및 크림피니쉬, 여운이 길게 남는 풍미와 세련된 산도감이 인상적입니다.', '핸들링': '적정온도 8-10°C 와인잔 플루트 디캔팅 NO'}\n",
      "{'대표 맛과 향': '자두, 체리, 블랙 베리 같은 검붉은 계열의 과일 향과 더불어 계피향이 돌며 부드러운 탄닌과 선명한 산도를 느낄 수 있습니다. 입 안을 가득 채워주는 듯한 느낌을 주며 긴 피니쉬의 와인으로 미국 건국의 아버지이자  초대 대통령, 조지 워싱턴에의 존경을 담은 와인입니다.', '핸들링': '적정온도 14-18 °C 와인잔 유니버설 디캔팅 30분 적정시기 2020-2040', '페어링': '소고기 스테이크 갈비찜'}\n",
      "{'대표 맛과 향': ' 금빛이 도는 노란색으로 섬세한 기포가 특징입니다. 힘이 넘치는 브롯 계열이며 섬세함과 강렬함 사이의   완벽한   균형을 보여줍니다.', '핸들링': 'r 12 적정온도 °C 와인잔 플루트 디캔팅 NO', '와이너리이야기': '뵈브 클리코 · 샴페인, 프랑스 Veuve Clicquot 1772년 마담 클리코가 근대 최초 여성 기업가 중한 명으로 하우스 경영자가 되며 국제적 명성을 얻었습니다. 품질에 대한 타협 없이 최상급의 단 한가지 품질만 추구, 더불어 새로움과 혁신에 대해 끊임없이 도전해온 샴페인 입니다. 더불어 볼드 바이 뵈브 클리코 프로그램을 진행하며 여성 에게 다양한 영감을 제공하고 있습니다.'}\n",
      "{'대표 맛과 향': '연한 골드빛으로 살구, 레몬, 라임, 미네랄리티 또한 브리오쉬 풍미를 느낄 수 있습니다. 섬세한 기포를 자랑하며 산미와 구조감의 밸런스가 좋으며 입에선 레몬, 아몬드 그리고 미네랄리티가 느껴집니다.', '핸들링': '적정온도 8-10°C 와인잔 플루트 디캔팅 NO', '와이너리이야기': '뵈브 클리코 · 샴페인, 프랑스 Veuve Clicquot 1772년 마담 클리코가 근대 최초 여성 기업가 중한 명으로 하우스 경영자가 되며 국제적 명성을 얻었습니다. 품질에 대한 타협 없이 최상급의 단 한가지 품질만 추구, 더불어 새로움과 혁신에 대해 끊임없이 도전해온 샴페인 입니다. 더불어 볼드 바이 뵈브 클리코 프로그램을 진행하며 여성 에게 다양한 영감을 제공하고 있습니다.'}\n",
      "{'대표 맛과 향': ' & &  中 신선한 과일, 브리오슈 향이 조화를 이루는 샴페인 입니다. 부드럽게 미각을 자극하며 어느 장소에서나 & 모두가 즐겁고 편한하게 즐길 수 있는 샴페인 입니다.', '핸들링': 'r 8-10°C 디캔팅 적정온도 플루트 와인잔 NO', '와이너리이야기': '모엣 샹동 · 샴페인, 프랑스 MOET&CHANDON 1743년 창립된 모엣&샹동은 \"샴페인의 마법을 세상에 나눈다\"는 신조에 따라 모든 자리에 어울리는 개성 넘치는 샴페인들을 선보여온 오늘날 세계에서 가장 사랑받는 샴페인 중 하나입니다.'}\n",
      "{'대표 맛과 향': '산뜻하고 우아하며 풍부한 스타일로 캐주얼하거나 격식 있는 자리 모두 훌륭하게 어울립니다. 신선한 시트러스 향,  복숭아 풍미가 구운 넛트, 향신료의 짭조름함과 조화를   이룹니다.', '핸들링': '적정온도 8-10°C 와인잔 플루트 디캔팅 NO'}\n",
      "{'대표 맛과 향': '전통 샴페인의 진수를 보여주는 와인으로, 복합적이며 풀바디한 느낌이 압도적입니다. 프레쉬하면서도 생생한 아로마 중에서도 특히 은은한 꽃향기가 매력적입니다. 섬세한 과일향은 고소한 브리오슈향과 완벽히 어우러지며, 크리미한 텍스쳐는 놀라운 깊이감과 긴 여운을 보여줍니다.  바디  탄닌  당도   산도', '핸들링': '적정온도 6-12 °C 와인잔 플루트 디캔팅 NO 적정시기 2020-2035', '페어링': '기름진 생선 요리 돼지고기 요리'}\n",
      "{'대표 맛과 향': '밝은 황금빛 주변으로 약간의 연둣빛이 비칩니다. 코에선 흰 꽃, 막 깎은 잔디밭을 닮은 미네랄 노트들이 느껴집니다. 입 안에서는 산뜻한 산미와 입 안 곳곳을 자극하는 섬세한 미네랄이 여운을 남기는 매력적인 와인입니다.  바디  탄닌 2019  당도    산도', '핸들링': '적정온도 8-10°C 와인잔 화이트 디캔팅 NO 적정시기 2020-2024', '페어링': '회 치즈'}\n",
      "{'대표 맛과 향': '숙성된 블루베리 향이 가득하며 설탕에 절인 검은 과실 1 0 아로마에 연필심, 부서진 돌, 모카, 제비꽃의 뉘앙스가 더해집니다. 풀바디감이 매우 단단하고 정제되어 있으며 촘촘한 탄닌과 과감한 프레쉬함을 가지고 있습니다. 뒤따라 블랙베리 노트와 미네랄이 어우러져 피니쉬까지 올라오는 흙과 꽃의 향이 아주 긴 시간동안 이어집니다.', '핸들링': '적정온도 16-18 °C 와인잔 아로마 콜렉터 디캔팅 60분'}\n",
      "{'대표 맛과 향': '밝은 가넷 컬러가 아름다우며 잘 익은 체리와 자두 등 핵과 열매의 아로마와 함께 잘 구워진 오크향 아로마를 풍깁니다.   입에선 상대적으로 무거운 바디감과 함께 과실감을 바탕으로,  1 옅은 나무와 정향의 뉘앙스를 느낄 수 있습니다. 집중도 있는 맛과 잘 정제된 탄닌을 통해 피니시 역시 힘을 잃지 않고 길게 유지됩니다.', '핸들링': '적정온도 15 °C 와인잔 아로마 콜렉터 디캔팅 30분', '와이너리이야기': '도멘 퐁사르 슈발리에 · 부르고뉴, 프랑스 3대에 걸쳐 가족 경영으로 와인을 만들고 있으며, 현재는 3대 코랄리 버나드가 도멘을 운영하고 있습니다. 자신의 아버지에게 10년간 와인 양조 및 밭관리를 배우고 와인 메이킹을 담당하며, 현재 아버지 도움을 받아 지속적으로 경험을 전수받는 중입니다. 현재 도멘 퐁사르 슈발리에는 상트네와 마랑지에 7헥타르 규모 33개의 밭을 소유하고 있으며, 천정부지로 솟는 부르고뉴 와인의 가격 상승에도 합리적인 가격대를 유지하면서 여전히 훌륭한 퀄리티를 보입니다. 현재 전 세계 쉐프들의 전설로 불리며 미슐랭 3 Star를 55년 연속 받은 가장 존경받는 레스토랑 Paul Bocuse에 리스팅 되며 그 실력을 인정받고 있습니다.'}\n",
      "{'대표 맛과 향': '  신선한 배와 그린 애플의 특징이 녹아있는 와인으로 깔끔하고 잘 익은 과일의 풍미, 신선하고 크리미한 텍스처가 인상적입니다. 바삭한 산미와 풍미 가득한 피니시의 미디엄 바디 와인입니다.', '핸들링': '적정온도 10-12 °C 와인잔 화이트 디캔팅 NO'}\n",
      "{'대표 맛과 향': '첫 향으로 블랙베리, 라즈베리, 바닐라 향이 튀어 오르며 뒤이어 정향, 제비꽃, 라벤더 꽃향기도 느껴집니다. 소량 보르도 포도품종이 주는 과즙의 풍미는 밸런싱이 놀라운 탄닌과 함께 입안 전체를 채우고, 완벽한 구조감과 파워가 신선한 아로마와 조화를 이루는 매력적인 와인입니다. -  바디  탄닌  당도  산도', '핸들링': '적정온도 16-18 °C 와인잔 버사이즈 디캔팅 60분 적정시기 2021-2027', '페어링': '피자 스테이크'}\n",
      "{'대표 맛과 향': '  15년에 가까운 기나긴 시간동안 셀러에서 천천히 숙성되어 넘쳐나는 에너지와 함께 빛나는 활력, 궁극의 본질까지 갖춘 말이 필요없는 돔페리뇽의 샴페인입니다.', '핸들링': '적정온도 8-10°C 와인잔 플루트 디캔팅 NO', '와이너리이야기': '돔페리뇽 · 샴페인, 프랑스 Dom Perignon 럭셔리의 가능성을 처음으로 발견한 돔 페리뇽 수사는 그의 일생을 바쳐 연구한 정제술과 제조기법으로 현재 우리가 말하는 샴페인 제조법의 기반을 다져졌습니다. 현재 럭셔리한 샴페인, 가장 살아있는 관능미를 느낄 수 있는 세계 최고의 와인입니다.'}\n",
      "{'대표 맛과 향': '   바이올렛 컬러로 블랙베리, 자두향, 초콜릿과 구운 바닐라 향에 넛맥의 스파이스가 이어집니다. 전체적으로 매끄럽고 부드러운 탄닌이 긴 여운과 복합적인 풍미를 보여줍니다.', '핸들링': '적정온도 18°C 와인잔 유니버설 디캔팅 60분'}\n",
      "{'대표 맛과 향': ' 맑은 루비빛 컬러로 블랙계열 과실향과 스파이스 향이    복합적으로 느껴집니다. 입에서는 생생한 구조감과 블랙  계열 과실, 시나몬, 타임, 유칼립투스, 토피와 카카오가 느껴지며 신선한 산미와 탄닌이 조화롭습니다.', '핸들링': '적정온도 16-18°C 와인잔 유니버설 디캔팅 60분'}\n",
      "{'대표 맛과 향': '블루베리, 블랙베리와 같은 작은 과일의 향이 풍부하게 느껴지며 뒤이어 계피, 카다멈, 블랙 페퍼등의 스파이시함 이 피어오릅니다. 단단한 탄닌감과 구조감, 그리고 길고 부드러운 피니쉬가 있는 와인입니다.    바디  탄닌  당도  산도', '핸들링': 'T 적정시기 14-18°C 적정온도 버사이즈 와인잔 60분 디캔팅 2020-2040', '페어링': '소고기 요리 양고기 요리'}\n",
      "{'대표 맛과 향': '효모의 향, 으깬 레드 커런트와 블랙베리의 향을 중심으로 멀버리, 라벤더, 야생 타임향이 어우러집니다. 마치 붉은색   베리류를 입 안에 무는듯한 느낌을 주며 탄탄하고 알갱이가  있는 탄닌감이 미디엄 바디의 우아한 풍미 구성을 완성하며 피니시에서는 허브의 풍미를 느낄 수 있습니다.', '핸들링': '적정온도 16-18°C 와인잔 유니버설 디캔팅 60분'}\n",
      "{'대표 맛과 향': '어두운 빛깔의 체리색이며 구운 스파이스, 흙의 아로마,  제비꽃의 향이 느껴집니다. 과즙이 풍부하고 부드럽게   층을 이룬 풍미가 돋보이는 매력적인 와인입니다.', '핸들링': '적정온도 12-14 °C 와인잔 아로마 콜렉터 디캔팅 30분'}\n",
      "{'대표 맛과 향': '   들장미, 트러플, 올리브의 풍미가 느껴지며 딸기류의 맛과 향이 오크, 삼나무, 바닐라와 어우러져 아름다운 조화를   이룹니다. 무게감과 섬세하고 잘 익은 탄닌감의 구조감이 일품인 와인입니다.', '핸들링': '적정온도 18°C 와인잔 유니버설 디캔팅 60분'}\n",
      "{'대표 맛과 향': '   매끄러운 텍스처와 고운 탄닌, 제비꽃, 블랙체리, 자두와 초콜릿의 강렬하고 복잡한 아로마가 인상적입니다.', '핸들링': '적정온도 16-18 °C 와인잔 유니버설 디캔팅 30분'}\n",
      "{'대표 맛과 향': '     다크 루비 컬러로 체리, 카시스, 딸기류의 향이 느껴집니다.  부드러운 질감과 산미가 조화로우며 블랙 베리, 후추, 민트, 오크향이 입에서 느껴지며 파워 넘치는 매끄러운 피니쉬가 특징입니다.', '핸들링': '적정온도 18°C 와인잔 유니버설 디캔팅 60분'}\n",
      "{'대표 맛과 향': '  복합적 아로마와 풍미를 갖춘 와인으로 레몬 등 시트러스류, 풋사과와 구스베리 풍미가 조화롭게 느껴집니다. 피니시에서 느껴지는 아삭한 산미가 이 두가지 풍미를 한데 묶어줍니다.', '핸들링': '적정온도 10-12°C 와인잔 화이트 디캔팅 NO'}\n",
      "{'대표 맛과 향': ' 진한색 과일의 아로마와 발사믹 및 향료 향이 결합된  매력적이고 복합적인 부케가 느껴집니다. 모카와 다크 초콜릿의 섬세한 아로마가 대미를 장식하며 탁월한 산미와 탄탄하고 균형잡힌 탄닌감이 장기간의 숙성 잠재력을 보증합니다.', '핸들링': '적정온도 16-18 °C 와인잔 유니버설 디캔팅 30분'}\n",
      "{'대표 맛과 향': '비여과식 자연 발효 와인으로 풍부한 카라멜, 버터 스카치와   신선한 바닐라 풍미가 느껴집니다. 입 안에서는 구운 사과와  넛츠가 느껴지는 풀바디와인입니다. ', '핸들링': '적정온도 10-12°C 와인잔 화이트 디캔팅 NO'}\n",
      "{'대표 맛과 향': '밀랍과 라임, 절인 레몬의 복합적인 아로마가 특별한 풍미를   완성합니다. 강렬한 산미와 풍부한 과즙 또한 활기와 생동감,   신선미를 갖춘 피니시가 인상적이며 짭조름하고 스파이시한 맛과 풍부한 텍스쳐가 특징입니다.', '핸들링': '적정온도 10-12°C 와인잔 화이트 디캔팅 NO'}\n",
      "{'대표 맛과 향': '  골드 컬러로 상쾌한 배, 복숭아, 프랄린 향이 느껴지며 감귤류와 복숭아, 매실의 풍미, 향긋한 견과류와 미묘한 오크 그리고 산뜻한 산미가 피니쉬를 꽉 잡아줍니다. ', '핸들링': '적정온도 10-12°C 와인잔 화이트 디캔팅 NO'}\n",
      "{'대표 맛과 향': '  잘 익은 체리, 자두, 제비꽃, 아니스, 스파이시한 오크의 풍미를 느낄 수 있습니다. 절제미와 세련미가 돋보이는 조화로운 와인으로 다층적인 피니시에서는 길이감과 힘, 은은한 풍미가 느껴집니다.', '핸들링': '적정온도 12-14 °C 와인잔 아로마 콜렉터 디캔팅 30분'}\n",
      "{'대표 맛과 향': ' 루비 레드 컬러로 코에선 산딸기, 블랙체리, 블루베리 등 달콤한 과일향이 느껴집니다. 입안 가득 느껴지는 달콤한 과일풍미와 약간의 탄닌, 그리고 균형잡힌 산미와 뒤이어  느껴지는 부드러운 버블의 밸런스가 일품입니다. ', '핸들링': '적정온도 8-10°C 와인잔 유니버설 디캔팅 NO'}\n",
      "{'대표 맛과 향': '연한 페일 핑크빛을 띄고 있으며 레드 베리, 시트러스함,  라벤더 향이 느껴집니다. 피니쉬에서는 바삭한 미네랄과 신선함이 느껴지는 와인으로 입 안을 깔끔하게 해줍니다.', '핸들링': '적정온도 8-10°C 아로마 와인잔 콜렉터 디캔팅 30분'}\n",
      "{'대표 맛과 향': '병오픈 후느낄 수 있는 은은한 꽃향기가 매력적이고 감귤류와 로즈마리향이 입안을 가득 메우면서 풍부한 미네랄도 느낄 수 있습니다. 화이트 플라워, 시트러스 노트의 매력적인 부케를 가진 이 와인은, 강철 탱크 에서만 숙성된 100% 베르멘티노 포도로 만들어 놀라운 산뜻함과 당도로 감탄을 자아냅니다.', '핸들링': '적정온도 7-12°C 와인잔 화이트 디캔팅 NO'}\n",
      "{'대표 맛과 향': '잘 익은 멜론, 망고, 코코넛 등의 이국적인 아로마와 함께 풍성하고 복합적인 뉘앙스가 느껴집니다. 무게감  있지만 절대 과하지 않은 바디감과 함께 긴 피니쉬가  - 여운을 남기며, 엔트리 레벨에서 드물게 느껴지는 복합미가 인상적입니다.', '핸들링': '적정온도 10°C 와인잔 화이트 디캔팅 NO', '와이너리이야기': '도멘 디지오아 로이예 · 부르고뉴, 프랑스 Chambolit-Husignp 미쉘 디지오아는 부인과 결혼 후 2000년부터 처가 소유 - 와이너리에서 경력을 쌓기 시작했습니다. 당시 생산량의 20%는 자신들이 마시거나, 지인 판매 등을 위하여 직접 와인을 만들었고, 나머지는 모두 다른 와이너리에 공급 했습니다. 그러나 2004년부터는 가족의 이름을 걸고 모든 수확량을 와인 양조에 사용하기 시작, 현재는 끊임없는 노력을 통하여 샹볼 뮈지니에서 실력 있는 와인 생산자로 인정받고 있으며, 한정적인 생산량과 높은 수요로 출시와 동시에 매진되는 숨은 실력파 와이너리입니다.'}\n",
      "{'대표 맛과 향': ' 짙은 보랏빛으로 코에서는 신선한 라즈베리, 블랙베리 과일향과 약간의 향신료의 향이 느껴집니다. 입안 가득 느껴지는 부드러운 기포와 풍부한 과일 풍미, 그리고 뒤이어 느껴지는 약간의 과일 잔당과 균형 잡힌 산미의  밸런스가 인상적입니다.  ', '핸들링': '적정온도 8-10°C 와인잔 유니버설 디캔팅 NO'}\n",
      "{'대표 맛과 향': '파인애플, 복숭아, 견과류 그리고 프렌치 바닐라 향이 느껴지고 기분 좋은 산미와 열대 과일 단맛이 입을   가득 메웁니다. 오크의 스모키함과 미네랄 밸런스가  매력적인 와인으로, 농축된 과일 풍미와 섬세하고 드라이한 피니쉬를 보입니다.', '핸들링': '적정온도 7-12°C 와인잔 화이트 디캔팅 NO'}\n",
      "{'대표 맛과 향': '입에서는 잘 익은 블루베리, 블랙커런트, 자두, 체리,  브램블과 신선한 허브, 말린 통 후추 향이 느껴집니다.   시간이 지나며 흙향, 젖은 돌, 엘더플라워, 바닐라맛이 이어지고, 미디엄 플러스 바디의 전형적인 카베르네 소비뇽의 특징을 잘 담은 와인입니다. 실키한 탄닌과 균형 잡힌 산미의 밸런스가 일품입니다.', '핸들링': '적정온도 16-18 °C 와인잔 버사이즈 디캔팅 60분'}\n",
      "{'대표 맛과 향': '뉘생 조르쥬 르 샤므아는 붉은 체리, 라즈베리와 함께 베르가못의 아로마를 중심으로 잘 정제된 옅은 오크 !2015-- 아로마를 느낄 수 있습니다. 입안에서는 중간 바디와   콩피의 뉘앙스를 시작으로 시간이 지나며 이국적인 ### 과일 아로마가 더해져 한층 복합적인 맛을 보여줍니다.', '핸들링': '적정온도 15°C 아로마 와인잔 콜렉터 디캔팅 30분', '와이너리이야기': '도멘 디지오아 로이예 · 부르고뉴, 프랑스 Chambolit-Husignp 미쉘 디지오아는 부인과 결혼 후 2000년부터 처가 소유 - 와이너리에서 경력을 쌓기 시작했습니다. 당시 생산량의 20%는 자신들이 마시거나, 지인 판매 등을 위하여 직접 와인을 만들었고, 나머지는 모두 다른 와이너리에 공급 했습니다. 그러나 2004년부터는 가족의 이름을 걸고 모든 수확량을 와인 양조에 사용하기 시작, 현재는 끊임없는 노력을 통하여 샹볼 뮈지니에서 실력 있는 와인 생산자로 인정받고 있으며, 한정적인 생산량과 높은 수요로 출시와 동시에 매진되는 숨은 실력파 와이너리입니다.'}\n",
      "{'대표 맛과 향': '깊고 진한 가넷 보라빛을 띄며 구운 자두, 블랙커런트 등의 과일향에 초콜릿, 토바코의 아로마가 더해지고 철, 자갈, 흙과 같은 미네랄리티가 느껴집니다. 풀바디 와인으로 절인 과일맛이 혀를 코팅하듯 감싸고 강렬한 스파이시함이 퍼지며 벨벳같이 부드러운 탄닌과 어우러져 향기롭고 긴 여운을 남깁니다.', '핸들링': '적정온도 16-18 °C 와인잔 아로마 콜렉터 디캔팅 60분'}\n",
      "{'대표 맛과 향': ' 루비의 빨간색과 테두리에서 가넷 빛깔을 볼 수 있습니다. 빨간 딸기와 체리 향이 느껴지고 살짝 시트러스 뉘앙스가 느껴집니다. 훌륭한 밸런스와 좋은 구조감이 빨간 딸기와    자두, 체리의 향과 함께 고풍스러우면서 촉촉한 느낌을   줍니다.', '핸들링': '적정온도 18 °C 와인잔 아로마 콜렉터 디캔팅 30분'}\n",
      "{'대표 맛과 향': '연한 골드 컬러와 얇고 지속적인 버블감을 보여줍니다. 코에선 라임, 레몬, 복숭아 그리고 아카시아 꽃 향기가 느껴집니다. 입에선 신선한 꽃, 달콤한 복숭아, 살구 등 과일 풍미와 균형 잡힌 산미의 밸런스가 매력적입니다.', '핸들링': '적정온도 8-10°C 와인잔 플루트 디캔팅 NO'}\n",
      "{'대표 맛과 향': \"패션프루트와 자몽 그리고 라임 아로마가 생기 넘치게   펼쳐집니다. 뒤이어 옅은 토마토 잎의 청량한 기운이 감돌고, 입에선 파우더리한 질감과 드라이함이 동시에   느껴집니다. 풍부한 과즙미가 단연 돋보이는 와인입니다.   '\", '핸들링': '적정온도 8-10°C 와인잔 화이트 디캔팅 NO'}\n",
      "{'대표 맛과 향': '열대지역 꽃, 젖은 풀 뉘앙스를 바탕으로 옅은 스파이스 뉘앙스까지 다채롭고 짙은 팔레트를 느낄 수 있습니다.  레몬의 상큼함에 옅은 라임 아로마가 곁들여져 하이엔드 소비뇽블랑이 보일 수 있는 최적의 산도, 깔끔함을 보여 줍니다. 바디감은 무거우며 긴 여운으로 마무리됩니다.', '핸들링': '적정온도 8-10°C 와인잔 화이트 디캔팅 NO'}\n",
      "{'대표 맛과 향': ' 1946  밝은 볏짚 컬러가 돋보입니다. 코에서는 레몬, 라임, 레몬 그라스 그리고 우아한 꽃 향이 느껴집니다. 입에서는 짙은 시트러스 그리고 뒤이어 느껴지는 약간의 허브의 풍미가 좋으며, 균형 잡힌 산미와 부드러운 미네랄 터치 밸런스가 일품입니다.', '핸들링': '적정온도 10-12°C 와인잔 화이트 디캔팅 NO'}\n",
      "{'대표 맛과 향': '밝은 볏짚 컬러가 돋보입니다. 코에서는 산뜻한 시트러스의 캐릭터인 라임, 레몬 그라스의 향이 전반적으로 느껴집니다.  입 안 가득 느껴지는 순수한 시트러스 계열의 과일 풍미와  우아하면서도 균형 잡힌 산미의 밸런스가 매력적입니다.', '핸들링': '적정온도 8-10°C 와인잔 화이트 디캔팅 NO'}\n",
      "{'대표 맛과 향': '빛나는 금빛 컬러와 함께 바닐라와 꽃의 아로마가 아름답게  펼쳐집니다. 입에선 잘 익은 청과일의 넘치는 과즙미와 함께 산뜻하고 드라이한 뉘앙스가 적절한 산도와 함께 최상의 밸런스를 선보이며 긴 여운을 남깁니다.', '핸들링': '적정온도 8-10 °C 와인잔 화이트 디캔팅 NO', '와이너리이야기': '그랑 파씨오네 · 베네토, 이탈리아 강한 열정이나 이끌림이라는 뜻을 가진 그랑 파씨오네는 브랜드 이름처럼 베네토의 떼루아와 전통에 대한 열정과 헌신을 뜻합니다. 최고의 이탈리안 와인 전통을 가진 그랑 파씨오네는 이탈리안의 열정과 함께 코스모폴리탄적인 관점을 유지하면서 이탈리아 와인의 아름다움을 널리 알리고 있습니다.'}\n",
      "{'대표 맛과 향': '밝은 레몬 컬러가 보입니다. 코에서는 라임, 레몬, 백도 그리고 짙은 꽃 향이 느껴지니다. 입에서는 레몬, 자몽, 복숭아 등 신선한 과일 풍미와 뒤어어 느껴지는 균형잡힌  산미 그리고 약간의 미네랄 풍미의 밸런스가 긴 여운을    남깁니다.', '핸들링': '적정온도 8-10°C 와인잔 플루트 디캔팅 NO'}\n",
      "{'대표 맛과 향': ' 점판암 토양에서 자란 그르나슈 블랑은 미네랄의 풍미가 느껴지며 미네랄과 마카베오는 향긋한 오렌지의 꽃향을 더합니다. 뛰어난 산도와 바디감, 견고한 구조, 부드러운 질감, 매우 복합적이며 집중된 맛과 향, 긴 여운을 지니고 있습니다.', '핸들링': '적정온도 8-10 °C 와인잔 화이트 디캔팅 NO', '와이너리이야기': '끌로 모가도르 까탈루냐, 스페인 CLOS MOGADOR 스페인의 최고 등급 DOCa 프리오라트 안에서도 최고의 싱글 빈야드에 부여되는 등급(Vi de Finca)을 최초 획득 했습니다. 그르나슈 블랑에 같은 포도밭에서 자연스럽게 섞여 자란 다른 품종을 블렌딩한 매우 독특한 방식으로 양조하는 와이너리입니다.'}\n",
      "{'대표 맛과 향': '반짝이는 황금빛 컬러에 구운 빵, 견과류 향이 느껴지며 살구, 복숭아와 같은 과일향이 입안에서 은은하게 오래 지속됩니다. 우아하고 산뜻한 산도, 견과류, 꿀, 바닐라향이 완벽한 조화를 이루는 장기숙성형 와인입니다.', '핸들링': '적정온도 12-14 °C 와인잔 화이트 디캔팅 NO', '와이너리이야기': '루이 라뚜르 · 부르고뉴, 프랑스 부르고뉴에서 가장 많은 그랑 크뤼 포도밭을 소유하고 있는 200년 이상된 가족 경영 와이너리로 혁신적인 농사기법과 환경 보전의 선두주자로써 부르고뉴에서 가장 명성있는 브랜드입니다. 해외시장 개발 및 아데쉬, 샤블리, 보졸레 지역 등에 끊임없이 새로운 도전을 해 부르고뉴 와인을 넓히는데 선구자 역할을 하며 세계 유명한 와인회사들도 구입하여 사용하는 전통 프렌치 오크 배럴을 직접 생산하여 사용하는 등 전통과 혁신, 완벽을 지키려 끊임없이 노력을 하고있습니다.'}\n",
      "{'대표 맛과 향': '매혹적인 레드 루비 컬러로, 신선하고 풍부한 베리류의 아로마가 느껴집니다. 체리, 말린 과일 등 어린 과일을 블렌딩한 부드럽고 발사믹한 향을 맡을 수 있고, 단맛과 신맛이 완벽한 밸런스를 이루며 복합적인 과실미를 지닌  피니쉬로 이어집니다.     바디    탄닌   당도 /  산도', '핸들링': '적정온도 12-13 와인잔 °C 디캔팅 포트와인 적정시기 NO', '페어링': '카라멜 바닐라 디저트'}\n",
      "{'대표 맛과 향': '10 옅은 작약 핑크빛을 띈 와인입니다. 붉은 과일과 잘 익은 옐로우 프룻의 가벼운 향기가 어우러져 상큼한 부케를 보여주고 생동감있는 풍미와 산뜻함, 과일향 가득한 피니쉬가 인상적입니다. 신선한 라즈베리 아로마가 특징적인 균형있고 우아한 볼게리 로제 와인입니다.  바디  탄닌     당도   산도', '핸들링': '적정온도 8-10°C 와인잔 유니버설 디캔팅 NO 적정시기 2020-2022', '페어링': '해산물 요리 가벼운 파스타'}\n",
      "{'대표 맛과 향': '  밝은 레몬 색상을 띄며 섬세한 아카시아 꽃의 향에 꿀의   향이 더해지고 입안에서는 약한 버블감이 달콤함과 함께 느껴집니다. 과실미 넘치며 향기로운 와인으로, 누구나 부담없이 가볍게 즐길 수 있는 와인입니다.', '핸들링': '적정온도 6-8 °C 와인잔 화이트 디캔팅 NO'}\n",
      "{'대표 맛과 향': '은은한 레몬빛의 컬러가 돋보이며 코에서 느껴지는 레몬,  하얀 복숭아, 그리고 은은하게 느껴지는 살구향의 조화가  인상적입니다. 입에서 느껴지는 자연스런 산미와 리() 숙성으로 인한 크리미한 질감이 매력적입니다.', '핸들링': '적정온도 10-12 °C 와인잔 화이트 디캔팅 NO', '와이너리이야기': '쇼앤 스미스 · 애들레이드 힐, 호주 1988년 호주 최초의 마스트 오브 와인이자 호주 와인의 대표하는 인물로 자리 잡은 Michael Hill Smith와 보르도 대학에서 와인 메이킹을 배운 Martin Shaw가 힘을 합쳐 만든 와이너리로 현재 또 한 명의 마스터 오브 와인 David Lemire가 합세하여 호주 최고 와이너리로 올라선 실력파 와이너리입니다. 특히 James Suckling으로부터 매년 TOP 100에 오르며 그 실력을 증명하고 있습니다.'}\n",
      "{'대표 맛과 향': '코에서 산뜻한 시트러스의 향과 레몬껍질 그리고 약간의 절인 생강 향을 맡을 수 있습니다. 입에서는 하얀 복숭아 와갓 구운 빵의 맛이 느껴집니다. 균형잡힌 산미와 크리미한 질감의 밸런스가 좋은 와인입니다.  바디      탄닌    당도  산도', '핸들링': '적정온도 10-12°C 와인잔 화이트 디캔팅 NO 적정시기 2021-2023', '페어링': '해산물 요리 하드치즈'}\n",
      "{'대표 맛과 향': '매우 맑고 청량한 리치 핑크 컬러가 매력적입니다. 프로방스  여름날을 떠올리게 하는 핑크자몽, 보리수꽃 또한 미네랄의    풍미가 매우 돋보이며 야생 딸기 셔벗을 먹는듯한 상큼하고 산뜻한 느낌이 기분이 좋아지게 만듭니다.', '핸들링': '적정온도 10-12 °C 와인잔 화이트 디캔팅 NO'}\n",
      "{'대표 맛과 향': '밝은 골드빛을 띄며 바닐라, 신선한 아몬드 아로마가 강렬히 코를 찌릅니다. 입 안에서 가득 찬 풍미와 우아한 풀 바디감, 부드러운 산미의 밸런스가 훌륭하며 지속적으로 복숭아와   아몬드, 미네랄 피니쉬가 이어져 고급스러움을 더해줍니다.  풀리니몽라쉐는 몽라쉐, 슈발리에몽라쉐, 바타르몽라쉐와 더불어 세계적으로 가장 주목받는 샤르도네입니다.', '핸들링': '적정온도 11-13°C 와인잔 화이트 디캔팅 NO', '와이너리이야기': '루이 라뚜르 · 부르고뉴, 프랑스 부르고뉴에서 가장 많은 그랑 크뤼 포도밭을 소유하고 있는 200년 이상된 가족 경영 와이너리로 혁신적인 농사기법과 환경 보전의 선두주자로써 부르고뉴에서 가장 명성있는 브랜드입니다. 해외시장 개발 및 아데쉬, 샤블리, 보졸레 지역 등에 끊임없이 새로운 도전을 해 부르고뉴 와인을 넓히는데 선구자 역할을 하며 세계 유명한 와인회사들도 구입하여 사용하는 전통 프렌치 오크 배럴을 직접 생산하여 사용하는 등 전통과 혁신, 완벽을 지키려 끊임없이 노력을 하고있습니다.'}\n",
      "{'대표 맛과 향': '코에서는 벌집, 레몬그라스, 레몬 오일, 흰 꽃의 아로마가 느껴집니다. 입에선 노란 자두, 살구, 오렌지 속껍질, 자몽, 블러드 오렌지, 낑깡 등이 가벼운 요거트, 깨진 돌 캐릭터와 어우러져 아름답습니다. 병숙성에 따라 더욱 잘 다듬어질 산도가 돋보이며, 살짝 스모키한 미네랄, 넛맥이 매끈하게    긴 바디와 어우러집니다. 숙성된 크림 브륄레와 헤이즐넛,  볶은 아몬드 향이 긴 피니쉬로 이어지며 매력을 뽐냅니다.', '핸들링': '적정온도 11-13°C 와인잔 화이트 디캔팅 NO', '와이너리이야기': '메종 라방투레 · 부르고뉴, 프랑스 친구들을 상대로 빚던 와인들의 반응이 뜨겁자 부르고뉴 욘 ROLAND LAVANTUREUX 지방의 수도 Auxerre(오세르)와 파리에서 작은 와인 상업을 시작했습니다. 이를 물려받아 부모인 롤랑과 브리짓이 1979 년에 도멘에서 직접 병입을 시작하며 5헥타르였던 부지를 20헥타르로 늘려 프랑스와 해외에 사업을 확장시켰습니다. 2010년 이래 두 아들 아르노, 다비드가 세대를 잇는 열정을 보입니다. 각 빈티지의 특수함과 가치를 강조하며 테루아의 다양성을 드러내는 것을 목표로 합니다. 각 해마다 탱크와 배럴을 매년 다른 비율로 이용해 깊이감을 극대화 합니다.'}\n",
      "{'대표 맛과 향': '오렌지, 감귤류의 상큼한 느낌에 망고의 달달한 향도 느껴집니다. 파인애플, 구운 배, 계피와 졸인 사과 등의 향도 입안에서 풍부하게 퍼져옵니다. 독일, 알자스와는 다른 신대륙의 향기로우면서 복합미가 있는 게뷔 르츠 트라미너임을 보여줍니다.  바디  탄닌     당도   산도', '핸들링': '적정온도 3-7°C 와인잔 화이트 디캔팅 NO 적정시기 2020-2023', '페어링': '구운 해산물 요리 스프링 롤'}\n",
      "{'대표 맛과 향': '와인의 가장자리에서는 반짝거릴 정도로 밝은 금빛을 띄며, 오렌지, 레몬 껍질의 상큼한 향과 꿀의 달콤한 향이 교차하며  화려한 향이 느껴집니다. 입에선 열대 과일의 생동감 넘치는  과실감과 적절한 산미가 섞여있습니다.', '핸들링': '적정온도 8-12°C 와인잔 화이트 디캔팅 NO', '와이너리이야기': 'LASSERRE PAPILLON 보르도, 프랑스 출시 5년 만에 유명 그랑크뤼 와인을 제치고 당당히 LABELDER JAMES SUCKLING 100대 와인에 선정된 품목을 보유한 생떼밀리옹의 뉴 아이코닉 와이너리입니다.'}\n",
      "{'대표 맛과 향': '반짝이는 옅은 레몬색이 눈길을 사로잡습니다. 망고 스틴, 살구, 금귤의 향이 코를 간지럽힙니다. 입에선  백도, 리치, 서양배 등 흰 과육과 베르가못의 풍미가  우아하고, 여운에 느껴지는 레몬 풍미가 일품입니다.', '핸들링': '적정온도 9-11 °C 와인잔 화이트 디캔팅 NO'}\n",
      "{'대표 맛과 향': '옅은 황금빛이 반짝이는 이 와인은 백도와 시트러스 계열 과실들의 매우 깨끗하고 순수한 향이 코를 즐겁게 합니다. 입안에서는 구아바, 망고, 그린 파파야 등의 열대 과일의   달콤함과 팬케이크와 호박엿이 주는 녹진한 맛이 특유의   직선적인 미네랄리티와 산도가 균형을 이룹니다. 피니쉬 에는 카라멜의 향미가 스쳐 복합성을 더합니다.', '핸들링': '적정온도 8-9 °C 와인잔 화이트 디캔팅 NO'}\n",
      "{'대표 맛과 향': '살구, 잘 익은 귤, 오렌지, 건포도 캐릭터를 느낄 수 있으며 적절한 산도, 긴 여운이 입맛을 돋웁니다. 버깃아이힝거의  최고 밭인 가이스버그와 하일리겐슈타인의 포도들로 만든  와인으로, 이른 수확으로 만들어져 그 순수함과 신선함을 간직하고 있습니다.', '핸들링': '적정온도 9-11 °C 와인잔 화이트 디캔팅 NO'}\n",
      "{'대표 맛과 향': '투명한 황금빛이 반짝거립니다. 코에선 푹 익은 살구와 천도 복숭아 과즙과 각종 조청이 주는 향미가 달콤하고,   입에서는 건조한 망고, 잘 익은 살구와 파인애플, 천도 복숭아의 눅진한 과즙이 그에 걸맞는 산미와 함께 넘실   거립니다. 이들의 여운은 곧 긴 피니시로 이어집니다.', '핸들링': '적정온도 8-9 °C 와인잔 화이트 디캔팅 NO'}\n",
      "{'대표 맛과 향': '코에선 신선한 시트러스 계열의 라임, 레몬, 감귤, 오렌지 과일향, 꽃향이 느껴집니다. 미디엄 바디 와인으로 입에선 레몬, 오렌지, 복숭아 등 복합적 과일 풍미를 맛볼 수 있고 뒤이어 느껴지는 균형 잡힌 산미가 매력적입니다.  바디   탄닌  당도   산도', '핸들링': '적정온도 8-10°C 와인잔 화이트 디캔팅 NO 적정시기 2021-2025', '페어링': '크림 파스타 스시'}\n",
      "{'대표 맛과 향': '타이트하고 강렬한 레몬, 라임 등 시트러스 계열의 과일 뉘앙스를 바탕으로 약간은 러프한 텍스쳐로 입 안에서의 재미를 더합니다. 짜릿하고 과실감 넘치는 피니쉬는 길게 이어지며 입맛을 돋굽니다. 100%  를 사용해 만들었으며 훌륭한 복합성, 구조감을 보여줍니다.  바디  탄닌  당도  산도', '핸들링': '적정온도 8-10°C 와인잔 화이트 디캔팅 NO 적정시기 2021-2025', '페어링': '스시 숙성회'}\n",
      "{'대표 맛과 향': '샤또네프 뒤 파프 퓨어 블랑은  100%로 만들었으며, 옅은 금빛을 띄고 졸인 복숭아, 오렌지 꽃, 토스팅한 스파이스, 흰꽃 계열향 과 은은한 바리끄 향이 느껴집니다. 미디움 바디에 층층이 잡힌 우아한 텍스쳐와 긴 여운이 이어집니다.', '핸들링': '적정온도 8-10 °C 와인잔 화이트 디캔팅 NO', '와이너리이야기': '도멘 라바로쉬 · 론, 프랑스 BARROCHE 와이너리 소유주 바롯 패밀리는 17세기부터 밭을 소유했고 실제로 포도밭을 조성한 것은 19세기 말부터 입니다. 포도 납품만 하던 중 2002년 와이너리에 정식으로 일을 하게된 아들 Julien Barrot가 첫 와인 생산을 시작했고 양조를 시작 한지 3년만에 로버트 파커에게 2005년 빈티지가 100점을 맞으며 슈퍼스타가 되었습니다. 100점의 PURE는 100년이 넘은 그르나슈만 품종만을 이용해 부르고뉴와 비견될 만큼 섬세한 그르나슈를 보여주며, 나머지 와인들은 기본 70년 이상의 평균 나무 수령을 지닌 올드바인으로만 병입하고 있습니다.'}\n",
      "{'대표 맛과 향': '  옅은 레몬빛 컬러가 돋보이며 코에서는 흰 복숭아, 파인애플, 패션푸르트 등 열대과일향과 복합적인 꽃 향이 매력적입니다.  입 안 가득 느껴지는 신선한 과일 풍미, 균형잡힌 산미 그리고 느껴지는 사랑스러운 미네랄 풍미의 밸런스가 훌륭합니다.', '핸들링': '적정온도 10-12 °C 와인잔 화이트 디캔팅 NO', '와이너리이야기': '장마리 레베르디 · 루아르, 프랑스 장 마리 레베르디는 170년 이상의 역사를 자랑하는 가족 와이너리입니다. 상세르 지역에서 재배된 포도만을 갖고 와인을 만들며 포도밭 관리부터 와인 생산에 이르기까지 선조들이 확립한 전통을 유지하며 프리미엄 상세르 와인을 생산하기 위해 많은 노력을 기울이고 있습니다.'}\n",
      "{'대표 맛과 향': '짙은 볏짚색을 가진 와인의 핵과 열대과일, 스카치 캔디, 아몬드, 땅콩 등 견과류 아로마가 잔에서 튀어오르는 듯 합니다. 입에서는 파인애플, 망고, 토스티 브리오슈, 크림을 올린 애플 파이, 바닐라가 균형 있게 어우러져 있으며, 깨끗하고 산뜻한 피니쉬가 멋진 와인입니다.  바디  탄닌  당도  산도', '핸들링': '적정온도 9-11 °C 와인잔 화이트 디캔팅 NO 적정시기 2022-2029', '페어링': '관자 요리 생선찜'}\n",
      "{'대표 맛과 향': '  옅은 레몬 컬러로 코에서는 레몬, 청사과, 흰 복숭아 그리고 아카시아 꽃 향이 느껴집니다. 입안 가득 느껴지는 신선한 - 시트러스 계열의 과일 풍미, 산뜻하면서도 균형 잡힌 산미와 미네랄 풍미의 밸런스가 좋습니다.', '핸들링': '적정온도 10-12 °C 와인잔 화이트 디캔팅 NO', '와이너리이야기': '장마리 레베르디 · 루아르, 프랑스 장 마리 레베르디는 170년 이상의 역사를 자랑하는 가족 와이너리입니다. 상세르 지역에서 재배된 포도만을 갖고 와인을 만들며 포도밭 관리부터 와인 생산에 이르기까지 선조들이 확립한 전통을 유지하며 프리미엄 상세르 와인을 생산하기 위해 많은 노력을 기울이고 있습니다.'}\n",
      "{'대표 맛과 향': \"잘 익은 레몬, 사과의 아름다운 조화가 밀도 있게 펼쳐집니다. 산도를 중심으로 한 이스트와 옅은 오크의 뉘앙스가 복합미를   보여주며 적절한 산도가 길게 유지됩니다. 마스터 오브 와인  가 '아르헨티나 화이트 와인의 저변을 넓히는 와인' 이라고 극찬한 와인입니다.\", '핸들링': '적정온도 8-10 °C 와인잔 화이트 디캔팅 NO', '와이너리이야기': '엘 에네미고 · 멘도사, 아르헨티나 EL ENEMIGO 에네미고는 적(Enemy)이라는 의미이며, 가장 큰 적은 자기 자신이라는 의미를 내포하고 있습니다. 에네미고는 자신과의 치열한 싸움을 하는 모든 사람들에게 헌정하는 와인으로, 모두가 그 전투에서 승리하길 기원하는 의미를 가집니다. 결국 모든 전쟁의 마지막 전투는 자기 자신과의 싸움이라는 점에서 고개를 끄덕이게 한다.'}\n",
      "{'대표 맛과 향': '연한 볏짚색이 반짝이는 이 화이트 와인은 코에선 백도, 잘 익은 귤과 향신료향이 싱그럽습니다. 입에선 살구와 천도 복숭아, 오렌지꽃의 깨끗하고 균형잡힌 과즙미가 풍만하고 깊으며 아니스, 견과류와 미네랄리티가 주는 신선함과 생동감이 살아있는 와인입니다.  바디     탄닌 -   당도  산도', '핸들링': '적정온도 10-12 °C 와인잔 화이트 디캔팅 NO 적정시기 2022-2028', '페어링': '연어스테이크 크림 파스타'}\n",
      "{'대표 맛과 향': '밝은 연둣빛이 도는 중간 볏짚 색을 관찰할 수 있습니다. 코에서는 레몬 커드, 그린 구아바, 배 파이 그리고 구운 빵의 복합적 향이 매력적입니다. 입에서는 잘 익은 감귤류와 복숭아, 살구맛이 잘 어우러집니다. 적당한 산미, , 크리미한 풍미가 인상적이며 오랜 지속력을 보여줍니다.  바디   탄닌  당도  산도', '핸들링': '적정온도 °C 와인잔 아로마 디캔팅 콜렉터 적정시기 NO 10-12 2021-2030', '페어링': '해산물 요리 크림 파스타'}\n",
      "{'대표 맛과 향': '반짝이는 금빛이 가장 먼저 눈에 들어옵니다. 코에서는 자몽 등의 이국적인 과일 아로마가 느껴지며, 스월링을 통해 레몬 등의 시트러스한 노트도 확인할 수 있습니다.  입에서는 신선함과 함께 미네랄리티가 느껴지며 허니듀  멜론, 복숭아 등의 뉘앙스를 느낄 수 있습니다. 다채로운 과일과 꽃 뉘앙스의 강하고 긴 피니시가 인상적입니다.', '핸들링': '적정온도 8°C 와인잔 화이트 디캔팅 NO', '와이너리이야기': '끌로 벨란 · 론, 프랑스 Clos Bellane 남부 론 지역 가장 북쪽 발레아 지역 외곽 언덕에 위치한 작고 유니크한 도멘으로, 최고 고도 400m를 자랑합니다. 400m 고도의 서늘한 기후를 바탕으로 유기농으로 재배한 포도의 컴비네이션을 통해 꼬뜨 뒤 론 지역 최고 품질 와인 생산으로 알려져 있습니다. 재능있는 와인메이커 스테판 베듀가 꼬뜨 뒤 론 빌라쥐 와인의 새로운 스타일 생산을 위해 2010년 끌로 벨란을 매입했으며, 단시간 내에 남부 론 최고 수준의 와인을 생산하는 도멘으로 유명세를 얻고 있습니다.'}\n",
      "{'대표 맛과 향': '녹색 테두리에 둘러쌓인 빛나는 노란 레몬색이 아름다운 이 와인은 코에선 갓 찧은 라임껍질, 아말피 레몬잼 향이 향긋합니다. 입에선 백도와 살구의 과즙, 모과 과육, 홍옥   캐릭터들에 걸맞는 산미가 균형감 있게 곁들여져 와인에 신선함과 생기를 부여합니다. 향기로운 감칠맛이 주는 긴 피니쉬가 아름답습니다.', '핸들링': '적정온도 10-12 °C 와인잔 화이트 디캔팅 NO'}\n",
      "{'대표 맛과 향': '밝은 금빛 컬러가 눈에 띄는 와인으로 잘 익은 시트러스류, 멜론 아로마와 꿀향과 바닐라향, 화이트 트러플향에 이르는 \" \" 넓은 스펙트럼의 아로마를 갖고 있습니다. 입에선 리치한   바디감과 옅은 오렌지 향을 맛볼 수 있으며, 입 안을 맴도는 부드러움과 긴 여운은 긴 숙성 잠재력까지 느껴지게 합니다.', '핸들링': '적정온도 10 °C 와인잔 화이트 디캔팅 NO', '와이너리이야기': '끌로 벨란 · 론, 프랑스 Clos Bellane 남부 론 지역 가장 북쪽 발레아 지역 외곽 언덕에 위치한 작고 유니크한 도멘으로, 최고 고도 400m를 자랑합니다. 400m 고도의 서늘한 기후를 바탕으로 유기농으로 재배한 포도의 컴비네이션을 통해 꼬뜨 뒤 론 지역 최고 품질 와인 생산으로 알려져 있습니다. 재능있는 와인메이커 스테판 베듀가 꼬뜨 뒤 론 빌라쥐 와인의 새로운 스타일 생산을 위해 2010년 끌로 벨란을 매입했으며, 단시간 내에 남부 론 최고 수준의 와인을 생산하는 도멘으로 유명세를 얻고 있습니다.'}\n",
      "{'대표 맛과 향': '옅은 황금빛의 와인으로 코에서는 풍부한 감귤류와 열대 과일의 아로마가 느껴집니다. 입에선 패션 프루트와 레몬,  감귤의 과일 풍미가 느껴지며 균형 잡힌 산미와 뒤이어 느껴지는 미네랄 터치의 조화가 매력적입니다.', '핸들링': '적정온도 10-12 °C 와인잔 화이트 디캔팅 NO', '와이너리이야기': '에릭 루이즈 · 루아르, 프랑스 BRIG LOVE 에릭 루이즈는 상세르 남동쪽에 위치한 와이너리이자 4대째 가족 경영을 통해 운영되고 있는 뿌리 깊은 와인 명가입니다. 약 35 헥타르의 밭을 소유하고 있습니다. 부싯돌과 석회암 및 점토-석회암으로 이루어진 다양한 토양을 베이스로 조상들이 물려준 양조 기술, 노하우를 사용해 테루아를 잘 표현하고 복합미가 훌륭한 와인을 생산하고 있습니다. 또한, 2019년 HVE(지속 가능 농법) 인증 받았으며, 2023년 유기농 인증을 목표로 2020년 부터 각각의 테루아 특성을 강조하기 위해 유기농법을 시행하고 있습니다.'}\n",
      "{'대표 맛과 향': '산뜻한 감귤류의 과일 향이 전해져옵니다. 입안에서는 유질감과 상큼한 산도가 훌륭한 조화를 이루고 있습니다. 오크 숙성을 하지 않은 와인으로 깔끔하고도 상쾌한 과일의 풍미를 느낄 수 있습니다.  바디   탄닌   당도  산도', '핸들링': '적정온도 10-12°C 와인잔 화이트 디캔팅 NO 적정시기 2020-2023', '페어링': '생선요리 샤퀴테리'}\n",
      "{'대표 맛과 향': '밝은 레몬 컬러가 돋보입니다. 코에서는 자스민, 신선한 레몬 그리고 잘 익은 라임향이 느껴집니다. 입 안에서는 신선한 라임주스, 레몬 셔벗, 잘익은 자몽 약간의 향신료 풍미가 특히 좋습니다. 드라이 스타일 리슬링으로 신선한 과일의 캐릭터, 균형 잡힌 산미와 약간의 미네랄 풍미의 밸런스가 긴 여운을 남깁니다.  바디   탄닌    당도  산도', '핸들링': '적정온도 8-10°C 와인잔 화이트 디캔팅 NO 적정시기 2021-2030', '페어링': '해산물 튀김 태국 요리'}\n",
      "{'대표 맛과 향': '초록빛이 비치는 노란 볏짚색을 띄며 신선한 과일향이 가득 퍼져옵니다. 입 안 가득 느껴지는 과일 아로마에  미네랄리티, 꽃향기가 더해져 매우 향긋하며 부드러운 . 산도와 적당한 바디감이 기분좋은 마무리를 선사한다.', '핸들링': '적정온도 8-10°C 와인잔 화이트 디캔팅 NO'}\n",
      "{'대표 맛과 향': '밝은 레몬 컬러가 돋보입니다. 코에서는 신선한 구아바, 화이트 커런트, 엘더베리 꽃향과 잘 익은 패션프루트의 열대 과일 향이 느껴지며, 뒤이어 따라오는 바질과 라임 향이 매력적입니다. 입 안 가득 느껴지는 잘 익은 열대 과일의 풍미, , 뒤이어 부드러우며 적절히 느껴지는 산미와 미네랄 풍미의 조화가 긴 여운을 남깁니다.   바디  탄닌    당도   산도', '핸들링': '적정온도 8-10°C 와인잔 화이트 디캔팅 NO 적정시기 2021-2025', '페어링': '해산물 튀김 크림 파스타'}\n",
      "{'대표 맛과 향': '반짝이는 그린 금빛의 이 와인은 잘 익은 복숭아와 배, 청사과향이 감돌며 후추, 생강 스파이시함과 부싯돌의    미네랄 터치 또한 느낄 수 있습니다. 입에서는 풍부한   볼륨과 파워가 느껴지는 1등급 포도밭 복합미를 그대로 반영한 프리미엄 화이트 와인입니다.', '핸들링': '적정온도 12-14 °C 와인잔 화이트 디캔팅 NO', '와이너리이야기': \"샤또 드 샤미레 · 부르고뉴, 프랑스 Chiteau 전체 포도밭 면적의 37 헥타르 중 절반 정도가 일등급의 D'ESCLANS 밭으로서, 은은한 과일향이 살아 있는 부르고뉴 와인을 생산합니다. 연간 생산량이 많지 않으면서 부르고뉴의 테루아를 잘 살린 와인을 생산함으로써 소장 가치가 있는 와인으로 인정받고 있습니다. 100% 손으로 수확하며, 부르고뉴에서 가격대비 최고 품질을 자랑하는 브랜드로 각광받고 있습니다.\"}\n",
      "{'대표 맛과 향': ' 밝은 루비빛이 돋보입니다. 코에서는 잘 익은 딸기, ,자두, 라즈베리 그리고 약간의 꽃향기와 향신료, 모카향 조합이 매력적입니다. 입에서는 신선한 딸기와 자두의 기분 좋은 과일 풍미, 약간의 허브, 향신료의 복합적 풍미 밸런스가 좋습니다. 입 안 가득 느껴지는 부드러운 탄닌, 균형 잡힌 산미의 조화가 긴 여운을 남깁니다.  바디   탄닌  당도  산도', '핸들링': '적정온도 °C 와인잔 아로마 디캔팅 콜렉터 적정시기 30분 14-18 2021-2030', '페어링': '육회 비프 스테이크'}\n",
      "{'대표 맛과 향': '밝은 레몬 컬러가 돋보이며 코에서는 신선한 귤, 핑크 자몽, 복숭아의 신선한 과일향이 매력적입니다. 입에선 잘 익은 레몬, 라임 풍미가 가득 느껴지고, 뒤따라 오는 약간의 미네랄 풍미가 좋습니다. 미디엄 드라이 스타일 리슬링으로 입맛을 돋구며 신선한 산미와 약간의 당도 밸런스가 좋은 와인으로, 한식과 궁합이 일품입니다.  바디   탄닌     당도  산도', '핸들링': '적정온도 8-10°C 와인잔 화이트 디캔팅 NO 적정시기 2021-2030', '페어링': '국물 떡볶이 순대 볶음'}\n",
      "{'대표 맛과 향': ' 옅은 레몬빛 컬러가 신선함을 나타내는 이 와인은 전반적으로 시트러스한 과일 아로마를 가지고 있으며 입에서도 레몬, 라임, 사과 등의 뉘앙스와 함께 상큼한 산도를 느껴볼 수 있습니다. - 적절한 산도로 깔끔한 피니시를 느낄 수 있으며 가벼운 음식과 조화가 훌륭합니다.', '핸들링': '적정온도 8-10°C 와인잔 화이트 디캔팅 NO'}\n",
      "{'대표 맛과 향': '금빛 테두리에 빛나는 볏짚 컬러가 인상적인 이 와인은 아카시아 꽃과 꿀, 토치된 라임, 크림브륄레와 꿀에 절여 토스트한 아몬드, 헤이즐넛 등 다채로운 향과 맛이 탄성을   자아냅니다. 밀도있고 유질감 있는 풍만한 바디와 완벽한  긴   구조감이 인상적이며 여운을 통해 숙성 잠재력이 기대되는 와인입니다.', '핸들링': '적정온도 10-12°C 와인잔 화이트 디캔팅 NO', '와이너리이야기': '도멘 미쉘롯 · 부르고뉴, 프랑스 오직 뫼르소만을 6세대동안 만들어온 뫼르소 장인인 도멘 미쉘은 뫼르소 프리미에 크뤼 4개와 빌라주 7개를 포함해 19헥타르(약 57,000평)를 소유하고 있습니다. 현 소유주 Jean-Francois Mestre는 건강이 좋지 않은 장인 Bernard Michelot로부터 2009년 와이너리를 이어받아 운영하며, 23살 젊은 와인 메이커이자 아들인 Nicolas Mestre가 와인 메이킹을 맡고 있습니다. 그는 젊지만 오히려 더욱 전통적 부르고뉴 스타일의 양조를 보여주고 있다는 평가를 받고 있으며, 순수한 샤르도네의 모습을 더욱 끌어내기 위하여 극소량의 와인은 암포라와 콘크리트 에그통 숙성을 거친 와인도 선보이고 있습니다.'}\n",
      "{'대표 맛과 향': '풍부하고 크리미한 과일 캐릭터와 함께 길게 이어지는 신선한 과일과 아몬드의 아로마가 인상적입니다. 뫼르소  지역 다른 와인보다 한층 더 풍부한 미네랄이 느껴집니다.    입에서는 오렌지를 포함한 다른 시트러스 계열의 과일 뉘앙스를 느낄 수 있습니다.', '핸들링': '적정온도 10-12°C 와인잔 화이트 디캔팅 NO', '와이너리이야기': '도멘 미쉘롯 · 부르고뉴, 프랑스 오직 뫼르소만을 6세대동안 만들어온 뫼르소 장인인 도멘 미쉘은 뫼르소 프리미에 크뤼 4개와 빌라주 7개를 포함해 19헥타르(약 57,000평)를 소유하고 있습니다. 현 소유주 Jean-Francois Mestre는 건강이 좋지 않은 장인 Bernard Michelot로부터 2009년 와이너리를 이어받아 운영하며, 23살 젊은 와인 메이커이자 아들인 Nicolas Mestre가 와인 메이킹을 맡고 있습니다. 그는 젊지만 오히려 더욱 전통적 부르고뉴 스타일의 양조를 보여주고 있다는 평가를 받고 있으며, 순수한 샤르도네의 모습을 더욱 끌어내기 위하여 극소량의 와인은 암포라와 콘크리트 에그통 숙성을 거친 와인도 선보이고 있습니다.'}\n",
      "{'대표 맛과 향': '빛나는 황금빛의 이 와인은 시트러스 계열을 바탕으로 옅은 페퍼민트 뉘앙스까지 나타내며 다채로운 아로마의  향연이 코를 간지럽힙니다. 넘치는 과실감, 미네랄리티로   뫼르소 와인의 특징인 우아함을 직관적으로 표현합니다.   힘있는 산도는 긴 여운을 느끼게 하며, 피니시에 느껴지는 우아한 토스트향은 와인의 다채로운 매력을 보여줍니다.', '핸들링': '적정온도 10-12°C 와인잔 화이트 디캔팅 NO', '와이너리이야기': '도멘 미쉘롯 · 부르고뉴, 프랑스 오직 뫼르소만을 6세대동안 만들어온 뫼르소 장인인 도멘 미쉘은 뫼르소 프리미에 크뤼 4개와 빌라주 7개를 포함해 19헥타르(약 57,000평)를 소유하고 있습니다. 현 소유주 Jean-Francois Mestre는 건강이 좋지 않은 장인 Bernard Michelot로부터 2009년 와이너리를 이어받아 운영하며, 23살 젊은 와인 메이커이자 아들인 Nicolas Mestre가 와인 메이킹을 맡고 있습니다. 그는 젊지만 오히려 더욱 전통적 부르고뉴 스타일의 양조를 보여주고 있다는 평가를 받고 있으며, 순수한 샤르도네의 모습을 더욱 끌어내기 위하여 극소량의 와인은 암포라와 콘크리트 에그통 숙성을 거친 와인도 선보이고 있습니다.'}\n",
      "{'대표 맛과 향': '    옅은 골드빛에 살짝 초록빛이 섞인듯한 색깔을 띄며 복숭아,   패션 프룻, 리치 등 열대과일 본연의 향이 풍부하게 퍼지며   뒤이어 장미, 베르가못 같은 꽃 향이 스칩니다. 입 안에서는 단단하고 내추럴한 산도가 강렬한 시트러스향과 함께 느껴져 여운이 길게남습니다.', '핸들링': '적정온도 8-10°C 와인잔 화이트 디캔팅 NO'}\n",
      "{'대표 맛과 향': '강렬한 태양과 같은 반짝이는 금빛으로, 스모키한 향과 함께 사과, 복숭아, 배, 바나나 등 과일향이 퍼지고 허브, 야생꽃 등 풀향과 구운 아몬드의 향이 뒤따라 옵니다. 입안에선 생동감 넘치는 프레쉬함과 부드러운 질감의  우아함이 완벽한 밸런스를 이룹니다. 마무리는 아몬드    특유의 고소하면서도 쌉싸름한 맛이 입안에 오래도록 여운을 남깁니다.   바디          탄닌   당도  산도', '핸들링': 'X 10-12 적정온도 °C 와인잔 화이트 디캔팅 NO 적정시기 2020-2025', '페어링': '스시 프로슈토'}\n",
      "{'대표 맛과 향': '레몬 꽃, 사과, 배 그리고 산뜻한 시트러스 향 등의 복합적인 아로마가 매력적인 와인입니다. 또한 입에서 싱그러운 레몬, 사과 등 시트러스 계열의 과일 풍미를 느낄 수 있으며, 산뜻한 산미와 크리미한 질감의 조화로운 밸런스가 긴 여운으로 이어집니다.   바디  탄닌   당도  산도', '핸들링': '적정온도 °C 와인잔 아로마 디캔팅 콜렉터 적정시기 NO 10-12 2021-2030', '페어링': '참치 타다끼 크림 파스타'}\n",
      "{'대표 맛과 향': '껍질을 짧은 시간 함께 침용시켜 연한 핑크색이 감도는 구리빛 와인으로 시트러스 향이 지배적이며 자스민 향과 아카시아 꽃향, 배, 사과 향이 어우러집니다. 입 안에선 신선하고 쥬시하며 강렬한 감칠맛이 풍부한 아로마와  함께 느껴집니다. 크리미하면서도 산도가 있어 긴 여운을  느낄 수 있고 껍질에서 나온 아주 약한 탄닌이 구조감을 더 좋게 만들어 줍니다.   바디    탄닌  당도  산도', '핸들링': 'X 12-13 적정온도 °C 와인잔 화이트 디캔팅 NO 적정시기 2020-2025', '페어링': '구운 생선 요리 리조또'}\n",
      "{'대표 맛과 향': '  코에서는 블랙베리, 블랙체리, 라즈베리 등 풍부한 과일향과 삼나무향 등 다채로운 향이 느껴집니다. 입에선 잘 익은 블랙체리와 생동감 넘치는 산미가 훌륭한 균형을 이루어 입맛을 다시게 하고,입안 가득 느껴지는 부드러운 탄닌과 신선한 허브, 약간의 블랙페퍼가 복합적이면서도 잘 짜인 구조감으로 긴 여운을 남깁니다.  바디    탄닌     당도   6533  산도', '핸들링': '적정온도 16-18 °C 와인잔 유니버설 디캔팅 60분 적정시기 2020-2043'}\n",
      "{'대표 맛과 향': '자연스러운 산도와 미네랄리티 밸런스를 찾고 유지하기 위해 스테인리스 스틸 탱크와 뉴트럴 오크에서 숙성시켰습니다. 소비뇽 블랑의 산뜻하고 경쾌함이 세미용의 우아함을 만나 완벽한 조화를 이룹니다. 산뜻한 허니서클, 라놀린, 마르멜로 등의 뉘앙스를 느낄 수 있으며 중간 정도의 바디감을 가진 산뜻하고 우아한 와인입니다.', '핸들링': '적정온도 8-10°C 와인잔 화이트 디캔팅 NO', '와이너리이야기': \"맨딩 월 · 나파밸리, 미국 M 맨딩 월이라는 이름은 로버트 프로스트 동명의 시에서 따온 이름입니다. 건강한 관계를 위해서는 상호간의 적정 거리를 유지해야 한다는 의미의 '울타리가 튼튼해야 좋은 이웃이 된다(Good fences make good neighbors)'는 맨딩 월의 시구가 철학입니다. 각자 분야 최고 수준 전문가들이 모여 만든 서로를 존중하며 각자 역량을 최고로 발휘하여 만든 브랜드로 특히 양조 컨설팅을 맡은 토마스 리버스 브라운은 나파 밸리에서 가장 유명세와 존경을 받고 있는 와인 메이커 로서 로버트 파커와 와인 스펙테이터로부터 100점을 2차례 동시에 수상한 이례적인 기록을 가지고 있습니다.\"}\n",
      "{'대표 맛과 향': '옅은 호박빛의 와인으로, 강렬한 오렌지 껍질의 향과 감귤 열매, 허브의 향이 뒤섞여 있고 약간의 꿀, 치즈의 향이 뒤따라 옵니다. 입안에선 미네랄리티와 쌉쌀함이 느껴지며 화이트 와인의 옷을 입은 레드 와인과 같은 인상을 남깁니다.  바디     탄닌   라이브  당도  산도', '핸들링': '적정온도 12-14 °C 와인잔 화이트 디캔팅 NO 적정시기 2021-2024', '페어링': 'GOGO GOOD 간장 베이스의 일식 한식의 김치요리'}\n",
      "{'대표 맛과 향': ' 100% 그르나슈와 비교했을 때 더 진하고 풍부한 맛으로, 블랙체리, 블랙베리 멀베리, 라즈베리의 복합적 과일향과 약간의 향신료향의 조화가 특히 좋습니다. 적당한 산미와 입안 가득 크리미한 탄닌 밸런스가 긴 여운을 주는 미디엄 풀바디 와인으로, 10년 이상 장기 숙성 잠재력을 갖고 있습니다.  바디    탄닌      당도   5921  산도', '핸들링': '적정온도 16-18 °C 와인잔 유니버설 디캔팅 30-60분 적정시기 2020-2043'}\n",
      "{'대표 맛과 향': '코에서는 꽃향, 야생 산딸기, 라즈베리, 크랜베리 등 붉은 계열의 과일향과 시나몬, 글로브 등 향신료의 조화가 좋습니다. 미디엄 풀 바디 와인으로, 실크처럼 부드러운 탄닌과 산뜻한 산미의 완벽한 조화가 긴 여운을 줍니다. 입안에선 잘 익은 피노누아처럼 느껴지는 와인입니다.  바디    탄닌     당도   0056  산도', '핸들링': '적정온도 16-18 °C 와인잔 유니버설 디캔팅 30분 적정시기 2020-2043'}\n",
      "{'대표 맛과 향': '옅은 금빛의 보어스 뷰 샤도네이는 완벽한 밸런스와 신선한 산도로 활기 넘치는 훌륭한 와인입니다. 옅은 레몬 콩피와 자스민 꽃, 마른 살구의 아로마를 바탕으로 입에서는 볶은 아몬드, 브리오슈와 크림 카라멜의 뉘앙스를느낄 수 있으며,   풍부한 미네랄리티로 최고급 품질의 우아한 소노마 코스트  2014 샤르도네입니다.', '핸들링': '적정온도 8-10 °C 와인잔 화이트 디캔팅 NO', '와이너리이야기': \"보어스 뷰 캘리포니아, 미국 2007년 슈레이더는 데이빗 스테이너, 주디 스테이너와 BOARS'VIEW 함께 소노마 해안가 근처 밭을 매입했고, 포도밭 관리는 울리세즈 발데즈가, 와인메이킹은 토마스 브라운이 맡고 각 분야 최고 권위자로 이루어진 드림팀이 완성됐습니다. 이들은 야생 풀밭과도 같았던 지역을 세계적으로 유명한 보어스 뷰 생산지로 탈바꿈 시키며 최고 품질의 와인을 생산하고 있습니다.\"}\n",
      "{'대표 맛과 향': '** 브로비아 로에로는 초록 사과, 배, 복숭아, 아몬드 등의 아로마를 바탕으로 아르네이스가 보여줄 수 있는 최고   수준을 보여줍니다. 강한 미네랄의 뉘앙스와 깔끔함은 - 마치 계곡의 자연수와 같으며, 다양한 과실감의 신선한 산도와 풍부한 텍스쳐를 느낄 수 있습니다. 뒤이어 따라 오는 옅은 스파이스의 피니시가 일품입니다.', '핸들링': '적정온도 8-12°C 와인잔 화이트 디캔팅 NO', '와이너리이야기': '브로비아 · 피에몬테, 이탈리아 1863년 Giacinto Brovia가 설립한 브로비아 가문의 *BROVIA* 와이너리로, 처음부터 떼루아의 중요성을 강조하며 와인 양조 스타일에 떼루아를 완벽하게 녹이려고 노력해왔습니다. 지난 수십년 간 바롤로의 와인 생산 스타일이 크게 바뀌는 동안, 브로비아는 현대 기술 발전의 유혹에도 1863년부터 꾸준히 지켜온 전통에 따라 와인을 생산하고 있습니다. 화학물질을 전혀 첨가하지 않은 포도밭에서 손수확만을 통해 수확한 포도로 정밀한 과정을 통해 생산되는 브로비아의 와인은 전통적인 감성을 구현하고 있으며, 투박함과 우아함 사이의 완벽한 균형을 유지하고 있습니다.'}\n",
      "{'대표 맛과 향': ' 자주빛의 색을 띤 루비 레드 컬러의 와인으로, 강렬하고 복합적인 바닐라와 커피의 향이 메를로의 민트 아로마, 산지오베제, 시라의 프루티한 캐릭터와 완벽한 밸런스를 이룹니다. 균형 잡힌 팔레트와 함께 여운이 긴 피니시가 특징입니다.', '핸들링': '적정온도 15-18 °C 와인잔 유니버셜 디캔팅 30분', '와이너리이야기': '산타 크리스티나 · 토스카나, 이탈리아 SANTA CRISTINA 라면 700년역사와 26대를 이어온 이태리 최고 와인 명가 세계에서 가장 오래된 와인 생산자로 기네스북에 등재 되었습니다. 안티노리는 안티노리 가문의 와인 생산 역사는 1180년으로 거슬러 올라갑니다. 피렌체 와인 길드에 공식적으로 가입한 1386년을 와인 생산 원년 으로 한대도 끊이지 않고 가족 경영으로 이어져 가고 있는 이태리 최고 와인 명가입니다.'}\n",
      "{'대표 맛과 향': ' 옅은 볏짚색을 띠고 강렬한 과실향을 바탕으로 감귤류,  복숭아, 매우 섬세한 스타일의 오크터치를 보여줍니다.  입 안에서는 복숭아, 참외, 메론과 허니듀의 신선하고 과즙이 많아 마치 과일 샐러드를 맛보는 것 같은 느낌이 듭니다. 감촉은 부드럽고 크리미한 질감을 가져 균형 잡힌 산도감과 뛰어난 길이가 매력적인 와인입니다.', '핸들링': '적정온도 8-12°C 와인잔 화이트 디캔팅 NO', '와이너리이야기': '밴락 스테이션 · 리버랜드, 호주 BANROCK 1995년 호주 리버랜드에 설립된 와이너리로 좋은 와인은 Tation 좋은 환경이 필요하다는 철학을 바탕으로 설립과 동시에 습지 보호 프로젝트를 시작하여 환경 보호를 위한 기금 마련을 시작한 친환경 와이너리입니다. 현재까지 지속된 이 사업을 통해 무려 6백만 호주 달러에 달하는 기금이 환경 보호에 사용되었고, 내 몸에 좋은 와인, 지구에 좋은 와인을 만들기 위한 노력을 20여년동안 직접 실행해오고 있습니다.'}\n",
      "{'대표 맛과 향': ' 옅은 볏짚색을 띠고 달콤한 머스캣 캐릭터와 함께 신선한 여름 과일 풍미를 선사합니다. 입 안에서는 생기가 넘치는  사랑스러운 스타일로 접근하기 쉽고 마시기 쉬운 스타일   입니다. 부드러운 버블은 생기있고 풍성한 마무리를 주는 와인입니다.', '핸들링': '적정온도 8-12°C 와인잔 화이트 디캔팅 NO', '와이너리이야기': '밴락 스테이션 · 리버랜드, 호주 BANROCK 1995년 호주 리버랜드에 설립된 와이너리로 좋은 와인은 Tation 좋은 환경이 필요하다는 철학을 바탕으로 설립과 동시에 습지 보호 프로젝트를 시작하여 환경 보호를 위한 기금 마련을 시작한 친환경 와이너리입니다. 현재까지 지속된 이 사업을 통해 무려 6백만 호주 달러에 달하는 기금이 환경 보호에 사용되었고, 내 몸에 좋은 와인, 지구에 좋은 와인을 만들기 위한 노력을 20여년동안 직접 실행해오고 있습니다.'}\n",
      "{'대표 맛과 향': '상큼하고 잘 익은 사과 슬라이스와 꿀에 절인 견과류 혹은 설탕에 졸인 견과류 향이 먼저 느껴집니다. 미디움 바디감을   보이며, 잘 살린 산미와 과실미가 돋보입니다. 절제한 오크    노트로 나파 샤르도네 보단 가성비 좋은 부르고뉴 블랑을 마시는 듯한 느낌을 줍니다.', '핸들링': '적정온도 8-12°C 와인잔 화이트 디캔팅 NO', '와이너리이야기': '밴락 스테이션 · 나파밸리, 미국 COURTNEY BENHAM Mark West 와 Blackstone 브랜드를 미국 전국 브랜드로 성공시켜 Constellation에 판매해, 최고의 성공을 이뤄낸 미국 최고의 Value 와인 메이커로 알려진 코트니 벤헴은 30년이상 이어온 생산자들과의 긴밀한 관계를 유지하며, 최고 품질 나파밸리 포도를 10년 넘게 유일하게 포도값을 인상없이 공급 받으며, 제대로된 우아한 나파와인을 가장 합리적인 가격으로 만드는 생산자 입니다.'}\n",
      "{'대표 맛과 향': '      산뜻한 구스베리와 백도의 아로마가 풍부한 미네랄리티를 바탕으로 존재감을 드러냅니다. 입 안에서는 아로마틱한 뉘앙스와 함께 신선하고 크리미한 텍스쳐가 같이 느껴지며 깔끔한산도로 마무리하며 입 안을 정리합니다.', '핸들링': '적정온도 8-12°C 와인잔 화이트 디캔팅 NO', '와이너리이야기': '그라운디드 와인 캘리포니아, 미국 GW 그라운디드 와인은 나파 지역 와인메이킹 가문에서 나고 CO 자란 조쉬 펠프스의 펄스널 브랜드로 와인 커뮤니티와 깊은 인연을 가진 그의 개인적 경험을 바탕으로 만들어 졌습니다. 그라운디드 와인의 포도들은 캘리포니아와 워싱턴의 믿을 수 있는 포도밭에서 공수해왔으며, 심플 하고 직관적인 레이블과 맛은 오늘날 와인메이커가 갖는 의미를 잘 나타냅니다.'}\n",
      "{'대표 맛과 향': '밝은 금색 컬러를 가지고 있습니다. 코에선 미디움의 파인애플 같은 열대 과일 아로마와 사과, 허브, 박스 우드의 노트들이 느껴집니다. 입 안에서는 상쾌하며 드라이하고, 밸런스 잡힌 산도 뒤에 좋은 바디감과 긴 여운을 보여줍니다.  바디    탄닌   당도   산도', '핸들링': '적정온도 6-8 °C 와인잔 화이트 디캔팅 NO 적정시기 2020-2030', '페어링': '참치 샐러드'}\n",
      "{'대표 맛과 향': '살구, 배의 화사한 과일 아로마와 토스티한 오크향, 바닐라향이  잘 어우러집니다. 입 안에서는 풍부하고 진한 과즙이 느껴지며, 배럴 숙성을 통해 부드럽고 풍부한 풍미와 신선한 산미가 탁월 합니다.', '핸들링': '적정온도 10-12 °C 와인잔 화이트 디캔팅 NO'}\n",
      "{'대표 맛과 향': \" 옅은 노랑빛을 띄며 은은한 꽃향과 함께 자몽 아로마가 ' '    느껴집니다. 입 안에서는 아몬드, 바닐라 향이 부드럽게 어우러지며 마무리까지 긴 여운을 남깁니다.\", '핸들링': '적정온도 8-10 °C 와인잔 화이트 디캔팅 NO', '와이너리이야기': '루이 라뚜르 · 부르고뉴, 프랑스 부르고뉴에서 가장 많은 그랑 크뤼 포도밭을 소유하고 있는 200년 이상된 가족 경영 와이너리로 혁신적인 농사기법과 환경 보전의 선두주자로써 부르고뉴에서 가장 명성있는 브랜드입니다. 해외시장 개발 및 아데쉬, 샤블리, 보졸레 지역 등에 끊임없이 새로운 도전을 해 부르고뉴 와인을 넓히는데 선구자 역할을 하며 세계 유명한 와인회사들도 구입하여 사용하는 전통 프렌치 오크 배럴을 직접 생산하여 사용하는 등 전통과 혁신, 완벽을 지키려 끊임없이 노력을 하고있습니다.'}\n",
      "{'대표 맛과 향': '풍부한 흰꽃 향기와 복숭아, 파인애플 향을 머금은 볏짚 색깔의 우아하고 품격있는 화이트 와인입니다. 입에서 상큼함과 부드러움이 동시에 느껴지며 신선한 산미가 입맛을 자극하는 뛰어난 품질을 가지고 있습니다.', '핸들링': '적정온도 8-10°C 와인잔 화이트 디캔팅 NO', '와이너리이야기': '수산나 발보 · 멘도사, 아르헨티나 usaua gallo 수산나 발보는 1981년 아르헨티나 여성 와인 메이커 중 최초로 와인 양조 학위를 받은 와인 메이커이자 카테나 자파타에서 오랫동안 와인 양조를 전담해온 전설적인 와인 메이커로, 현재 최고 평론가 다수에게 아르헨티나 최고 와인 메이커로 인정받고 있습니다. 수산나 발보는 가장 혁신적인 와인을 선보이는 브랜드로 다양한 시도와 실험을 통해 도출한 가장 완벽한 결과물만 출시하는 것 으로 알려져 있습니다. 아르헨티나 와인이 세계적으로 유명해지는 과정에 일조한 브랜드 중 하나입니다.'}\n",
      "{'대표 맛과 향': ' 시트러스 꽃잎, 천도 복숭아와 그린 망고향이 크리미한 캐슈넛의 향미와 아름답게 조화를 이룹니다. 입 안에선 시트러스 계열 과실과 허니듀 멜론의 신선한 맛이 매력적 입니다. 수개월간 바또나즈 작업으로 가미된 밸런스가 매끈한 감촉을 느낄 수 있게 해줍니다. 생강 스파이시함, 크리미한 피니시가 프렌치 오크 숙성을 만나 고조됩니다.   바디  탄닌  당도    산도', '핸들링': '적정온도 10°C 아로마 와인잔 콜렉터 디캔팅 NO 적정시기 2020-2025', '페어링': '구운 연어 요리 돼지 고기 요리'}\n",
      "{'대표 맛과 향': '윤기나는 밝은 볏짚컬러로 코에서는 시트러스 과일 풍미와 플로럴 향이 견과류와 바닐라의 부드러운 프레임 내에서 조화를 이룹니다. 입에서는 마시자마자 싱그러운 상큼함이  깊이감 있는 독특한 복합미를 선사합니다. 시트러스 풍미에    트로피컬 과실 풍미, 갓 구운 빵, 말린 과실의 독특한 풍미가  미네랄과 조화를 이루면서 아주 길고 우아한 피니쉬로 여운을 남깁니다.', '핸들링': '적정온도 8-10°C 와인잔 화이트 디캔팅 NO'}\n",
      "{'대표 맛과 향': ' 풍부한 흰꽃 향기와 복숭아, 파인애플 향을 머금은 볏짚  색깔의 우아하고 품격있는 화이트 와인입니다. 입에서 상큼함과 부드러움이 동시에 느껴지며 신선한 산미가 입맛을 자극하는 뛰어난 품질을 가지고 있습니다.', '핸들링': '적정온도 8-10°C 와인잔 화이트 디캔팅 NO', '와이너리이야기': '스코토 셀러 · 캘리포니아, 미국 SCOTTO 이탈리아에 뿌리를 둔 스코토 패밀리는 1880년대부터 FAMILY CELLARS 미국 캘리포니아 Lodi 지역에서 와인을 생산하며 정착 했습니다. 1900년대 부터 본격적으로 브랜드를 만들어 와인을 생산했으며 미국에서 몇안되는 가족경영 회사로 스코토 셀러 모든 와인은 미국의 대표적인 스타일과 진정성이 보이도록 생산한다는 평가를 받고 있습니다. 스코토 셀러는 나파 밸리에서 처음으로 생산한 브랜드 입니다.'}\n",
      "{'대표 맛과 향': '깊고 진한 보라빛을 띠며, 크림 드 카시스, 블랙 베리, 로스팅된 원두, 바이올렛등의 향이 강하게 느껴집니다. 날카로운 구석없이 아주 풍부한 느낌을 주는 와인으로 끝없는 여운을 선사합니다. 나파의 유명 포도원들에게 둘러쌓인 최고의 밭만을 큐레이팅해 탄생한 와인으로, 그 퀄리티를 느낄 수 있습니다.  바디   탄닌  당도  산도', '핸들링': '적정온도 16-18 °C 와인잔 버사이즈 디캔팅 60분 적정시기 2020-2050', '페어링': '그릴 요리'}\n",
      "{'대표 맛과 향': '초록빛이 살짝 감도는 연한 노란색으로, 아카시아꽃 향기와 감귤류의 상큼한 향이 풍부하게 느껴집니다. 은은한 벌꿀 향이 입안에서 부드러운 느낌을 주고, 감미롭고 부드러운 산도와 미네랄이 훌륭한 조화를 이루며 생동감있는 여운을 선사합니다.  바디   탄닌   당도        산도', '핸들링': '적정온도 10-12 °C 와인잔 화이트 디캔팅 NO 적정시기 2020-2027', '페어링': '생선 요리 샤퀴테리'}\n",
      "{'대표 맛과 향': '  풍부한 흰꽃 향기와 복숭아, 파인애플 향을 머금은 볏짚 색깔의 우아하고 품격있는 화이트 와인입니다. 입에서 상큼함과 부드러움이 동시에 느껴지며 신선한 산미가 입맛을 자극하는 뛰어난 품질을 가지고 있습니다.', '핸들링': '적정온도 8-10°C 와인잔 화이트 디캔팅 NO', '와이너리이야기': '안티노리 · 토스카나, 이탈리아 ll 700년역사와 26대를 이어온 이태리 최고 와인 명가 ANTINORI 세계에서 가장 오래된 와인 생산자로 기네스북에 등재 되었습니다. 안티노리는 안티노리 가문의 와인 생산 역사는 1180년으로 거슬러 올라갑니다. 피렌체 와인 길드에 공식적으로 가입한 1386년을 와인 생산 원년 으로 한대도 끊이지 않고 가족 경영으로 이어져 가고 있는 이태리 최고 와인 명가입니다.'}\n",
      "{'대표 맛과 향': '잔에 따르는 순간 풍부하고 집중도 있는 검은 과실과 정향  등의 복합적인 아로마를 느낄 수 있습니다. 입에서는 짙은  과실 풍미를 시작으로 허브, 정향과 초콜릿 등의 복합적인 스파이스, 강건한 탄닌과 구조감이 느껴집니다.', '핸들링': '적정온도 18°C 와인잔 유니버셜 디캔팅 60분'}\n",
      "{'대표 맛과 향': '진한 루비빛의 컬러가 돋보입니다. 코에서는 블랙베리, 블랙체리, 플럼, 복숭아 등 달콤한 과일향, 다크 초콜렛의 향이 느껴집니다. 입에서는 검은 과일류, 감초의 풍미와  입안 가득한 부드러운 탄닌 균형 잡힌 산미 밸런스가 일품입니다.', '핸들링': '적정온도 14-18 °C 와인잔 유니버설 디캔팅 60분'}\n",
      "{'대표 맛과 향': '밝은 루비컬러가 돋보입니다. 코에서는 라즈베리, 크렌베리, 레드체리 등 붉은 계열의 과일향과 약간의 향신료 향의 조화가 매력적입니다. 입에서는 잘 익은 딸기향과 라즈베리의 과일풍미가 느껴지고, 입 안을  가득 채우는 우아하면서도 집중도 좋은 타닌과 적당한 산미의 조화가 긴 여운을 남깁니다.', '핸들링': '적정온도 14-18 °C 와인잔 아로마 콜렉터 디캔팅 30분'}\n",
      "{'대표 맛과 향': '짙은 가넷-보라빛이 감돌며 졸인 카시스와 야생 블루베리, 장미, 초콜릿 그리고 삼나무 향이 잔 밖으로 쏟아집니다. 미디움에서 풀바디감이며 훌륭한 집중도를 지닌 과실미와 부드러운 타닌감이 지금 마셔도 아주 좋은 상태며 7-8년은 충분히 매력을 보여줄 수 있는 와인입니다.', '핸들링': '적정온도 18°C 와인잔 유니버셜 디캔팅 60분'}\n",
      "{'대표 맛과 향': ' 갓 수확한 라즈베리, 체리, 블루플라워, 향신료를 뿌린  장미 꽃잎의 아로마와 미세한 탄닌감이 느껴집니다.  ', '핸들링': '적정온도 14-16 °C 와인잔 유니버셜 디캔팅 30분', '와이너리이야기': '양가라 · 남호주, 호주 YANGARRA 남호주 양가라는 지역의 맥라렌 베일 북동쪽에 위치한 단일 포도원 부지로 양가라의 고대 지질학과 높은 고도, 고양이 지중해성의 기후가 만나 최상의 포도를 위한 이상적인 재배조건을 제공하며 최상위 바이오 다이나믹 농법으로 와인을 생산합니다.'}\n",
      "{'대표 맛과 향': \"아몬드와 너트맥의 풍미에 꽃의 아로마가 더해져 복합적인   아한 풍미를 자랑합니다. 입 안에서는 스파이시함과 과실의 '    풍미가 느껴지는 풀바디의 파워풀한 와인입니다.\", '핸들링': '적정온도 16-17 °C 와인잔 피노누아 디캔팅 30분'}\n",
      "{'대표 맛과 향': ' 2019 - 가볍게 즐길 수 있는 라이트한 피노누아로 코에서 느껴지는   라즈베리, 정향, 버섯의 향이 기분좋게 만듭니다. 입에서는 히비스커스 그리고 블러드 오렌지 풍미가 느껴지며 깔끔한 피니쉬가 인상적입니다.', '핸들링': '적정온도 16-17 °C 와인잔 피노누아 디캔팅 30분'}\n",
      "{'대표 맛과 향': '검은 체리, 백후추와 함께 은은한 봄꽃의 아로마를 느낄 수  있습니다. 입에서는 밀도있는 블랙베리, 검은체리, 블루베리 등 어두운 베리류의 뉘앙스와 함께 부드러운 탄닌이 인상적 입니다. 넘치는 과즙미는 적절한 산도와 함께 긴 여운으로 마무리됩니다.', '핸들링': '적정온도 16-18 °C 와인잔 유니버셜 디캔팅 60분'}\n",
      "{'대표 맛과 향': ' 다크초콜릿과 제비꽃의 아로마가 블랙베리, 블랙체리 등의  과일 아로마와 함께 뒤엉켜 나타납니다. 입에서 느껴지는 풀바디의 바디감과 오크 뉘앙스로 텐션 와인의 퀄리티를 느낄 수 있으며 부드러운 탄닌과 적절한 산도의 밸런스로 깔끔한 마무리가 인상적입니다.', '핸들링': '적정온도 16-18 °C 와인잔 유니버셜 디캔팅 60분'}\n",
      "{'대표 맛과 향': '   생동감있는 루비 컬러와 함께 복합미있는 아로마 느껴집니다. 블랙베리, 라즈베리와 붉은 체리의 과일 아로마가 복합적으로 나타나며, 야생 장미 꽃 뉘앙스와 핑크 페퍼, 정향 등 스파이스 노트도 옅게 나타납니다. 입에서는 구조감이 탄탄한 탄닌과 함께 훌륭한 밸런스의 산뜻한 피니시가 길게 이어집니다.', '핸들링': '적정온도 16-18 °C 와인잔 유니버셜 디캔팅 30분', '와이너리이야기': \"오르넬라이아 · 토스카나, 이탈리아 오르넬라이아를 만들 때 만큼의 열정과 집중도로 나타낸 ORNELLAIA 레 세레 누오보 디테일은 레 세레 누오보가 진정한 세컨드 와인임을 알 수 있습니다. 멜롯, 카베르네 소비뇽, 카베르네 프랑과 쁘띠 베르도의 완벽한 밸런스는 맛의 깊이는 물론 숙성 잠재력까지 갖춘 완벽한 세컨드 와인일 뿐 아니라 그 자체로도 훌륭한 와인이라고 할 수 있습니다. 또한 매해 유명한 아티스트와의 협업(Vendemmia d'Artista)을 통해 레이블에서도 오르넬라이아가 가진 고유 힘과 아름다움을 표현합니다.\"}\n",
      "{'대표 맛과 향': '  오르넬라이아의 레 볼테 2019 빈티지는 훌륭한 밸런스와 표현력을 갖춘 와인입니다. 밝은 루비 컬러의 색과 대비되는 강렬한 붉은 베리와 장미꽃잎 향이 코에서 극명히 드러나며, 입에서는 풍부한 바디감과 함께 밀도있는 탄닌, 생동감 있는 산도가 이 와인의 지향점을 나타냅니다.', '핸들링': '적정온도 16-18 °C 와인잔 유니버셜 디캔팅 30분', '와이너리이야기': \"오르넬라이아 · 토스카나, 이탈리아 오르넬라이아를 만들 때 만큼의 열정과 집중도로 나타낸 ORNELLAIA 레 세레 누오보 디테일은 레 세레 누오보가 진정한 세컨드 와인임을 알 수 있습니다. 멜롯, 카베르네 소비뇽, 카베르네 프랑과 쁘띠 베르도의 완벽한 밸런스는 맛의 깊이는 물론 숙성 잠재력까지 갖춘 완벽한 세컨드 와인일 뿐 아니라 그 자체로도 훌륭한 와인이라고 할 수 있습니다. 또한 매해 유명한 아티스트와의 협업(Vendemmia d'Artista)을 통해 레이블에서도 오르넬라이아가 가진 고유 힘과 아름다움을 표현합니다.\"}\n",
      "{'대표 맛과 향': '강렬한 루비 컬러가 눈에 띕니다. 검은 과일을 시작으로 블랙베리와 제비꽃, 마지팬, 후추 등의 조화가 아름다운 아로마를 완성합니다.입에서는 탄탄한 구조감의 탄닌과 적절한 산도 밸런스가 루체만의 부드럽고 풍성한 특징을 여과없이 드러냅니다. 새틴같은 부드러운 텍스쳐로 피니시 에서도 집중도를 잃지 않으며 여운이 길게 유지됩니다.', '핸들링': '적정온도 16-18°C 와인잔 유니버셜 디캔팅 30분', '와이너리이야기': '루체 · 토스카나, 이탈리아 JUCE 루체는 자연 온기와 생명을 태양을 특히 에너지, 불어넣는 상징합니다. 이 와인의 빛과 비전, 그리고 영혼은 산지오 베제와 멜롯으로 완성되며 우아함과 완성도는 몬탈치노 전통과 토양을 재해석하며 만들어집니다. 매해 수확을 반복하며 태양과 토양, 기술과 전통 등 각각의 요소들이 완벽한 하모니를 이루는 균형점을 찾아가며, 2018년 빈티지는 그 균형의 정점이라고 할 수 있습니다.'}\n",
      "{'대표 맛과 향': ' 2018 생동감 넘치는 루비 컬러가 눈을 사로잡습니다. 블랙베리, 자두, 커런트 등 짙고 강렬한 과실향을 바탕으로 토스티한 바닐라   뉘앙스가 느껴집니다. 밀도 높은 바디감과 따라오는 부드러움 우아함을 느낄 수 있고 길게 이어지는 피니시는 옅은 잔당감과 과실감의 여운을 남깁니다.', '핸들링': '적정온도 12-14 °C 와인잔 유니버셜 디캔팅 30분'}\n",
      "{'대표 맛과 향': '진한 루비빛을 컬러가 돋보입니다. 코에서는 자두, 블랙베리, 체리와 함께 약간의 후추, 향신료 향이 느껴집니다. 입에서는 잘 익은 레드 과일과 검은 과일 풍미, 부드러운 탄닌과 생동감  넘치는 산미 밸런스가 훌륭합니다. 뒤이어 느껴지는 신선한   허브, 약간의 블렉페퍼 등 복합적이면서도 잘 짜인 구조가 긴 여운을 남깁니다.', '핸들링': '적정온도 16-18°C 와인잔 유니버셜 디캔팅 30분', '와이너리이야기': '쇼앤 스미스 · 애들레이드 힐, 호주 1988년 호주 최초의 마스트 오브 와인이자 호주 와인의 대표하는 인물로 자리 잡은 Michael Hill Smith와 보르도 대학에서 와인 메이킹을 배운 Martin Shaw가 힘을 합쳐 만든 와이너리로 현재 또 한 명의 마스터 오브 와인 David Lemire가 합세하여 호주 최고 와이너리로 올라선 실력파 와이너리입니다. 특히 James Suckling으로부터 매년 TOP 100에 오르며 그 실력을 증명하고 있습니다.'}\n",
      "{'대표 맛과 향': '검붉은색을 띄며 달콤한 꿀향과 과일향이 가득한 콩코드 포도 품종의 특징이 잘 드러납니다. 당도가  - 높지만 크리스피한 산도와 균형이 잘 잡혀있어 입안   가득 풍부함을 느낄 수 있으며 매우 부드럽게 즐길 수 있습니다.', '핸들링': '적정온도 8°C 와인잔 유니버설 디캔팅 30분'}\n",
      "{'대표 맛과 향': '아름다운 루비빛과 최상품의 라즈베리, 야생딸기 그리고 잘 말린 꽃향이 두드러지게 나타납니다. 입에서 우아하게 채우는 미디움-풀바디입니다.', '핸들링': '적정온도 16 °C 와인잔 유니버셜 디캔팅 30분', '와이너리이야기': '도멘 라바로쉬 · 론, 프랑스 BARROCHE 와이너리 소유주 바롯 패밀리는 17세기부터 밭을 소유했고 실제로 포도밭을 조성한 것은 19세기 말부터 입니다. 포도 납품만 하던 중 2002년 와이너리에 정식으로 일을 하게된 아들 Julien Barrot가 첫 와인 생산을 시작했고 양조를 시작 한지 3년만에 로버트 파커에게 2005년 빈티지가 100점을 맞으며 슈퍼스타가 되었습니다. 100점의 PURE는 100년이 넘은 그르나슈만 품종만을 이용해 부르고뉴와 비견될 만큼 섬세한 그르나슈를 보여주며, 나머지 와인들은 기본 70년 이상의 평균 나무 수령을 지닌 올드바인으로만 병입하고 있습니다.'}\n",
      "{'대표 맛과 향': '생동감 넘치는 어두운 루비색이 눈에 띄며 잔에 따르는 순간 매우 다양하고 풍성한 아로마가 표현됩니다. 잘 익은 체리향을 바탕으로 한 감초, 스파이스와 함께 달콤한 흙의 향기가 공간을   채웁니다. 풀바디 와인으로 새틴같은 우아함, 힘을 동시에 느낄     수 있으며 탄탄한 구조감, 탄닌이 과실미를 온전히 감싸 안으며 충분한 길이의 피니쉬로 완벽하게 마무리됩니다.', '핸들링': '적정온도 16 °C 와인잔 아로마 콜렉터 디캔팅 30분', '와이너리이야기': '도멘 퐁소 · 부르고뉴, 프랑스 모레 생드니에 위치한 와이너리로, 오랜 전통에도 불구하고 DOMA NE PONSO 전형적이지 않은 특별함을 보이는 와이너리입니다. 늦은 수확과 특별한 줄기 제거 방식, 오크 배럴 숙성 방식으로 도멘 퐁소만의 장기숙성 가능한 특별한 스타일을 만듭니다. 특히 도멘 퐁소는 새 오크 배럴(new oak casks)에서 와인을 숙성시켜 와인에 오크 향을 입히는 유행을 피하고, 건조된 오크통을 재사용하는 방식으로 와인을 숙성시켜 숙성된 와인 그 자체의 맛과 향을 유지합니다. 쉬운 길을 선택하지 않고 부르고뉴의 장인 정신을 바탕으로 최고의 퀄리티 와인을 생산해내는 노력을 기울이고 있습니다.'}\n",
      "{'대표 맛과 향': '끌로 드 부조는 도멘 퐁소 포도밭 몇몇 구획에서 생산된 포도로 만들어지는데, 그 중 하나는 -  며 다른 하나는 샤또 드 루이 라뚜르의 바로 아래쪽에 위치해있습니다. 매우 고급스러운 블랙베리와 라즈베리, 카시스, 자두 아로마가    코를 자극합니다. 풍부한 풀바디 와인으로 산도가 뒷받침되어    잘 정제된 탄닌과 함께 복합미와 구조감을 보여줍니다. 장기   숙성용으로 적합한 와인입니다.', '핸들링': '적정온도 14-16 °C 와인잔 아로마 콜렉터 디캔팅 60분', '와이너리이야기': '도멘 폴소 · 부르고뉴, 프랑스 모레 생 드니에 위치한 와이너리로, 오랜 전통에도 불구하고 DOMA NE PONSO 않은 전형적이지 특별함을 보이는 와이너리입니다. 늦은 수확과 특별한 줄기 제거 방식, 오크 배럴 숙성 방식으로 도멘 퐁소만의 장기숙성 가능한 특별한 스타일을 만듭니다. 특히 도멘 퐁소는 새 오크 배럴(new oak casks)에서 와인을 숙성시켜 와인에 오크 향을 입히는 유행을 피하고, 건조된 오크통을 재사용하는 방식으로 와인을 숙성시켜 숙성된 와인 그 자체의 맛과 향을 유지합니다. 쉬운 길을 선택하지 않고 부르고뉴의 장인 정신을 바탕으로 최고의 퀄리티 와인을 생산해내는 노력을 기울이고 있습니다.'}\n",
      "{'대표 맛과 향': \"야생 붉은 베리류 과일 뉘앙스와 카시스와 흙 뉘앙스 스파이스, 제비꽃과 함께 약간의 야생동물 가죽향이 느껴집니다. 탄탄한 탄닌, 완벽한 산도의 밸런스를     '   바탕으로 불꽃놀이 같은 피니쉬와 함께 마지막을   장식합니다.\", '핸들링': '적정온도 16 °C 와인잔 아로마 콜렉터 디캔팅 30분', '와이너리이야기': '도멘 퐁소 · 부르고뉴, 프랑스 모레 생드니에 위치한 와이너리로, 오랜 전통에도 불구하고 DOMA NE PONSO 전형적이지 않은 특별함을 보이는 와이너리입니다. 늦은 수확과 특별한 줄기 제거 방식, 오크 배럴 숙성 방식으로 도멘 퐁소만의 장기숙성 가능한 특별한 스타일을 만듭니다. 특히 도멘 퐁소는 새 오크 배럴(new oak casks)에서 와인을 숙성시켜 와인에 오크 향을 입히는 유행을 피하고, 건조된 오크통을 재사용하는 방식으로 와인을 숙성시켜 숙성된 와인 그 자체의 맛과 향을 유지합니다. 쉬운 길을 선택하지 않고 부르고뉴의 장인 정신을 바탕으로 최고의 퀄리티 와인을 생산해내는 노력을 기울이고 있습니다.'}\n",
      "{'대표 맛과 향': '붉은 베리류, 체리, 제비꽃 향과 함께 가벼운 후추향과  바닐라 뉘앙스로 품격을 더합니다. 입 안에서는 붉은 베리류, 옅은 허브향, 스파이스 등과 함께 섬세한 탄닌 & 으로 부드럽고 유려한 텍스처를 보여줍니다.', '핸들링': '적정온도 14-16 °C 와인잔 아로마 콜렉터 디캔팅 30분', '와이너리이야기': '제인 에어 · 브루고뉴, 프랑스 Fane&gre 2004년 꼬뜨 드 본에 자리 잡은 제인 에어는 현재 도멘 뉴맨에서 와인메이커로 일하고 있으며, 또한 2011년부터 도미니크 라퐁과 함께 메종 제인 에어를 운영하며 본격적 으로 자신만의 와인을 만들기 시작하였습니다. 부르고뉴 앙 프리메르 테이스팅, Meet the Grower 와인 테라피 세션 등 여러 와인 이벤트를 통해 수년간 자신의 와인을 대중들에게 알렸습니다. 그 결과 잰시스 로빈슨, 팀 앳킨 그리고 닐 마틴 등 세계적인 와인 평론가들에게 극찬을 받고 있습니다. 그녀는 호주인이자 여성 최초로 La Revue de France에서 2020년 올해 네고시앙으로 선정, 프랑스 유명 잡지 Le Guide des Meilleurs Vins de France 2021 에서 26명의 Two Star 생산자 중 한 명으로 선정되었을 정도로 와인메이킹 재능을 인정받고 있습니다.'}\n",
      "{'대표 맛과 향': ' 밝은 루비 컬러가 돋보이며, 코에서는 라즈베리, 크랜베리, 레드 베리와 같은 베리류의 향을 맡을 수 있습니다. 입에선 라즈베리, 크랜베리, 자두, 체리 등 과일의 싱그러운 풍미와 함께 감초, 약간의 향신료와 허브향이 뒤이어 느껴집니다.  입 안 가득 느껴지는 부드러운 탄닌, 적당한 산미 밸런스가 일품입니다.  바디   탄닌  당도  산도', '핸들링': '적정온도 14-18 °C 와인잔 버사이즈 디캔팅 30분 적정시기 2021-2025', '페어링': '돼지고기 수육 치즈 피자'}\n",
      "{'대표 맛과 향': '최소 15년 이상 장기숙성력을 지닌 이 와인은 어두운 베리류와 체리, 훈연처리된 육류, 스파이스와 제비꽃의 아로마를 층층이   보여줍니다. 풀바디에 가까운 바디감을 바탕으로 집중도 있는   맛의 구조감이 특징이며 긴 피니시에서는 파우더리한 탄닌도 느낄 수 있습니다.', '핸들링': '적정온도 16 °C 와인잔 아로마 콜렉터 디캔팅 30분', '와이너리이야기': '도멘 퐁소 · 부르고뉴, 프랑스 모레 생드니에 위치한 와이너리로, 오랜 전통에도 불구하고 DOMA NE PONSO 전형적이지 않은 특별함을 보이는 와이너리입니다. 늦은 수확과 특별한 줄기 제거 방식, 오크 배럴 숙성 방식으로 도멘 퐁소만의 장기숙성 가능한 특별한 스타일을 만듭니다. 특히 도멘 퐁소는 새 오크 배럴(new oak casks)에서 와인을 숙성시켜 와인에 오크 향을 입히는 유행을 피하고, 건조된 오크통을 재사용하는 방식으로 와인을 숙성시켜 숙성된 와인 그 자체의 맛과 향을 유지합니다. 쉬운 길을 선택하지 않고 부르고뉴의 장인 정신을 바탕으로 최고의 퀄리티 와인을 생산해내는 노력을 기울이고 있습니다.'}\n",
      "{'대표 맛과 향': ' 블랙 체리의 향과 함께 은은한 스파이시 노트를 바탕으로 --- 섬세한 과일 아로마 등 다양한 향이 코를 자극합니다. 입  에서는 신선한 산도와 잘 정제된 탄탄한 탄닌이 완벽에 & 가까운 밸런스와 구조감을 보입니다.', '핸들링': '적정온도 14-16 °C 와인잔 아로마 콜렉터 디캔팅 30분', '와이너리이야기': '제인 에어 · 브루고뉴, 프랑스 Fane&gre 2004년 꼬뜨 드 본에 자리 잡은 제인 에어는 현재 도멘 뉴맨에서 와인메이커로 일하고 있으며, 또한 2011년부터 도미니크 라퐁과 함께 메종 제인 에어를 운영하며 본격적 으로 자신만의 와인을 만들기 시작하였습니다. 부르고뉴 앙 프리메르 테이스팅, Meet the Grower 와인 테라피 세션 등 여러 와인 이벤트를 통해 수년간 자신의 와인을 대중들에게 알렸습니다. 그 결과 잰시스 로빈슨, 팀 앳킨 그리고 닐 마틴 등 세계적인 와인 평론가들에게 극찬을 받고 있습니다. 그녀는 호주인이자 여성 최초로 La Revue de France에서 2020년 올해 네고시앙으로 선정, 프랑스 유명 잡지 Le Guide des Meilleurs Vins de France 2021 에서 26명의 Two Star 생산자 중 한 명으로 선정되었을 정도로 와인메이킹 재능을 인정받고 있습니다.'}\n",
      "{'대표 맛과 향': '잘 익은 블랙베리와 자두, 딸기향 등 풍부한 과일향이 겹겹이 층을 이룬 강렬한 아로마의 피노누아입니다. 스파이시함과 남성적인 면모까지 보여주며 다채로운 --- 매력을 선보이며 입안에서는 풍부한 바디감과 구조감 & 있는 탄닌이 적절한 산도와 조화를 이루어 긴 피니시로 마무리합니다.', '핸들링': '적정온도 14-16 °C 와인잔 아로마 콜렉터 디캔팅 30분', '와이너리이야기': '제인 에어 · 브루고뉴, 프랑스 Fane&gre 2004년 꼬뜨 드 본에 자리 잡은 제인 에어는 현재 도멘 뉴맨에서 와인메이커로 일하고 있으며, 또한 2011년부터 도미니크 라퐁과 함께 메종 제인 에어를 운영하며 본격적 으로 자신만의 와인을 만들기 시작하였습니다. 부르고뉴 앙 프리메르 테이스팅, Meet the Grower 와인 테라피 세션 등 여러 와인 이벤트를 통해 수년간 자신의 와인을 대중들에게 알렸습니다. 그 결과 잰시스 로빈슨, 팀 앳킨 그리고 닐 마틴 등 세계적인 와인 평론가들에게 극찬을 받고 있습니다. 그녀는 호주인이자 여성 최초로 La Revue de France에서 2020년 올해 네고시앙으로 선정, 프랑스 유명 잡지 Le Guide des Meilleurs Vins de France 2021 에서 26명의 Two Star 생산자 중 한 명으로 선정되었을 정도로 와인메이킹 재능을 인정받고 있습니다.'}\n",
      "{'대표 맛과 향': '짙은 루비 레드 컬러가 돋보입니다. 코에서는 잘 익은 블랙베리, 블랙체리, 블랙커런트 등 검은 계열 과일향과 약간의 향신료향의 조화가 좋습니다. 검은 계열의 과일 풍미와 함께 뒤이어 느껴지는 감초와 향신료의 풍미가 긴 여운을 더합니다. 풀바디 와인으로 입안 가득 느껴지는  균형 잡힌 탄닌과 산미의 밸런스가 매력적이며,  바디   탄닌  당도  산도', '핸들링': '적정온도 16-18 °C 와인잔 버사이즈 디캔팅 60분 적정시기 2022-2030', '페어링': '비프 스테이크 갈비찜'}\n",
      "{'대표 맛과 향': '깊고 진한 루비 빛을 띄며 블랙체리, 블랙커런트, 블랙베리   등 잘 익은 과실향이 퍼지고 뒤이어 후추, 코코아, 풍부하게  그리고 토바코 등의 향이 따라옵니다. 입 안에서는 프레쉬  하고 생동감 넘치는 산도와 스파이시함을 느낄 수 있습니다.', '핸들링': '적정온도 16-18 °C 와인잔 유니버셜 디캔팅 30분', '와이너리이야기': \"로네아 론, 프랑스 COST GOOD LEAGUE RHONEA 2015년 설립된 신생 회사로 프랑스 남부 론 지역에 위치해 있습니다. 전통을 이어가며 새로운 세대를 위한 도전의 선구자가 되기 위해 200명 이상 와인재배 장인이 모인 와인 재배자 조합, 공정하고 윤리적으로 와인을 생산하는 신세대 와이너리들이 모여 설립한 협동 조합 회사입니다. 장인들의 강력한 노하우를 기반으로 대를 이어 론 지역의 가장 명성있는 지공다스, 바케이라 등의 와인을 생산하고 있으며 '맛있는 순간을 위한 맛있는 와인'을 슬로건으로 삼아 로네아 모든 와인들은 음식과의 조화를 가장 중요시 하고 있습니다. 떼루아의 지속성을 위해 환경 보호에 대한 강한 신념을 지키고 있으며 지속 가능한 바이오 농법을 사용하고 있습니다.\"}\n",
      "{'대표 맛과 향': '짙은 블랙체리, 레드체리향과 함께 옅은 정도의 후추 향과 장미꽃잎 향을 보여줍니다. 입 안에서는 넘치는 과즙의 붉은 과일 뉘앙스가 지배적이며 우아한 꽃의     - 느낌과 은은한 스파이스가 느껴집니다. 섬세한 탄닌과  & 깔끔한 산도를 바탕으로 우아하고 탄탄한 구조감을 보여줍니다.', '핸들링': '적정온도 14-16 °C 와인잔 아로마 콜렉터 디캔팅 30분', '와이너리이야기': '제인 에어 · 브루고뉴, 프랑스 Fane&gre 2004년 꼬뜨 드 본에 자리 잡은 제인 에어는 현재 도멘 뉴맨에서 와인메이커로 일하고 있으며, 또한 2011년부터 도미니크 라퐁과 함께 메종 제인 에어를 운영하며 본격적 으로 자신만의 와인을 만들기 시작하였습니다. 부르고뉴 앙 프리메르 테이스팅, Meet the Grower 와인 테라피 세션 등 여러 와인 이벤트를 통해 수년간 자신의 와인을 대중들에게 알렸습니다. 그 결과 잰시스 로빈슨, 팀 앳킨 그리고 닐 마틴 등 세계적인 와인 평론가들에게 극찬을 받고 있습니다. 그녀는 호주인이자 여성 최초로 La Revue de France에서 2020년 올해 네고시앙으로 선정, 프랑스 유명 잡지 Le Guide des Meilleurs Vins de France 2021 에서 26명의 Two Star 생산자 중 한 명으로 선정되었을 정도로 와인메이킹 재능을 인정받고 있습니다.'}\n",
      "{'대표 맛과 향': '밝은 레드 컬러를 띄며 코에서는 꽃 향, 산뜻한 딸기, 레드 체리, 블랙베리 그리고 약간의 감초향의 조화가 좋습니다.   입에선 레드체리, 크랜베리, 블랙베리, 블랙체리 등 잘 익은  과일 풍미가 매력적이며 뒤따라 오는 약간의 향신료향과    - 꽃향이 복잡성을 더합니다. 입안 가득 느껴지는 집중도 좋은 탄닌과 균형잡힌 산미의 밸런스가 긴 여운을 남깁니다.', '핸들링': '적정온도 14-18°C 아로마 와인잔 콜렉터 디캔팅 30분', '와이너리이야기': '도멘 마르샹 그리요 · 부르고뉴, 프랑스 DOMAINE MARCHAND-GRILLOT 1950년 모레생드니의 마르샹 가문과 제브리 샹베르땡의 그리요 가문의 결합으로 탄생한 와이너리입니다. 현재는 자끄 마르샹과 아들 에티엔 마르샹이 운영하며, 에티엔은 와인 양조 전문 고등학교 졸업 후 파리로 가 와인 산업에 대한 BTS(brevet de technicien superieur 전문 기술 자격 학교) 과정을 졸업, 미국 오레곤에서 다양한 포도 재배자 에게 노하우를 배우고 현대적인 와인 양조에 대한 경험을 쌓았습니다. 자끄 마르샹의 전통적인 와인 양조 지식과 경험을 유지하고 에티엔의 현대적 와인 양조 기술을 추가 하면서 그들만의 개성 있는 와인을 선보이고 있습니다.'}\n",
      "{'대표 맛과 향': '깊은 퍼플빛의 이 와인은 말린 크랜베리, 말린 구기자, 붉은 고추의 풍만한 아로마가 아름답습니다. 줄기제거와 10시간에 걸친 침용으로 추가적인 색과 탄닌, 과실 아로마의 캐릭터가  더욱 두드러집니다. 랑그독 전통 방식으로 발효되고 양조되어  익은 과일, 토바코, 매운 견과류, 구운 파프리카 가루의 맛이 조화로우며 부드럽게 스며든 탄닌과 질감이 돋보입니다.', '핸들링': '적정온도 16-18 °C 와인잔 유니버셜 디캔팅 30분'}\n",
      "{'대표 맛과 향': '강렬한 색상으로 보랏빛이 반짝이며 반사됩니다. 프레쉬한  블랙커런트, 블랙베리, 블루베리의 향이 맡아지며 아직 덜    자란 숲속을 걷는 듯한 가벼운 퍼집니다. 입에서는    풀내음이 숲속 열매를 따서 맛보는 듯한 신선함과 약한 스파이시함이 느껴지며 쫀쫀한 탄닌이 인상깊은 마무리를 선사합니다.', '핸들링': '적정온도 16-18 °C 와인잔 유니버셜 디캔팅 30분', '와이너리이야기': \"로네아 론, 프랑스 COST GOOD LEAGUE RHONEA 2015년 설립된 신생 회사로 프랑스 남부 론 지역에 위치해 있습니다. 전통을 이어가며 새로운 세대를 위한 도전의 선구자가 되기 위해 200명 이상 와인재배 장인이 모인 와인 재배자 조합, 공정하고 윤리적으로 와인을 생산하는 신세대 와이너리들이 모여 설립한 협동 조합 회사입니다. 장인들의 강력한 노하우를 기반으로 대를 이어 론 지역의 가장 명성있는 지공다스, 바케이라 등의 와인을 생산하고 있으며 '맛있는 순간을 위한 맛있는 와인'을 슬로건으로 삼아 로네아 모든 와인들은 음식과의 조화를 가장 중요시 하고 있습니다. 떼루아의 지속성을 위해 환경 보호에 대한 강한 신념을 지키고 있으며 지속 가능한 바이오 농법을 사용하고 있습니다.\"}\n",
      "{'대표 맛과 향': ' 강렬한 루비빛을 띄며 바이올렛 향이 퍼지다가 반짝이는  과실향과 옅은 패소향이 뒤섞여 따라옵니다. 입 안에서는  풍만함이 느껴지고 소나무, 멘솔, 야생딸기 등의 아로마와 부드러운 탄닌이 어우러져 긴 여운을 남깁니다.', '핸들링': '적정온도 16-18 °C 와인잔 유니버셜 디캔팅 30분', '와이너리이야기': \"로네아 론, 프랑스 COST GOOD LEAGUE RHONEA 2015년 설립된 신생 회사로 프랑스 남부 론 지역에 위치해 있습니다. 전통을 이어가며 새로운 세대를 위한 도전의 선구자가 되기 위해 200명 이상 와인재배 장인이 모인 와인 재배자 조합, 공정하고 윤리적으로 와인을 생산하는 신세대 와이너리들이 모여 설립한 협동 조합 회사입니다. 장인들의 강력한 노하우를 기반으로 대를 이어 론 지역의 가장 명성있는 지공다스, 바케이라 등의 와인을 생산하고 있으며 '맛있는 순간을 위한 맛있는 와인'을 슬로건으로 삼아 로네아 모든 와인들은 음식과의 조화를 가장 중요시 하고 있습니다. 떼루아의 지속성을 위해 환경 보호에 대한 강한 신념을 지키고 있으며 지속 가능한 바이오 농법을 사용하고 있습니다.\"}\n",
      "{'대표 맛과 향': '진한 자주빛이 감도는 루비와 보라 틴트 컬러가 돋보입니다.    아주 풍부한 작은 붉은베리 향, 블랙페퍼와 정제된 스파이스   아로마가 느껴집니다. 입 안에서는 뛰어난 섬세한 구조감과 우아한 탄닌, 아름다운 긴 피니쉬가 잘 조화를 이룹니다.', '핸들링': '적정온도 13-14 °C 와인잔 피노누아 디캔팅 60분', '와이너리이야기': \"샤또 드 샤미레 · 부르고뉴, 프랑스 Chiteau 전체 포도밭 면적의 37 헥타르 중 절반 정도가 일등급의 D'ESCLANS 밭으로서, 은은한 과일향이 살아 있는 부르고뉴 와인을 생산합니다. 연간 생산량이 많지 않으면서 부르고뉴의 테루아를 잘 살린 와인을 생산함으로써 소장 가치가 있는 와인으로 인정받고 있습니다. 100% 손으로 수확하며, 부르고뉴에서 가격대비 최고 품질을 자랑하는 브랜드로 각광받고 있습니다.\"}\n",
      "{'대표 맛과 향': '짙은 진홍색이 돋보이며 코에선 블랙커런트, 블랙베리, 블루베리, 카시스등 검은 계열의 과일향이 느껴집니다. 약간의 향신료와 허브 등 복합적인 향의 조합이 매력적 으로 느껴지며 입에서는 농익은 블랙체리, 석류의 과일 풍미와 구운 향신료 복합미가 일품입니다. 풀바디 와인 으로 입안 가득 느껴지는 탄닌, 균형 잡힌 산미 밸런스가   긴 여운을 남깁니다.  바디    탄닌  당도  산도', '핸들링': '적정온도 14-18 °C 와인잔 버사이즈 디캔팅 60분 적정시기 2021-2030', '페어링': '양갈비 비프 스테이크'}\n",
      "{'대표 맛과 향': '입맛을 돋우는 붉은 과실향에 생생한 피니쉬가 좋은 와인입니다. 드라이하며 고급스러운 탄닌의 느낌이    훌륭하며, 당장 마셔도 좋지만 숙성 후에는 잠재력을    더욱 발휘할 수 있어 충분히 기다렸다 마셨을 때 그 기다림의 가치를 느낄 수 있는 와인입니다.', '핸들링': '적정온도 13-14 °C 와인잔 아로마 콜렉터 디캔팅 30분', '와이너리이야기': \"샤또 드 샤미레 · 부르고뉴, 프랑스 Chiteau 전체 포도밭 면적의 37 헥타르 중 절반 정도가 일등급의 D'ESCLANS 밭으로서, 은은한 과일향이 살아 있는 부르고뉴 와인을 생산합니다. 연간 생산량이 많지 않으면서 부르고뉴의 테루아를 잘 살린 와인을 생산함으로써 소장 가치가 있는 와인으로 인정받고 있습니다. 100% 손으로 수확하며, 부르고뉴에서 가격대비 최고 품질을 자랑하는 브랜드로 각광받고 있습니다.\"}\n",
      "{'대표 맛과 향': '짙은 보라빛 와인으로 블랙커런트 등 검은 과일 아로마가 지배적으로 나타납니다. 흑연, 그린 페퍼와 함께 나무향과 올리브의 뉘앙스도 옅게 느낄 수 있습니다. 입에서는 검은  과일 뉘앙스와 함께 벨벳 같은 매끄러운 탄닌이 신선함을  주고, 잘 정제된 탄닌과 산도의 밸런스로 긴 피니시가 유지 됩니다.', '핸들링': '적정온도 16 °C 와인잔 아로마 콜렉터 디캔팅 30분', '와이너리이야기': '끌로 벨란 · 론, 프랑스 Clos Bellane 남부 론 지역 가장 북쪽 발레아 지역 외곽 언덕에 위치한 작고 유니크한 도멘으로, 최고 고도 400m를 자랑합니다. 400m 고도의 서늘한 기후를 바탕으로 유기농으로 재배한 포도의 컴비네이션을 통해 꼬뜨 뒤 론 지역 최고 품질 와인 생산으로 알려져 있습니다. 재능있는 와인메이커 스테판 베듀가 꼬뜨 뒤 론 빌라쥐 와인의 새로운 스타일 생산을 위해 2010년 끌로 벨란을 매입했으며, 단시간 내에 남부 론 최고 수준의 와인을 생산하는 도멘으로 유명세를 얻고 있습니다.'}\n",
      "{'대표 맛과 향': '짙은 보랏빛을 보이는 이 와인은 블랙체리, 블랙베리 등 검은 베리류 아로마를 바탕으로 옅은 커피 향을 풍기며, \" \" 오픈 후 시간이 지나면 바닐라 아로마도 느낄수 있습니다.   벨벳처럼 부드러운 탄닌과 산도를 통해 탄탄한 구조감이 느껴지며, 과일 뉘앙스 위주의 긴 피니시가 인상적입니다.', '핸들링': '적정온도 16 °C 와인잔 유니버셜 디캔팅 60분', '와이너리이야기': '끌로 벨란 · 론, 프랑스 Clos Bellane 남부 론 지역 가장 북쪽 발레아 지역 외곽 언덕에 위치한 작고 유니크한 도멘으로, 최고 고도 400m를 자랑합니다. 400m 고도의 서늘한 기후를 바탕으로 유기농으로 재배한 포도의 컴비네이션을 통해 꼬뜨 뒤 론 지역 최고 품질 와인 생산으로 알려져 있습니다. 재능있는 와인메이커 스테판 베듀가 꼬뜨 뒤 론 빌라쥐 와인의 새로운 스타일 생산을 위해 2010년 끌로 벨란을 매입했으며, 단시간 내에 남부 론 최고 수준의 와인을 생산하는 도멘으로 유명세를 얻고 있습니다.'}\n",
      "{'대표 맛과 향': '라펠 밸리에서 엄선된 포도로 만든 이 카르메네르는 깊고 진한 붉은 색상을 보여주며, 자두와 블랙 커런트의 섬세한 아로마와 삼나무 향을 맡을 수 있습니다. 입에선   밀도가 높고, 길고 우아한 마무리로 이어지는 벨벳 같은  탄닌을 느낄 수 있습니다.    바디   탄닌  당도  산도', '핸들링': '적정온도 16-18 °C 와인잔 유니버설 디캔팅 30분 적정시기 2020-2025', '페어링': '붉은 육류 요리 크림 치즈'}\n",
      "{'대표 맛과 향': '  보라빛 음영이 비치는 진한 루비 빛을 띄며 블랜커런트, 51180 자두 등 강렬한 과실 향에 시럽에 절인 과일같은 달콤한  향이 바닐라향, 감초향과 함께 복합적으로 퍼져옵니다.  강렬하고 풍부한 아로마와 벨벳같이 부드러운 탄닌이 좋은 구조감을 보여줍니다.', '핸들링': '적정온도 18-19°C 와인잔 버사이즈 디캔팅 60분'}\n",
      "{'대표 맛과 향': '라즈베리, 부싯돌, 허브 향이 퍼지고 해발 400에 위치한 석회질 토양에서 자란 포도는 넘치는 미네랄리티와 우아한 바디감을 만들어냅니다. 천연효모를 사용하고 이산화황 첨가를 최소화하여 내추럴하게 만들어 포도밭의 유니크한   특성이 순수하게 드러납니다. 샤또 네프 뒤 파프 풍만함과 -- 높은 알콜 도수를 갖고 있고, 순도 높은 과일향과 실크같이 부드러운 탄닌은 부르고뉴 레드의 신선함을 연상시킵니다.', '핸들링': '적정온도 16 °C 와인잔 아로마 콜렉터 디캔팅 30분', '와이너리이야기': '끌로 벨란 · 론, 프랑스 Clos Bellane 남부 론 지역 가장 북쪽 발레아 지역 외곽 언덕에 위치한 작고 유니크한 도멘으로, 최고 고도 400m를 자랑합니다. 400m 고도의 서늘한 기후를 바탕으로 유기농으로 재배한 포도의 컴비네이션을 통해 꼬뜨 뒤 론 지역 최고 품질 와인 생산으로 알려져 있습니다. 재능있는 와인메이커 스테판 베듀가 꼬뜨 뒤 론 빌라쥐 와인의 새로운 스타일 생산을 위해 2010년 끌로 벨란을 매입했으며, 단시간 내에 남부 론 최고 수준의 와인을 생산하는 도멘으로 유명세를 얻고 있습니다.'}\n",
      "{'대표 맛과 향': '보랏빛 컬러가 눈에 띄며 검은체리, 보이젠베리, 블랙커런트 등 검은 베리류의 아로마를 바탕으로 옅은 숯의 향이 느껴집니다.   입에선 검은 라즈베리, 토바코 잎의 뉘앙스와 함께 중간 강도의 탄닌으로 부드러운 텍스처를 느낄 수 있습니다.', '핸들링': '적정온도 16-18 °C 와인잔 유니버셜 디캔팅 30분', '와이너리이야기': \"맨딩 월 · 나파밸리, 미국 M 맨딩 월이라는 이름은 로버트 프로스트 동명의 시에서 따온 이름입니다. 건강한 관계를 위해서는 상호간의 적정 거리를 유지해야 한다는 의미의 '울타리가 튼튼해야 좋은 이웃이 된다(Good fences make good neighbors)'는 맨딩 월의 시구가 철학입니다. 각자 분야 최고 수준 전문가들이 모여 만든 서로를 존중하며 각자 역량을 최고로 발휘하여 만든 브랜드로 특히 양조 컨설팅을 맡은 토마스 리버스 브라운은 나파 밸리에서 가장 유명세와 존경을 받고 있는 와인 메이커 로서 로버트 파커와 와인 스펙테이터로부터 100점을 2차례 동시에 수상한 이례적인 기록을 가지고 있습니다.\"}\n",
      "{'대표 맛과 향': '  불투명한 보랏빛에 가까운 컬러가 눈에 띄며 정향, 블랙베리 잼, 삼나무, 베이킹 초콜릿 아로마가 복합적으로 나타납니다. 블루베리, 시나몬, 시가박스, 카시스, 제비꽃과 미네랄리티가 완벽한 밸런스로 꾸준히 이어지며 잘 정제된 탄닌과 부드러운 산도가 끝까지 완벽한 밸런스를 보이며, 꽃 뉘앙스 피니시가 마지막까지 아름답게 마무리합니다.', '핸들링': '적정온도 16-18 °C 와인잔 유니버셜 디캔팅 30분', '와이너리이야기': \"포스트 퍼레이드 · 나파밸리, 미국 POST PARADE 2008년 켄터키 더비 파티에서 브룩 스미스가 나파 밸리 와인 상인 프랭크 닷즐러를 만나면서 시작됐습니다. 각자 자기 분야에 대해 이야기를 하던 중, 브룩이 무심코 던진 STRETCH DR '나파 밸리에서 언젠가 와인을 만들어 보고 싶다'는 말에 프랭크 닷즐러가 계획을 세웠고, 천부적인 와인 메이커 토마스 브라운이 합류하며 지금 나파 밸리에서 가장 핫한 와인 중 하나인 포스트 퍼레이드의 역사가 시작됐습니다. 포스트 퍼레이드는 경기장에 들어선 경주마가 출발 전, 게이트 앞에서 대기하는 짧은 시간을 나타낸다고 합니다. 지금까지의 큰 노력을 바탕으로 하는 기대감과 완벽함을 나타내는 단 몇 분의 시간, 그 순간의 열정을 와인메이킹과 포도재배에 담으려 노력한 브랜드입니다.\"}\n",
      "{'대표 맛과 향': '보라빛 루비색을 띄는 와인으로 자두, 라즈베리같이 잘 익은  블랙, 레드베리 계열 아로마를 시작으로 바닐라와 커피향이  섞인듯한 노트의 와인입니다. 미디움바디로 부드러운 탄닌과 실키한 피니시를 잘 나타냅니다.', '핸들링': '적정온도 16-18 °C 와인잔 유니버셜 디캔팅 30분'}\n",
      "{'대표 맛과 향': '짙은 루비색이 눈에 띄며 붉은 과일과 검은 과일 아로마를 바탕으로 정향, 자두, 스파이스, 솔잎 등 다채로운 아로마의 레이어로 코를 자극합니다. 입에선 우아하지만 강렬한 검은 체리와 라즈베리 등 잘 익은 과일과 옅은 라벤더 오일 및 라일락의 뉘앙스를 느낄 수 있습니다. 잘 정제된 탄닌과     적당한 산도의 완벽한 밸런스를 통해 구조감을 느낄 수 있으며, 피니시 역시 힘을 잃지 않고 길게 유지됩니다.', '핸들링': '적정온도 16-18°C 아로마 와인잔 콜렉터 디캔팅 30분', '와이너리이야기': \"보어스 뷰 캘리포니아, 미국 2007년 슈레이더는 데이빗 스테이너, 주디 스테이너와 BOARS'VIEW 함께 소노마 해안가 근처 밭을 매입했고, 포도밭 관리는 울리세즈 발데즈가, 와인메이킹은 토마스 브라운이 맡고 각 분야 최고 권위자로 이루어진 드림팀이 완성됐습니다. 이들은 야생 풀밭과도 같았던 지역을 세계적으로 유명한 보어스 뷰 생산지로 탈바꿈 시키며 최고 품질의 와인을 생산하고 있습니다.\"}\n",
      "{'대표 맛과 향': '응축된 붉은 베리와 흙, 옅은 스파이스의 아로마를 강하게 느낄 수 있습니다. 입에서는 무게감 있고 생동감 넘치는 ·! 미네랄리티가 느껴지고, 신선하고 밝은 산도에 잘 정제된   탄닌은 매끄럽고 둥글게 느껴집니다. 과실감 넘치는 맛의 여운이 우아하고 길게 이어집니다.', '핸들링': '적정온도 18-19°C 와인잔 버사이즈 디캔팅 60분', '와이너리이야기': '도멘 마크로이 · 부르고뉴, 프랑스 도멘 현 와인메이커 알렉산드리느 지브리 마크로이 로이는 Domaine Marc ROY 샹베르땡과 마르사네 지역에 위치한 로이 가문의 포도밭을 4대째 운영하고 있습니다. 4헥타르에 불과한 소규모 밭이나 개인 정원처럼 최고의 노력으로 포도를 재배하고 있습니다. 대부분의 나무가 100년 이상의 수령을 가진 올드바인 밭을 관리하는데 있어 알렉산드린느 로이는 진정한 농부의 자세로 끊임없이 밭을 갈고 뿌리를 관리하는 등 포도 자체의 품질 향상에 최선의 노력을 다하고 있으며, 최고 품질의 포도를 통해 세계적으로 인정받는 사랑스럽고 우아한 와인을 생산 하고 있습니다.'}\n",
      "{'대표 맛과 향': '  짙고 어두운 보랏빛의 컬러가 눈에 띕니다. 다크 초콜릿,   육두구와 블랙베리 콩포트와 삼나무 아로마가 다채롭게 펼쳐지며 입에서는 자두와 토바코 잎, 정향, 카시스 등이    레이어를 이루며 존재감을 드러냅니다. 충분한 산도와 잘 정제된 탄닌은 유려한 피니시를 길게 유지하며, 장기 숙성력을 갖춘 와인임을 느끼게 합니다.', '핸들링': '적정온도 16-18 °C 와인잔 유니버셜 디캔팅 30분', '와이너리이야기': \"포스트 퍼레이드 · 나파밸리, 미국 POST PARADE 2008년 켄터키 더비 파티에서 브룩 스미스가 나파 밸리 와인 상인 프랭크 닷즐러를 만나면서 시작됐습니다. 각자 자기 분야에 대해 이야기를 하던 중, 브룩이 무심코 던진 STRETCH DR '나파 밸리에서 언젠가 와인을 만들어 보고 싶다'는 말에 프랭크 닷즐러가 계획을 세웠고, 천부적인 와인 메이커 토마스 브라운이 합류하며 지금 나파 밸리에서 가장 핫한 와인 중 하나인 포스트 퍼레이드의 역사가 시작됐습니다. 포스트 퍼레이드는 경기장에 들어선 경주마가 출발 전, 게이트 앞에서 대기하는 짧은 시간을 나타낸다고 합니다. 지금까지의 큰 노력을 바탕으로 하는 기대감과 완벽함을 나타내는 단 몇 분의 시간, 그 순간의 열정을 와인메이킹과 포도재배에 담으려 노력한 브랜드입니다.\"}\n",
      "{'대표 맛과 향': '잘 익은 레드 체리, 블랙 베리, 블랙 커런트 아로마가 코를 압도하는 동시에 옅은 스파이스 아로마가 스칩니다. 입에선 라즈베리, 야생 체리 등의 뉘앙스와 함께 바닐라 뉘앙스가 - 함께 나타나고, 우아한 탄닌은 잘 정제되어 부드러운 느낌을      주지만 존재감을 잃지 않고 적절한 산도와 완벽한 밸런스를 이룹니다.', '핸들링': '적정온도 16-18 °C 와인잔 아로마 콜렉터 디캔팅 30분', '와이너리이야기': '도멘 마크로이 · 부르고뉴, 프랑스 도멘 마크로이 현 와인메이커 알렉산드리느 로이는 지브리 Domaine Marc ROY 샹베르땡과 마르사네 지역에 위치한 로이 가문의 포도밭을 4대째 운영하고 있습니다. 4헥타르에 불과한 소규모 밭이나 개인 정원처럼 최고의 노력으로 포도를 재배하고 있습니다. 대부분의 나무가 100년 이상의 수령을 가진 올드바인 밭을 관리하는데 있어 알렉산드린느 로이는 진정한 농부의 자세로 끊임없이 밭을 갈고 뿌리를 관리하는 등 포도 자체의 품질 향상에 최선의 노력을 다하고 있으며, 최고 품질의 포도를 통해 세계적으로 인정받는 사랑스럽고 우아한 와인을 생산 하고 있습니다.'}\n",
      "{'대표 맛과 향': \"부드러운 체리빛을 띄며 레드프룻의 향, 꽃과 녹색잎의 향과  같은 신선하면서도 플로럴한 아로마가 향긋합니다. 입에서는  '  마른 건초, 토스트 부케와 함께 스파이시함이 느껴지며 과일의   쥬시함과 프레쉬한 산미, 우아한 탄닌이 어우러져 목넘김이 부드럽습니다.\", '핸들링': '적정온도 15-17 °C 와인잔 아로마 콜렉터 디캔팅 30분'}\n",
      "{'대표 맛과 향': ' 밝은 루비빛 컬러를 띈 이 와인은 코에서는 레드베리, 체리의 향이 달콤합니다. 입 안에서는 딸기, 자두의 신선함이 커피빈, 헤이즐넛과 함께 잔 안에서 넘실거리며 부드러운 탄닌과 긴 피니시가 인상적입니다.', '핸들링': '적정온도 17-18 °C 와인잔 유니버셜 디캔팅 30분'}\n",
      "{'대표 맛과 향': \"  '  붉은 루비빛을 띄며 코에서는 잘 익은 딸기가 듬뿍 들어있는   듯한 레드프룻의 향이 먼저 퍼지고 뒤이어 카시스, 코코아의  향이 옅게 스칩니다. 적당한 산도와 좋은 밸런스를 갖고 있어 입안에서 부드럽게 퍼지며 부드러운 탄닌감과 풍부한 과일의 맛이 마무리를 기분좋게 합니다.\", '핸들링': '적정온도 17-18 °C 와인잔 유니버셜 디캔팅 30분'}\n",
      "{'대표 맛과 향': ' 붉은 루비색을 띄는 와인으로 신선하고 젊은 느낌의 딸기, 라즈베리 등 아로마가 드러납니다. 입에서도 역시 넘치는 - 붉은 베리류의 과실감과 적절한 산도의 밸런스로 깔끔한 피니시가 인상적입니다.', '핸들링': '적정온도 16-18 °C 와인잔 유니버셜 디캔팅 30분'}\n",
      "{}\n",
      "{'대표 맛과 향': '가넷빛 테두리를 두른 어두운 루비빛 이 와인은 블랙 올리브와 함께 제비꽃, 검은 후추, 캐러멜라이징한 견과류 캐릭터가 향긋 합니다. 입에선 산딸기, 검은 자두, 블랙 커런트 등 달큰하고도 신선한 산도감과 토바코, 가죽향, 우디노트가 풍성하게 어우러    대추, 집니다. 부드러운 탄닌에 오렌지 필의 캐릭터가 느껴지는 매우 긴 피니시가 인상적입니다.', '핸들링': '적정온도 15-16 °C 와인잔 유니버셜 디캔팅 30분', '와이너리이야기': '카사블랑카 · 랑그독 루시용, 프랑스 DOMAINE COUDOULET 또 세쎄라스는 1840년경부터 8대째 가업을 이어가고 있습니다. 오늘날 90헥타르에 이르는 영지를 소유하고 있으며 그 중 15 헥타르는 레드 와인만 허용되는 산지 미네르부아 라 리비니에르에 위치하고 있습니다. 그의 조카 기욤은 부르고뉴와 뉴질랜드, 칠레, 미국, 남아공, 이탈리아에서 교육 및 훈련을 수료 후 양조와 비즈니스 전반을 돌보고 있습니다.'}\n",
      "{'대표 맛과 향': '맑은 루비색을 보여주는 이 와인은 깔끔하고 밀도 높은 붉은 체리, 딸기 등 붉은 과일향을 바탕으로 검은 후추와 약간의 흙 뉘앙스를 보여줍니다. 입에선 부드러운 탄닌과 중간 정도 바디감으로 드라이 하지만 신선한 느낌을 주고, 약간의 미네랄리티와 긴 여운이 특징적입니다.  바디  탄닌  당도    산도', '핸들링': '적정온도 16-18 °C 와인잔 유니버설 디캔팅 60분 적정시기 2021-2023', '페어링': '가공된 햄 스튜'}\n",
      "{'대표 맛과 향': '중간 강도 루비색을 볼 수 있으며 레드 커런트, 라즈베리 등 밀도 높은 붉은 과일 아로마를 바탕으로 옅은 흙 뉘앙스를 느낄 수 있습니다. 입에선 붉은 과일과 함께 미네랄리티가 느껴지며, 잘 정제된 탄닌과 적절한 산도로 신선함과 함께 긴 피니시가 특징이다.  바디  탄닌  당도  산도', '핸들링': '적정온도 16-18 °C 와인잔 유니버설 디캔팅 30분 적정시기 2021-2028', '페어링': '샤퀴테리 크림 파스타'}\n",
      "{'대표 맛과 향': '중간 강도의 밝은 루비색을 보이며 코에서는 레드커런트, 라즈베리 등 신선하고 밀도 높은 붉은 과일의 아로마를  바탕으로 스파이스와 흙 뉘앙스를 옅게 느낄 수 있습니다. 부드러운 탄닌, 중간 강도의 바디감과 함께 다채로운 붉은 과일의 맛이 느껴지며, 미네랄과 긴 여운이 특징적입니다.  바디  탄닌  당도  산도', '핸들링': '적정온도 16-18 °C 와인잔 버사이즈 디캔팅 60분 적정시기 2021-2028', '페어링': '소고기 타르타르 돼지고기 구이'}\n",
      "{'대표 맛과 향': '레드커런트, 체리 등 붉은 과일의 짙은 아로마를 바탕으로 스파이스와 오렌지꽃 아로마가 옅게 느껴집니다. 입에선 에너지 넘치는 직관적 맛이 구조감 있게 나타나고, 적절한 산도와 잘 정제된 탄닌, 미네랄리티의 밸런스로 복합미와 긴 피니쉬를 느낄 수 있습니다.  바디  탄닌    당도  산도', '핸들링': '적정온도 16 °C 와인잔 유니버설 디캔팅 30분 적정시기 2021-2028', '페어링': '양고기 구이 돼지고기 구이'}\n",
      "{'대표 맛과 향': '블랙베리, 블랙 커런트 등 검은 과일의 신선하고 짙은 아로마가 코를 간지럽히며 옅은 블랙페퍼와 흙 뉘앙스를 함께 보여줍니다. 이른 수확은 신선한 느낌을 더합니다. 중간 정도의 바디감과 함께 검은 과일 뉘앙스를느낄 수 있습니다. 부드러운 탄닌, 산도의 적절한 조화로 긴 여운이 느껴집니다.', '핸들링': '적정온도 16-18 °C 와인잔 유니버셜 디캔팅 30분', '와이너리이야기': '장폴도망 · 론, 프랑스 111 DAUMEN 장 폴 도망은 훌륭한 와인은 오로지 풍요롭고 건강한 땅에서 나오며 빈티지 표현에 충실하고 와인이 스스로 숙성하는 것을 서포트 하는 작업이 와인메이커의 역할 이라고 믿습니다. 도망 프로젝트(Daumen Project)는 론 지역 최고의 포도 재배자들이 모여 그들의 열정과 재능을 병 안에 담은 진정성 있는 프로젝트 입니다.'}\n",
      "{'대표 맛과 향': '붉은 체리빛에 딸기, 커런트, 크랜베리에 이어 이국적인 샌달우드, 스모키향이 코를 간지럽힙니다. 입에선 매우 우아하고 부드럽지만 동시에 무게감도 느껴집니다. 잘 익은 복숭아, 바닐라빈과 함께 옅은 블루베리 뉘앙스와 신선한 산도가 일품이며, 구운 오렌지, 감초로 이어지는 긴 피니쉬가 인상적입니다.  바디    탄닌  당도  산도', '핸들링': '적정온도 °C 와인잔 아로마 디캔팅 콜렉터 적정시기 30분 16-18 2022-2034', '페어링': '양고기 구이 하드 치즈'}\n",
      "{'대표 맛과 향': '어두운 석류빛으로 건딸기, 자몽 제스트, 말린 허브 등의 아로마가 느껴집니다. 과즙이 풍부한 붉은 베리조림, 말린 허브, 중간 정도 바디감과 함께 부드러운 탄닌이 구조감을 드러내고, 옅은 블루베리로 마무리됩니다.  바디   탄닌  당도 19%   -5  산도', '핸들링': '적정온도 °C 와인잔 아로마 디캔팅 콜렉터 적정시기 30분 16-18 2022-2027', '페어링': '샤퀴테리 스테이크'}\n",
      "{'대표 맛과 향': '짙은 루비빛으로 코에서는 풍부한 블랙 체리, 자두와 함께 이국적 브라운 스파이스가 옅은 시트러스 아로마와 대조를 이루며 아름답게 펼쳐집니다. 입에선 검은 과일을 바탕으로 야생 허브, 백후추 캐릭터가 탄탄한 구조감의 탄닌, 적절한 산도와 함께 완벽한 밸런스를 이루며 긴 여운을 남깁니다.  바디   탄닌  당도  산도', '핸들링': '적정온도 °C 와인잔 아로마 디캔팅 콜렉터 적정시기 30분 16 2022-2030', '페어링': '카르파치오 스테이크'}\n",
      "{'대표 맛과 향': '   어둡고 짙은 루비컬러를 보이는 이 와인은 카시스 싹,   잘 익은 레드 체리와 블랙 체리, 블랙베리 뿐만 아니라 야생 로즈마리와 라벤더 등의 다채롭고 짙은 아로마를 나타냅니다. 입에선 강렬하고 집중도 넘치는 맛을 느낄 수 있으며, 잘 정제된 탄닌과 우아한 산도의 밸런스는 이 와인의 복합미와 구조감까지 여과없이 드러냅니다.', '핸들링': '적정온도 16-18°C 와인잔 유니버셜 디캔팅 30분', '와이너리이야기': '그라운디드 와인 캘리포니아, 미국 GW 그라운디드 와인은 나파 지역 와인메이킹 가문에서 나고 CO 자란 조쉬 펠프스의 펄스널 브랜드로 와인 커뮤니티와 깊은 인연을 가진 그의 개인적 경험을 바탕으로 만들어 졌습니다. 그라운디드 와인의 포도들은 캘리포니아와 워싱턴의 믿을 수 있는 포도밭에서 공수해왔으며, 심플 하고 직관적인 레이블과 맛은 오늘날 와인메이커가 갖는 의미를 잘 나타냅니다.'}\n",
      "{'대표 맛과 향': ' 짙은 가넷 컬러를 보이며 잘 익은 검은 자두, 블랙체리 . 2017  파이의 깊고 풍부한 과일향이 나타납니다. 입 안에서는 검은 자두와 블랙체리 뿐 아니라 정향, 바닐라 뉘앙스를 함께 느낄 수 있으며, 시간이 지남에 따라 탄닌은 벨벳 처럼 부드러워집니다. 긴 피니시를 통해 신선함을 유지 하며, 은은하게 풍기는 젖은 숲과 월계수 뉘앙스도 함께 느낄 수 있습니다.', '핸들링': '적정온도 16-18°C 와인잔 유니버셜 디캔팅 30분', '와이너리이야기': '그라운디드 와인 캘리포니아, 미국 GW 그라운디드 와인은 나파 지역 와인메이킹 가문에서 나고 CO 자란 조쉬 펠프스의 펄스널 브랜드로 와인 커뮤니티와 깊은 인연을 가진 그의 개인적 경험을 바탕으로 만들어 졌습니다. 그라운디드 와인의 포도들은 캘리포니아와 워싱턴의 믿을 수 있는 포도밭에서 공수해왔으며, 심플 하고 직관적인 레이블과 맛은 오늘날 와인메이커가 갖는 의미를 잘 나타냅니다.'}\n",
      "{'대표 맛과 향': '      옅은 보랏빛을 띈 가넷 컬러가 눈에 띄며 라즈베리, 블랙 체리와 블랙 커런트의 짙은 아로마가 공간을 채웁니다. 입에서는 잘 익은 블랙베리와 바닐라 뉘앙스를 느낄 수 있습니다. 잘 정제된 탄닌이 기분 좋게 혀를 조이는 듯 하며 깔끔한 산도와 함께 긴 여운을 느끼게 합니다.', '핸들링': '적정온도 16-18°C 와인잔 유니버셜 디캔팅 30분', '와이너리이야기': '그라운디드 와인 캘리포니아, 미국 GW 그라운디드 와인은 나파 지역 와인메이킹 가문에서 나고 CO 자란 조쉬 펠프스의 펄스널 브랜드로 와인 커뮤니티와 깊은 인연을 가진 그의 개인적 경험을 바탕으로 만들어 졌습니다. 그라운디드 와인의 포도들은 캘리포니아와 워싱턴의 믿을 수 있는 포도밭에서 공수해왔으며, 심플 하고 직관적인 레이블과 맛은 오늘날 와인메이커가 갖는 의미를 잘 나타냅니다.'}\n",
      "{'대표 맛과 향': '잘 익은 야생 블랙베리, 백후추, 피트 그리고 훈연된 브리스켓 구이의 향이 잔 안에 모두 모인 듯 느껴집니다. 아주 잘 익은 검은 과실류의 넘치는 과실미, 블랙 올리브, 훈연 폭립의 향이  매우 이국적인 느낌을 줍니다.', '핸들링': '적정온도 18 °C 와인잔 유니버셜 디캔팅 30분', '와이너리이야기': '홀스파워 빈야드 · 워싱턴, 미국 HORSEPOWER 왈라왈라 밸리에 위치한 홀스파워 빈야드는 전통, 역사의 의미를 담은 크리스토프 바롱 뿌리를 보여주는 프로젝트 입니다. 1600년대부터 와인을 생산해 온 바롱 패밀리를 오마주한 전통, 새로움이 공존하고 있는 와이너리입니다. 너무나 간단하게, 크리스토프 바롱 이전 세대들이 하던 방식 그대로, 사람과 말이 힘을 합쳐 천천히 묵묵히 일을 해나갑니다. 전통 방식은 그다지 매력적이지 않은 개념 이지만 크리스토프는 카이유즈와 홀스파워에 그 뿌리를 내렸고 과거의 방식이 현재에도 통한다는 모습을 보여 주고 있습니다.'}\n",
      "{'대표 맛과 향': '      매력적인 가넷 컬러가 눈에 띕니다. 코에서는 체리, 딸기, 라즈베리와 함께 매우 옅은 제비꽃과 스파이스 아로마를 느낄 수 있으며 신선한 산도와 탄력적인 탄닌, 그리고 붉은 과일의 맛이 시너지를 일으켜 이 와인이 완벽한 밸런스와 매우 길고 향긋한 피니시를 나타낼 수 있도록 합니다.', '핸들링': '적정온도 16-18°C 와인잔 유니버셜 디캔팅 30분', '와이너리이야기': '그라운디드 와인 캘리포니아, 미국 GW 그라운디드 와인은 나파 지역 와인메이킹 가문에서 나고 CO 자란 조쉬 펠프스의 펄스널 브랜드로 와인 커뮤니티와 깊은 인연을 가진 그의 개인적 경험을 바탕으로 만들어 졌습니다. 그라운디드 와인의 포도들은 캘리포니아와 워싱턴의 믿을 수 있는 포도밭에서 공수해왔으며, 심플 하고 직관적인 레이블과 맛은 오늘날 와인메이커가 갖는 의미를 잘 나타냅니다.'}\n",
      "{'대표 맛과 향': \"강렬한 체리 레드의 컬러와 바이올렛 컬러를 보여주는 선명하고 밝은 와인입니다. 코에서는 우아하고 잘 익은 블랙계열 과일, , 스파이스, 구운향의 다양한 노트가 모여 표현력이 아주 좋은 와인으로, 입 안에서의 밸런스 또한   뛰어나며 적절한 탄닌으로 좋은 피니쉬를 보여줍니다.   (  바디  '27  탄닌   당도   산도\", '핸들링': '적정온도 16-18 °C 와인잔 유니버설 디캔팅 60분 적정시기 2021-2030', '페어링': '스테이크 진한 소스의 해산물 요리'}\n",
      "{'대표 맛과 향': ' 반짝이는 루비레드컬러로 아로마는 바닐라, 시나몬, 정향  같은 향신료의 터치와 토바코 향이 가미된 레드 과실의  풍미로 확실한 캐릭터를 나타냅니다. 입 안에서는 완벽한   밸런스와 부드러우면서 실키한 탄닌 조화가 환상적이며 우아함이 돋보입니다.', '핸들링': '적정온도 18-20°C 와인잔 유니버셜 디캔팅 30분'}\n",
      "{'대표 맛과 향': ' 다크 체리와 가넷 컬러를 띈다. 코에서는 강렬한 블랙 계열 과일, 바닐라, 스파이스, 미네랄 그리고 발사믹  노트가 느껴집니다. 입 안에서 아주 좋은 산도와 과일 노트와 오크의 밸런스가 탁월한니다. 모든 노트가 잘 (3) 어우러져 좋은 긴 여운을 남긴다.   바디    탄닌     당도   산도', '핸들링': '적정온도 16-18 °C 와인잔 유니버설 디캔팅 60분 적정시기 2020-2035', '페어링': '트러플 디쉬 구운 생선요리'}\n",
      "{'대표 맛과 향': '  진한 가넷 퍼플 컬러가 돋보입니다. 코에서는 붉은 장미, 블루베리, 라즈베리 파이, 라벤더의 복합적인 아로마를 느낄 수 있습니다. 입에선 탄탄하고 농밀한 탄닌과 과즙이 만들어내는 부드러운 감촉 또한 길게 이어지는 다채로운 여운을 즐길 수 있습니다.', '핸들링': '적정온도 16-18 °C 와인잔 버사이즈 디캔팅 60분'}\n",
      "{'대표 맛과 향': ' 진한 컬러감과 함께 블랙베리, 블랙 라즈베리, 자두, 블랙  커런트의 향과 함께 젖은 바위에서 나는 미네랄리티가 느껴집니다. 입에선 카베르네의 풍부하고 진한 파워감이 블랙베리, 야생 베리, 모카, 삼나무, 찻잎의 맛과 어우러져 깊이 있는 집중도를 선사합니다. 과일 맛과 향에 집중된 피니쉬가 긴 여운을 남깁니다.', '핸들링': '적정온도 16-18 °C 와인잔 버사이즈 디캔팅 60분'}\n",
      "{'대표 맛과 향': ' 강렬한 다크 체리와 가넷 컬러가 보입니다. 코에서는 모든 노트의 표현력이 굉장히 잘 느껴지며, 3차 아로마 노트들이 모여 코코아, 토바코, 토피, 잼, 약간의 스모크   향들이 느껴집니다. 입에서는 아주 좋은 탄닌감과 숙성 잠재력이 느껴지고, 실크처럼 부드럽고 우아한 노트를 입 안에 남깁니다. 디캔팅하여 마시는것을 추천합니다.   바디       탄닌   750   당도   산도', '핸들링': '적정온도 16-18 °C 와인잔 유니버설 디캔팅 60분 적정시기 2020-2035', '페어링': '엔초비 다크 초콜렛'}\n",
      "{'대표 맛과 향': '맑은 황금빛 컬러에 연초록빛 링을 보여줍니다. 아카시아 꽃을 포함한 다양한 꽃의 잔잔한 향기를 바탕으로 우아하고 고급스러운 아로마의 향연을 느낄 수 있습니다. 입에서는     살구 등 신선한 과일 뉘앙스와 산도의 적절한 조화로 깔끔한 피니시를 즐길 수 있습니다.', '핸들링': '적정온도 10-12 °C 와인잔 화이트 디캔팅 NO', '와이너리이야기': '셀리에 데 프린스 론, 프랑스 샤또네프 뒤 파프 최고 컨설턴트(론 미쉘롤랑)이자 2010년 Le Cally des Prince 파커가 선정한 최고의 와인 메이커가 운영하는 와이너리 입니다. 특출난 떼루아와 최고의 빈야드와 손수확이라는 세 가지 핵심 자산을 통해 샤또네프 뒤 파프와 꼬뜨 뒤 론, 꼬뜨 뒤 론 빌라쥬 뿐 아니라 IGP 와인들에서도 자신들의 특장점을 드러내고 있습니다. 로보트 파커로부터 100점을 21회나 받은 Philippe Cambie의 가성비 최고 론 와이너리 브랜드입니다.'}\n",
      "{'대표 맛과 향': ' 깊고 진한 루비 레드 컬러로 부드럽고 고급스러운 블랙베리와 체리향이 두드러지며 향신료와 감초 감각을 얻을 수 있습니다. 파워풀한 팔레트의 특징이 두드러지며, 균형감과 바디감이 잘  잡혀있습니다. 피니쉬가 길게 이어지며 바닐라와 블랙베리의 향이 여운으로 남습니다.', '핸들링': '적정온도 14-18 °C 와인잔 유니버셜 디캔팅 60분'}\n",
      "{'대표 맛과 향': '강렬한 루비 레드색을 띄는 이 와인은 코에서는 바이올렛, 블랙베리의 신선한 아로마가 매력적입니다. 블루베리, 검은 자두 과즙과 같은 풍부한 과실미와 흑후추의 스파이시함이   느껴지며, 우아하고 부드러운 질감의 탄닌이 섬세히 입안을 사로잡습니다. 밸런스 또한 탁월하며 잔잔한 흙, 붉은 벽돌을 떠올리게 하는 매력적인 긴 피니시를 지닙니다.', '핸들링': '적정온도 13-16 °C 와인잔 유니버셜 디캔팅 60분'}\n",
      "{'대표 맛과 향': ' 깊은 루비빛을 띠고 향에서는 두드러진 바닐라팟, 짙은 자두,  신선한 블랙체리가 다채롭게 나타납니다. 입에서는 균형미가  뛰어나고 진한 자두와 달콤한 향신료를 곁들인 풍부하고 즙이  많고 잘 익은 검은 체리의 맛을 보여주며 잘 익은 과일 탄닌, 촘촘하게 느껴지는 육즙, 미드 팔렛과 편하게 느껴지는 오크 터치를 제공하는 와인입니다.', '핸들링': '적정온도 14-16 °C 와인잔 유니버셜 디캔팅 30분'}\n",
      "{'대표 맛과 향': '깊은 진홍색을 띠고 커피와 오크향에 강렬한 블랙베리,  오디나무 열매의 과실미와 정향과 계피의 힌트가 함께   보입니다. 입에선 둥근 탄닌감이 형성되어 좋은 과실의 무게감을 보여주고 과실 캐릭터가 즉각적으로 느껴지며 세이보리한 타닌감과 오래 지속되는 블랙베리 피니시가 매력적인 와인입니다.', '핸들링': '적정온도 16-18°C 와인잔 유니버셜 디캔팅 30분', '와이너리이야기': '밴락 스테이션 · 리버랜드, 호주 1995년 호주 리버랜드에 설립된 와이너리로 좋은 와인은 BANROCK Tation 좋은 바탕으로 환경이 필요하다는 철학을 설립과 동시에 습지 보호 프로젝트를 시작하여 환경 보호를 위한 기금 마련을 시작한 친환경 와이너리입니다. 현재까지 지속된 이 사업을 통해 무려 6백만 호주 달러에 달하는 기금이 환경 보호에 사용되었고, 내 몸에 좋은 와인, 지구에 좋은 와인을 만들기 위한 노력을 20여년동안 직접 실행해오고 있습니다.'}\n",
      "{'대표 맛과 향': '오크 숙성 영향으로 토스트, 여러 향신료향이 결합되며 레드베리향이 풍부하게 자리잡을 수 있도록 돕습니다.  높은  풍부한 과실미, 집중도가 아주 인상적인 와인으로     어느 부분 하나 부족함 없이 잘 균형 잡혀 있으며 길고 우아한 여운이 이어집니다.', '핸들링': '적정온도 16-18 °C 와인잔 아로마 콜렉터 디캔팅 30분', '와이너리이야기': '도멘 베르타냐 · 부르고뉴, 프랑스 DOMAINE BERTAGNA 도멘 베르타냐는 1950년대에 설립, 2차 세계대전 후 Eva의 할아버지가 부르고뉴 지역의 다양한 와인들과 1954년 샴볼 뮈지니 빌라쥐 포도나무를 구입하고 1982년 에바 아버지가 Vougeot 도멘 베르타냐의 주인이 되면서 명성을 쌓기 시작 했습니다. Eva는 부르고뉴와 독일에서 양조, 영국에서 와인 비즈니스 경력을 쌓은 후 1988년 도멘을 운영하고 있으며 포도밭에 많은 투자를 하고 있습니다. 와이너리는 꼬뜨 드 뉘 부조에 있고 테루아, 전통에 대한 존경심과 차세대에게 건강한 땅을 물려준다는 책임감을 갖고 오가닉, 지속 가능한 방식으로 경작해 품질 좋은 와인 생산에 힘쓰고 있습니다.'}\n",
      "{'대표 맛과 향': '밝고 아주 깨끗한 색이 가장 먼저 눈을 사로잡습니다. 블랙베리 아로마와 더불어 약간의 스파이시함과 감초  향이 느껴집니다. 뒤이어 실키한 탄닌이 입안을 감싸고    이와 함께 느껴지는 체리, 베리향이 풍부합니다. 균형감 있는 산미로 긴 여운을 선사합니다.', '핸들링': '적정온도 16-18 °C 와인잔 아로마 콜렉터 디캔팅 30분', '와이너리이야기': '도멘 베르타냐 · 부르고뉴, 프랑스 DOMAINE BERTAGNA 도멘 베르타냐는 1950년대에 설립, 2차 세계대전 후 Eva의 할아버지가 부르고뉴 지역의 다양한 와인들과 1954년 샴볼 뮈지니 빌라쥐 포도나무를 구입하고 1982년 에바 아버지가 Vougeot 도멘 베르타냐의 주인이 되면서 명성을 쌓기 시작 했습니다. Eva는 부르고뉴와 독일에서 양조, 영국에서 와인 비즈니스 경력을 쌓은 후 1988년 도멘을 운영하고 있으며 포도밭에 많은 투자를 하고 있습니다. 와이너리는 꼬뜨 드 뉘 부조에 있고 테루아, 전통에 대한 존경심과 차세대에게 건강한 땅을 물려준다는 책임감을 갖고 오가닉, 지속 가능한 방식으로 경작해 품질 좋은 와인 생산에 힘쓰고 있습니다.'}\n",
      "{'대표 맛과 향': '  깊은 루비 컬러의 이 와인은 체리향을 바탕으로 한 다양한 베리류향과 스파이스의 풍부한 조화를 선사 하며, 벨벳처럼 부드러운 탄닌과 좋은 균형감이 오래 이어집니다.', '핸들링': '적정온도 18-20°C 와인잔 유니버셜 디캔팅 30분', '와이너리이야기': '도피오 파소 · 풀리아, 이탈리아 DOPPIO PASSO 풍부한 과실미를 자랑하며 고품질 와인 생산에 알맞는 기후를 지닌 뿔리아에 위치한 마쎄리아 도피오는 이 특별한 장점을 십분 활용하는 와이너리입니다. 다양한 품종을 지니고 있으며 수확 후 일정 기간 건조를 통해 당도를 끌어올리는 전통적 방식인 아파씨멘토 공법을 통해 깊고 진한 바디감과 집중도 높은 과실미 와인을 생산하고 있습니다.'}\n",
      "{'대표 맛과 향': '진한 루비 색상에 보랏빛이 살짝 감도는 이 와인에서는 섬세한 꽃향기에 붉은 과일 풍미가 느껴집니다. 장미와 바이올렛, 코코아, 카시스 향이 나고 시간이 지날수록 오렌지 꽃 향이 피어납니다. 입에서는 풍부히 채워지며 강렬하지만 부드럽게 감싸주는 느낌이 기분 좋은 긴 여운으로 이어집니다.  바디  탄닌    당도  산도', '핸들링': '적정온도 15-20 °C 와인잔 유니버설 디캔팅 30분 적정시기 2020-2030', '페어링': '소고기 요리 파스타'}\n",
      "{'대표 맛과 향': '깨끗하고 신선한 작은 베리류의 향이 풍부하게 느껴지며,  감초향이 뒤이어 따라옵니다. 부드럽게 잘 잡힌 탄닌감과  집중도 높은 과실미와 산도가 균형감 있게 잡혀 있고, 첫 향에 느꼈던 신선한 과실미가 입안에서도 길게 이어집니다.', '핸들링': '적정온도 16 °C 와인잔 아로마 콜렉터 디캔팅 30분', '와이너리이야기': '도멘 베르타냐 · 부르고뉴, 프랑스 DOMAINE BERTAGNA 도멘 베르타냐는 1950년대에 설립, 2차 세계대전 후 Eva의 할아버지가 부르고뉴 지역의 다양한 와인들과 1954년 샴볼 뮈지니 빌라쥐 포도나무를 구입하고 1982년 에바 아버지가 Vougeot 도멘 베르타냐의 주인이 되면서 명성을 쌓기 시작 했습니다. Eva는 부르고뉴와 독일에서 양조, 영국에서 와인 비즈니스 경력을 쌓은 후 1988년 도멘을 운영하고 있으며 포도밭에 많은 투자를 하고 있습니다. 와이너리는 꼬뜨 드 뉘 부조에 있고 테루아, 전통에 대한 존경심과 차세대에게 건강한 땅을 물려준다는 책임감을 갖고 오가닉, 지속 가능한 방식으로 경작해 품질 좋은 와인 생산에 힘쓰고 있습니다.'}\n",
      "{'대표 맛과 향': ' 카베르네 프랑의 주된 향인 레드커런트와 블랙 커런트, 삼나무, 숲, 허브, 장미잎 향이 느껴집니다. 미디움에서 풀바디의 실키하고 우아한 타닌이 긴 여운으로 이어 집니다.', '핸들링': '적정온도 18-20°C 와인잔 유니버셜 디캔팅 30분', '와이너리이야기': '카이유즈 · 워싱턴, 미국 CAYUSE 설립자 Christophe Baron은 프랑스의 샴페인 하우스 집안에서 태어나, 어렸을 때부터 포도밭 관리에 관심이 많았습니다. 상파뉴와 부르고뉴에서 공부한 뒤 경험을 쌓기 위해 세계 각지를 돌아다녔고, 프랑스로 돌아가지 않고 오레곤 윌러맷 밸리에서 피노누아를 재배하기로 결심했습니다. 우연히 왈라왈라밸리를 방문 후 토양과 자갈밭으로 이뤄진 현재의 밀튼 프리워터 지역에 매료 되어 그곳에서 정착했고 처음부터 완벽한 토양환경을 위해 바이오 다이나믹 농법을 도입했습니다. 북부 론의 코르나스 지역의 쉬라를 롤 모델로 삼으며 쉬라 본연의 모습을 보여주고 있습니다. 현재는 20년이 안되었지만 미국 최고의 와이너리로 인정받고 있습니다.'}\n",
      "{'대표 맛과 향': '시트러스 오일, 복숭아 피트 그리고 오렌지 꽃과 같은 밝은 아로마를 자아냅니다. 만다린 오렌지와 흰 복숭아, 레몬과 같은 맛들이 미네랄과 함께 어우러져 시원한 그린밸리의 테루아를 잘 반영하고 있는 샤르도네입니다.  바디     탄닌  당도  산도', '핸들링': '적정온도 °C 와인잔 아로마 디캔팅 콜렉터 적정시기 NO 7-12 2020-2025', '페어링': '기름진 생선요리 돼지고기 요리'}\n",
      "{'대표 맛과 향': '짙은 검붉은 색을 보이며, 졸인 듯한 검은 베리류의  과실 향과 허브 노트가 어우러져 있습니다. 풍부하고 힘이 있는 과실미와 입 안 곳곳 퍼져 있는 부드러운 탄닌감과 은은히 뒤따라 오는 바닐라 향이 다음잔을 기대하게 합니다.', '핸들링': '적정온도 18-20°C 와인잔 유니버셜 디캔팅 30분', '와이너리이야기': '루카 마로니 풀리아, 이탈리아 Luca Maroni 풀리아 와인을 이해하기 위해 꼭 마셔봐야 할 와인으로 Alberello농법 (이탈리아 남부의 뜨거운 온도에 맞춰 고안된 방법으로 주요 줄기 6개만 남기고 가지가 방사형 으로 낮게 뻗게해 주위의 빛과 비교적 차가운 공기의 흐름을 유도하는 특별한 농법)을 사용해 만두리아만의 독특한 떼루아를 느낄 수 있도록 생산하는 와이너리 입니다.'}\n",
      "{'대표 맛과 향': '밝은 루비빛이 감돌며 코에서 느껴지는 라즈베리, 딸기,  체리 등 붉은 과일향이 풍부합니다. 입에서 느껴지는   실키한 탄닌과 복합적이며 풍부한 과실향이 매력적인   미디엄 바디 와인입니다.', '핸들링': '적정온도 16-18 °C 와인잔 유니버셜 디캔팅 30분'}\n",
      "{'대표 맛과 향': ' 블랙베리, 잘 익은 크랜베리, 블루베리향 들이 느껴지며 코코아, 말린후추, 넛맥의 향신료도 잘 느낄 수 있습니다. 입 안에서는 실크처럼 부드러운 질감이 느껴지며 드라이하고 바닐라, 캐러멜, 향신료 등이 균형을 잘 이루고 있어 긴 여운을 남깁니다.', '핸들링': '적정온도 16-18 °C 와인잔 유니버셜 디캔팅 60분'}\n",
      "{'대표 맛과 향': ' 루비 컬러와 보라색 빛의 조화로운 컬러가 돋보이며 코에서는  잘 익은 붉은 과일과 검은 과일향이 달콤하게 어우러져 있으며 다크초콜릿, 감초향, 약간의 향신료 향의 밸런스가 좋습니다. 미디엄 바디 와인으로 입 안 가득 느껴지는 부드러운 탄닌과 균형 잡힌 산도의 밸런스가 인상적입니다.', '핸들링': '적정온도 14-18 °C 와인잔 유니버셜 디캔팅 60분'}\n",
      "{'대표 맛과 향': '진한 보라빛이 감도는 레드 컬러에 블랙체리, 블랙   커런트와 같은 검붉은 과일 향과 라벤더, 볶은 커피,  - 다크 초콜릿 향이 복합적으로 느껴집니다. 산뜻한 산도와 벨벳과 같은 느낌의 부드러운 탄닌이 입에서 퍼지는 완벽함을 보여주는 와인입니다.', '핸들링': '적정온도 16-18 °C 와인잔 유니버셜 디캔팅 60분'}\n",
      "{'대표 맛과 향': ' 검붉은 빛을 보여주며, 잔에 따르자마자 블랙 베리, 브램블      베리를 졸인 듯한 진한 과실향이 느껴집니다. 뒤이어 버번 배럴 숙성에서 오는 스모키와 바닐라 그리고 카라멜의 향이 느껴집니다. 풀바디한 바디감과 부드러운 탄닌감의 조화가 긴 여운을 보여줍니다.', '핸들링': '적정온도 14-18 °C 와인잔 버사이즈 디캔팅 60분', '와이너리이야기': '더 페데럴리스트 캘리포니아, 미국 FEDERALIST 텔라토 그룹의 한 와인 브랜드로서 미국 건국의 아버지 라고 할 수 있는 벤 프랭클린, 조지 워싱턴, 에이브러햄 링컨을 오마주 하여 만든 와인입니다. 특히 벤자민 프랭 클린은 \"와인은 항상 신이 우리를 사랑하고 우리 스스로 EDERALIS 행복하기를 원함을 보여주는 증거다\"라고 말을 할 정도 와인 애호가로 알려져 있습니다. 그들의 와인에 대한 애정을 존경하는 마음에서 그들과 닮은 진하고 선명한 와인을 만들게 되는데 그것이 더 페데럴리스트 와인의 시초가 됩니다.'}\n",
      "{'대표 맛과 향': '담배잎, 야생 허브, 삼나무와 꽃의 아로마가 파워풀한 피니쉬와 어우러져 있습니다. 강렬하고 진한 스타일로, 인내심을 필요로 하지만 충분히 기다린 후에는 최고급 브루넬로 디 몬탈치노 싱글 빈야드에서 생산되는 와인 퀄리티를 보여주는 와인입니다.     바디  탄닌  당도  산도', '핸들링': '적정온도 14 °C 와인잔 유니버설 디캔팅 60분 적정시기 2020-2050', '페어링': '소고기 요리 양고기 요리'}\n",
      "{'대표 맛과 향': '보랏빛이 감도는 진한 루비색상을 띄며 신선한 과일의   강렬하고 풍부한 향이 퍼집니다. 입 안에서는 균형감이  좋은 탄닌이 아로마와 조화를 이루며 입 안을 즐겁게 합니다. ', '핸들링': '적정온도 16-18 °C 와인잔 유니버셜 디캔팅 30분'}\n",
      "{}\n",
      "{'대표 맛과 향': '      가 소유한 밭 중에서도 최고 구역만 선별해 만드는 이 와인은 블랙 베리, 다크 체리, 카시스, 달콤 씁쓸한 초콜렛, 제비꽃, 토피, 코코아 등 우아하고 복합적인 향을 선사하며 탄탄한 구조감, 부드러운 타닌, 그리고 뛰어난 미네랄이 입 안에서 서로 완벽한 조화를 이룹니다.', '핸들링': '적정온도 16-18 °C 와인잔 유니버셜 디캔팅 60분'}\n",
      "{'대표 맛과 향': '짙은 루비 레드 컬러를 띄며 카베르네 품종에서 선보이는 체리, 블랙 커런트 같은 다양한 베리들과 바닐라, 초콜릿의 완벽한   조화를 느낄 수 있습니다. 입 안에서 훌륭한 산도와 부드러운 탄닌의 복합미, 더불어 우아한 피니쉬가 계속 됩니다. 약간의 시라 블렌딩으로 검은 계열 과일의 농축미, 구조감이 더해집니다.', '핸들링': '적정온도 15-17 °C 와인잔 유니버셜 디캔팅 30분'}\n",
      "{'대표 맛과 향': ' 과실향이 처음 퍼지다가 뒤쪽의 달콤한 느낌의 향이 퍼집니다. 어느 음식과 먹더라도 잘 어울릴 정도로 부드러운 탄닌을 가지고 있으며 스파이시한 느낌이 살짝 매콤한 한국음식과 잘 어울립니다.', '핸들링': '적정온도 16-18 °C 와인잔 유니버셜 디캔팅 60분'}\n",
      "{'대표 맛과 향': \"블랙 체리, , 카시스 등 검은 과실향이 강하게 느껴집니다. 부드러우면서 풍부한 탄닌이 와인의 구조에 견고함을 더해주며, 삼나무, 바닐라, 모카 등 뉘앙스가 은은하게 -' 퍼지는 피니쉬가 매력적입니다.    바디 -   -  탄닌  당도  산도\", '핸들링': '적정온도 15-20 °C 와인잔 버사이즈 디캔팅 60분 적정시기 2020-2025', '페어링': '불고기'}\n",
      "{'대표 맛과 향': ' 투명하게 반짝이면서 깊은 루비 컬러를 띄며 체리, 딸기같은 산뜻한 레드 계열 과일 향과 함꼐 진한 리큐어와 제비꽃 향이 복합적으로 오래 지속됩니다. 입 안에서 아주 섬세한 탄닌과 부드러운 바디감이 더해져 기분 좋은 우아한 피니쉬를 느낄 수 있습니다.', '핸들링': '적정온도 16-18 °C 와인잔 유니버셜 디캔팅 30분', '와이너리이야기': '토마레스카 · 풀리아, 이탈리아 TORMARESCA 토마레스카는 안티노리의 브랜드로, 풀리아 이탈리아 지역에서 유일히 살렌토 반도와 카스텔 델 몬테 DOC에 와이너리를 갖고 있습니다. 토마레스코는 알리아니코, 네그로아마로, 프리미티보, 피아노와 같은 풀리아 지역 토착 품종을 최상의 품질로 표현하는 와인을 제공하고 있습니다. 이탈리아 토착 품종 전통은 살리며, 현대적인 쾌적한 생산 구조를 갖추어 이태리 명품 명가 와인의 뒤를 따르고 있습니다.'}\n",
      "{'대표 맛과 향': '깊고 진한 보라색으로 코에선 열자마자 뽕나무의 향기, 진하게 익은 체리, 가죽의 힌트 그리고 삼나무와 바닐라 아로마들이 느껴집니다. 풍부한 즙이 단단하면서 섬세한 탄닌과 탁월한 균형을 유지하며, 자두와 다크 체리의 진한 과일 풍미는 생동감 넘치는 산미와 잘 어우러져 있습니다. 피니쉬로 강력하면서도 우아한 체리가 느껴집니다.  바디  탄닌  당도      산도', '핸들링': '적정온도 18-20 °C 와인잔 유니버설 디캔팅 30-60분 적정시기 2021-2026', '페어링': '스테이크 양고기 구이'}\n",
      "{'대표 맛과 향': '  진한 보라색을 띄고 있으며 잘 익은 커런트, 자두, 라즈베리   아로마에 은은하게 올라오는 삼나무 오크향이 매력적입니다. 입에서 느껴지는 부드러움과 잘 잡힌 구조감이 와인 퀄리티를 말해주며 삼킨 후에도 파워풀이 그대로 남아있습니다.', '핸들링': '적정온도 16-18 °C 와인잔 유니버셜 디캔팅 60분'}\n",
      "{'대표 맛과 향': ' 지속적인 커런트, 카시스, 자두의 과실향에 약간의 허브향과 쥬시한 산도가 매력적입니다. 단단한 탄닌과 매력적인 풀바디 에서 오는 입 안을 조여주는 묵직한 느낌이 있습니다.', '핸들링': '적정온도 16 °C 와인잔 유니버셜 디캔팅 30분'}\n",
      "{'대표 맛과 향': '지속적으로 피어오르는 커런트, 카시스, 자두 과실향에 약간의 허브향과 쥬시한 산도가 매력적입니다. 단단한 탄닌이 입 안을 조여주는 묵직한 느낌이 있는 풀바디   와인으로, 마시기 전 브리딩을 추천하며 셀러에 3~5년 정도 충분히 숙성시켰다가 마셔도 좋을 와인입니다.  바디  탄닌  당도  산도', '핸들링': '적정온도 16 °C 와인잔 유니버설 디캔팅 30분 적정시기 2028', '페어링': '훈연 조리된 고기 치즈'}\n",
      "{'대표 맛과 향': '체리, 자두의 신선한 과일향과 함께 담배잎, 덤불, 삼나무 향이    어우러져있습니다. 잘 익은 과일 감미와 상쾌한 산도, 무겁지 않은 탄닌의 조화를 이룬 와인으로 순수하고 풍부한 맛이 매력적 으로 느껴집니다.', '핸들링': '적정온도 16 °C 와인잔 유니버셜 디캔팅 30분'}\n",
      "{'대표 맛과 향': '   밝고 깊은 루비빛 색상으로 기분좋은 블랙베리와 초콜렛,  커피의 아로마가 느껴집니다. 구조감과 밸런스가 좋은 풀바디로 우아한 탄닌과 산도를 느끼며 잘 익은 과일향 피니시가 길게 이어집니다.', '핸들링': '적정온도 16-18 °C 와인잔 유니버셜 디캔팅 60분'}\n",
      "{'대표 맛과 향': '진한 루비색을 띠고 있으며 약간의 향신료와 잘 익은 붉은 과일향이 어우러져 훌륭한 조화를 보여줍니다. 풀 바디의 벨벳같이 부드러운 탄닌이 한국음식과 잘 매칭되며, 약간 남은 잔당이 와인 부케와 건과실향을 더욱 풍부히 만듭니다. 한국인이 사랑하는 진하면서도 -. 떫은 맛이 강하지 않아 부드러운 레드와인입니다.  바디    탄닌  당도  산도', '핸들링': '적정온도 °C 와인잔 아로마 디캔팅 콜렉터 적정시기 30분 20 2021-2025', '페어링': '그릴 요리 숙성 치즈'}\n",
      "{'대표 맛과 향': '자두, 블랙베리, 블랙 커런트 향에 약간의 스파이스를 느낄 수 있으며, 입안에서는 풍부하고 부드러운 촉감과 긴 여운을 선사합니다. 미국 노예 해방의 주역 아브라함 링컨에 대한 존경을 메를로, 진판델, 카베르네 소비뇽의  독특한 블렌딩으로 담아냈습니다.  바디  탄닌  당도  산도', '핸들링': '적정온도 14-18 °C 와인잔 버사이즈 디캔팅 30분 적정시기 2020-2040', '페어링': '갈비찜 피자'}\n",
      "{'대표 맛과 향': ' 루비 빛 레드와 보라색 컬러가 조화를 이루며 체리, 자두와    어우러진 미디엄 바디로 편하게 즐길 수 있는 이지 캐쥬얼 와인입니다. 부드러운 감촉, 기분 좋은 목 넘김과 은은한 여운을 남기는 미디엄 바디의 와인입니다.', '핸들링': '적정온도 12-17 °C 와인잔 유니버셜 디캔팅 NO'}\n",
      "{'대표 맛과 향': '  소노마의 서늘한 고지대에서 수확한 포도로 만들어진 &   와인으로 진한 블랙 체리, 카시스, 레드 커런트의 맛과 함께 우아한 미네랄향이 감돌며 복합적이며 섬세함이 큰 특징입니다. 수준 높은 와인 메이킹 기술로 추출된 진하면서도 부드러운 탄닌을 느낄 수 있습니다.', '핸들링': '적정온도 18-20 °C 와인잔 유니버셜 디캔팅 60분'}\n",
      "{'대표 맛과 향': ' 짙은 루비 레드 컬러로, 잘 익은 과일향과 더불어 담배와 향신료의 향이 느껴집니다. 체리, 블랙 베리의 풍미와 부드러운 타닌, 우아한 균형감이 즐거운 와인으로, 미네랄    풍미가 느껴지는 긴 여운은 이 지역 산지오베제가 갖는 특징입니다. 뛰어난 구조감과 밸런스, 섬세한 오크향으로 와인 애호가들에게 특히 사랑받는 레드 와인입니다.', '핸들링': '적정온도 18-20 °C 와인잔 유니버설 디캔팅 30분'}\n",
      "{'대표 맛과 향': '다양한 과일의 진한 아로마와 우아한 무게감과 풍성한 질감이 입 안을 가득 채웁니다. 집중된 탄닌과 생동감  있는 산도와 실크같은 감촉의 긴 여운을 느낄 수 있는 명품 와인으로 토스카나를 대표하는 품종으로 유명한 산지오베제만 사용해 생산하는 최고급 키안티 클라시코 리제르바 입니다. 싱글 빈야드에서만 생산된 와인에만 부여되는 그란 셀레찌오네 등급을 갖고 있습니다.', '핸들링': '적정온도 16-18 °C 와인잔 유니버셜 디캔팅 30분', '와이너리이야기': '안티노리 · 토스카나, 이탈리아 ll 700년역사와 26대를 이어온 이태리 최고 와인 명가 ANTINORI 세계에서 가장 오래된 와인 생산자로 기네스북에 등재 되었습니다. 안티노리는 안티노리 가문의 와인 생산 역사는 1180년으로 거슬러 올라갑니다. 피렌체 와인 길드에 공식적으로 가입한 1386년을 와인 생산 원년 으로 한대도 끊이지 않고 가족 경영으로 이어져 가고 있는 이태리 최고 와인 명가입니다.'}\n",
      "{'대표 맛과 향': ' 깊고 진한 붉은 가넷 컬러를 띠며 블랙커런트, 자두, 체리와 같이 검붉은 과일 향과 초콜릿 향, 고급 시가 등 복합적인 향이 특징 입니다. 입에선 부드러운 탄닌과 탁월한 산도가 튼튼한 구조감을 선보이며 섬세하고도 긴 여운을 주는 와인입니다.', '핸들링': '적정온도 16-18 °C 와인잔 유니버셜 디캔팅 30분'}\n",
      "{'대표 맛과 향': ' 스파이스, 민트, 로즈마리 향이 나며 입에서 부드러운 촉감과 훌륭한 구조감이 여운을 남깁니다. 양고기를 포함한 육류, 숙성된 치즈, 매운 음식과 잘 어울리는 와인입니다.', '핸들링': '적정온도 16-18 °C 와인잔 버사이즈 디캔팅 60분'}\n",
      "{'대표 맛과 향': '깊고 진한 루비 컬러에 붉은 과일 향과 브리오슈, 향신료, 블랙커런트, 코코아향이 은은하게 전해집니다. 입에서는  &   검 붉은 과일 향과 민트, 모카, 미네랄 터치가 복합적으로   느껴지며 부드러우면서도 힘이 느껴지는 탄닌이 긴 여운을 --- 갖는 와인입니다.', '핸들링': '적정온도 14-16 °C 와인잔 아로마 콜렉터 디캔팅 60분', '와이너리이야기': '루이 라뚜르 · 부르고뉴, 프랑스 부르고뉴에서 가장 많은 그랑 크뤼 포도밭을 소유하고 있는 200년 이상된 가족 경영 와이너리로 혁신적인 농사기법과 환경 보전의 선두주자로써 부르고뉴에서 가장 명성있는 브랜드입니다. 해외시장 개발 및 아데쉬, 샤블리, 보졸레 지역 등에 끊임없이 새로운 도전을 해 부르고뉴 와인을 넓히는데 선구자 역할을 하며 세계 유명한 와인회사들도 구입하여 사용하는 전통 프렌치 오크 배럴을 직접 생산하여 사용하는 등 전통과 혁신, 완벽을 지키려 끊임없이 노력을 하고있습니다.'}\n",
      "{'대표 맛과 향': '진한 루비 레드 컬러를 보이며 체리, 딸기 같은 잘 익은 붉은 과일 향과 약간의 바이올렛 꽃 향기가 복합적으로 느껴집니다. 뒤이어 후추, 넛맥의 풍미가 응축된 검붉은 과일맛과 어우러져 훌륭한 밸런스를 선보입니다. 벨벳 처럼 부드러우며 힘이 넘치는 탄닌과 실키한 오크 터치,   산뜻한 산도가 입안에서 긴 여운을 남깁니다. 40%  25%   10%(  15%(  바디       . -  탄닌   당도  산도', '핸들링': '적정온도 17-19 °C 와인잔 유니버설 디캔팅 30-60분 적정시기 2021-2030', '페어링': '양고기 요리 치킨'}\n",
      "{'대표 맛과 향': '  로맨틱한 붉은 장미 빛깔을 가지고 있으며 부드러운 기포와  잘 익은 딸기 등 붉은 과일향이 매력적인 약 발포성 레드 스위트 와인입니다. 식전주나 간단한 샐러드, 디저트와도 잘 어울리는 와인입니다.', '핸들링': '적정온도 10°C 와인잔 플루트 디캔팅 NO'}\n",
      "{'대표 맛과 향': '딥핑크 컬러의 와인으로, 생딸기와 라즈베리 향이 피어 올라옵니다. 입 안에선 베리류의 맛과 함께 크리미하고 풍부한 질감이 느껴집니다. 가볍고 경쾌한 풍미에 더해 아주 살짝 더해진 우디한 뉘앙스는 길고 벨벳과 같은 마무리로 이어집니다.  바디   탄닌  당도  산도', '핸들링': '적정온도 적정시기 6°C 와인잔 플루트 디캔팅 NO', '페어링': '스시 샐러드'}\n",
      "{'대표 맛과 향': '  붉은 루비색을 띄며 처음향부터 강렬하고 복합미가 느껴집니다. 과실향부터 스파이스, 발사믹, 자두향이 느껴지며 달콤한 느낌의 초콜렛, 감초와 상큼한 민트향까지 다양한 아로마가 올라옵니다.  단단하지만 시간이 지날수록 실크처럼 부드러워지는 탄닌감과 구조감이 인상적입니다.', '핸들링': '적정온도 16-18 °C 와인잔 유니버셜 디캔팅 60분'}\n",
      "{'대표 맛과 향': '사랑스러운 옅은 노랑빛과 연두빛이 감돕니다. 시작부터    다양한 과실향과 만개한 꽃 향이 느껴지고, 레드 베리의 05   풍성함과 생동감 넘치는 시트러스터치가 돋보이며 우아한 마무리를 보여준다.', '핸들링': '적정온도 6-8°C 와인잔 플루트 디캔팅 NO', '와이너리이야기': '메종 루이 부요 · 부르고뉴, 프랑스 LOUIS BOUILLOT 1877년 뉘생 조르쥬를 기반으로 설립된 메종 루이 부요는 장남 루이가 부르고뉴 스파클링 시장 초창기부터 그 매력에 빠지며 그 역사가 시작되었습니다. 2차 발효 방법을 상당히 진전시키는데 일조한 가문이며, 현재 Jean Claude Boisset 패밀리 소유로 크레망 드 부르고뉴 세계 판매 1위 브랜드로 올라섰습니다.'}\n",
      "{'대표 맛과 향': ' 오픈하자마자 신선한 사워도우 빵, 녹색사과, 귤, 아몬드 향이 섬세하게 퍼집니다. 입 안에서는 버블들이 생동감 있게 퍼지며 라즈베리, 체리, 산딸기 그리고 레몬 껍질 등 달콤하며 새콤한 맛의 균형을 맞춰주고 크리스피하면서 생동감 넘치는 마무리를 보여줍니다.', '핸들링': '적정온도 8-10°C 와인잔 플루트 디캔팅 NO'}\n",
      "{'대표 맛과 향': '빛나는 황금같이 밝은색을 띕니다. 신선한 산도와 미네랄, 잘 익은 시트러스 계열의 과실향이 복합적으로 느껴집니다.  145 기포는 매우 힘있고 촘촘히 올라오며 동시에 무스를 먹듯   시트러스 계열과 복숭아, 자두와 같은 스톤 프룻 계열의 과실미가 복합적으로 어우러져 부드럽게 끝을 맺습니다.', '핸들링': '적정온도 8-10 °C 와인잔 플루트 디캔팅 NO', '와이너리이야기': '올리비에 르 플레이브 샴페인, 프랑스 Main Leflaire 부르고뉴 마스터 올리비에 르플리에브와 Avize 최고의 샴페인 하우스 에릭 드 수자가 합작하여 탄생시킨 소량 생산의 전통 샴페인입니다.'}\n",
      "{'대표 맛과 향': '리치향을 시작으로 아로마틱하며 이국적인 허브향이 감도는 향수, 야생 딸기와 체리향, 끝에선 은은하게 구운 찻잎 향이  느껴집니다. 장미 꽃잎 같이 가벼우며 우아한 느낌이 감돌며 이국적인 허브, 석류, 바닐라 그리고 패션프룻이 입에 맴돌고, 끝에서는 약간의 파프리카 또한 느껴집니다. 부하고 섬세한 느낌은 장기 숙성도 충분히 가능하다는 걸 이야기 해줍니다.', '핸들링': '적정온도 6-8 °C 와인잔 플루트 디캔팅 NO', '와이너리이야기': \"파이퍼 하이직 · 샴페인, 프랑스 PIPER HEIDSIECK 첫 시작은 1785년 플로렌스 루이 하이직이 '여왕을 위한 CHAMPAGNE 최고급 샴페인 생산'을 목표로 세운 와이너리에서 시작 되었습니다. 이후, 1837년 앙리 귀욤 파이퍼가 회사를 물려 받고 와이너리 이름을 파이퍼 하이직으로 바꿨고, 몇 대를 이어가며 '샴페인 하우스'로서 독자적인 영역을 만들어왔습니다. 1993년 부터 칸 국제 영화제의 공식 샴페인으로 영화제를 후원하고 장폴 고티에, 크리스티앙 루부탱 등 유명 디자이너들과 콜라보레이션을 진행하는 등 다양한 업계를 종횡무진하며 세상에 '파이퍼 하이직'을 소개했고, 자신들만의 럭셔리함을 만들어왔습니다.\"}\n",
      "{'대표 맛과 향': '반짝이는 골드 빛 감돌며, 섬세한 버블이 끊임없이 올라온다. 흰 복숭아, 사과, 바삭한 구운 빵의 아로마가 풍부하며, 입안에서는 잘 익은 과일의 풍미와 신선한 산도와 함께 버블의 상쾌함이 더해져 좋은 밸런스를 이룬다.  바디  탄닌    당도  산도', '핸들링': '적정온도 적정시기 7-9°C 와인잔 플루트 디캔팅 NO', '페어링': '생선 요리 가벼운 파스타'}\n",
      "{'대표 맛과 향': \"녹색빛이 감돌며 섬세한 버블을 지니고 있습니다. 입안을 상큼하게 해주는 산뜻한 산도와 잘 익은 금빛 사과의 풍부하고 섬세한 아로마가 느껴집니다. . 전설의 100대 와인 베네가쭈 카포 디 스타토' 를 만들어낸 와이너리가 생산한 프로세코의 기준을 보여주는 와인입니다.  바디  탄닌   당도  산도\", '핸들링': '2 적정시기 적정온도 6°C 와인잔 플루트 디캔팅 NO', '페어링': '과일 샐러드 페이스트리'}\n",
      "{'대표 맛과 향': '피노 므니에와 샤르도네를 중심으로 블렌딩 되어,  과실미가 두드러지게 느껴집니다. 잘 익은 사과와 서양 배의 향이 지배적이며, 섬세하면서도 힘있는 기포는 입안 곳곳에서 잘 느껴집니다. 잔향에서는 브리오슈, 갓 딴 너트류의 향기를 풍부하게 맡을 수 있습니다.  바디  탄닌     당도   산도', '핸들링': '적정온도 12 °C 와인잔 플루트 디캔팅 NO 적정시기 2025', '페어링': '기름진 생선 요리 돼지고기 요리'}\n",
      "{'대표 맛과 향': ' 섬세하고도 가벼운 버블이 지속적으로 피어 오릅니다. 말린 살구, 산딸기 같은 작은 베리류 과일향, 향신료의 은은한 터치가 느껴집니다. 구운 아몬드, 설탕에 절인 오렌지 껍질 향이 입안에서 밀도 있고 단단한 구조감을 - 선사합니다. 샤르도네 신선함이 피노누아의 힘을 지배 하며 긴 여운을 남깁니다.', '핸들링': '적정온도 6-8 °C 와인잔 플루트 디캔팅 NO', '와이너리이야기': \"파이퍼 하이직 · 샴페인, 프랑스 PIPER HEIDSIECK 첫 시작은 1785년 플로렌스 루이 하이직이 '여왕을 위한 CHAMPAGNE 최고급 샴페인 생산'을 목표로 세운 와이너리에서 시작 되었습니다. 이후, 1837년 앙리 귀욤 파이퍼가 회사를 물려 받고 와이너리 이름을 파이퍼 하이직으로 바꿨고, 몇 대를 이어가며 '샴페인 하우스'로서 독자적인 영역을 만들어왔습니다. 1993년 부터 칸 국제 영화제의 공식 샴페인으로 영화제를 후원하고 장폴 고티에, 크리스티앙 루부탱 등 유명 디자이너들과 콜라보레이션을 진행하는 등 다양한 업계를 종횡무진하며 세상에 '파이퍼 하이직'을 소개했고, 자신들만의 럭셔리함을 만들어왔습니다.\"}\n",
      "{'대표 맛과 향': '헤이즐넛 향이 먼저 느껴지며 뒤이어 아카시아 꽃 향이 향수 처럼 뿜어져 나오며 백합 꽃의 향이 끝 부분에서 은은하게 느껴집니다. 입 안에서는 힘있는 기포감과 함께 붉은 계열의  과실류에서 느낄 수 있는 과실 힘, 상큼함이 잘 조화를 이루고 있습니다. 놀랍도록 산뜻하며 생동감 넘치는 샴페인입니다.', '핸들링': '적정온도 8-10 °C 와인잔 플루트 디캔팅 NO', '와이너리이야기': '파크에 피스 · 샴페인, 프랑스 PAQUES 1905년 상파뉴에서 태어난 Achille Pacques와 오랜 기간 Chigny-les-Roses의 와인 생산자였던 Aurore Prevost가 결혼을 하면서 시작되었습니다. 1차 세계대전이 끝난 후 Achille 3명의 아들중 Georges가 결혼 후 샴페인 생산에 직접 뛰어들기 위한 발판을 마련하기 위하여, 가족 모두 인근 마을인 Rilly la Montagne로 이전해, 포도밭을 구매 하기 시작했습니다. 나머지 두 형제인 Gerard 와 Nicole은 포도 재배 및 양조 및 하우스 관리에 대한 업무를 배우며, 한계단 한계단 밟아가며 기초가 탄탄한 하우스로 변모 시켰습니다.'}\n",
      "{'대표 맛과 향': ' 충남   8 「  전체적으로 옅은 볏짚색 와인으로 가장자리는 풀색을 띕니다. 9.5×8 섬세한 기포가 정교하게 지속적으로 올라오며 집중도 있는  상큼한 과일과 꽃향을 연상시킵니다. 신선하고  아로마 향은 좋은 밸런스로 누구나 기분좋게 즐길 수 있는 와인입니다.', '핸들링': '와인잔 8-10°C 디캔팅 플루트 적정온도 NO'}\n",
      "{'대표 맛과 향': ' 연한 노란빛의 색의 스푸만테로, 크림과 같은 우아한 거품이 오래 지속됩니다. 복숭아, 빵 껍질, 효모의 향이 매력적이며 균형감이 잡힌 동시에 활기찬 느낌은 전형적으로 잘 만들어진 브뤼의 특징을 보여줍니다.  바디  탄닌   당도    산도', '핸들링': '2 적정시기 7-9 적정온도 °C 와인잔 플루트 디캔팅 NO', '페어링': '해산물 요리 사퀴테리'}\n",
      "{'대표 맛과 향': '첫 향부터 코 끝을 간지럽히며 신선한 열매들이 가득한 과수원을 연상케합니다. 입에서는 풍성하게 익은 사과와   배의 맛들이 부드럽게 조화를 이루고 있습니다. 입 안에 한 잔 머금는 순간 미각을 즐겁게 하고, 긴 피니쉬로 이어집니다.', '핸들링': '적정온도 10°C 와인잔 플루트 디캔팅 NO', '와이너리이야기': '어니스트 레미 샴페인, 프랑스 Ernest Remy 19세기 이사베이 레미와 그의 아내인 젤리아 드부아가 마일리-샴페인 지역에 처음 해당 와이너리를 설립한 이후, 어니스트 레미의 포도는 마일리-샴페인과 베르제네이의 그랑크뤼 지역에 조심스럽게 분포되어 있습니다. 그랑드 몽테뉴 드 랭스 지역의 포도 품종 피노 누아는 최고 수준 퍼포먼스를 보여줍니다.'}\n",
      "{'대표 맛과 향': ' 상큼하고 신선한 과일의 향이 느껴진다. 단맛이 적은 깔끔한 스타일로 시원하고 상쾌한 청량감이 장점이다. 피노 비앙코의 산뜻함과 샤르도네의 깊은 맛이 조화를 이루며, 섬세한 버블을 풍부하게 느낄 수 있는 드라이 스파클링 와인이다.  바디   탄닌  당도   산도', '핸들링': '적정온도 6~8 와인잔 °C 디캔팅 플루트 적정시기 NO', '페어링': '생선 요리 샐러드'}\n",
      "{'대표 맛과 향': '반짝이는 황금 볏짚색으로 중간크기의 매혹적인 버블을 볼 수 있습니다. 잘 익은 열대 과일류의 향과 달콤하고   신선한 바나나향, 이국적인 느낌의 시럽향이 느껴집니다.  입에서는 시트러스한 신선하고 부드러운 맛과 산도감, 그리고 강한 버블감이 느껴집니다.', '핸들링': '적정온도 8-10°C 와인잔 플루트 디캔팅 NO'}\n",
      "{'대표 맛과 향': ' 화려한 로제빛과 살아있는 듯한 스파클링이 인상적입니다. 블랙 베리, 블랙 커런트 등 잘 익은 검은 계열의 베리향이 풍부히 느껴지며, 시트러스의 상큼한 향이 더해져 옵니다. 약간의 파프리카와 사프란의 향이 피니쉬에 더해지며 피망, - 찻잎, 감초의 스파이시함이 와인을 더욱 풍부하게 만들어   맛을 보면 잊지 못할 샴페인이 됩니다.', '핸들링': '적정온도 6-8 °C 와인잔 플루트 디캔팅 NO', '와이너리이야기': \"파이퍼 하이직 · 샴페인, 프랑스 PIPER HEIDSIECK 첫 시작은 1785년 플로렌스 루이 하이직이 '여왕을 위한 CHAMPAGNE 최고급 샴페인 생산'을 목표로 세운 와이너리에서 시작 되었습니다. 이후, 1837년 앙리 귀욤 파이퍼가 회사를 물려 받고 와이너리 이름을 파이퍼 하이직으로 바꿨고, 몇 대를 이어가며 '샴페인 하우스'로서 독자적인 영역을 만들어왔습니다. 1993년 부터 칸 국제 영화제의 공식 샴페인으로 영화제를 후원하고 장폴 고티에, 크리스티앙 루부탱 등 유명 디자이너들과 콜라보레이션을 진행하는 등 다양한 업계를 종횡무진하며 세상에 '파이퍼 하이직'을 소개했고, 자신들만의 럭셔리함을 만들어왔습니다.\"}\n",
      "{'대표 맛과 향': '서양배, 붉은 사과의 아로마에 약간의 시트러스 향이  느껴집니다. 뒤이어 입 안에서는 프레쉬함과 약간의 아니스 향이 느껴지는데, 이는 피니쉬의 시트러스의 향과 자몽향으로 이어집니다. 입안을 가득 채우는 느낌과 끊임없는 버블, 좋은 밸런스를 느낄 수 있는 풀바디 와인입니다.  바디  탄닌  -  당도   산도', '핸들링': '적정온도 6-8 와인잔 °C 디캔팅 플루트 적정시기 NO', '페어링': '스시 회'}\n",
      "{'대표 맛과 향': '파워풀하고 생동감이 넘치는 와인입니다. 진한 체리색에 복합적이면서도 섬세한 아로마가 있으며, 미네랄과 과일 풍미가 숙성에서 오는 여러 아로마와 어우러져 완벽함을 이룹니다. 입안에서는 풍만하고 산뜻하며, 긴 피니쉬를 자랑합니다.  바디      탄닌   당도  산도', '핸들링': '적정온도 15-20 °C 와인잔 유니버설 디캔팅 30분 적정시기 2019-2029', '페어링': '양고기 요리 소고가 요리'}\n",
      "{'대표 맛과 향': '밝고 반짝이는 레몬색의 와인으로 끊임없이 올라오는 중간 크기의 매혹적인 버블을 발견할 수 있습니다. 잘 익은 상큼한 과일 향, 신선한 사과향, 라임/레몬향을 바탕으로 전반적으로  푸른 과일향을 느낄 수 있습니다. 입에선 신선하고 부드러운  산도감과 함께 깊고 강한 버블감이 느껴집니다.', '핸들링': '적정온도 8-10°C 와인잔 플루트 디캔팅 NO'}\n",
      "{'대표 맛과 향': '35 헤이즐넛 향을 가장 먼저 맡을 수 있으며, 뒤이어 아카시아 꽃 향이 향수처럼 뿜어져나옵니다. 마지막으로 백합꽃 향이 끝 부분을 은은히 장식합니다. 입 안에서는 힘있는 기포감과     붉은 계열 과실의 힘, 상큼함이 조화를 이루는 놀라울 정도로 산뜻하고 생동감 넘치는 와인입니다.', '핸들링': '적정온도 10°C 와인잔 플루트 디캔팅 NO', '와이너리이야기': '샴페인 팔머 샴페인, 프랑스 CHAMPAGNE Pdincr&Co. 1947년 샹파뉴 지역에서 최고의 샴페인 블렌드를 만들고자 가장 뛰어난 7명의 와인 재배자들이 모여 설립하였습니다. 이 7명의 와인 재배자들은 샹파뉴 AOC 중에서도 프리미에 크뤼와 그랑 크뤼 포도밭을 주로 소유하고 있는 인물입니다. 재능과 경험을 바탕으로 완벽한 하모니를 갖춘 세계적인 샴페인 브랜드인 Champagne Palmer & Co.를 개발했으며, 샴페인의 대표적인 개척자이자 선구자인 이들은 현재 랭스의 중심가에서 기반을 두고 있는 프리미엄 샴페인 브랜드로 샴페인 팔머를 키워내고 있습니다.'}\n",
      "{'대표 맛과 향': '전통 샴페인의 진수를 보여주는 이 와인은 복합적이며 풀바디한 느낌이 압도적입니다. 프레쉬하면서도 생생한 아로마는 특히 은은한 꽃향기가 매력적입니다. 섬세한 과일향은 고소한 브리오슈향과 완벽하게 어우러지며, 크리미한 텍스쳐는 놀라운 깊이감, 긴 여운을 보입니다.', '핸들링': '적정온도 8-10°C 와인잔 플루트 디캔팅 NO'}\n",
      "{'대표 맛과 향': '옅은 골드컬러가 눈길을 사로잡고 강렬한 아카시아 꽃향기가 후각을 자극합니다. 뒤이어 무화과와 자두  향이 선명하게 느껴지고, 입에선 부드러운 견과류의  풍미와 아카시아 꿀, 야생의 과일을 느낄 수 있으며 우아하고 상쾌한 피니시가 길게 이어집니다.', '핸들링': '적정온도 10-12 °C 와인잔 플루트 디캔팅 NO', '와이너리이야기': 'CHAMPAGNE CATTIER · 샴페인, 프랑스 CATTIER 13대째 대를 잇고 있는 400년 역사의 전통 샴페인 명가로 상파뉴 지역의 전통에 자부심과 책임감을 가지고 떼루아를 위해 지속 가능한 친환경 방식을 고수합니다. 2012년 HVE(High Environmental Quality)인증 취득, 2015년에는 가장 높은 등급인 HVE level3 인증을 받았 습니다. 럭셔리 샴페인 하우스 \"Armand de Brignac\"의 와인 메이커로도 널리 알려져 있는 메종 카띠에르는 한결 같은 아이코닉 스타일을 고수하고 있습니다.'}\n",
      "{'대표 맛과 향': ' 산뜻하고 매우 신선한 느낌의 와인으로 커런트, 체리, 블랙베리, 야생딸기, 자몽 등 아로마가 매력적입니다. 가벼운 구조감과 함께 다채로운 과일의 뉘앙스로    마무리되는 개성있는 스타일의 와인입니다.', '핸들링': '적정온도 8-10°C 와인잔 플루트 디캔팅 NO', '와이너리이야기': '마티아스 리치텔리 · 멘도사, 아르헨티나 RiciieLi 아르헨티나의 전설적인 와인메이커 조지 리치텔리의 아들인 마티아스가 아버지에게 배운 스킬과 자신의 노력을 더해 본인 이름으로 와이너리를 만들었습니다. 마티아스가 오리엔탈리즘에 영감을 받아서 쿵푸의 강렬함과 활동적인 바이브를 모티브로 만든 내추럴 와인 브랜드 입니다.'}\n",
      "{'대표 맛과 향': '옅은 볏짚색에 계속해서 터지는 버블을 관찰할 수 있습니다. 돋보이는 상큼한 과실맛 위로 스파클링이 더해져, 더 부드러운 텍스처를 보여줍니다. 여기에 열대 과일의 밝은 풍미가 달콤한 레몬, 구스베리의 산미와 더해져 드라이한 미네랄리티로 마무리됩니다.   바디     탄닌  당도  산도', '핸들링': '적정온도 6-8 °C 와인잔 화이트 디캔팅 NO 적정시기 2021-2040', '페어링': '굴 요리 떡볶이'}\n",
      "{'대표 맛과 향': ' 활기차고 누구나 마시기 쉬운 캘리포니아 스파클링으로 파인애플 타르트와 오렌지 꽃의 향이 퍼지고 입안에서는 신선한 배와 허니써클의 풍부한 향에 귤껍질과 머랭과자 맛이 층층이 더해지며 산도와 함께 강렬한 마무리를 보여줍니다.', '핸들링': '적정온도 8°C 와인잔 유니버설 디캔팅 30분'}\n",
      "{'대표 맛과 향': '연한 골드 컬러와 얇고 지속적인 버블감을 보여줍니다. 코에서는 라임, 오렌지 등 시트러스 계열의 과일향과 뒤이어 오는 꽃향이 매력적입니다. 입 안 가득 느껴지는 레몬, 감귤, 오렌지 과일 풍미와 뒤어어 따라오는 은은한   커스터드 크림, 브리오슈 풍미와 적당한 산미 밸런스가 일품입니다.', '핸들링': '적정온도 7-10°C 와인잔 플루트 디캔팅 NO'}\n",
      "{'대표 맛과 향': '잘익은 붉은 과일 향과 스파이시한 아로마가 복합적으로 느껴집니다. 입안에서는 부드러운 탄닌과 신선한 과일  아로마, 산뜻한 산도가 훌륭한 밸런스를 선보입니다. 발효 시 과도한 추출을 피하고 풍부한 과일향을 살릴 수 있는 양조 방법을 사용하여 생산된 부드럽고도 매력적인 와인입니다.', '핸들링': '적정온도 16-18 °C 와인잔 버사이즈 디캔팅 30-60분', '와이너리이야기': '앙드레 뤼통 · 보르도, 프랑스 ANDRE LURTON 앙드레 뤼통은 위대한 농부이자 보르도를 대표하는 와인 메이커로 뤼통 가문은 보르도에 29개의 샤또를 소유하고 있습니다. 앙드레 뤼통은 포도밭의 각기 다른 토양을 존중 하는 가운데 현대적 스타일의 와인 생산을 추구하며, 모든 와인은 자사 소유 포도밭에서 생산합니다. 즐거움을 위한 와인이자 소비자들이 살 수 있는 합리적 가격을 추구하는 와인 생산자입니다.'}\n",
      "{'대표 맛과 향': '러블리한 살몬 핑크 컬러로 스위트한 화이트 와인에서 느낄 수 있는 파인애플과 복숭아, 멜론의 달콤함에 레드 프룻 풍미인 체리, 딸기와 라즈베리가 합쳐져 매력적인  풍미와 밸런스를 보여줍니다. 게다가 스파클링이 주는  청량감과 끝 맛에서 느껴지는 적당한 산미가 과실향과 어우러진 마성의 스파클링 로제와인입니다.', '핸들링': '적정온도 8-10°C 와인잔 플루트 디캔팅 NO', '와이너리이야기': \"블랙타워 · 라인헤센, 독일 Black Tower 1920년부터 독일의 라인에센 지역을 중심으로 '포도 재배'는 물론, 와인 사업에도 많은 관심을 갖고 투자를 해서 유럽으로 와인을 수출하면서 세계인으로 부터 먼저 인정 받기 시작한 독일 와이너리입니다. 현재는 전 세계 프리미엄 와인 산지에 와이너리를 설립하고 각 지역 특색에 맞는 포도품종으로 다양한 브랜드를 런칭하며 세계인을 위한 와인을 만드는 와이너리이자 가족 경영 와인 그룹으로 세계인들에게 데일리 와인 브랜드로 널리 인정받고 있는 브랜드입니다.\"}\n",
      "{'대표 맛과 향': '브라케토 품종 특유의 붉은 과일의 향이 풍부하며, 산딸기와 같이 달콤한 첫 맛과 새콤한 끝맛을 모두 가졌습니다. 톡톡 튀는 스파클링이 어우러져 입 안 에서 터지는 느낌이 산뜻하고,산딸기의 상큼달콤함을 가진 달콤한 레드 스위트 스파클링 와인입니다.  바디    탄닌   당도   산도', '핸들링': '적정온도 6-8 와인잔 °C 디캔팅 플루트 적정시기 NO', '페어링': '스낵 디저트'}\n",
      "{'대표 맛과 향': '    풍부한 과일의 풍미와 깔끔한 달콤함을 함유한 이태리 스위스 레드 와인입니다.', '핸들링': '적정온도 8-10°C 와인잔 플루트 디캔팅 NO'}\n",
      "{'대표 맛과 향': ' 깊고 아름다운 자주빛을 띠며 화려한 블랙커런트 향과 오크 + 향이 잘 조화되 복합적인 향이 베어납니다. 풍부한 바디와 ### 부드러운 탄닌을 느낄 수 있으며 뒷맛이 오래되는 균형이 뛰어난 와인입니다.', '핸들링': '적정온도 12-14 °C 와인잔 유니버셜 디캔팅 30분'}\n",
      "{'대표 맛과 향': '{\" \"폽 블랙 체리, 잘 익은 붉은 베리류의 집중된 과실향과 감초, 커피, 스모크 향등 다양한 아로마가 주는 복합적이고 풍부한 향을 느낄 수 있습니다. 장기 숙성형 와인답게 부드럽고 섬세한 탄닌이 또렷하게 느껴지며, 피니쉬에서는 카카오, 바닐라가 주는 감칠 맛과 어우러진 긴 여운이 매력적입니다.   바디  탄닌  당도  산도', '핸들링': '적정온도 17-19°C 와인잔 버사이즈 디캔팅 60분 적정시기 2021-2035', '페어링': '스테이크 파스타'}\n",
      "{}\n",
      "{'대표 맛과 향': '블랙 체리, 자두, 까시스 등 과일 향과 함께 감초, 백후추,    가죽, 오크 등의 스파이시한 아로마가 풍부히 느껴집니다. 무르익은 과일의 풍부한 감미, 산도, 은은한 타닌, 생생한 미네랄과 긴 여운이 조화를 이룬 뛰어난 와인입니다.', '핸들링': '적정온도 15-20 °C 와인잔 버사이즈 디캔팅 30분'}\n",
      "{'대표 맛과 향': '빛나는 매우 짙은 다크 루비 레드 컬러를 보여주며, 잘 익은 블랙   커런트의 리치하고 스파이시한 풍미에 바닐라 터치가 잘 조화를 이룹니다. 입에선 실키하고 전체를 감싸는 텍스처가 돋보입니다. 풍부한 과실미를 보여주지만, 과하게 무겁지 않으며 탄닌이 잘 잡혀있습니다. 신선하면서 우아한 과실향과 스파이시한 풍미를 입안에서 간직하며 아름다운 밸런스와 우아함을 보여줍니다.', '핸들링': '적정온도 16-18 °C 와인잔 유니버셜 디캔팅 30분', '와이너리이야기': '앙드레 뤼통 · 보르도, 프랑스 ANDRE LURTON 앙드레 뤼통은 위대한 농부이자 보르도를 대표하는 와인 메이커로 뤼통 가문은 보르도에 29개의 샤또를 소유하고 있습니다. 앙드레 뤼통은 포도밭의 각기 다른 토양을 존중 하는 가운데 현대적 스타일의 와인 생산을 추구하며, 모든 와인은 자사 소유 포도밭에서 생산합니다. 즐거움을 위한 와인이자 소비자들이 살 수 있는 합리적 가격을 추구하는 와인 생산자입니다.'}\n",
      "{'대표 맛과 향': '-   짙은 색상을 지닌 이 와인은 잘 익은 블랙베리, 다크체리와 같은  검붉은 과실향에 코코아, 커피 그리고 약간의 스파이스가 더해져 복합적인 향을 선사합니다. 적당한 탄닌이 입 안을 헹궈주며 긴 여운을 선사합니다.', '핸들링': '적정온도 14-18 °C 와인잔 유니버셜 디캔팅 60분'}\n",
      "{'대표 맛과 향': ' 진한 루비색을 띄고있으며 자두나 체리같은 프레쉬한 붉은 과일, 장미 혹은 제비꽃향과 끝에서는 후추와 초콜렛 같은 스파이시함이 느껴집니다. 좋은 구조감과 바삭바삭한 산미, 부드러우면서 우아한 붉은 과실향이 와인을 삼키고나서도 길게 이어집니다.', '핸들링': '적정온도 16-18 °C 와인잔 유니버셜 디캔팅 30분', '와이너리이야기': '토마레스카 · 풀리아, 이탈리아 TORMARESCA 토마레스카는 안티노리의 브랜드로, 이탈리아 풀리아 지역에서 유일히 살렌토 반도와 카스텔 델 몬테 DOC에 와이너리를 갖고 있습니다. 토마레스코는 알리아니코, 네그로아마로, 프리미티보, 피아노와 같은 풀리아 지역 토착 품종을 최상의 품질로 표현하는 와인을 제공하고 있습니다. 이탈리아 토착 품종 전통은 살리며, 현대적인 쾌적한 생산 구조를 갖추어 이태리 명품 명가 와인의 뒤를 따르고 있습니다.'}\n",
      "{'대표 맛과 향': ' 진한 농축된 검은 베리류의 과실향이 입 안에 퍼지면 토스트, 초콜렛, 커피 등의 느낌이 남성적인 와인임을 느낄 수 있습니다. 부드러우면서 섬세한 탄닌과 입에선 느껴지는 질감이 매력적입니다.', '핸들링': '적정온도 16-18°C 와인잔 유니버셜 디캔팅 30분', '와이너리이야기': '산타 크리스티나 · 센트럴 밸리, 칠레 SANTA CRISTINA 산타 크리스티나는 칠레 핵심 와인 산지인 라펠 밸리에 자리한 와인 생산자로 티에라 누에바, 산 호세 데 아팔타 등 다양한 브랜드를 보유하고 있습니다.'}\n",
      "{'대표 맛과 향': '     ### ### 밝고 깊은 루비빛 색상으로 기분좋은 블랙베리와 초콜렛,  커피의 아로마가 느껴집니다. 구조감과 밸런스가 좋은 풀바디로 우아한 탄닌과 산도를 느끼며 잘 익은 과일향 피니시가 길게 이어집니다.', '핸들링': '적정온도 18-20 °C 와인잔 유니버셜 디캔팅 30분'}\n",
      "{'대표 맛과 향': '    밝고 깊은 보라빛 색상으로 기분좋은 블랙베리와 초콜렛, 커피의 아로마, 구조감과 발란스가 좋은 풀바디로 우아한 탄닌과 산도를 느끼며 잘 익은 과일향의 피니시가 길게 이어집니다.', '핸들링': '적정온도 16-18 °C 와인잔 유니버셜 디캔팅 60분'}\n",
      "{'대표 맛과 향': '밝은 루비빛을 띄지만 중앙부분은 조금 더 짙은 색을 띄며, 잘 2014 익은 레드베리류 계열의 향이 풍부하며, 뒤 따라 담뱃잎, 가죽,  그리고 타임과 같은 허브향이 뒤이어 느껴집니다. 입 안에서는 -   매우 부드러운 탄닌감으로 마무리되며, 목 넘김 후 느껴지는 바닐라 향은 기분좋은 마무리를 선사합니다.', '핸들링': '적정온도 16-18 °C 와인잔 아로마 콜렉터 디캔팅 30분'}\n",
      "{'대표 맛과 향': '  집중도 높은 아로마와 검은 자두와 체리향, 그리고 다크 초콜릿 노트가 잘 느껴집니다. 입을 가득 채우는 바디감과 잘 자리잡은 탄닌감과 신선한 산도가 잘 어우러져 길고 스파이시한 여운을 남깁니다.', '핸들링': '적정온도 16-18 °C 와인잔 유니버셜 디캔팅 60분'}\n",
      "{'대표 맛과 향': '제비꽃, 레드베리, 졸여진 블랙 베리류의 향이 코를 자극하며 로즈마리, 감초 등의 스파이시한 허브향과    토스트 향이 잘 익은 집중도 바닐라, 조화롭습니다.    있는 과실감이 입안 가득 느껴지고 잘 녹아든 타닌과 적당한 산도가 훌륭한 여운을 선사하는 와인입니다.', '핸들링': '적정온도 14 °C 와인잔 유니버셜 디캔팅 30-60분', '와이너리이야기': '셀리에 데 프린스 론, 프랑스 샤또네프 뒤 파프 최고 컨설턴트(론 미쉘롤랑)이자 2010년 Le Cally des Prince 파커가 선정한 최고의 와인 메이커가 운영하는 와이너리 입니다. 특출난 떼루아와 최고의 빈야드와 손수확이라는 세 가지 핵심 자산을 통해 샤또네프 뒤 파프와 꼬뜨 뒤 론, 꼬뜨 뒤 론 빌라쥬 뿐 아니라 IGP 와인들에서도 자신들의 특장점을 드러내고 있습니다. 로보트 파커로부터 100점을 21회나 받은 Philippe Cambie의 가성비 최고 론 와이너리 브랜드입니다.'}\n",
      "{'대표 맛과 향': '   블랙체리와 바닐라의 풍부한 향을 고스란히 느낄 수 있습니다. 초콜렛과 감초 터치가 가미된 다크 프룻의 진한 풍미, 아메리칸과 프렌치의 오크 에이징을 통해   와인에 복합미를 더해줍니다. 프레쉬하고 마시기 편한', '핸들링': '적정온도 16-18 °C 와인잔 아로마 콜렉터 디캔팅 60분'}\n",
      "{'대표 맛과 향': '전체적으로 밝은 체리 레드 컬러에 가장자리는 앳된 퍼플 컬러로 강렬하면서 생기 넘치는 레드 프룻의 향이 메인 베이스입니다. 입에선 생생하고 신선하면서 독특한 맛이  매력적이며 체리와 산딸기, 라즈베리의 신선함과 효모 숙성에서 오는 텍스쳐의 복합미가 인상적입니다. 잘 정제 된 월넛과 탄닌감이 가미된 감칠맛으로 마무리됩니다.', '핸들링': '적정온도 12-16 °C 와인잔 유니버셜 디캔팅 30분', '와이너리이야기': \"락베어 남호주, 호주 ROCKBARE 락베어는 미국과 오세아니아 지역 와인업계 두 거물의 만남으로부터 시작되었습니다. 미국 캘리포니아 대표 와인 회사인 잭슨 패밀리 와인, 호주&뉴질랜드 프리미엄 와인 회사 조발 와인 이 두 그룹이 만나 야심차게 런칭한 브랜드가 바로 락베어Rockbare입니다. '국경 없는 와인 메이킹'을 철학으로 세계에서 가장 다양한 품종을 재배 하는 남호주의 지역적 특성을 살려 와인을 생산합니다.\"}\n",
      "{'대표 맛과 향': '짙은 갸넷 색상에, 주변부는 옅은 보랏빛을 띠고 있습니다. 향은 전형적인 바로사 쉬라즈의 느낌으로 블랙 베리와 검은 자두, 약간 그을린 향신료 터치와 블랙 올리브, 다크 초콜렛 풍미가 느껴집니다. 미디엄 바디임에도 힘 있는 맛과 주요 과실의 정제미가 집중도 있게 표현됩니다. 환상적으로 신선 하고 생생한 텍스쳐와 탄닌이 든든하게 과실의 풍미를 받쳐 주면서 피니쉬를 자아냅니다.', '핸들링': '적정온도 16-18°C 와인잔 유니버셜 디캔팅 30분', '와이너리이야기': \"락베어 남호주, 호주 ROCKBARE 락베어는 미국과 오세아니아 지역 와인업계 두 거물의 만남으로부터 시작되었습니다. 미국 캘리포니아 대표 와인 회사인 잭슨 패밀리 와인, 호주&뉴질랜드 프리미엄 와인 회사 조발 와인 이 두 그룹이 만나 야심차게 런칭한 브랜드가 바로 락베어Rockbare입니다. '국경 없는 와인 메이킹'을 철학으로 세계에서 가장 다양한 품종을 재배 하는 남호주의 지역적 특성을 살려 와인을 생산합니다.\"}\n",
      "{'대표 맛과 향': ' 60 풍부하고 진한 바이올렛 색과 블랙베리, 블랙체리, 블루베리 등을 불에 졸인듯한 진한 향이 느껴집니다. 매우 풍부하게 느껴지는 이 아로마에 이어 완숙된 자두와 토스트된 바닐라, 달콤 쌉싸름한 다크초콜렛 향이 융합되어 느껴집니다. 매우 잘 익은 과실미와 입안 가득 메워주는 바디감 그리고 벨벳 같은 텍스쳐가 어우러져 긴 여운을 선사합니다.', '핸들링': '적정온도 16-18 °C 와인잔 유니버셜 디캔팅 30분', '와이너리이야기': '수산나 발보 · 멘도사, 아르헨티나 usaua gallo 수산나 발보는 1981년 아르헨티나 여성 와인 메이커 중 최초로 와인 양조 학위를 받은 와인 메이커이자 카테나 자파타에서 오랫동안 와인 양조를 전담해온 전설적인 와인 메이커로, 현재 최고 평론가 다수에게 아르헨티나 최고 와인 메이커로 인정받고 있습니다. 수산나 발보는 가장 혁신적인 와인을 선보이는 브랜드로 다양한 시도와 실험을 통해 도출한 가장 완벽한 결과물만 출시하는 것 으로 알려져 있습니다. 아르헨티나 와인이 세계적으로 유명해지는 과정에 일조한 브랜드 중 하나입니다.'}\n",
      "{'대표 맛과 향': '  리치한 샤르도네의 특징을 반영하듯 진한 옐로우 컬러가 눈에 띕니다. 사과의 달콤함과 시트러스 계열 과일로부터  느낄 수 있는 새콤함이 어우러지며 입 안에서 지속적으로 신선하고 리치한 풍미를 한 가득 느낄 수 있습니다.', '핸들링': '적정온도 10-12°C 와인잔 화이트 디캔팅 NO', '와이너리이야기': \"팔레스코 · 라치오, 이탈리아 FALESCO 와인메이커 '렌조 코타렐라' 가문 소유의 와이너리입니다. 이탈리아에서 호평을 받는 와인메이커 코타렐라 형제는 1979년 라치오에 부티크 와이너리를 설립합니다. 터전 으로 삼았던 라치오 몬테피아스코네 지역을 시작으로 움브리아, 토스카니 등 기반을 넓히며 설립 즉시 세상에 알려졌으며, 명성은 지금도 이어져 이탈리아 레드 와인 중 가장 엘레강스하고 혁신적인 와인을 만드는 것으로 널리 알려져 있습니다. 오늘날은 리카르도 딸들과 로렌조 딸에 의해 운영되고 있으며, 아버지들의 와인에 대한 사랑과 열정을 이어가고 있습니다.\"}\n",
      "{'대표 맛과 향': '188  깨끗하고 밝은 루비빛을 보여주며 잘 익은 검은색 계열의 자두와 블랙베리, 스파이시함이 끝에 약하게 느껴집니다. 생동감 넘치는 과실감과 부드럽지만 입 안 가득 느껴지는 탄닌이 즐기기 좋게 어우러집니다.', '핸들링': '적정온도 16 °C 와인잔 유니버셜 디캔팅 30분'}\n",
      "{'대표 맛과 향': '2015  투명하고 밝은 황금색을 띄며, 흰색 계열 꽃 향과 시트러스향이  풍부하게 느껴집니다. 입 안에서는 토스트된 향이 잘 어우러져      부르고뉴 이상의 품질을 보여주고 있습니다.', '핸들링': '적정온도 10-12 °C 와인잔 화이트 디캔팅 NO'}\n",
      "{'대표 맛과 향': \" 루비-보랏빛이 인상적인 이 와인은 강렬하고 풍부한 블루베리, 블랙 베리 등의 검은 계열의 과일 향들이 두드러지며 신선한 산도와 우아한 탄닌감과 끝에서 미네랄이 감돕니다. '남미의 보르도'인 마이포 안데스 밸리의 특징을 잘 보여주는 와인입니다.\", '핸들링': '적정온도 16-18 °C 와인잔 유니버셜 디캔팅 30분', '와이너리이야기': \"하라스 데 피르 · 마이포 밸리, 칠레 HARAS DE PIRQUE 에두아르도 A. 마테는 훌륭한 종마와 최고의 와인을 생산 하고자 1991년 칠레 핵심 와인 생산 지역인 마이포 밸리 피르케 지역에 종마장을 포함한 포도밭을 인수해 '하라스 데 피르케'를 설립합니다. '하라스 데 피르케'는 칠레 중부 마이포 지방 북부에 위치해 있고, 훌륭한 기후와 지리적 조건으로 칠레 프리미엄 와인을 생산하는 것으로 널리 알려져 있으며 말굽 모양의 건축물인 와이너리가 상징, 최고급 와인 생산을 목표로 2003년 3월 이태리 세계적인 와인 명가 안티노리와 조인트 벤처 협정을 통해 칠레의 고급 와인을 생산하고 있습니다.\"}\n",
      "{'대표 맛과 향': '깊고 진한 가넷빛 컬러 와인으로 블랙베리, 다크 초콜렛, 자두, 흰 후추, 향신료, 흙 향이 느껴지며 풍부하고 훌륭한 균형감과 구조를 갖추고 있습니다. 지금 마시기도 좋지만, 장기 숙성 후에 더욱 빛을 발할 것으로 예상되며 텔라토  패밀리 빈야드 대표 와인메이커 3인의 장점을 고스란히 담은 와인입니다.  바디  탄닌  당도  산도', '핸들링': '적정온도 14-16 °C 와인잔 유니버설 디캔팅 30-60분 적정시기 2020-2060', '페어링': '스테이크 양고기 구이'}\n",
      "{'대표 맛과 향': '생기 있는 진한 루비 컬러로 잘 익은 블랙베리와 산타 로사   플럼, 다크 체리와 같은 야생 과실 풍미를 깊이 있게 표현 합니다. 은은한 허브, 후추, 세이지 터치에 복합적인 산미를   더하여 미각과 후각에 강렬한 반응을 일으키는 와인으로 풍부한 아로마와 오크 스파이스함은 좋은 조화를 이루며 부드러운 탄닌감이 구조감을 더합니다.', '핸들링': '적정온도 16-18 °C 와인잔 유니버셜 디캔팅 30분', '와이너리이야기': '프리마크 아비 · 나파밸리, 미국 FREEMARK ABBEY 잭슨 패밀리 와인은 나파밸리 프리미엄 와이너리를 NAPA VALLEY 최다 보유한 와인 그룹입니다. 와이너리 프리마크 아비는 잭슨 패밀리의 프리미엄 라인으로 1886년 설립된 미국 캘리포니아 나파밸리에서 가장 오래된 와이너리이며, 붉은 나무로 된와인 저장고를 건축, 운영하고 토지 경작을 하며 나파밸리 최초의 여성 와인메이커로 이름을 올렸습니다.'}\n",
      "{'대표 맛과 향': \"포도알 2개를 겹쳐 하트 모양을 표현한 라벨 디자인으로 와인에 대한 진심을 담아냈습니다. 크림같이 부드럽고 우아한 레드 와인입니다. 감초와 허브향, 블랙 체리향이 집중적으로 느껴집니다. 미디움- -풀바디 와인으로 입안 곳곳 채우는 탄닌이 느껴지고, 곧이어 훌륭한 피니쉬로 이어집니다.   바디   '  탄닌  당도  산도\", '핸들링': '적정온도 °C 와인잔 아로마 디캔팅 콜렉터 적정시기 30분 18 2025', '페어링': '에멘탈 치즈 토마토 소스 파스타'}\n",
      "{'대표 맛과 향': '매우 깊고 짙은 잉크 컬러에 풍부한 자두, 제비꽃과 함께 감미로운 시가향이 느껴집니다. 우아하며 견고한 구조감은    벨벳처럼 부드러운 타닌과 완벽한 밸런스를 보여줍니다. 바로 마시기에도 적합하고 15년 이상 장기 숙성이 가능한 복합적이고 깊이 있는 와인입니다.', '핸들링': '적정온도 16-18 °C 와인잔 유니버셜 디캔팅 60분'}\n",
      "{'대표 맛과 향': '짙은 가넷색을 보여줍니다. 레드 계열의 과실향이 아주 강하게 느껴지며 말린 베리향과 스파이시한 캐릭터가 돋보입니다. 초콜렛과 호두 향이 은은하게 나타나며, 풀바디에 가까운 바디감이 느껴지고, 부드러운 벨벳같은  탄닌으로 마무리됩니다.  바디   탄닌  당도  산도', '핸들링': '적정온도 °C 와인잔 아로마 디캔팅 콜렉터 적정시기 30분 18 2027', '페어링': '오일 파스타 프로슈토'}\n",
      "{'대표 맛과 향': '가넷색의 테두리에 진하고 어두운 색을 보여줍니다. 우아하고 복합적인 야생 베리향을 맡을 수 있고, 공기와 접촉하면서 나타나는 후추, 블랙커런트의 싹, 말린 꽃의 향이 기분 좋은 조화를 이룹니다. 입 안에서는 신선하고 깔끔하면서 구조감이 좋으며 풀바디의 응출된 과일향이 중간중간 느껴지고, 정제와 잘 숙성된 탄닌으로 쉽게 잊을 수 없는 부드러움을 남기는 와인입니다.   바디   탄닌  당도  산도', '핸들링': '적정온도 16-18 °C 와인잔 버사이즈 디캔팅 60분 적정시기 2022-2067', '페어링': '소고기 요리 양고기 요리'}\n",
      "{'대표 맛과 향': '!! 02000 보랏빛이 감도는 강렬한 붉은색을 띄며 자두와 블랙베리의 세련된 향과 진한 나무 향기가 조화롭습니다. 풍부하면서도 균형감 있는 와인으로 입 안에서 베리류 과일들이 뒤섞인 향에 섬세한 나무향이 더해집니다. ', '핸들링': '적정온도 18-20 °C 와인잔 유니버셜 디캔팅 30분'}\n",
      "{'대표 맛과 향': '진한 암적색과 보라빛의 컬러를 가진 와인입니다. 코에선 구운 자두, 블랙베리 파이, 블랙커런트 그리고 은은한 삼나무와 흙향이 좋습니다. 농축된 검은 계열 과일 향과 부드러운 산미, 구조감이 좋으며 부드러운 탄닌의 밸런스가 긴 여운을 남깁니다.   바디  탄닌  당도  산도', '핸들링': '적정온도 16-18 °C 와인잔 버사이즈 디캔팅 60분 적정시기 2021-2045', '페어링': '구운 채소 스테이크'}\n",
      "{'대표 맛과 향': '° 풍부한 블랙베리류의 향이 먼저 다가오며 달콤한 오크, 바닐라, 카라멜 향이 풍부하게 느껴집니다. 입 안에서  부드럽고 농축된 블랙베리, 체리, 오크, 바닐라, 카라멜 등을 느낄 수 있는 깊은 루비 컬러의 풀바디 와인입니다.', '핸들링': '적정온도 18°C 와인잔 유니버셜 디캔팅 60분'}\n",
      "{'대표 맛과 향': '첫 향부터 크림 드 카시스, 바이올렛, 토바코 향이 뿜어져 나옵니다. 풀 바디 와인으로 탄닌 ,산미 등의 균형이 아주 잘 잡혀 있으며, 군더더기 없이 아주  깔끔하고 우아한 인상을 줍니다. 최소 20년 이상 즐길 수 있는 와인입니다.  바디  탄닌  당도  산도', '핸들링': '적정온도 18-20 °C 와인잔 버사이즈 디캔팅 60분 적정시기 2023-2035', '페어링': '스테이크 치즈'}\n",
      "{'대표 맛과 향': ' 크림 드 카시스 향과 연필심 향, 말린 꽃과 초콜릿 향이 느껴집니다. 비교 불가한 풀바디감을 가지고 있으며 층층히 완벽히 자리잡고 있는 구조감과 끝없는 여운이 인상적입니다.', '핸들링': '적정온도 16-18 °C 와인잔 아로마 콜렉터 디캔팅 60분'}\n",
      "{'대표 맛과 향': '밀튼 프리워터 구역에서 콘씨넬레 빈야드에서 수확된 포도로 양조되며, 카이유즈 라인업 중 가장 풍부하고 집중도 높은 쉬라 입니다. 짙은 루비빛, 보라빛이 인상적이며 매혹적인   라즈베리, 레드 커런트, 베이컨, 훈연향과 흙향이뿜어져 나옵니다. 탄탄한 탄닌감과 촘촘히 자리잡힌 구조감을 지닌 풀바디로 오픈까지 최소 2-3년 시간이 필요, 20년 이상 숙성도 가능합니다.', '핸들링': '적정온도 16-18 °C 와인잔 유니버셜 디캔팅 60분'}\n",
      "{'대표 맛과 향': '매혹적인 장미잎, 야생꽃, 야생 딸기 그리고 프랑 부아즈 향이 즉각적으로 느껴집니다. 아주 여리지만 매우 섬세한 텍스쳐를 지닌 미디움 바디 와인으로 미국에서는 좀처럼 찾아보기 힘든 유니크한 스타일입니다. 층층히 자리잡고 있지만 잘 녹아든 탄닌감과 훈연, 육향 등으로 마무리되어 적어도 3-5년은 셀러에서 숙성을 권장하는 와인입니다.', '핸들링': '적정온도 18-20°C 와인잔 유니버셜 디캔팅 30분', '와이너리이야기': '카이유즈 · 워싱턴, 미국 CAYUSE 설립자 Christophe Baron은 프랑스의 샴페인 하우스 집안에서 태어나, 어렸을 때부터 포도밭 관리에 관심이 많았습니다. 상파뉴와 부르고뉴에서 공부한 뒤 경험을 쌓기 위해 세계 각지를 돌아다녔고, 프랑스로 돌아가지 않고 오레곤 윌러맷 밸리에서 피노누아를 재배하기로 결심했습니다. 우연히 왈라왈라밸리를 방문 후 토양과 자갈밭으로 이뤄진 현재의 밀튼 프리워터 지역에 매료 되어 그곳에서 정착했고 처음부터 완벽한 토양환경을 위해 바이오 다이나믹 농법을 도입했습니다. 북부 론의 코르나스 지역의 쉬라를 롤 모델로 삼으며 쉬라 본연의 모습을 보여주고 있습니다. 현재는 20년이 안되었지만 미국 최고의 와이너리로 인정받고 있습니다.'}\n",
      "{'대표 맛과 향': '첫 향부터 까시스와 블랙 라즈베리의 집중도 높은 과실향과 말린 꽃, 삼나무, 토바코 그리고 말린 허브향이 느껴집니다.  임펄시보는 미디움에서 풀바디의 우아한 텍스처를 지니고 있으며 아직은 단단하지만 훌륭한 탄닌감을 가졌습니다.', '핸들링': '적정온도 18 °C 와인잔 유니버셜 디캔팅 60분'}\n",
      "{'대표 맛과 향': ' 깊고 진한 루비빛의 와인으로 잘 익은 블랙베리, 블루베리, 카시스 향과 캬라멜, 너트맥, 바닐라향과의 조화로 복합적인 아로마가 느껴집니다. 검붉은 과일향과 함께 다크 초콜릿의 풍미가 어우러진 와인으로 산뜻한 산도, 실키한 탄닌, 우아한 오크 터치가 입안에서 긴 여운을 가집니다.', '핸들링': '적정온도 16-18 °C 와인잔 유니버셜 디캔팅 30분', '와이너리이야기': '텔라토 와인 · 캘리포니아, 미국 텔라토 와인 그룹은 지난 반세기 동안 미국 와인 산업을 TERLATO WINES 이끌어 온 가족 경영의 와인 기업입니다. 명품 와인에 대한 노하우로 캘리포니아에서 프랑스 최고급 와인과 견줄 수 있는 와인을 직접 생산하고 있습니다. 텔라토 와인 그룹 앤서니 텔라토 회장은 20세기 후반 미국의 명품 와인 시장을 이끌어 온 주역입니다. 그의 궁극적 목표는 미국에서 세계 정상급의 와인을 생산해 럭셔리 와인의 전통을 세우는 것입니다. 델라토 와인은 텔라토 패밀리 빈야드의 최고급 와인으로, 보르도 명품 와인의 품위를 구현한 나파 밸리의 명품 와인입니다.'}\n",
      "{'대표 맛과 향': '  밝은 루비빛을 띄며 향신료의 스파이시한 향, 바닐라향, 블랙베리의 풍부한 과일향이 단단한 탄닌의 구조감과 어우러져 입 안에서 부드럽고 긴 여운을 남기며 바로 마시기에 손색없고 숙성 시키기에도 좋은 와인입니다.', '핸들링': '적정온도 14 °C 와인잔 유니버셜 디캔팅 30분', '와이너리이야기': '샤또 뮈레 · 보르도, 프랑스 CHATEAU MURET 샤또 뮈레는 오 메독지역에 위치한 와이너리로 손꼽히는 HAUT MEDOC 곳에 명산지인 생테스테프에서 몇 킬로미터 떨어진 자리 잡고 있습니다. 1850년 유명 와인 가이드에 소개된 적이 있을만큼 오랜 역사를 자랑하며 100헥타르 규모로 지역 내 가장 유명하고 큰 와이너리 중 하나였습니다. 1860년대 프랑스를 강타해 30년 넘게 지속된 필록세라로 큰타격을 입어 폐허가 되었지만 이후 1985년 현재 오너 Boufflerd 일가가 포도밭을 사들인 후 재정비 후 집중적으로 관리해 지금의 샤또 뮈레가 되었습니다. 현재는 25헥타르 규모로 점토와 석회암으로 이루어진 고원 지대에 위치하며 평균 수령 27년된 나무에서 수확한 포도로 와인을 만듭니다.'}\n",
      "{'대표 맛과 향': '잘 익은 딸기, 체리 등 붉은 과실의 향이 강렬하게 맡아지고 2019 은은한 꽃향이 뒤섞여 퍼집니다. 부드러운 질감의 마무리는   프레쉬한 과실의 새콤함을 느낄 수 있으며 과일향과 탄닌, 산도의 균형과 조화가 훌륭합니다.', '핸들링': '적정온도 16 °C 와인잔 아로마 콜렉터 디캔팅 30분', '와이너리이야기': '실뱅 카티아르 · 부르고뉴, 프랑스 ROMANEE-SAINT-VIVIANT 21세기 부르고뉴 최고 수퍼 스타로 각광받는 와인 메이커 CAND DE 입니다. 본인에 대한 현란한 찬사에는 무심해 보이는 그는 토양에 깊게 뿌리내린 농부며 자연이 주는 선물을 뛰어난 재능으로 와인에 표현합니다. 카티아르 패밀리는 부르고뉴 꼬뜨 드 뉘에 위치한 본에 근거지를 두고 있으며 본 로마네, 뉘 생 조르쥬, 샹볼 뮤지니, 로마네 생 비방 등 5헥타르의 포도밭을 소유하고 있습니다. 3대째 가업을 이어오던 실뱅 카티아르는 오랜 시간 아들인 세바스티앙과 함께 와인을 생산하다 2011년부터는 완전히 세바스티앙에 의해 생산 되고 있습니다.'}\n",
      "{'대표 맛과 향': '붉은 과실향이 깊고 은은하며 잘 짜여진 구조의 와인입니다.  섬세한 탄닌이 입안에 감기는듯한 우아함이 일품입니다. &', '핸들링': '적정온도 16 °C 와인잔 아로마 콜렉터 디캔팅 30분', '와이너리이야기': '실뱅 카티아르 · 부르고뉴, 프랑스 ROMANEE-SAINT-VIVIANT 21세기 부르고뉴 최고 수퍼 스타로 각광받는 와인 메이커 CAND DE 입니다. 본인에 대한 현란한 찬사에는 무심해 보이는 그는 토양에 깊게 뿌리내린 농부며 자연이 주는 선물을 뛰어난 재능으로 와인에 표현합니다. 카티아르 패밀리는 부르고뉴 꼬뜨 드 뉘에 위치한 본에 근거지를 두고 있으며 본 로마네, 뉘 생 조르쥬, 샹볼 뮤지니, 로마네 생 비방 등 5헥타르의 포도밭을 소유하고 있습니다. 3대째 가업을 이어오던 실뱅 카티아르는 오랜 시간 아들인 세바스티앙과 함께 와인을 생산하다 2011년부터는 완전히 세바스티앙에 의해 생산 되고 있습니다.'}\n",
      "{'대표 맛과 향': '바이올렛 루비 컬러를 띠며 잘익은 체리, 산딸기향이 전해지며 - 스파이시한 향이 복합적으로 느껴집니다. 입 안에서는 산뜻한     & 산도와 부드러운 타닌이 잘 잡힌 구조감을 선보입니다.', '핸들링': '적정온도 13 °C 와인잔 아로마 콜렉터 디캔팅 30분'}\n",
      "{'대표 맛과 향': '체리, 라즈베리 같은 붉은 과실과 작약꽃향이 우아하게 어우러 - 지고 입 안에서는 부드러운 탄닌이 강렬한 라즈베리 노트를 \"\\'\\' 전달해줍니다. 오크숙성에서 오는 향이 힘 있으면서도 여운이 긴 마무리를 선사합니다.', '핸들링': '적정온도 16 °C 와인잔 아로마 콜렉터 디캔팅 30분'}\n",
      "{'대표 맛과 향': '영롱한 루비 컬러에 제비꽃을 으깬 완전한 플로럴 부케가 느껴 집니다. 호화롭고 극적인 이 향미는 전형적인 본 로마네 스타일 10   입니다. 블랙체리와 블루베리의 과실맛이 매력적인 미디엄 풀 바디이며, 완벽하게 정제되고 절제된 탄닌이 입 안 깊히 남아서 지속적으로 은은하게 긴 피니쉬를 제공합니다.', '핸들링': '적정온도 13 °C 와인잔 아로마 콜렉터 디캔팅 30분'}\n",
      "{'대표 맛과 향': '2019 블랙커런트 자두 등 검은 과실 향이 풍부하고 약간의 흙향과   미네랄리티가 느껴집니다. 부드러운 탄닌과 적당한 산도가 어우러져 훌륭한 균형을 이룹니다.', '핸들링': '적정온도 16 °C 와인잔 아로마 콜렉터 디캔팅 30분', '와이너리이야기': '실뱅 카티아르 · 부르고뉴, 프랑스 ROMANEE-SAINT-VIVIANT 21세기 부르고뉴 최고 수퍼 스타로 각광받는 와인 메이커 CAND DE 입니다. 본인에 대한 현란한 찬사에는 무심해 보이는 그는 토양에 깊게 뿌리내린 농부며 자연이 주는 선물을 뛰어난 재능으로 와인에 표현합니다. 카티아르 패밀리는 부르고뉴 꼬뜨 드 뉘에 위치한 본에 근거지를 두고 있으며 본 로마네, 뉘 생 조르쥬, 샹볼 뮤지니, 로마네 생 비방 등 5헥타르의 포도밭을 소유하고 있습니다. 3대째 가업을 이어오던 실뱅 카티아르는 오랜 시간 아들인 세바스티앙과 함께 와인을 생산하다 2011년부터는 완전히 세바스티앙에 의해 생산 되고 있습니다.'}\n",
      "{'대표 맛과 향': '달콤한 체리의 향기와 가벼운 허브향이 절묘한 조화를 이룹니다. 풍부한 과일의 향과 함께 마치 시라와 같은 - 동물적인 향이 매력적이며, 튼튼한 구조와 집중된 맛을 \" & 느낄 수 있습니다. 강건하고 풍만하나 절대로 지나침이 없는 와인입니다.', '핸들링': '적정온도 16 °C 와인잔 아로마 콜렉터 디캔팅 30분', '와이너리이야기': '실뱅 카티아르 · 부르고뉴, 프랑스 ROMANEE-SAINT-VIVIANT 21세기 부르고뉴 최고 수퍼 스타로 각광받는 와인 메이커 CAND DE 입니다. 본인에 대한 현란한 찬사에는 무심해 보이는 그는 토양에 깊게 뿌리내린 농부며 자연이 주는 선물을 뛰어난 재능으로 와인에 표현합니다. 카티아르 패밀리는 부르고뉴 꼬뜨 드 뉘에 위치한 본에 근거지를 두고 있으며 본 로마네, 뉘 생 조르쥬, 샹볼 뮤지니, 로마네 생 비방 등 5헥타르의 포도밭을 소유하고 있습니다. 3대째 가업을 이어오던 실뱅 카티아르는 오랜 시간 아들인 세바스티앙과 함께 와인을 생산하다 2011년부터는 완전히 세바스티앙에 의해 생산 되고 있습니다.'}\n",
      "{'대표 맛과 향': '반짝이는 레드 루비 컬러에 산딸기, 체리 향과 붉은 꽃 향기가 오래 지속됩니다. 섬세하며 우아한 산도와 강인 하게 느껴지는 탄닌이 아주 매력적인 와인으로 구조감이 단단하여 입안에서는 묵직함을 느낄 수 있습니다.  바디 -- 1   탄닌    당도     &  산도', '핸들링': '적정온도 13°C 아로마 와인잔 콜렉터 디캔팅 30분 적정시기 2025-2033', '페어링': '소고기 요리 닭고기 요리'}\n",
      "{'대표 맛과 향': '밝은 루비빛 색이 감도는 와인으로, 잘 익은 블랙 베리의  아로마와 각종 허브향이 느껴집니다. 섬세한 탄닌, 신선한      산미가 입 안 곳곳에서 느껴지고,깊고 집중도 높은 과실미 까지 균형감 있게 잘 잡혀있습니다.', '핸들링': '적정온도 16 °C 와인잔 아로마 콜렉터 디캔팅 30분', '와이너리이야기': '도멘 베르타냐 · 부르고뉴, 프랑스 DOMAINE BERTAGNA 도멘 베르타냐는 1950년대에 설립, 2차 세계대전 후 Eva의 할아버지가 부르고뉴 지역의 다양한 와인들과 1954년 샴볼 뮈지니 빌라쥐 포도나무를 구입하고 1982년 에바 아버지가 Vougeot 도멘 베르타냐의 주인이 되면서 명성을 쌓기 시작 했습니다. Eva는 부르고뉴와 독일에서 양조, 영국에서 와인 비즈니스 경력을 쌓은 후 1988년 도멘을 운영하고 있으며 포도밭에 많은 투자를 하고 있습니다. 와이너리는 꼬뜨 드 뉘 부조에 있고 테루아, 전통에 대한 존경심과 차세대에게 건강한 땅을 물려준다는 책임감을 갖고 오가닉, 지속 가능한 방식으로 경작해 품질 좋은 와인 생산에 힘쓰고 있습니다.'}\n",
      "{'대표 맛과 향': ' 영롱한 루비빛을 띄고 매우 복합적인 아로마를 지니고 있는 이 와인은 향신료, 감초와 제비꽃 그리고 붉은 과일의 향과 스파이시함이 뒤섞여 복합적인 향을 피워냅니다. 입 안에선 -  아주 섬세하고 우아한 산도와 벨벳과 같은 실키한 탄닌이 잘 \"\"     밸런스된 질감을 표현하며, 부드러운 탄닌과 미네랄 성분이     &  잘 표현되어 있습니다.', '핸들링': '적정온도 13 °C 와인잔 피노누아 디캔팅 30분'}\n",
      "{'대표 맛과 향': '고급스러운 루비 컬러를 띠며 잘 익은 체리 그리고 딸기와 같은 붉은 과일향이 풍성하게 피어오르며 감초, 스파이시한 - 아로마가 느껴집니다. 우아한 부드러우며 1 복합적으로 산도,      & 강건한 탄닌이 완벽한 구조감을 선보이며 긴 여운이 매력적인 와인입니다.', '핸들링': '적정온도 13 °C 와인잔 피노누아 디캔팅 30분'}\n",
      "{'대표 맛과 향': '벨벳처럼 부드러운 질감을 가지고 있으며 설탕에 절인 -1° 과일의 달콤한 향과 스파이시한 향, 초콜렛의 향이 복합적 \" \" 으로 퍼집니다. 프레쉬한 산도에 적당한 탄닌이 어우러져 & 와인에 우아한 깊이를 더합니다.', '핸들링': '적정온도 16 °C 와인잔 아로마 콜렉터 디캔팅 30분', '와이너리이야기': '실뱅 카티아르 · 부르고뉴, 프랑스 ROMANEE-SAINT-VIVIANT 21세기 부르고뉴 최고 수퍼 스타로 각광받는 와인 메이커 CAND DE 입니다. 본인에 대한 현란한 찬사에는 무심해 보이는 그는 토양에 깊게 뿌리내린 농부며 자연이 주는 선물을 뛰어난 재능으로 와인에 표현합니다. 카티아르 패밀리는 부르고뉴 꼬뜨 드 뉘에 위치한 본에 근거지를 두고 있으며 본 로마네, 뉘 생 조르쥬, 샹볼 뮤지니, 로마네 생 비방 등 5헥타르의 포도밭을 소유하고 있습니다. 3대째 가업을 이어오던 실뱅 카티아르는 오랜 시간 아들인 세바스티앙과 함께 와인을 생산하다 2011년부터는 완전히 세바스티앙에 의해 생산 되고 있습니다.'}\n",
      "{'대표 맛과 향': ' 체리, 크랜베리 등 붉은 과실 향, 장미꽃 잎 향과 함께 부드러운    ° 바닐라의 향이 맡아집니다. 탄닌이 적어 입에서 매우 부드럽게    &  퍼지며 프레쉬함을 느낄 수 있습니다. ◆', '핸들링': '적정온도 13 °C 와인잔 아로마 콜렉터 디캔팅 30분'}\n",
      "{'대표 맛과 향': '가장 먼저 우아한 꽃향이 두드러지게 느껴집니다. 탄닌이  벨벳과 같이 우아하게 녹아 있으며, 입에선 신선한 레드   베리향이 지배적으로 느껴집니다. 집중도 높은 과실미와 산미가 균형감 있게 자리잡고 있습니다.', '핸들링': '적정온도 16 °C 와인잔 아로마 콜렉터 디캔팅 30분', '와이너리이야기': '도멘 베르타냐 · 부르고뉴, 프랑스 DOMAINE BERTAGNA 도멘 베르타냐는 1950년대에 설립, 2차 세계대전 후 Eva의 할아버지가 부르고뉴 지역의 다양한 와인들과 1954년 샴볼 뮈지니 빌라쥐 포도나무를 구입하고 1982년 에바 아버지가 Vougeot 도멘 베르타냐의 주인이 되면서 명성을 쌓기 시작 했습니다. Eva는 부르고뉴와 독일에서 양조, 영국에서 와인 비즈니스 경력을 쌓은 후 1988년 도멘을 운영하고 있으며 포도밭에 많은 투자를 하고 있습니다. 와이너리는 꼬뜨 드 뉘 부조에 있고 테루아, 전통에 대한 존경심과 차세대에게 건강한 땅을 물려준다는 책임감을 갖고 오가닉, 지속 가능한 방식으로 경작해 품질 좋은 와인 생산에 힘쓰고 있습니다.'}\n",
      "{'대표 맛과 향': '첫 향부터 꽃, 과실, 허브, 미네랄리티 등 아주 다양하고 광범위한 향이 다채롭게 피어오릅니다. 체리와 프룬으로  시작해 뒤이어 꽃과 미네랄 향이 느껴지는데, 입 안에선      바디감, 탄닌감, 산미감 어느것 하나 과하지 않게 밸런스가 잡혀 있어 수년 후의 모습을 더욱 기대하게 합니다.', '핸들링': '적정온도 16-18 °C 와인잔 아로마 콜렉터 디캔팅 30분', '와이너리이야기': '도멘 베르타냐 · 부르고뉴, 프랑스 DOMAINE BERTAGNA 도멘 베르타냐는 1950년대에 설립, 2차 세계대전 후 Eva의 할아버지가 부르고뉴 지역의 다양한 와인들과 1954년 샴볼 뮈지니 빌라쥐 포도나무를 구입하고 1982년 에바 아버지가 Vougeot 도멘 베르타냐의 주인이 되면서 명성을 쌓기 시작 했습니다. Eva는 부르고뉴와 독일에서 양조, 영국에서 와인 비즈니스 경력을 쌓은 후 1988년 도멘을 운영하고 있으며 포도밭에 많은 투자를 하고 있습니다. 와이너리는 꼬뜨 드 뉘 부조에 있고 테루아, 전통에 대한 존경심과 차세대에게 건강한 땅을 물려준다는 책임감을 갖고 오가닉, 지속 가능한 방식으로 경작해 품질 좋은 와인 생산에 힘쓰고 있습니다.'}\n",
      "{'대표 맛과 향': '첫 향부터 매우 강렬하고 인상깊은 향을 보여주지만 우아함 또한 공존하고 있습니다. 졸인 베리향, 바이올렛, 타르, 매실 유칼립투스, 바닐라, 카시스 등 아주 다양한 향이 조화롭게     느껴집니다. 입에서 첫 과실미를 느끼고 뒤이어 오는 우아한 탄닌감이 입 안 전체를 장악합니다. 시간이 지날수록 다양한  15.5% 407500 매력을 보이는 와인으로 기억에 남을 아주 강력한 바디감을 갖췄으며 역사상 최고의 아마로네로 기억될 것입니다.', '핸들링': '적정온도 16-18 °C 와인잔 유니버셜 디캔팅 60분', '와이너리이야기': '제나토 · 베네토, 이탈리아 ZENATO 1990년 세르지오 제나토는 발폴리첼라의 오리지널밭 5개 중 하나인 산 암브로지오의 35헥타르를 소유했고, 발폴리첼라 와인 핵심 포도품종인 코르비나, 론디넬라, 오셀레타, 크로아티나를 중심으로 총 25종을 재배하고 있습니다. 풍부한 미네랄이 많은 것으로 알려져 있는 테라로사로 이루어져 있습니다. 전 세계 최고 평론가로 부터 항상 탑 클래스의 아마로네와이너리로 언급되고 있으며, 최근 JAMES SUCKLING에서 2019년 2020년 연속으로 아마로네 와인중 전체 1위를 거머쥐며 최고의 브랜드로 등극했습니다.'}\n",
      "{'대표 맛과 향': '설탕에 절인 블랙베리의 향과 곧바로 퍼지고 스파이시한 아로마가 은은하게 뒤따라옵니다. 입 안에서는 우아하고 -   부드러운 탄닌과 함께 훌륭한 구조감이 느껴지며 놀라울   &  정도로 긴 여운을 남기는 풀바디 와인입니다.', '핸들링': '적정온도 16 °C 와인잔 아로마 콜렉터 디캔팅 30분', '와이너리이야기': '실뱅 카티아르 · 부르고뉴, 프랑스 ROMANEE-SAINT-VIVIANT 21세기 부르고뉴 최고 수퍼 스타로 각광받는 와인 메이커 CAND DE 입니다. 본인에 대한 현란한 찬사에는 무심해 보이는 그는 토양에 깊게 뿌리내린 농부며 자연이 주는 선물을 뛰어난 재능으로 와인에 표현합니다. 카티아르 패밀리는 부르고뉴 꼬뜨 드 뉘에 위치한 본에 근거지를 두고 있으며 본 로마네, 뉘 생 조르쥬, 샹볼 뮤지니, 로마네 생 비방 등 5헥타르의 포도밭을 소유하고 있습니다. 3대째 가업을 이어오던 실뱅 카티아르는 오랜 시간 아들인 세바스티앙과 함께 와인을 생산하다 2011년부터는 완전히 세바스티앙에 의해 생산 되고 있습니다.'}\n",
      "{'대표 맛과 향': '검은색에 가까운 보라 빛을 보여주며, 풍부하며 바로 코에서 라즈베리향과 신선한 블랙베리향이 느껴집니다. 입 안에서도 그대로 풍부한 과실향이 이어지며, 층층이 잘 잡힌 구조감과 균형감이 돋보입니다. 10년 이후에는 더욱 좋은 모습을 보여줄 것이라 확신하는 와인입니다.  바디  탄닌   당도  산도', '핸들링': '적정온도 18-20 °C 와인잔 유니버설 디캔팅 30-60분 적정시기 2021-2035', '페어링': '티본 스테이크 소세지 라구 파스타'}\n",
      "{'대표 맛과 향': '짙은 루비 컬러를 보이며 강렬한 체리향을 바탕으로 한 풍부한   붉은 계열 과실향이 집중적으로 나타납니다. 입안에서는 또한  풍부한 과실미와 은은한 오크 숙성의 향과 함께 깔끔하고 잘  1 정제된 팔레트를 느낄 수 있습니다. 과실감 뒤에 옅게 느껴지는 정향의 뉘앙스와 긴 여운은 거부할 수 없는 매력을 선사합니다.', '핸들링': '적정온도 15 °C 와인잔 아로마 콜렉터 디캔팅 30분', '와이너리이야기': '도멘 퐁사르 슈발리에 · 부르고뉴, 프랑스 3대에 걸쳐 가족 경영으로 와인을 만들고 있으며, 현재는 3대 코랄리 버나드가 도멘을 운영하고 있습니다. 자신의 아버지에게 10년간 와인 양조 및 밭관리를 배우고 와인 메이킹을 담당하며, 현재 아버지 도움을 받아 지속적으로 경험을 전수받는 중입니다. 현재 도멘 퐁사르 슈발리에는 상트네와 마랑지에 7헥타르 규모 33개의 밭을 소유하고 있으며, 천정부지로 솟는 부르고뉴 와인의 가격 상승에도 합리적인 가격대를 유지하면서 여전히 훌륭한 퀄리티를 보입니다. 현재 전 세계 쉐프들의 전설로 불리며 미슐랭 3 Star를 55년 연속 받은 가장 존경받는 레스토랑 Paul Bocuse에 리스팅 되며 그 실력을 인정받고 있습니다.'}\n",
      "{'대표 맛과 향': '** 장미, 제비꽃, 흙 아로마가 아름답게 조화를 이루며 코를 간지럽 힙니다. 적절한 디캔딩을 통해 지금 마셔도 좋지만, 수십년 장기   숙성 잠재력을 보유한 최고의 와인입니다. 팔각, 캠퍼, 토바코 등  ### . 아로마가 느껴지며 입에서는 잘 익은 마라스카 체리, 라즈베리 콩포트, 베이킹 스파이스와 정향이 느껴지는 완벽한 구조감의 와인입니다.', '핸들링': '적정온도 14-16 °C 와인잔 유니버셜 디캔팅 30분'}\n",
      "{'대표 맛과 향': '※* 말린 야생 베리, 잘 익은 검은 체리, 스파이스, 야생 장미와   정향 아로마가 길게 이어집니다. 입에서 약간의 미네랄리티는 ### 와인의 전반적인 드라이함과 정돈미를 느낄 수 있게 하며, 탄탄한 탄닌과 돋보이는 산도는 적절한 바디감과 조화를 이루어 와인의 복합미를 느낄 수 있게 합니다.', '핸들링': '적정온도 16 °C 와인잔 아로마 콜렉터 디캔팅 60분', '와이너리이야기': '브로비아 · 피에몬테, 이탈리아 1863년 Giacinto Brovia가 설립한 브로비아 가문의 *BROVIA* 와이너리로, 처음부터 떼루아의 중요성을 강조하며 와인 양조 스타일에 떼루아를 완벽하게 녹이려고 노력해왔습니다. 지난 수십년 간 바롤로의 와인 생산 스타일이 크게 바뀌는 동안, 브로비아는 현대 기술 발전의 유혹에도 1863년부터 꾸준히 지켜온 전통에 따라 와인을 생산하고 있습니다. 화학물질을 전혀 첨가하지 않은 포도밭에서 손수확만을 통해 수확한 포도로 정밀한 과정을 통해 생산되는 브로비아의 와인은 전통적인 감성을 구현하고 있으며, 투박함과 우아함 사이의 완벽한 균형을 유지하고 있습니다.'}\n",
      "{'대표 맛과 향': '*※ 제비꽃, 장미, 베리류와 말린 아로마틱 허브가 옅고 은은한 숲 뉘앙스와 함께 아찔할 정도의 아로마 향연을 이룹니다.  입에서는 잘 익은 모렐로 체리, 크랜베리, 정향과 토바코가  강력하지만 잘 정제된 탄닌과 함께 환상의 복합미와 구조감을 보이며 은은한 미네랄 노트로 마무리되는 피니시 역시 일품 입니다.', '핸들링': '적정온도 16 °C 와인잔 아로마 콜렉터 디캔팅 60분', '와이너리이야기': '브로비아 · 피에몬테, 이탈리아 1863년 Giacinto Brovia가 설립한 브로비아 가문의 *BROVIA* 와이너리로, 처음부터 떼루아의 중요성을 강조하며 와인 양조 스타일에 떼루아를 완벽하게 녹이려고 노력해왔습니다. 지난 수십년 간 바롤로의 와인 생산 스타일이 크게 바뀌는 동안, 브로비아는 현대 기술 발전의 유혹에도 1863년부터 꾸준히 지켜온 전통에 따라 와인을 생산하고 있습니다. 화학물질을 전혀 첨가하지 않은 포도밭에서 손수확만을 통해 수확한 포도로 정밀한 과정을 통해 생산되는 브로비아의 와인은 전통적인 감성을 구현하고 있으며, 투박함과 우아함 사이의 완벽한 균형을 유지하고 있습니다.'}\n",
      "{'대표 맛과 향': '※ 농축된 베리향과 꽃 아로마를 바탕으로 옅은 스파이스와  정향의 아로마가 공기를 채웁니다. 입에서는 잘 익은 야생 체리와 라즈베리, 정향, 멘솔과 말린 허브의 뉘앙스를 느낄 수 있으며, 강력하지만 잘 정제된 탄닌과 산도가 탄탄하게 받쳐주며 구조감을 느낄 수 있게 합니다.', '핸들링': '적정온도 16 °C 와인잔 아로마 콜렉터 디캔팅 60분', '와이너리이야기': '브로비아 · 피에몬테, 이탈리아 1863년 Giacinto Brovia가 설립한 브로비아 가문의 *BROVIA* 와이너리로, 처음부터 떼루아의 중요성을 강조하며 와인 양조 스타일에 떼루아를 완벽하게 녹이려고 노력해왔습니다. 지난 수십년 간 바롤로의 와인 생산 스타일이 크게 바뀌는 동안, 브로비아는 현대 기술 발전의 유혹에도 1863년부터 꾸준히 지켜온 전통에 따라 와인을 생산하고 있습니다. 화학물질을 전혀 첨가하지 않은 포도밭에서 손수확만을 통해 수확한 포도로 정밀한 과정을 통해 생산되는 브로비아의 와인은 전통적인 감성을 구현하고 있으며, 투박함과 우아함 사이의 완벽한 균형을 유지하고 있습니다.'}\n",
      "{'대표 맛과 향': \"** 루비색이 눈에 띄는 이 와인은 라즈베리, 장미 꽃잎, 체리,  ' 야생 베리류의 과일 등의 전통적인 아로마를 바탕으로 약간의 흙과 버섯의 뉘앙스를 가지고 있습니다. 적당한 바디감과 부드러운 탄닌, 경쾌한 산도가 훌륭한 밸런스를 이룹니다.\", '핸들링': '적정온도 16 °C 와인잔 아로마 콜렉터 디캔팅 60분', '와이너리이야기': '브로비아 · 피에몬테, 이탈리아 1863년 Giacinto Brovia가 설립한 브로비아 가문의 *BROVIA* 와이너리로, 처음부터 떼루아의 중요성을 강조하며 와인 양조 스타일에 떼루아를 완벽하게 녹이려고 노력해왔습니다. 지난 수십년 간 바롤로의 와인 생산 스타일이 크게 바뀌는 동안, 브로비아는 현대 기술 발전의 유혹에도 1863년부터 꾸준히 지켜온 전통에 따라 와인을 생산하고 있습니다. 화학물질을 전혀 첨가하지 않은 포도밭에서 손수확만을 통해 수확한 포도로 정밀한 과정을 통해 생산되는 브로비아의 와인은 전통적인 감성을 구현하고 있으며, 투박함과 우아함 사이의 완벽한 균형을 유지하고 있습니다.'}\n",
      "{'대표 맛과 향': '  풍부한 블랙베리류 향과 젖은 흙내음, 마호가니 향이 지배적입니다. 카베르네 소비뇽 특유의 꽉찬 과실미와   탄탄한 구조감을 보여줍니다. 까시스와 체리 신선한 서양 자두,정향 등 다양한 향이 입에서 감돌며 절제된 오크향이 은은하게 깔리고 과실미와 향이 집중적으로 느껴집니다.', '핸들링': '적정온도 16-18°C 와인잔 유니버셜 디캔팅 30분', '와이너리이야기': '밴락 스테이션 · 나파밸리, 미국 COURTNEY BENHAM Mark West 와 Blackstone 브랜드를 미국 전국 브랜드로 성공시켜 Constellation에 판매해, 최고의 성공을 이뤄낸 미국 최고의 Value 와인 메이커로 알려진 코트니 벤헴은 30년이상 이어온 생산자들과의 긴밀한 관계를 유지하며, 최고 품질 나파밸리 포도를 10년 넘게 유일하게 포도값을 인상없이 공급 받으며, 제대로된 우아한 나파와인을 가장 합리적인 가격으로 만드는 생산자 입니다.'}\n",
      "{'대표 맛과 향': '  시나몬, 숲 속 흙내음, 구운 스파이스 노트가 먼저 느껴지고 말린 자두와 페퍼 등의 향 또한 뒤이어 느껴집니다. 아주 잘 녹아든 탄닌감과 풍부한 과실미로 마무리되는 미디움 바디 와인입니다.', '핸들링': '적정온도 18°C 와인잔 유니버셜 디캔팅 30분', '와이너리이야기': '시로 파센티 · 토스카나, 이탈리아 SIRO PACENTI 1970년 파센티 와이너리 소유주 아버지 시로 파센티가 몬탈치노 북쪽 Pelagrilli를 구매, 설립했습니다. 1988년 아들 지안 카를로에게 운영을 맡겼습니다. 90년대 초 부터는 미네랄이 풍부한 몬탈치노 남쪽 Piancornello밭 5ha를 확장해 시로 파센티만의 캐릭터를 갖추었습니다. 또한 90년대부터 보르도 대학과 파트너쉽을 통해 산지 오베제 페놀 숙성에 대해 몬탈치노 최초 첫번째 실험을 진행하는 등 전문적인 와인 양조에 힘을 쏟았고, 그 결과 현존하는 최고의 와인 평론가 중 한명인 James Suckling 에게 2019년 Top 100 1위 및 2020년에는 100점을 획득하며 최고의 몬탈치노 생산자로 올라섰습니다.'}\n",
      "{'대표 맛과 향': '매우 풍부하고 층층히 쌓인 구조감이 훌륭하며 벨벳 같은 탄닌감이 입 안 전체를 부드럽게 감싸줍니다. 블랙 체리, 삼나무, 호두, 말린 버섯, 말린 잎 등 향이 복합적으로 느껴 집니다.', '핸들링': '적정온도 18°C 와인잔 유니버셜 디캔팅 30분', '와이너리이야기': '시로 파센티 · 토스카나, 이탈리아 SIRO PACENTI 1970년 파센티 와이너리 소유주 아버지 시로 파센티가 몬탈치노 북쪽 Pelagrilli를 구매, 설립했습니다. 1988년 아들 지안 카를로에게 운영을 맡겼습니다. 90년대 초 부터는 미네랄이 풍부한 몬탈치노 남쪽 Piancornello밭 5ha를 확장해 시로 파센티만의 캐릭터를 갖추었습니다. 또한 90년대부터 보르도 대학과 파트너쉽을 통해 산지 오베제 페놀 숙성에 대해 몬탈치노 최초 첫번째 실험을 진행하는 등 전문적인 와인 양조에 힘을 쏟았고, 그 결과 현존하는 최고의 와인 평론가 중 한명인 James Suckling 에게 2019년 Top 100 1위 및 2020년에는 100점을 획득하며 최고의 몬탈치노 생산자로 올라섰습니다.'}\n",
      "{'대표 맛과 향': ' 산지오베제가 보여줄 수 있는 최고 수준의 집중도 그리고 힘을 보여줍니다. 우아한 풍미를 뿜어내며 검은 과실류, 특히 체리 콩피의 향이 아주 풍부합니다. 토스트된 스파이스와 허브 등의 향 또한 과실향과 어우러져 감명깊은 마무리를 선사합니다.', '핸들링': '적정온도 18°C 와인잔 유니버셜 디캔팅 30분', '와이너리이야기': '시로 파센티 · 토스카나, 이탈리아 SIRO PACENTI 1970년 파센티 와이너리 소유주 아버지 시로 파센티가 몬탈치노 북쪽 Pelagrilli를 구매, 설립했습니다. 1988년 아들 지안 카를로에게 운영을 맡겼습니다. 90년대 초 부터는 미네랄이 풍부한 몬탈치노 남쪽 Piancornello밭 5ha를 확장해 시로 파센티만의 캐릭터를 갖추었습니다. 또한 90년대부터 보르도 대학과 파트너쉽을 통해 산지 오베제 페놀 숙성에 대해 몬탈치노 최초 첫번째 실험을 진행하는 등 전문적인 와인 양조에 힘을 쏟았고, 그 결과 현존하는 최고의 와인 평론가 중 한명인 James Suckling 에게 2019년 Top 100 1위 및 2020년에는 100점을 획득하며 최고의 몬탈치노 생산자로 올라섰습니다.'}\n",
      "{'대표 맛과 향': '  달콤한 딸기와 같이 잘 익은 과실향과 오렌지 껍질, 초콜릿 향이 느껴집니다. 미디움에서 풀바디 사이의 바디감을 보여 주며 부드러운 벨벳 같은 탄닌감이 매력적입니다. 다채로운 과실미와 스파이스 노트가 입 안을 계속 맴돕니다.', '핸들링': '적정온도 18°C 와인잔 유니버셜 디캔팅 30분', '와이너리이야기': '시로 파센티 · 토스카나, 이탈리아 SIRO PACENTI 1970년 파센티 와이너리 소유주 아버지 시로 파센티가 몬탈치노 북쪽 Pelagrilli를 구매, 설립했습니다. 1988년 아들 지안 카를로에게 운영을 맡겼습니다. 90년대 초 부터는 미네랄이 풍부한 몬탈치노 남쪽 Piancornello밭 5ha를 확장해 시로 파센티만의 캐릭터를 갖추었습니다. 또한 90년대부터 보르도 대학과 파트너쉽을 통해 산지 오베제 페놀 숙성에 대해 몬탈치노 최초 첫번째 실험을 진행하는 등 전문적인 와인 양조에 힘을 쏟았고, 그 결과 현존하는 최고의 와인 평론가 중 한명인 James Suckling 에게 2019년 Top 100 1위 및 2020년에는 100점을 획득하며 최고의 몬탈치노 생산자로 올라섰습니다.'}\n",
      "{'대표 맛과 향': '블랙에 가까운 진하고 어두운 보라빛을 띄며 블랙체리, 레드커런트, 블루베리 등 과실의 향과 은은한 제비꽃향, 시나몬향, 마른 나뭇잎의 흙향이 어우러집니다. 미디엄  에서 풀바디 와인으로 짭짤한 풍미가 느껴지며 프레쉬한 산도와 단단한 탄닌감, 미네랄리티가 입에서 긴 여운을 남깁니다.', '핸들링': '적정온도 16-18 °C 와인잔 아로마 콜렉터 디캔팅 60분'}\n",
      "{'대표 맛과 향': '선명한 보랏빛을 띄며 블루베리, 카시스, 초콜릿, 흑연의 향이 함께 어우러져 퍼집니다. 풀바디의 리치함이 느껴지며 풍부한 텍스처와 부드러운 탄닌을 느낄 수 있습니다.', '핸들링': '적정온도 16-18 °C 와인잔 유니버셜 디캔팅 60분'}\n",
      "{'대표 맛과 향': '보라빛에 가까운 진한 루비빛을 띄며 블루베리, 블랙베리  향과 함께 옅은 제비꽃 향이 스칩니다. 풀바디에 여운이 길게 느껴지며 탄닌과 오크향, 산도, 알코올이 모두 잘 어우러져 완벽한 밸런스를 보여줍니다.', '핸들링': '적정온도 16-18 °C 와인잔 아로마 콜렉터 디캔팅 60분'}\n",
      "{'대표 맛과 향': '블랙에 가까운 진한 보라빛을 띄며 카시스향과 블랙체리, 자두, 초콜릿, 모카, 라일락의 향이 복합적으로 퍼집니다. 입 안에서는 블랙커런트와 카라멜 그리고 흑연 아로마와 향신료의 스파이시함이 함께 느껴지며 단단한 탄닌과 미네랄의 긴 여운이 느껴집니다.', '핸들링': '적정온도 16-18 °C 와인잔 유니버셜 디캔팅 60분'}\n",
      "{'대표 맛과 향': '  불투명하고 짙은 루비색을 띄는 이 와인은 블랙베리와 다크   커런트 과실향이 가득한 아로마를 느낄 수 있습니다. 풀바디 와인으로 균형감있는 블랙 계열 과실맛과 좋은 산미, 탄닌을 느낄 수 있습니다.', '핸들링': '적정온도 18°C 와인잔 유니버셜 디캔팅 30분', '와이너리이야기': '프리마크 아비 · 나파밸리, 미국 FREEMARK ABBEY 잭슨 패밀리 와인은 나파밸리 프리미엄 와이너리를 NAPA VALLEY 최다 보유한 와인 그룹입니다. 와이너리 프리마크 아비는 잭슨 패밀리의 프리미엄 라인으로 1886년 설립된 미국 캘리포니아 나파밸리에서 가장 오래된 와이너리이며, 붉은 나무로 된와인 저장고를 건축, 운영하고 토지 경작을 하며 나파밸리 최초의 여성 와인메이커로 이름을 올렸습니다.'}\n",
      "{'대표 맛과 향': \"제나토의 시그니처 아마로네로, 처음 부터 묵직하고 스파이시한 향을 보여줍니다. 뒤이어 불 위에서 졸인 듯한 체리와 그을린 허브향이 어우러져옵니다. 잘 짜여진 구조감, 과실미, 잘 잡힌 산미와 씹히는 듯한 질감의 탄닌이 매력적입니다.   바디     탄닌 '  당도   산도\", '핸들링': '적정온도 °C 와인잔 아로마 디캔팅 콜렉터 적정시기 30분 20 2022-2025', '페어링': '치즈 프로슈토'}\n",
      "{'대표 맛과 향': ' 깊고 진한 루비빛을 띄며 블루베리, 블랙체리와 같이 검은    베리류의 과실향에 제비꽃 향이 더해집니다. 쥬시한 풀바디  와인으로 깔끔하게 정제된 탄닌이 매끄럽고 부드럽게 입안을 감싸 우아하고 완벽한 밸런스를 보여줍니다.', '핸들링': '적정온도 14 °C 와인잔 유니버셜 디캔팅 30분'}\n",
      "{'대표 맛과 향': '    블랙베리, 블랙커런트, 구운 허브, 스모크, 멘톨 또 타르가 층층이 어우러진 아로마가 느껴지며 입안에서 폭발적으로 느껴지는 진하고 풍부한 맛이 인상적입니다. 긴 피니쉬에서   보이는 라벤더, 가죽, 바이올렛, 블루베리잼 풍미가 조화를 이룬 최고의 와인입니다.', '핸들링': '적정온도 16-18 °C 와인잔 유니버셜 디캔팅 60분'}\n",
      "{'대표 맛과 향': '   붉은 루비빛을 띄며 매혹적인 체리향과 초콜릿, 허브향이 복합적으로 퍼집니다. 입 안에서는 라즈베리의 새콤함과  커피의 쌉쌀함을 느낄 수 있으며 구조감이 좋은 산도와 부드러운 질감의 탄닌이 어우러져 우아한 마무리를 선사 합니다.', '핸들링': '적정온도 16-18 °C 와인잔 유니버셜 디캔팅 30분'}\n",
      "{'대표 맛과 향': \"' '   '  밝은 퍼플컬러가 매력적이며 코에서는 레드 체리, 라즈베리, 크랜베리, 제비꽃 그리고 약간의 오크향 밸런스가 좋습니다. 18-500 입에서는 깊은 블랙베리, 블루베리,자두, 그리고 뒤이어지는 단단한 탄닌과 적당한 산미의 조화가 긴 여운을 남깁니다.\", '핸들링': '적정온도 16-18 °C 와인잔 유니버셜 디캔팅 60분'}\n",
      "{'대표 맛과 향': \"진한 루비레드빛으로 블랙베리, 블랙커런트 등 검은 과실로 만든 잼의 향에 바닐라의 향이 더해집니다. 잘 익은 탄닌과 풍부한 과실미에 미네랄리티가 더해져 만들어낸 구조감이   ' 좋은 와인입니다. 필록세라 전염병 이후 뽀마르에서 다시    시작한 초기 포도밭 포도로 만들고, 사용된 포도는 재배를 모두 평균 수령이 100년인 올드바인에서 자랐습니다.\", '핸들링': '적정온도 16-18 °C 와인잔 아로마 콜렉터 디캔팅 30분', '와이너리이야기': \"도멘 미쉘 르부르정 · 부르고뉴, 프랑스 Madd 도멘 미쉘 르부르정 역사는 16세기까지 거슬러 올라가지만 1964년부터 현재 이름으로 바뀌고 1996년 미쉘 딸 델핀과 영국인 사위 스티브 화이트헤드가 물려받게 되었습니다. 현재 와인 메이킹을 맡고 있는 William은 22살밖에 안된 어린 와인메이커지만 부르고뉴 와인 전문 평론가 Jasper Morris 로부터 아주 노련한 메이커가 만든 수준의 와인을 만들어 낸다는 찬사를 받고 있으며 부르고뉴 전문 잡지 Bourgogne Aujourd'hui 에서 TOP 100 와이너리로 선정 되었습니다.\"}\n",
      "{'대표 맛과 향': ' 짙고 깊은 루비빛을 띄며 풍부한 레드 베리류의 과실향과 은은한 토스트, 다크 초콜릿, 허브 향이 뒤이어 느껴집니다. 지속성 있고 벨벳같이 부드러운 탄닌감과 풍부한 바디감 으로 긴 여운이 특징입니다.', '핸들링': '적정온도 16-18 °C 와인잔 유니버셜 디캔팅 30분', '와이너리이야기': '티나찌 · 베네토, 이탈리아 1968년 개원한 티나찌는 베네토와 뿔리아 지역 떼루아를 담아 높은 퀄리티 와인을 생산하는 와이너리로 잘 알려져 있습니다. 전통을 지키는 동시에 혁신을 추구하는 티나찌는 다양한 프로젝트를 진행하며 세를 넓혀가고 있습니다.'}\n",
      "{'대표 맛과 향': '경쾌한 레드 컬러를 보여주며, 덤불 속에 있는 라즈베리와 같이 스파이시한 아로마를 풍깁니다. 농축돼 있고 깊으며,  1  잘 익은 붉은 과실의 맛에 석회질의 미네랄리티와 오크의     태운 향이 더해지고 단단한 탄닌과 함께 긴 여운을 남기는    와인입니다. 꼬뜨 드 본에서 가장 섬세하며 우아한 레드 와인이 생산되는 곳에서 만들어 석회질 성분 함량이 높습니다.', '핸들링': '적정온도 16-18 °C 와인잔 아로마 콜렉터 디캔팅 30분', '와이너리이야기': \"도멘 미쉘 르부르정 · 부르고뉴, 프랑스 Madd 도멘 미쉘 르부르정 역사는 16세기까지 거슬러 올라가지만 1964년부터 현재 이름으로 바뀌고 1996년 미쉘 딸 델핀과 영국인 사위 스티브 화이트헤드가 물려받게 되었습니다. 현재 와인 메이킹을 맡고 있는 William은 22살밖에 안된 어린 와인메이커지만 부르고뉴 와인 전문 평론가 Jasper Morris 로부터 아주 노련한 메이커가 만든 수준의 와인을 만들어 낸다는 찬사를 받고 있으며 부르고뉴 전문 잡지 Bourgogne Aujourd'hui 에서 TOP 100 와이너리로 선정 되었습니다.\"}\n",
      "{'대표 맛과 향': '검은 체리를 비롯한 완숙한 검은 베리 열매 과일의 느낌이 아주 매끄럽습니다. 흙, 나뭇잎의 아로마가 뒤이어 따라오고, 양질의 탄닌이 느껴집니다. 뒤이어 남는 여운에 다크 초콜렛 풍미 또한 살짝 느껴집니다.    최고 수준 프리미엄급 키안티 와인으로, 그 퀄리티를 느낄 수 있습니다.    바디  탄닌  당도  산도', '핸들링': '적정온도 16-18 °C 와인잔 유니버설 디캔팅 30분 적정시기 2021-2030', '페어링': '오리고기 요리 닭고기 요리'}\n",
      "{'대표 맛과 향': ' 크랜베리, 딸기 등 밝고 붉은 계열의 과일 아로마를 가장 먼저 느낄 수 있습니다. 이어지는 블랙베리, 검은 체리 등 검은 과일 뉘앙스와 스파이스, 삼나무 향 등이 조화를 이룹니다. 강하지 않은 탄닌과 적절한 산도가 조화를 이루어 훌륭한 복합미를 느낄 수 있으며 은은하게 깔리는 흙의 뉘앙스가 긴 피니시 내내 이어지며 여운을 남깁니다.', '핸들링': '적정온도 16-18 °C 와인잔 유니버셜 디캔팅 30분', '와이너리이야기': \"맨딩 월 · 나파밸리, 미국 M 맨딩 월이라는 이름은 로버트 프로스트 동명의 시에서 따온 이름입니다. 건강한 관계를 위해서는 상호간의 적정 거리를 유지해야 한다는 의미의 '울타리가 튼튼해야 좋은 이웃이 된다(Good fences make good neighbors)'는 맨딩 월의 시구가 철학입니다. 각자 분야 최고 수준 전문가들이 모여 만든 서로를 존중하며 각자 역량을 최고로 발휘하여 만든 브랜드로 특히 양조 컨설팅을 맡은 토마스 리버스 브라운은 나파 밸리에서 가장 유명세와 존경을 받고 있는 와인 메이커 로서 로버트 파커와 와인 스펙테이터로부터 100점을 2차례 동시에 수상한 이례적인 기록을 가지고 있습니다.\"}\n",
      "{'대표 맛과 향': '검은 과일 아로마와 감초 아로마가 완벽한 밸런스를 이루며 매우 높은 품질의 와인임을 알려줍니다. 향은 우아한 동시에 다채로운데 블랙커런트와 레드커런트, 젖은 흙의 뉘앙스가 - 스쳐 지나갑니다. 입안에서도 중간 정도의 바디감과 완벽한 1 밸런스를 갖춘 산도, 비교적 힘이 좋은 탄닌의 영향으로 길고 구조감 좋은 피니쉬를 선사합니다.', '핸들링': '적정온도 16-18 °C 와인잔 아로마 콜렉터 디캔팅 30분', '와이너리이야기': '도멘 마크로이 · 부르고뉴, 프랑스 도멘 마크로이 현 와인메이커 알렉산드리느 로이는 지브리 Domaine Marc ROY 샹베르땡과 마르사네 지역에 위치한 로이 가문의 포도밭을 4대째 운영하고 있습니다. 4헥타르에 불과한 소규모 밭이나 개인 정원처럼 최고의 노력으로 포도를 재배하고 있습니다. 대부분의 나무가 100년 이상의 수령을 가진 올드바인 밭을 관리하는데 있어 알렉산드린느 로이는 진정한 농부의 자세로 끊임없이 밭을 갈고 뿌리를 관리하는 등 포도 자체의 품질 향상에 최선의 노력을 다하고 있으며, 최고 품질의 포도를 통해 세계적으로 인정받는 사랑스럽고 우아한 와인을 생산 하고 있습니다.'}\n",
      "{'대표 맛과 향': ' 짙은 가넷색에 잘 익은 검은 체리, 자두, 레드 커런트 잼 등의 과일 아로마를 바탕으로 약간의 스파이스와 토바코, 흙향기와 함께 강하지만 매끄러운 탄닌과 맛의 레이어가 길고 향기로운 피니쉬를 선사합니다.', '핸들링': '적정온도 16-18 °C 와인잔 유니버셜 디캔팅 30분', '와이너리이야기': \"맨딩 월 · 나파밸리, 미국 M 맨딩 월이라는 이름은 로버트 프로스트 동명의 시에서 따온 이름입니다. 건강한 관계를 위해서는 상호간의 적정 거리를 유지해야 한다는 의미의 '울타리가 튼튼해야 좋은 이웃이 된다(Good fences make good neighbors)'는 맨딩 월의 시구가 철학입니다. 각자 분야 최고 수준 전문가들이 모여 만든 서로를 존중하며 각자 역량을 최고로 발휘하여 만든 브랜드로 특히 양조 컨설팅을 맡은 토마스 리버스 브라운은 나파 밸리에서 가장 유명세와 존경을 받고 있는 와인 메이커 로서 로버트 파커와 와인 스펙테이터로부터 100점을 2차례 동시에 수상한 이례적인 기록을 가지고 있습니다.\"}\n",
      "{'대표 맛과 향': '다채로운 스파이스와 후추 뉘앙스가 특징인 프랑스 북부 론의 전통적인 레시피를 그대로 따른 와인입니다. 다양한 베리류, 정향과 흑후추 아로마로 시작해서, 입에서는 어두운 과일의   뉘앙스를 바탕으로 풀바디의 바디감과 탄탄한 탄닌 특징을 느낄 수 있습니다. 비오니에 블렌딩으로 신선함과 함께 오크 숙성을 통한 다양한 스파이스가 긴 여운동안 이어집니다.', '핸들링': '적정온도 16-18°C 와인잔 유니버셜 디캔팅 30분', '와이너리이야기': '엘 에네미고 · 멘도사, 아르헨티나 EL ENEMIGO 에네미고는 적(Enemy)이라는 의미이며, 가장 큰 적은 자기 자신이라는 의미를 내포하고 있습니다. 에네미고는 자신과의 치열한 싸움을 하는 모든 사람들에게 헌정하는 와인으로, 모두가 그 전투에서 승리하길 기원하는 의미를 가집니다. 결국 모든 전쟁의 마지막 전투는 자기 자신과의 싸움이라는 점에서 고개를 끄덕이게 한다.'}\n",
      "{'대표 맛과 향': '  검은 체리, 블랙베리 등 풍성하고 집중도있는 검은 베리류 아로마를 시작으로, 입에선 풀바디의 바디감이 느껴집니다. 다채로운 향신료와 블랙베리, 검은 체리, 후추와 함께 꽃의 뉘앙스도 옅게 느껴지며 우아한 여운이 길게 유지됩니다.', '핸들링': '적정온도 16-18°C 와인잔 유니버셜 디캔팅 30분', '와이너리이야기': '엘 에네미고 · 멘도사, 아르헨티나 EL ENEMIGO 에네미고는 적(Enemy)이라는 의미이며, 가장 큰 적은 자기 자신이라는 의미를 내포하고 있습니다. 에네미고는 자신과의 치열한 싸움을 하는 모든 사람들에게 헌정하는 와인으로, 모두가 그 전투에서 승리하길 기원하는 의미를 가집니다. 결국 모든 전쟁의 마지막 전투는 자기 자신과의 싸움이라는 점에서 고개를 끄덕이게 한다.'}\n",
      "{'대표 맛과 향': '짙은 루비색이 눈을 사로잡는 이 와인은 카시스, 커런트,   페퍼, 바닐라 등의 짙고 집중도 있는 아로마를 바탕으로 흑후추와 정향 등의 아로마도 함께 느낄 수 있습니다. 입에선 잘 익은 붉은 계열 베리류와 함께 유칼립투스의 뉘앙스가 옅게 나타납니다. 훌륭한 밸런스와 우아함을 바탕으로 오래 지속되는 여운이 일품입니다.', '핸들링': '적정온도 16-18°C 와인잔 유니버셜 디캔팅 30분', '와이너리이야기': '엘 에네미고 · 멘도사, 아르헨티나 EL ENEMIGO 에네미고는 적(Enemy)이라는 의미이며, 가장 큰 적은 자기 자신이라는 의미를 내포하고 있습니다. 에네미고는 자신과의 치열한 싸움을 하는 모든 사람들에게 헌정하는 와인으로, 모두가 그 전투에서 승리하길 기원하는 의미를 가집니다. 결국 모든 전쟁의 마지막 전투는 자기 자신과의 싸움이라는 점에서 고개를 끄덕이게 한다.'}\n",
      "{'대표 맛과 향': '보르도 블렌딩에 아르헨티나 고산지대 떼루아 특징을 더해 매우 특별한 와인이 완성됩니다. 초콜릿의 씁쓸하고 달콤한 향이 옅게 펼쳐지며 정향과 어두운 베리류의 다채로운 과일 향이 그랑 에네미고 레드 블렌드의 복합미를 함축적으로 드러냅니다. 입에서는 풀바디의 바디감과 함께 부드러운 탄닌이 충분한 만족감을 주며, 오크 숙성을 통해 나타나는 다양한 스파이스 뉘앙스로 긴 여운을 줍니다.', '핸들링': '적정온도 16-18°C 와인잔 유니버셜 디캔팅 30분', '와이너리이야기': '엘 에네미고 · 멘도사, 아르헨티나 EL ENEMIGO 에네미고는 적(Enemy)이라는 의미이며, 가장 큰 적은 자기 자신이라는 의미를 내포하고 있습니다. 에네미고는 자신과의 치열한 싸움을 하는 모든 사람들에게 헌정하는 와인으로, 모두가 그 전투에서 승리하길 기원하는 의미를 가집니다. 결국 모든 전쟁의 마지막 전투는 자기 자신과의 싸움이라는 점에서 고개를 끄덕이게 한다.'}\n",
      "{'대표 맛과 향': '예전의 보르도 와인을 떠올리게 하는 풍성한 아로마와 함께, 괄타라리의 야성미와 우아함을 동시에 보여줍니다. 우아하게 정제된 탄닌과 완벽한 구조감 뿐 아니라, 매우 강렬한 맛의 밀도와 집중력은 이 와인이 가진 힘을 여실히 드러냅니다. 지금 마셔도 좋지만 굉장한 장기숙성력을 지닌 와인입니다. 블랙베리, 유칼립투스, 오크 향이 특징입니다.', '핸들링': '적정온도 16-18°C 와인잔 유니버셜 디캔팅 30분', '와이너리이야기': '엘 에네미고 · 멘도사, 아르헨티나 EL ENEMIGO 에네미고는 적(Enemy)이라는 의미이며, 가장 큰 적은 자기 자신이라는 의미를 내포하고 있습니다. 에네미고는 자신과의 치열한 싸움을 하는 모든 사람들에게 헌정하는 와인으로, 모두가 그 전투에서 승리하길 기원하는 의미를 가집니다. 결국 모든 전쟁의 마지막 전투는 자기 자신과의 싸움이라는 점에서 고개를 끄덕이게 한다.'}\n",
      "{'대표 맛과 향': '짙은 보랏빛 컬러가 눈길을 사로잡습니다. 카베르네 프랑의 영향으로 유칼립투스와 백리향의 아로마가 느껴지고 말벡은 블랙베리, 검은 체리 등 잘 익은 검은 베리류의 아로마가 짙고 우아하게 어우러집니다. 오크 숙성 영향으로 초콜릿과 바닐라 뉘앙스가 전반적으로 고급스럽게 펼쳐집니다.', '핸들링': '적정온도 16-18°C 와인잔 유니버셜 디캔팅 30분', '와이너리이야기': '엘 에네미고 · 멘도사, 아르헨티나 EL ENEMIGO 에네미고는 적(Enemy)이라는 의미이며, 가장 큰 적은 자기 자신이라는 의미를 내포하고 있습니다. 에네미고는 자신과의 치열한 싸움을 하는 모든 사람들에게 헌정하는 와인으로, 모두가 그 전투에서 승리하길 기원하는 의미를 가집니다. 결국 모든 전쟁의 마지막 전투는 자기 자신과의 싸움이라는 점에서 고개를 끄덕이게 한다.'}\n",
      "{'대표 맛과 향': '강렬하고 복합미 있는 와인으로 잘 익은 검은 과일과 푸른색 야채의 아로마 사이에서 다양한 스파이스의 아로마가 돋보 입니다. 입에서는 우아하고 은은한 산도와 잘 정제된 탄닌 뿐 아니라 기분 좋은 미네랄 노트를 바탕으로 한긴 여운이 깊은 인상을 남깁니다.', '핸들링': '적정온도 16-18°C 와인잔 유니버셜 디캔팅 30분', '와이너리이야기': '엘 에네미고 · 멘도사, 아르헨티나 EL ENEMIGO 에네미고는 적(Enemy)이라는 의미이며, 가장 큰 적은 자기 자신이라는 의미를 내포하고 있습니다. 에네미고는 자신과의 치열한 싸움을 하는 모든 사람들에게 헌정하는 와인으로, 모두가 그 전투에서 승리하길 기원하는 의미를 가집니다. 결국 모든 전쟁의 마지막 전투는 자기 자신과의 싸움이라는 점에서 고개를 끄덕이게 한다.'}\n",
      "{'대표 맛과 향': '차카예스는 우코 밸리 내 네 개의 카베르네 프랑 밭 각각을 대표 하는 그랑 에네미고 싱글 빈야드 와인 중 가장 야성적인 와인이자 카베르네 프랑 본질을 살린 와인입니다. 짙은 바이올렛 색의 이 와인은 차카예스 밭의 떼루아가 가진 자연의 힘을 붉은 과일류 아로마와 꽃향 등을 통해 드러내며, 숙성 기간을 통해 나타나는 다채로운 스파이스가 매력을 더합니다.', '핸들링': '적정온도 16-18°C 와인잔 유니버셜 디캔팅 30분', '와이너리이야기': '엘 에네미고 · 멘도사, 아르헨티나 EL ENEMIGO 에네미고는 적(Enemy)이라는 의미이며, 가장 큰 적은 자기 자신이라는 의미를 내포하고 있습니다. 에네미고는 자신과의 치열한 싸움을 하는 모든 사람들에게 헌정하는 와인으로, 모두가 그 전투에서 승리하길 기원하는 의미를 가집니다. 결국 모든 전쟁의 마지막 전투는 자기 자신과의 싸움이라는 점에서 고개를 끄덕이게 한다.'}\n",
      "{'대표 맛과 향': '보라빛이 반사되는 옅은 가넷 색상을 띄며 말린 장미, 수국  등의 플로럴 향이 퍼집니다. 입에서는 크리미하고 프레쉬한  질감이 느껴지고 꽃과 달콤한 향신료, 알콜에 절인 과실의 농축된 아로마가 매혹적입니다.', '핸들링': '적정온도 16-18 °C 와인잔 유니버셜 디캔팅 30분', '와이너리이야기': \"로네아 론, 프랑스 COST GOOD LEAGUE RHONEA 2015년 설립된 신생 회사로 프랑스 남부 론 지역에 위치해 있습니다. 전통을 이어가며 새로운 세대를 위한 도전의 선구자가 되기 위해 200명 이상 와인재배 장인이 모인 와인 재배자 조합, 공정하고 윤리적으로 와인을 생산하는 신세대 와이너리들이 모여 설립한 협동 조합 회사입니다. 장인들의 강력한 노하우를 기반으로 대를 이어 론 지역의 가장 명성있는 지공다스, 바케이라 등의 와인을 생산하고 있으며 '맛있는 순간을 위한 맛있는 와인'을 슬로건으로 삼아 로네아 모든 와인들은 음식과의 조화를 가장 중요시 하고 있습니다. 떼루아의 지속성을 위해 환경 보호에 대한 강한 신념을 지키고 있으며 지속 가능한 바이오 농법을 사용하고 있습니다.\"}\n",
      "{'대표 맛과 향': '  블랙베리와 블랙커런트 아로마가 퍼지고 잘 익은 과일의 풍성한 향에 이어 토바코와 초콜릿 아로마가 더해집니다.   복합적인 아로마와 실키한 탄닌이 어우러져 풀바디감을 느낄 수 있으며 균형감이 좋고 여운이 깁니다.', '핸들링': '적정온도 16-18 °C 와인잔 유니버셜 디캔팅 30분', '와이너리이야기': '제이비 뉴펠드 · 워싱턴, 미국 JB 2008년 첫 빈티지를 출시한 제이비 뉴펠드는 미국 워싱턴 NEUFELD 주 야키마밸리에 위치합니다. 워싱턴에서 유일히 야키마 밸리 AVA 카베르네 소비뇽 품종에만 집중한 와이너리로 뉴펠드 부부가 팀으로 브랜드를 이끌고 있습니다. 목표는 포도밭을 지정해 보틀링을 함으로서 야키마밸리 떼루아 JR 다양성을 보여주고 그 다양성을 활용해 서로 다른 위치의 포도밭을 블렌딩해 보다 복잡하고 균형 잡힌 까베르네 소비뇽을 만들어내는 것입니다. 저스틴 뉴펠드는 야키마 밸리의 서늘한 기후가 주는 매력을 와인에 완벽히 담아 냈으며 그의 와인은 과한 무거움을 덜어내고 나파밸리 최고의 카베르네를 연상시킵니다.'}\n",
      "{'대표 맛과 향': '맑은 루비색이 눈에 띄는 와인으로 산딸기, 사워 체리, 말린 꽃, 정향의 아로마가 한데 섞여 코를 자극합니다. ·   중간 정도의 바디감과 고급스러운 탄닌, 신선한 산도가 완벽한 밸런스를 이루며 약간의 미네랄리티가 기저에 깔리며 피니시까지 완벽하게 마무리합니다.', '핸들링': '적정온도 14-16 °C 와인잔 아로마 콜렉터 디캔팅 30분'}\n",
      "{'대표 맛과 향': '라즈베리, 레드커런트, 체리, 대황, 말린 허브, 구운 스파이스 등의 다양한 아로마가 각각의 존재감을 드러내며 아름답게 펼쳐집니다. 입에서는 구조감 좋은 텍스처와 중간 정도의 바디감, 잘 정제된 크리미한 탄닌과 오렌지 껍질 뉘앙스의 ·  신선하고 경쾌한 산도 밸런스가 느껴지며 깔끔하고 맑은   스타일로 풍부한 과즙의 느낌이 일품입니다.', '핸들링': '적정온도 18 °C 와인잔 아로마 콜렉터 디캔팅 30분'}\n",
      "{'대표 맛과 향': '  잘 익은 붉은 체리와 산딸기 과실향이 풍부하고 흙의 향과 스파이시함이 잘 다듬어진 탄닌과 어우러지는 풀바디 와인 으로 프레쉬한 산도와 긴 피니쉬를 느낄 수 있습니다.', '핸들링': '적정온도 16-18 °C 와인잔 유니버셜 디캔팅 30분', '와이너리이야기': '제이비 뉴펠드 · 워싱턴, 미국 JB 2008년 첫 빈티지를 출시한 제이비 뉴펠드는 미국 워싱턴 NEUFELD 주 야키마밸리에 위치합니다. 워싱턴에서 유일히 야키마 밸리 AVA 카베르네 소비뇽 품종에만 집중한 와이너리로 뉴펠드 부부가 팀으로 브랜드를 이끌고 있습니다. 목표는 포도밭을 지정해 보틀링을 함으로서 야키마밸리 떼루아 JR 다양성을 보여주고 그 다양성을 활용해 서로 다른 위치의 포도밭을 블렌딩해 보다 복잡하고 균형 잡힌 까베르네 소비뇽을 만들어내는 것입니다. 저스틴 뉴펠드는 야키마 밸리의 서늘한 기후가 주는 매력을 와인에 완벽히 담아 냈으며 그의 와인은 과한 무거움을 덜어내고 나파밸리 최고의 카베르네를 연상시킵니다.'}\n",
      "{'대표 맛과 향': '깊은 자중빛에 투명한 가넷 띠를 보여주며 으깨진 장미, 라벤더, 블루베리, 블랙라즈베리, 구운 허브 등 다채로운 향을 뽐냅니다. 입에서는 검은 감초 뿌리, 술타나, 럼에 절인 과일케이크, 시나몬, 흑설탕 향미가 길게 이어지며, 15-20년간의 숙성 잠재력을 기대하게 합니다.  바디     탄닌     당도 --  산도', '핸들링': '적정온도 12-16 °C 와인잔 유니버설 디캔팅 60분 적정시기 2022-2040', '페어링': '보쌈 비프 스테이크'}\n",
      "{'대표 맛과 향': '깊은 루비색으로 보랏빛 테두리가 아름답습니다. 코에선 블랙체리, 감초, , 바이올렛이 느껴집니다. 입에선 블랙베리, 블랙커런트의 과즙이 후추와 알싸한 허브의 향미와 함께 전해지고 흠잡을 데 없는 질감과 부드러운 테두리, 멋진 피니쉬가 이어집니다. 10-12년간 숙성 잠재력 또한 기대 되는 와인입니다.  바디    탄닌 -   당도  산도', '핸들링': '적정온도 °C 와인잔 아로마 디캔팅 콜렉터 적정시기 30분 16-18 2022-2028', '페어링': '양꼬치 함박스테이크'}\n",
      "{'대표 맛과 향': '흑연처럼 깊은 색을 가지고 있는 와인입니다. 코에서는 블랙베리, 달콤한 체리, 크렘 드 카시스 향이 좋습니다. 입에서는 블루베리, 모카, 커피 원두, 감초 등 풍성하고  강렬하며 아름다운 향미들이 끊임없이 레이어링을 바꾸며 -2012 넘실거립니다. 훈연한 고기, 소나무 숲 그리고 아니스의 고급스러운 향이 긴 여운으로 이어집니다.', '핸들링': '적정온도 12-16 °C 와인잔 아로마 콜렉터 디캔팅 30분', '와이너리이야기': '장폴도망 · 론, 프랑스 111 DAUMEN 장 폴 도망은 훌륭한 와인은 오로지 풍요롭고 건강한 땅에서 나오며 빈티지 표현에 충실하고 와인이 스스로 숙성하는 것을 서포트 하는 작업이 와인메이커의 역할 이라고 믿습니다. 도망 프로젝트(Daumen Project)는 론 지역 최고의 포도 재배자들이 모여 그들의 열정과 재능을 병 안에 담은 진정성 있는 프로젝트 입니다.'}\n",
      "{'대표 맛과 향': '잘 익은 자두빛에 로즈페탈, 체리의 향이 아름답습니다. 브램블, 말린 자두, 무화과 캐릭터에 잘 짜여진 구조감과  적당한 탄닌이 즐거움을 주며 10년 이상 숙성 잠재력이 돋보이는 와인입니다.', '핸들링': '적정온도 16-18°C 아로마 와인잔 콜렉터 디캔팅 30분', '와이너리이야기': '장폴도망 · 론, 프랑스 111 DAUMEN 장 폴 도망은 훌륭한 와인은 오로지 풍요롭고 건강한 땅에서 나오며 빈티지 표현에 충실하고 와인이 스스로 숙성하는 것을 서포트 하는 작업이 와인메이커의 역할 이라고 믿습니다. 도망 프로젝트(Daumen Project)는 론 지역 최고의 포도 재배자들이 모여 그들의 열정과 재능을 병 안에 담은 진정성 있는 프로젝트 입니다.'}\n",
      "{'대표 맛과 향': '깊은 자줏빛 색의 이 와인은 코에서는 카시스, 후추, 알싸한 허브, 바이올렛 향이 아름답게 느껴집니다. 입에서는 블랙커런트, 블랙베리, 감초, 블랙 올리브, 루이보스 향미가 조화로우며 피니쉬에서는 아니스,   - 2012 허브 향미가 길게 이어집니다. 2011 빈티지는 특히, 늦은 밤 수확을 통해 과실의 순수성을 최대한 살려 담아내었습니다.', '핸들링': '적정온도 12-16 °C 와인잔 아로마 콜렉터 디캔팅 30분', '와이너리이야기': '장폴도망 · 론, 프랑스 111 DAUMEN 장 폴 도망은 훌륭한 와인은 오로지 풍요롭고 건강한 땅에서 나오며 빈티지 표현에 충실하고 와인이 스스로 숙성하는 것을 서포트 하는 작업이 와인메이커의 역할 이라고 믿습니다. 도망 프로젝트(Daumen Project)는 론 지역 최고의 포도 재배자들이 모여 그들의 열정과 재능을 병 안에 담은 진정성 있는 프로젝트 입니다.'}\n",
      "{'대표 맛과 향': '짙은 루비빛의 색을 띄며 플로럴하고 블루베리, 블랙베리, 블랙체리의 향이 아름답습니다. 고급스럽고 자연스러운  말린 향신료, 감초 캐릭터가 깊이감을 주며 촘촘한 밀도는 -- 부드러운 탄닌, 신선한 산도와 밸런스를 이룹니다.', '핸들링': '적정온도 16-18 °C 와인잔 아로마 콜렉터 디캔팅 30분', '와이너리이야기': '장폴도망 · 론, 프랑스 111 DAUMEN 장 폴 도망은 훌륭한 와인은 오로지 풍요롭고 건강한 땅에서 나오며 빈티지 표현에 충실하고 와인이 스스로 숙성하는 것을 서포트 하는 작업이 와인메이커의 역할 이라고 믿습니다. 도망 프로젝트(Daumen Project)는 론 지역 최고의 포도 재배자들이 모여 그들의 열정과 재능을 병 안에 담은 진정성 있는 프로젝트 입니다.'}\n",
      "{'대표 맛과 향': '어두운 체리빛을 띄는 이 와인은 석류, 버찌, 다크체리, 세이지의 캐릭터가 지배적이며 견고하면서도 부드러운 탄닌과 산도 밸런스와 바닐라,토바코 향의 깊은 여운이  인상적입니다.', '핸들링': '적정온도 16-18 °C 와인잔 아로마 콜렉터 디캔팅 30분', '와이너리이야기': '장폴도망 · 론, 프랑스 111 DAUMEN 장 폴 도망은 훌륭한 와인은 오로지 풍요롭고 건강한 땅에서 나오며 빈티지 표현에 충실하고 와인이 스스로 숙성하는 것을 서포트 하는 작업이 와인메이커의 역할 이라고 믿습니다. 도망 프로젝트(Daumen Project)는 론 지역 최고의 포도 재배자들이 모여 그들의 열정과 재능을 병 안에 담은 진정성 있는 프로젝트 입니다.'}\n",
      "{'대표 맛과 향': '짙은 퍼플색을 보여주며 코에서는 블랙 커런트와 시나몬 향이 향기롭습니다. 입에선 블랙체리, 자두, 베이킹 스파이스와 함께 오크의 헤이즐넛, 바닐라가 잘 짜여진 탄닌, 산도, 짭짜름한 피니쉬와 멋진 균형을 보여줍니다.    바디  탄닌     당도  산도', '핸들링': '적정온도 15-20 °C 와인잔 버사이즈 디캔팅 60분 적정시기 2022-2030', '페어링': '삼겹살 피자'}\n",
      "{'대표 맛과 향': '투명한 레드 루비빛으로 코에서는 블루베리, 블랙베리의 캐릭터가 향기롭습니다. 입에선 자두, 라즈베리, 크렌베리, 오렌지 제스트등 싱그럽고 감미로운 캐릭터 기반에 초콜렛, 카더몬 향이 어우러져 있습니다. 서늘하고 하늘한 바디에 길고 커피, 드라이 민트가 곁들여진 스파이시한 피니쉬가 인상적입니다.  바디   탄닌  당도  산도', '핸들링': '적정온도 °C 와인잔 아로마 디캔팅 콜렉터 적정시기 30분 12-14 2022-2028', '페어링': '올리브 햄 치즈 플레이트'}\n",
      "{'대표 맛과 향': '  짙은 퍼플빛 와인으로 블랙베리, 자두, 베이리프잎 향이 선명하게 느껴집니다. 입에서는 블루베리, 블랙 커런트,      삼나무 향, 흑연, 바닐라, 다크 초콜렛이 구조감 있는 탄닌, 묵직한 바디를 받쳐주는 아름다운 산도와 어우러져 긴 피니시로 이어집니다.', '핸들링': '적정온도 15-20 °C 와인잔 버사이즈 디캔팅 60분'}\n",
      "{'대표 맛과 향': '뀌베 알루에떼는 도맨 퐁소가 소유한 몽 뤼생 포도로 생산하는 네 개의 와인 중 하나로 알콜도수에 비해 산뜻한 느낌이 특징 입니다. 풍부한 베리류 과일 아로마가 층층이 이루어져 있으며, 제비꽃 뉘앙스와 석류 등의 아로마를 느낄 수 있습니다. 약간의 -- 1 백악질 뉘앙스와 함께 경쾌하고 좋은 밸런스를 느낄 수 있으며,      잘 정제된 구조감 있는 탄닌과 적절한 산도가 와인의 복합미를 느낄 수 있습니다.', '핸들링': '적정온도 14-16 °C 와인잔 아로마 콜렉터 디캔팅 60분', '와이너리이야기': '도멘 폴소 · 부르고뉴, 프랑스 모레 생드니에 위치한 와이너리로, 오랜 전통에도 불구하고 DOMA NE PONSO 전형적이지 않은 특별함을 보이는 와이너리입니다. 늦은 수확과 특별한 줄기 제거 방식, 오크 배럴 숙성 방식으로 도멘 퐁소만의 장기숙성 가능한 특별한 스타일을 만듭니다. 특히 도멘 퐁소는 새 오크 배럴(new oak casks)에서 와인을 숙성시켜 와인에 오크 향을 입히는 유행을 피하고, 건조된 오크통을 재사용하는 방식으로 와인을 숙성시켜 숙성된 와인 그 자체의 맛과 향을 유지합니다. 쉬운 길을 선택하지 않고 부르고뉴의 장인 정신을 바탕으로 최고의 퀄리티 와인을 생산해내는 노력을 기울이고 있습니다.'}\n",
      "{'대표 맛과 향': ' 잘 익은 베리류 아로마를 바탕으로 토피 향이 느껴집니다. 바닐라, 부드러운 모카와 스파이스, 정향 등의 뉘앙스를 느낄 수 있습니다. 입에서는 밀도있는 과일 뉘앙스와 함께 우아하고 부드러운 탄닌, 적절한 산도의 밸런스로 탄탄한 구조감을 보여줍니다.  바디  탄닌  당도  산도', '핸들링': '적정온도 16-18 °C 와인잔 버사이즈 디캔팅 60분 적정시기 2021-2027', '페어링': '티본 스테이크 포르치니 버섯 리조또'}\n",
      "{'대표 맛과 향': '아름다운 가넷 빛깔을 띄며 검붉은 과일 향과 페퍼민트와 같은 허브 계열의 아로마가 복합적으로 느껴집니다. 입 안에서는 체리, 블랙커런트와 같은 검붉은 과일향과 구운 -- 견과류, 섬세한 미네랄 터치가 전해집니다. 산뜻한 산도와 부드러운 탄닌이 훌륭한 밸런스를 이루며 긴 여운을 갖는 와인으로 25-35년의 숙성 잠재력을 지녔습니다.', '핸들링': '적정온도 16-17 °C 와인잔 아로마 콜렉터 디캔팅 30분', '와이너리이야기': '루이 라뚜르 · 부르고뉴, 프랑스 부르고뉴에서 가장 많은 그랑 크뤼 포도밭을 소유하고 있는 200년 이상된 가족 경영 와이너리로 혁신적인 농사기법과 환경 보전의 선두주자로써 부르고뉴에서 가장 명성있는 브랜드입니다. 해외시장 개발 및 아데쉬, 샤블리, 보졸레 지역 등에 끊임없이 새로운 도전을 해 부르고뉴 와인을 넓히는데 선구자 역할을 하며 세계 유명한 와인회사들도 구입하여 사용하는 전통 프렌치 오크 배럴을 직접 생산하여 사용하는 등 전통과 혁신, 완벽을 지키려 끊임없이 노력을 하고있습니다.'}\n",
      "{'대표 맛과 향': '다양한 과일 아로마와 함께 나타나는 장미 꽃잎과  줄기의 뉘앙스가 특징입니다. 입 안에서는 풍부한 과즙미와 함께 적절한 탄닌감과 산도를 느낄 수 있습니다. 이산화황을 첨가하지 않고 토착 효모 사용 및 콘크리트 에그 숙성을 통해 내추럴 와인의 특징을 한껏 표현했습니다.', '핸들링': '적정온도 16-18 °C 와인잔 유니버셜 디캔팅 30분', '와이너리이야기': '마티아스 리치텔리 · 멘도사, 아르헨티나 RiciieLi 아르헨티나의 전설적인 와인메이커 조지 리치텔리의 아들인 마티아스가 아버지에게 배운 스킬과 자신의 노력을 더해 본인 이름으로 와이너리를 만들었습니다. 마티아스가 오리엔탈리즘에 영감을 받아서 쿵푸의 강렬함과 활동적인 바이브를 모티브로 만든 내추럴 와인 브랜드 입니다.'}\n",
      "{'대표 맛과 향': '검붉은 색으로 레드, 블랙커런트, 제비꽃, 라일락, 초콜릿으로 감싼 커피콩, 멘톨등의 향이 복합적으로 느껴집니다. 풀 바디한 질감이 입안을 가득 메우고,  완벽하고 튼튼하게 지어진 벽돌집 같은 구조감을  지니고 있습니다. 넘치는 꽃향기와 미네랄감을 지닌 여운이 아주 오래도록 이어집니다.  바디  탄닌  당도  산도', '핸들링': '적정온도 16-18 °C 와인잔 버사이즈 디캔팅 60분 적정시기 2021-2065', '페어링': '비프 스테이크 구운 채소'}\n",
      "{'대표 맛과 향': '영롱한 보라빛이 감도는 레드 컬러로, 달콤한 카시스, 산딸기와 같은 검은 과일의 향과 함께 감초, 야생화의 꽃향기를 맡을 수 있습니다. 미디엄-풀 바디 와인으로   입안에서 느껴지는 잘 익은 자두의 달콤한 향과 베리류 향을 느낄 수 있으며 부드러우면서 구조감있는 탄닌의 질감이 좋은 와인입니다.      바디  탄닌  당도  산도', '핸들링': '적정온도 16-18 °C 와인잔 버사이즈 디캔팅 60분 적정시기 2023-2060', '페어링': '스테이크 치즈'}\n",
      "{'대표 맛과 향': '카시스, 블랙 베리, 감초 등 집중된 과일향과 함께 스파이스,  바닐라, 다크 초콜렛, 미네랄의 풍미가 강렬하고 복합적으로 다가옵니다. 풍부한 일조량을 받고 자란 최고의 포도가 선보이는 진한 과일 풍미와 매우 섬세한 타닌, 벨벳 같은 텍스쳐가 조화를 이룬 균형감 좋은 와인입니다.', '핸들링': '적정온도 16-18 °C 와인잔 버사이즈 디캔팅 60분'}\n",
      "{'대표 맛과 향': '자두와 베리류의 캐릭터로 꽉 찬 과실향이 매력적이며, 입 안에서도 풍부한 과실미와 잘 녹아든 타닌감으로 몇년 후의 모습을 기대하게 만드는 와인입니다.   바디   탄닌  당도  산도', '핸들링': '적정온도 16-18 °C 와인잔 유니버셜 디캔팅 30분 적정시기 2022-2028', '페어링': '구운 닭고기 각종 파스타'}\n",
      "{'대표 맛과 향': ' 풍부한 블랙 베리류의 과실향과 젖은 흙냄새가 느껴지며 흙, 후추 및 정향등의 향도 뒤이어 느낄 수 있습니다. 홀 = 클러스터 방식에서 느낄 수 있는 이국적인 향 또한 풍부 합니다.', '핸들링': '적정온도 16-18 °C 와인잔 유니버셜 디캔팅 30분', '와이너리이야기': '가라지 와인 · 이타타 밸리, 칠레 Gauage Wine Co. 가라지 와인의 시작은 창립자 세 친구가 Garage에서 친구들, 가족들과 함께 마시기 위하여 만든 와인이었 습니다. 이후 친구 중 한명이 와인 전문 기자에게 마셔 보라고 전달했고, 맛을 본 기자가 그 맛에 놀라 칠레 Garage 와인으로 신문에 소개해 유명해졌습니다. 이후 Derek은 와인을 전문적으로 만들기 위해, 마이포 밸리 소규모 전문 포도 재배자들만 찾아다니며 계약을 했고, 모든 포도는 말을 이용해 밭을 일구고 손으로 수확하고, 대부분 포도는 올드바인, 오가닉만 사용하고 있습니다. 퀄리티 유지를 위해 수확량을 늘리지 않고 생산량을 유지하고 있습니다. 세계적으로 저명한 블룸버그에서 2019년에 NEW ICON 와인으로 선정했습니다.'}\n",
      "{'대표 맛과 향': ' = 카베르네 프랑의 전형적인 모습인 허브, 삼나무, 말린 블루베리, 라벤더 향을 모두 지닌 맛있는 카베르네 프랑 입니다. 구조감은 부드러운 벨벳과 같고 깔끔한 산미와 탄닌감이 매력적입니다.', '핸들링': '적정온도 16-18 °C 와인잔 유니버셜 디캔팅 30분', '와이너리이야기': '가라지 와인 · 이타타 밸리, 칠레 Gauage Wine Co. 가라지 와인의 시작은 창립자 세 친구가 Garage에서 친구들, 가족들과 함께 마시기 위하여 만든 와인이었 습니다. 이후 친구 중 한명이 와인 전문 기자에게 마셔 보라고 전달했고, 맛을 본 기자가 그 맛에 놀라 칠레 Garage 와인으로 신문에 소개해 유명해졌습니다. 이후 Derek은 와인을 전문적으로 만들기 위해, 마이포 밸리 소규모 전문 포도 재배자들만 찾아다니며 계약을 했고, 모든 포도는 말을 이용해 밭을 일구고 손으로 수확하고, 대부분 포도는 올드바인, 오가닉만 사용하고 있습니다. 퀄리티 유지를 위해 수확량을 늘리지 않고 생산량을 유지하고 있습니다. 세계적으로 저명한 블룸버그에서 2019년에 NEW ICON 와인으로 선정했습니다.'}\n",
      "{'대표 맛과 향': ' 블랙커런트와 블랙베리 또한 스파이시함이 잘 어우러진 매력적인 아로마를 보여주는 풀바디 와인입니다. 잘자란 베리와 꽃향이 깔려있으며 실키한 탄닌감이 기분 좋은 피니쉬로 이어집니다.', '핸들링': '적정온도 16-18 °C 와인잔 유니버셜 디캔팅 30분', '와이너리이야기': '가라지 와인 · 이타타 밸리, 칠레 Gauage Wine Co. 가라지 와인의 시작은 창립자 세 친구가 Garage에서 친구들, 가족들과 함께 마시기 위하여 만든 와인이었 습니다. 이후 친구 중 한명이 와인 전문 기자에게 마셔 보라고 전달했고, 맛을 본 기자가 그 맛에 놀라 칠레 Garage 와인으로 신문에 소개해 유명해졌습니다. 이후 Derek은 와인을 전문적으로 만들기 위해, 마이포 밸리 소규모 전문 포도 재배자들만 찾아다니며 계약을 했고, 모든 포도는 말을 이용해 밭을 일구고 손으로 수확하고, 대부분 포도는 올드바인, 오가닉만 사용하고 있습니다. 퀄리티 유지를 위해 수확량을 늘리지 않고 생산량을 유지하고 있습니다. 세계적으로 저명한 블룸버그에서 2019년에 NEW ICON 와인으로 선정했습니다.'}\n",
      "{'대표 맛과 향': '짙은 자주색 컬러가 보입니다. 코에서는 자두, 체리, 블랙베리, 이상  카시스 등 과일향과 다양한 향신료 향이 느껴집니다. 입에선 잘 익은 블랙 체리, 블랙베리 등 다양한 검은 계열의 베리의 풍미가 느껴지고, 집중도 좋은 탄닌, 균형 잡힌 산미 밸런스가 일품으로 앞으로 10년 후가 더 기대되는 와인입니다.', '핸들링': '적정온도 16-18 °C 와인잔 유니버셜 디캔팅 60분'}\n",
      "{'대표 맛과 향': '짙은 퍼플 컬러가 돋보이며 코에서는 신선한 자두, 레드   체리, 레드커런트, 크랜베리, 블랙베리, 블루베리, 다크 1880  880 체리 등 다양한 과일향과 약간의 향신료향이 느껴집니다. 입에서는 잘 익은 자두, 블랙 체리, 블랙베리와 뒤이어 느껴지는 오렌지 껍질, 다크 초콜릿 등 다양한 풍미가 느껴지고, 입안 가득 느껴지는 균형 잡힌 탄닌과 산미의 밸런스가 긴 여운을 남깁니다.', '핸들링': '적정온도 16-18 °C 와인잔 유니버설 디캔팅 60분'}\n",
      "{'대표 맛과 향': '1887  호박색 황금색을 띠며, 코에서 사과와 배의 섬세한 과일  향이 납니다. 시트러스 노트와 함께 벨벳 같은 세련된 맛이       --/ 감귤류, 말린 과일, 꿀향으로 퍼져옵니다. 우아하고 풍성한  아로마와 달콤한 피니쉬를 보여주는 화이트 포트입니다.', '핸들링': '적정온도 6-10°C 와인잔 포트와인 디캔팅 NO'}\n",
      "{'대표 맛과 향': '잘익은 검은 계열과 붉은 계열 과실이 감초와 초콜렛향과 완벽화게 조화를 이루며 복합적이며 기분좋은 아로마를   선사합니다. 입 안에서는 우아하면서도 아름답게 집중된  풍미와 함께 스모키하고 페퍼리한 우드 풍미가 레이어드 된 깊은 맛이 느껴집니다. 공기와 접촉할 수록 우아한 짙은 탄닌과 과실의 풍만함이 살아나며 복합미를 선사합니다.   바디  탄닌    당도  산도', '핸들링': '적정온도 16-18 °C 와인잔 유니버설 디캔팅 30분 적정시기 2025-2035', '페어링': '구운 채소 로스트 치킨'}\n",
      "{'대표 맛과 향': '프랑스산 오크통에서 12개월의 숙성을 통해 완벽한 정도의 탄닌과 복합미를 지녔습니다. 야생의 베리류 아로마가 주를 이루며 옅게 깔리는 스파이스 노트가 매력적입니다. 입에선  풍부한 검은 과실과 정향의 뉘앙스가 잘 나타나는 탄탄한 구조감의 칠레 피노누아입니다.', '핸들링': '적정온도 18°C 와인잔 유니버셜 디캔팅 60분'}\n",
      "{'대표 맛과 향': \"산도와 탄닌의 강렬한 느낌이 가득차 있으며 매우 깊은 맛을 이끌어냅니다. 시간이 지날수록 다양하고 복합적인 '  맛을 제공하며 스파이시한 카레잎과 검은 과일, 커피와  담배향의 강한 바디감을 느낄 수 있으며 레몬의 적당한  산도가 느껴집니다. 올리브 잎과 검은 과일의 단단한 피니시가 인상적인 와인입니다.\", '핸들링': '적정온도 14-16 °C 와인잔 유니버셜 디캔팅 30분', '와이너리이야기': '양가라 · 남호주, 호주 YANGARRA 남호주 맥라렌 양가라는 지역의 베일 북동쪽에 위치한 단일 포도원 부지로 양가라의 고대 지질학과 높은 고도, 고양이 지중해성의 기후가 만나 최상의 포도를 위한 이상적인 재배조건을 제공하며 최상위 바이오 다이나믹 농법으로 와인을 생산합니다.'}\n",
      "{'대표 맛과 향': ' 깊고 선명한 레드 루비 빛을 띄며 붉은 과일의 향과 허브의   아로마가 느껴집니다. 쫀쫀한 탄닌과 젖은 돌, 흑연 미네랄 아로마가 긴 여운을 남기고 훌륭한 구조감, 산도가 우아하 면서도 파워풀함을 동시에 선사합니다.', '핸들링': '적정온도 16-18 °C 와인잔 유니버셜 디캔팅 30분', '와이너리이야기': '수카르디 · 멘도사, 아르헨티나 77m2 ZUCCARDI 2019년 세계 최고 포도원으로 선정된 수카르디는 1963년 .co 알베르토 수카르디가 멘도사 마이푸 지역에 처음 포도나무를 심은 이래 수카르디는 아르헨티나의 와인 업계를 리드하는 와이너리로 자리 잡았습니다. 현재 세계적인 와인 매거진인 디캔터가 뽑은 남미 TOP10 와인메이커 중한 명인 세바스찬 수카르디가 와이너리를 이끌고 있으며, 아르헨티나의 다양한 기후, 토양 특징을 잘 표현한 최상급 와인을 만들고 있습니다.'}\n",
      "{'대표 맛과 향': '잘 익은 붉은 베리류와 건포도 아로마를 바탕으로 오크   아로마가 펼쳐집니다. 입에선 베리류 타르트 뉘앙스와 함께 탄닌이 존재감을 드러냅니다. 이후 오크 뉘앙스로   마무리되며 긴 여운이 유지됩니다.', '핸들링': '적정온도 12-14 °C 와인잔 아로마 콜렉터 디캔팅 30분'}\n",
      "{'대표 맛과 향': '검붉은 과일의 강한 아로마를 바탕으로 옅은 스파이스 아로마를 느낄 수 있습니다. 입에서는 휘몰아치는 붉은  우아함이  과일 뉘앙스와 절제된 탄닌과 적절한 산도의 완벽한 밸런스로 공존하며, 옅은 바닐라 뉘앙스와 함께 긴 여운으로 마무리됩니다.', '핸들링': '적정온도 12-14 °C 와인잔 아로마 콜렉터 디캔팅 30분'}\n",
      "{'대표 맛과 향': '반짝이는 루비 레드 컬러를 띄며 감초와 체리향이 코를    찌릅니다. 입 안을 가득 채우는 바디감과 우아한 탄닌의 밸런스가 훌륭하며 우디향이 마지막에 부드럽게 다가 옵니다.', '핸들링': '적정온도 16-17 °C 와인잔 아로마 콜렉터 디캔팅 30분', '와이너리이야기': '루이 라뚜르 · 부르고뉴, 프랑스 부르고뉴에서 가장 많은 그랑 크뤼 포도밭을 소유하고 있는 200년 이상된 가족 경영 와이너리로 혁신적인 농사기법과 환경 보전의 선두주자로써 부르고뉴에서 가장 명성있는 브랜드입니다. 해외시장 개발 및 아데쉬, 샤블리, 보졸레 지역 등에 끊임없이 새로운 도전을 해 부르고뉴 와인을 넓히는데 선구자 역할을 하며 세계 유명한 와인회사들도 구입하여 사용하는 전통 프렌치 오크 배럴을 직접 생산하여 사용하는 등 전통과 혁신, 완벽을 지키려 끊임없이 노력을 하고있습니다.'}\n",
      "{'대표 맛과 향': '- 우아한 루비 컬러를 띠며 체리, 바닐라, 그리고 모카 아로마가    두드러집니다. 감초, 커피, 민트의 풍미가 특징적이며 매우   부드러운 탄닌이 입을 감싸며 지속적인 피니쉬로 이어집니다.', '핸들링': '적정온도 15-17 °C 와인잔 아로마 콜렉터 디캔팅 30분', '와이너리이야기': '루이 라뚜르 · 부르고뉴, 프랑스 부르고뉴에서 가장 많은 그랑 크뤼 포도밭을 소유하고 있는 200년 이상된 가족 경영 와이너리로 혁신적인 농사기법과 환경 보전의 선두주자로써 부르고뉴에서 가장 명성있는 브랜드입니다. 해외시장 개발 및 아데쉬, 샤블리, 보졸레 지역 등에 끊임없이 새로운 도전을 해 부르고뉴 와인을 넓히는데 선구자 역할을 하며 세계 유명한 와인회사들도 구입하여 사용하는 전통 프렌치 오크 배럴을 직접 생산하여 사용하는 등 전통과 혁신, 완벽을 지키려 끊임없이 노력을 하고있습니다.'}\n",
      "{'대표 맛과 향': '카시스와 사랑스러운 허브 향이 조화를 이루며 느낄 수 있는 복합미가 매력적인 와인입니다. 이 와인의 가장 큰 매력은 프레시함과 과실 자체의 집중도 있는 깊은 맛이 산도와 어우러질 때 발견할 수 있는 놀랍도록  잘 맞는 밸런스입니다.    바디  탄닌  당도  산도', '핸들링': '적정온도 17-19°C 와인잔 버사이즈 디캔팅 60분 적정시기 2021-2035', '페어링': '양고기 가금류'}\n",
      "{'대표 맛과 향': '파인애플, 망고, 파파야 향이 크리미하고 풍부하게 입안을  채워줍니다. 계피, 설탕에 절인 라임, 바닐라 크림 브륄레   노트가 매력적인 여운을 남깁니다.', '핸들링': '적정온도 8-10 °C 와인잔 화이트 디캔팅 NO', '와이너리이야기': \"도멘 퐁소 · 캘리포니아, 미국 KENDALL-JACKSON' 캔달 잭슨은 캘리포니아 고품질 와인의 대명사로 창업자인 제시 잭슨이 1980년대 초 50대의 나이로 설립한 와이너리 입니다. 당시 부동산 전문 변호사로 근무하며 자신의 농장에 포도를 재배하던 잭슨은 자신이 수확한 포도를 살 회사가 없자 직접 와인을 만들었습니다. 뛰어난 통찰력과 품질에 대한 장기적인 안목과 고집으로 캘리포니아 와인 혁신가로 불리며 '와인 명가' 캔달 잭슨을 일구어 냅니다. 그의 와인 스토리는 바로 20세기 후반 미국 캘리포니아 와인의 역사 라고 할 수 있다.\"}\n",
      "{'대표 맛과 향': '녹색이 살짝 감도는 볏짚색으로 상쾌한 감귤류의 아로마와 함께 푸른 허브의 향을 느낄 수 있습니다. 기분 좋은 산도와 잘 익은 과일의 풍미가 어우러진 탄탄한 바디감과 은은하게  느껴지는 무르익은 자몽 맛이 조화를 이룬 매력적인 화이트 와인입니다.', '핸들링': '적정온도 10-12 °C 와인잔 화이트 디캔팅 NO', '와이너리이야기': '안티노리 · 토스카나, 이탈리아 ll 700년역사와 26대를 이어온 이태리 최고 와인 명가 ANTINORI 세계에서 가장 오래된 와인 생산자로 기네스북에 등재 되었습니다. 안티노리는 안티노리 가문의 와인 생산 역사는 1180년으로 거슬러 올라갑니다. 피렌체 와인 길드에 공식적으로 가입한 1386년을 와인 생산 원년 으로 한대도 끊이지 않고 가족 경영으로 이어져 가고 있는 이태리 최고 와인 명가입니다.'}\n",
      "{'대표 맛과 향': '클래식한 샤르도네 매력을 보여주며, 배, 사과, 잘 익은 열대과일 향의 완벽한 조화와 이를 뒷받침해주는 살짝 토스티한 향이 느껴집니다. 감귤류의 | 윙낭스도 풍기면서 부드러운 질감이 느껴집니다. 시간이 흐르면서 파인애플, 사과, 바닐라의 향이 와인의 복합미를 더해줍니다.  바디 - - -  탄닌  당도  산도', '핸들링': '적정온도 °C 와인잔 아로마 디캔팅 콜렉터 적정시기 NO 10-12 2020-2025', '페어링': '파스타 크림 치즈'}\n",
      "{'대표 맛과 향': '청사과, 젖은 풀 등이 느껴지는 드라이하고 신선한 프로세코입니다.', '핸들링': '적정온도 8-10°C 와인잔 플루트 디캔팅 NO'}\n",
      "{'대표 맛과 향': ' 옅은 초록빛이 도는 밝은 금색 컬러로 꽃향, 복숭아향, 볶은  아몬드 향으로 코를 간지럽힙니다. 입에서는 신선한 과실과   긴 2017 미네랄리티가 느껴지며 훌륭한 구조감과 피니시가 일품 입니다.', '핸들링': '적정온도 8-10°C 와인잔 화이트 디캔팅 NO', '와이너리이야기': '도멘 드 마르꾸 · 론, 프랑스 MARCOUX 샤또네프 뒤 빠쁘에서 가장 오래된 가문인 아르므니에 패밀리가 소유하고 있는 이 와이너리는 1344년부터 샤또네프 뒤 빠쁘에서 아르마니라는 이름으로 와인을 생산하였고, 도멘 드 마르꾸의 이름으로 와인을 생산한 것은 1980년대부터입니다. 1991년부터 완전한 바이오 다이나믹 농법으로만 포도밭을 관리하였으며, 로버트 파커로부터 세계 최고의 샤또네프 뒤 파프를 생산하는 와이너리로 인정받았습니다.'}\n",
      "{'대표 맛과 향': '연두빛 테두리를 지닌 옅은 골드 컬러가 맑고 청량한 느낌을  줍니다. 사과와 배의 과실 향과 약간의 미네랄 터치 아로마가  느껴집니다.  입안에선 부드러운 바디감과 신선함이 유지되며    약간의 달콤한 노트도 있어 밸런스가 좋은 와인입니다.', '핸들링': '적정온도 10-12 °C 와인잔 화이트 디캔팅 NO'}\n",
      "{'대표 맛과 향': '은은한 노란빛이 돋보이며, 코에서는 레몬, 라임, 오렌지 필과 같은 시트러스 계열 향이 생동감 넘치게 느껴집니다. 입 안에서는 단단한 복숭아, 매실, 사과 등 다양한 과일의 아로마가 매력적이며, ,균형잡힌 산도와 잔잔한 미네랄의 밸런스가 좋습니다.   바디  탄닌 .     당도  산도', '핸들링': '적정온도 12 °C 와인잔 화이트 디캔팅 NO 적정시기 2022-2035', '페어링': '구운 닭고기 치즈 플래터'}\n",
      "{'대표 맛과 향': '매우 섬세하고 정교한 아로마와 미네랄 성분들이 자연스레 농축되어 있으며, 자르 리슬링의 전형적 특징인 흰 복숭아,   사과의 과일 아로마가 느껴집니다. 큰 오크 배럴 안에서의 숙성은 특유의 효모 향을 포함하여 와인의 복합적인 향을 만들고 신선함을 유지합니다.', '핸들링': '적정온도 8-10 °C 와인잔 화이트 디캔팅 NO', '와이너리이야기': '마르쿠스 몰리터 · 모젤, 독일 MARKUS MOLITOR 마르쿠스 몰리터는 1980년대 중반 8대째 이어받은 와이너리를 이어받은 후 30여년 만에 2헥타르에서 80헥타르로 성장하며 로버트파커 100점을 단기간에 5번 받은 명실상부 스타 와이너리입니다. 전 세계 와인 애호가들이 극찬하는 모젤 와인의 정수로 병목의 캡슐 색깔(화이트: 드라이, 그린: 오프드라이, 골드: 스위트)로 입맛에 맞는 와인을 고를 수 있는 것이 특징입니다.'}\n",
      "{'대표 맛과 향': '투명하고, 옅은 황금 빛 색을 띄고 있습니다. 흰꽃 계열의  향, 특히 산사 나무와 인동나무 덩굴 꽃 향이 인상적으로,  신선하고 깨끗한 산도와 미네랄의 균형이 잘 잡혀있는 와인입니다.', '핸들링': '적정온도 10°C 아로마 와인잔 콜렉터 디캔팅 NO', '와이너리이야기': '도멘 베르타냐 · 부르고뉴, 프랑스 DOMAINE BERTAGNA 도멘 베르타냐는 1950년대에 설립, 2차 세계대전 후 Eva의 할아버지가 부르고뉴 지역의 다양한 와인들과 1954년 샴볼 뮈지니 빌라쥐 포도나무를 구입하고 1982년 에바 아버지가 Vougeot 도멘 베르타냐의 주인이 되면서 명성을 쌓기 시작 했습니다. Eva는 부르고뉴와 독일에서 양조, 영국에서 와인 비즈니스 경력을 쌓은 후 1988년 도멘을 운영하고 있으며 포도밭에 많은 투자를 하고 있습니다. 와이너리는 꼬뜨 드 뉘 부조에 있고 테루아, 전통에 대한 존경심과 차세대에게 건강한 땅을 물려준다는 책임감을 갖고 오가닉, 지속 가능한 방식으로 경작해 품질 좋은 와인 생산에 힘쓰고 있습니다.'}\n",
      "{'대표 맛과 향': '연둣빛 테두리를 두른 익은 레몬색을 가진 이 와인은 서양배, 시트러스 과일 계열 향이 주를 이루며, 국화꽃, 노간주 열매,  마른 생강 캐릭터 등 부드러운 향신료가 생기를 부여합니다. 2.   숙성에서 오는 토스티하고 미묘한 스모키 캐릭터와 우아하고 깨끗한 인상의 피니쉬가 돋보입니다.', '핸들링': '적정온도 8-10 °C 와인잔 화이트 디캔팅 NO', '와이너리이야기': '도멘 베르타냐 · 부르고뉴, 프랑스 DOMANE BERTAGNA 도멘 베르타냐는 1950년대에 설립, 2차 세계대전 후 Eva의 할아버지가 부르고뉴 지역의 다양한 와인들과 1954년 샴볼 뮈지니 빌라쥐 포도나무를 구입하고 1982년 에바 아버지가 Vougeot 도멘 베르타냐의 주인이 되면서 명성을 쌓기 시작 했습니다. Eva는 부르고뉴와 독일에서 양조, 영국에서 와인 비즈니스 경력을 쌓은 후 1988년 도멘을 운영하고 있으며 포도밭에 많은 투자를 하고 있습니다. 와이너리는 꼬뜨 드 뉘 부조에 있고 테루아, 전통에 대한 존경심과 차세대에게 건강한 땅을 물려준다는 책임감을 갖고 오가닉, 지속 가능한 방식으로 경작해 품질 좋은 와인 생산에 힘쓰고 있습니다.'}\n",
      "{'대표 맛과 향': '노란 볏짚색의 와인으로 백도, 건사과, 레몬 커드 크림, 부싯돌의 미네랄리티 등 다채로운 아로마가 느껴집니다. 파인애플과 잘 익은 복숭아 등 열대과일 맛에 크리미한 텍스쳐, 미디움 바디,신선한 산도가 어우러지고, 놀라울 만큼의 깊이감과 강렬함으로 마무리됩니다.  바디   탄닌    당도  산도', '핸들링': '적정온도 10-12 °C 와인잔 화이트 디캔팅 NO 적정시기 2022-2026', '페어링': '구운 야채 새우 구이'}\n",
      "{'대표 맛과 향': \"' 옅은 레몬 컬러가 돋보이는 이 와인은 코에서는 레몬, ' 라임과 오렌지 등 시트러스 계열의 향이 매력적이며, '  약간의 딸기향도 느껴집니다. 입에서 느껴지는 풍부한 18-50 3291 시트러스 계열의 과일향과 부드러운 산미의 밸런스가 긴 여운을 남깁니다.\", '핸들링': '적정온도 8-12°C 와인잔 화이트 디캔팅 NO', '와이너리이야기': \"티렐 와인즈 헌터밸리, 호주 TYRRELL'S 호주 프리미엄 와인 트렌드를 이끌고 있는 헌터 밸리의 가장 오래된 와인 명가 티렐 와인즈는 1858년부터 영국 이민자인 에드워드 티렐 헌터밸리를 베이스로 설립하여 프리미엄 와인을 생산하는 가족 경영 와이너리입니다. 1971년부터 각족 품평회 수상 시작, 지금까지 5000건 이상의 수상 경력을 가지고 있으며 2010년에는 호주의 저명한 와인 평론가 제임스 할리데이 'Australian Wine Companion'에서 올해 와이너리로 선정되기도 했습니다. 2018년에는 Decanter에서 호주 100대 와인에 선정되었 습니다.\"}\n",
      "{'대표 맛과 향': '옅은 금빛과 연두빛이 가장 먼저 눈에 들어옵니다. 방금 짜낸 라임 주스, 열대 과일과 신선한 허브향이 먼저 느껴 집니다. 과실미가 풍부한 와인으로 입안 가득 레몬, 라임 같은 과실향이 입 안을 가득 채워주며, 뒤이어 느껴지는 깔끔한 산도는 입 안을 정리해줍니다.    바디 .  탄닌  당도 2021 /    산도', '핸들링': '적정온도 6-8 °C 와인잔 화이트 디캔팅 NO 적정시기 2021-2024', '페어링': '각종 해산물 여름 제철 과일 샐러드'}\n",
      "{'대표 맛과 향': '청량하고 생동감 넘치는 플라워 부케를 갖고 있으며 향긋한 - 꿀과 느낄 수 사과 그리고 견과류의 풍미를 있습니다.', '핸들링': '적정온도 10-12 °C 와인잔 화이트 디캔팅 NO', '와이너리이야기': '루이 라뚜르 · 부르고뉴, 프랑스 부르고뉴에서 가장 많은 그랑 크뤼 포도밭을 소유하고 있는 200년 이상된 가족 경영 와이너리로 혁신적인 농사기법과 환경 보전의 선두주자로써 부르고뉴에서 가장 명성있는 브랜드입니다. 해외시장 개발 및 아데쉬, 샤블리, 보졸레 지역 등에 끊임없이 새로운 도전을 해 부르고뉴 와인을 넓히는데 선구자 역할을 하며 세계 유명한 와인회사들도 구입하여 사용하는 전통 프렌치 오크 배럴을 직접 생산하여 사용하는 등 전통과 혁신, 완벽을 지키려 끊임없이 노력을 하고있습니다.'}\n",
      "{'대표 맛과 향': '워터베일의 클래식이라고 할 수 있는 와인입니다. 다채로운 꽃향과 함께 파우더리한 미네랄 텍스쳐를 바탕으로, 잘 익은 라임 등의 집중도 있는 시트러스 계열의 맛을 느낄 수 있습니다. 뛰어난 산도와 긴 피니쉬로 입맛을 다시게 하는 훌륭한 와인입니다.  바디  탄닌  당도  산도', '핸들링': '적정온도 8-10°C 와인잔 화이트 디캔팅 NO 적정시기 2021-2025', '페어링': '스시 숙성회'}\n",
      "{'대표 맛과 향': '워터베일의 클래식이라고 할 수 있는 와인입니다. 다채로운 꽃향과 함께 파우더리한 미네랄 텍스쳐를 바탕으로, 잘 익은 라임 등의 집중도 있는 시트러스 계열의 맛을 느낄 수 있습니다. 뛰어난 산도와 긴 피니쉬로 입맛을 다시게 하는 훌륭한 와인입니다.  바디  탄닌  당도  산도', '핸들링': '적정온도 8-10°C 와인잔 화이트 디캔팅 NO 적정시기 2021-2025', '페어링': '스시 숙성회'}\n",
      "{'대표 맛과 향': ' 신선한 시트러스 계열 과일과 샤프론, 흰 꽃과 버터리한 토스트의 아로마가 강하게 드러납니다. 입에서는 생동감 넘치는 감귤, 서양 배, 달콤한 버터 등을 느낄 수 있으며 · 강렬하면서도 우아한 바디감과 집중도 있는 꽃, 미네랄  ( ://. 뉘앙스의 피니시가 인상적인 와인입니다.', '핸들링': '적정온도 8-10°C 와인잔 화이트 디캔팅 NO'}\n",
      "{'대표 맛과 향': '도멘 퐁소의 알리고떼는 대부분 올드바인에서 나온 포도로 만들어지며, 올해는 특히 좋은 퀄리티로 그 어느 때보다 높은 관심을 받고 있습니다. 서양배와 백합 등 아로마를 바탕으로     볶은 아몬드 견과류, 페트롤 등의 뉘앙스를 느낄 수 있습니다.       입에선 레몬 제스트와 초록 허브 등의 허베셔스한 느낌과 함께 상큼한 산도로 긴 피니시를 나타냅니다.', '핸들링': '적정온도 10-12 °C 와인잔 화이트 디캔팅 NO', '와이너리이야기': '도멘 퐁소 · 부르고뉴, 프랑스 모레 생드니에 위치한 와이너리로, 오랜 전통에도 불구하고 DOMA NE PONSO 전형적이지 않은 특별함을 보이는 와이너리입니다. 늦은 수확과 특별한 줄기 제거 방식, 오크 배럴 숙성 방식으로 도멘 퐁소만의 장기숙성 가능한 특별한 스타일을 만듭니다. 특히 도멘 퐁소는 새 오크 배럴(new oak casks)에서 와인을 숙성시켜 와인에 오크 향을 입히는 유행을 피하고, 건조된 오크통을 재사용하는 방식으로 와인을 숙성시켜 숙성된 와인 그 자체의 맛과 향을 유지합니다. 쉬운 길을 선택하지 않고 부르고뉴의 장인 정신을 바탕으로 최고의 퀄리티 와인을 생산해내는 노력을 기울이고 있습니다.'}\n",
      "{'대표 맛과 향': ' 반짝이는 금빛을 띄며 아카시아 같은 봄 꽃의 향이 풍부하게    퍼지고 입안에서는 촘촘하고 집중도가 높은 플로럴 아로마가    느껴집니다. 섬세한 카모마일의 감칠맛과 가벼운 당도가 끈질 기게 입안에서 긴 여운을 남깁니다.', '핸들링': '적정온도 10-12°C 와인잔 화이트 디캔팅 NO', '와이너리이야기': \"로네아 론, 프랑스 COST GOOD LEAGUE RHONEA 2015년 설립된 신생 회사로 프랑스 남부 론 지역에 위치해 있습니다. 전통을 이어가며 새로운 세대를 위한 도전의 선구자가 되기 위해 200명 이상 와인재배 장인이 모인 와인 재배자 조합, 공정하고 윤리적으로 와인을 생산하는 신세대 와이너리들이 모여 설립한 협동 조합 회사입니다. 장인들의 강력한 노하우를 기반으로 대를 이어 론 지역의 가장 명성있는 지공다스, 바케이라 등의 와인을 생산하고 있으며 '맛있는 순간을 위한 맛있는 와인'을 슬로건으로 삼아 로네아 모든 와인들은 음식과의 조화를 가장 중요시 하고 있습니다. 떼루아의 지속성을 위해 환경 보호에 대한 강한 신념을 지키고 있으며 지속 가능한 바이오 농법을 사용하고 있습니다.\"}\n",
      "{'대표 맛과 향': '밝은 연둣빛이 도는 중간 볏짚색으로, 코에서는 강렬한 사과 커스터드, 쿠민, 자스민 꽃과 함께 은은히 느껴지는 토스티한 오크의 부케가 느껴집니다. 입 안에서는 풍부하고 쥬시하며   풍미가 가득 차 있습니다. 신선한 백도와 제스티한 레몬이 리드하며 토스티한 오크와 유혹적인 미네랄리티의 도움을 받아 지속성과 풍부한 복합미를 보여줍니다.', '핸들링': '적정온도 12 °C 와인잔 화이트 디캔팅 NO', '와이너리이야기': '하디스 남호주, 호주 HARDY\\'S 1853 Hardy\\'s Wines은 Thomas Hardys의 선구적인 정신과 와인 제조에 대한 열정으로 5대에 걸쳐 이어오고 있으며, 9천개 이상의 매달을 수상한 호주 대표 브랜드입니다. 호주의 와인을 최초로 영국으로 수출한 와이너리이며, Hardy\\'s Stamp 시리즈는 와인 소비 강국인 영국에서 판매 1위를 기록 중입니다. 1882년 호주 와인 최초로 보르도 국제 와인 품평회에서 Gold Medal을 수상했으며, 130여개 국에서 200만 잔 이상 소비되는 호주 NO.1 브랜드 입니다. 또한, 호주 Langton\\'s Classification에서 Eileen Hardy Shiraz는 꾸준히 \"Excellent\" 등급을 받으며 가치를 인정받는 호주의 엘리트 와인으로 이름을 알리고 있습니다.'}\n",
      "{'대표 맛과 향': '잔에 따르는 순간 밀랍, 다양한 꽃향 등과 함께 젖은 돌, 육두구, 신선한 살구 등의 아로마를 느낄 수 있습니다. 입에서는 미디움 -풀바디의 바디감을 바탕으로 새틴같은 부드러움이 느껴집니다. 집중도가 있는 맛과 에너지가 과즙의 산도와 훌륭한 밸런스를 이루어 다면적인 뉘앙스를 느낄 수 있습니다. 알록스 꼬똥의 두   구획 (한 곳은 온화하고 한 곳은 서늘함)에서 재배되는 포도로   만들어 집니다.', '핸들링': '적정온도 8-10 °C 와인잔 화이트 디캔팅 NO', '와이너리이야기': '도멘 폴소 · 부르고뉴, 프랑스 모레 생 드니에 위치한 와이너리로, 오랜 전통에도 불구하고 DOMA NE PONSO 않은 전형적이지 특별함을 보이는 와이너리입니다. 늦은 수확과 특별한 줄기 제거 방식, 오크 배럴 숙성 방식으로 도멘 퐁소만의 장기숙성 가능한 특별한 스타일을 만듭니다. 특히 도멘 퐁소는 새 오크 배럴(new oak casks)에서 와인을 숙성시켜 와인에 오크 향을 입히는 유행을 피하고, 건조된 오크통을 재사용하는 방식으로 와인을 숙성시켜 숙성된 와인 그 자체의 맛과 향을 유지합니다. 쉬운 길을 선택하지 않고 부르고뉴의 장인 정신을 바탕으로 최고의 퀄리티 와인을 생산해내는 노력을 기울이고 있습니다.'}\n",
      "{'대표 맛과 향': '반짝반짝 빛나는 금색 빛을 띄며 기존의 트레비아노의 풀향,  레몬 등의 향이 아닌 바나나와 조리된 사과, 열대 과실향이 지배적으로 느껴집니다. 매우 집중도가 높고 트레비아노 중 풀 바디감을 보여주며 시음 후에도 여운이 지속됩니다.', '핸들링': '적정온도 10°C 와인잔 화이트 디캔팅 NO', '와이너리이야기': '제나토 · 베네토, 이탈리아 ZENATO 1990년 세르지오 제나토는 발폴리첼라의 오리지널밭 5개 중 하나인 산 암브로지오의 35헥타르를 소유했고, 발폴리첼라 와인 핵심 포도품종인 코르비나, 론디넬라, 오셀레타, 크로아티나를 중심으로 총 25종을 재배하고 있습니다. 풍부한 미네랄이 많은 것으로 알려져 있는 테라로사로 이루어져 있습니다. 전 세계 최고 평론가로 부터 항상 탑 클래스의 아마로네와이너리로 언급되고 있으며, 최근 JAMES SUCKLING에서 2019년 2020년 연속으로 아마로네 와인중 전체 1위를 거머쥐며 최고의 브랜드로 등극했습니다.'}\n",
      "{'대표 맛과 향': '초콜렛 2는 2017-2019년에 수확한 포도를 블렌딩해 완벽한 밸런스와 복합미를 더 강화했습니다. 짙은 금색 컬러가 돋보이며 유려한 꽃의 향기와 살구, 자두와 같은 잘 익은 핵과 아로마와 함께 옅은 토스티한 뉘앙스도 발견할 수 있습니다. 풍부한 바디감과 약간의 유질감이 느껴지며 적절한 산도가 길게 이어져 완벽한 밸런스가 주는 여운을 충분히 음미할 수 있도록 합니다.  바디  탄닌   당도   산도', '핸들링': '적정온도 8-10°C 와인잔 화이트 디캔팅 NO 적정시기 2022-2029', '페어링': '돼지고기 찜 훈제 연어'}\n",
      "{'대표 맛과 향': '맑은 루비색이 눈에 띄는 와인으로 산딸기, 사워 체리, 말린 꽃, 정향의 아로마가 한데 섞여 코를 자극합니다. ·   중간 정도의 바디감과 고급스러운 탄닌, 신선한 산도가 완벽한 밸런스를 이루며 약간의 미네랄리티가 기저에 깔리며 피니시까지 완벽하게 마무리합니다.', '핸들링': '적정온도 14-16 °C 와인잔 아로마 콜렉터 디캔팅 30분'}\n",
      "{'대표 맛과 향': '라임 빛이 감도는 옅은 볏짚 컬러를 관찰할 수 있습니다.  코에서는 살구, 배와 함께 아몬드, 호두 같은 견과류와 갓   .. 구운빵의 향이 매력적입니다. 입 안에서 느껴지는 신선한  감귤류의 아로마와 은은한 오크향의 밸런스가 좋으며, 적당한 산미와 긴 여운을 보여주는 와인입니다.', '핸들링': '적정온도 13 °C 와인잔 화이트 디캔팅 NO', '와이너리이야기': '배티그 · 말레코 밸리, 칠레 Bettig 프란치스코 배티그는 칠레 와인 사상 최초로 세계적인 와인평론가 James Suckling으로부터 100점을 획득한 \"비네도 차드윅 2014\"을 만들어 낸 주역이자, 미국 와인 매거진 \"Wine Enthusiast\" \"에서 2016년 세계 최고 와인 메이커 5명 중 한명입니다. 배티크는 모든 와인을 손으로 수확, 천연 효모 사용 등 최소한의 개입으로 생동감 있고 정밀하며 균형 잡힌 와인을 2020년 처음으로 대중에게 선보였고, 와인 평론가들에게 최고의 찬사를 받았습니다. Robert Parker Top 100 Wine Discoveries 2020와 James Suckling Top 100 Wines of Chile 2020에 선정 되었으며, 그는 배티그 와인을 \"버건디 와인을 생각하게 만드는 진귀한 보석들이다\" 라고 표현했습니다.'}\n",
      "{'대표 맛과 향': '신선한 바질, 피망, 토마토잎 향에 이어 자몽과 패션 프루트 향과 산미가 느껴지고 입에선 크리스피함을 느낄 수 있습니다. 쥬시하고 강렬하면서 복합미를 가진 와인으로, 말보로 소비뇽블랑의 세계적 인기의 이유를 잘 담고 있습니다.  바디   탄닌  당도  산도', '핸들링': 'X 10-12 적정온도 °C 와인잔 화이트 디캔팅 NO 적정시기 2021-2023', '페어링': '굴 카나페'}\n",
      "{'대표 맛과 향': '깨끗한 연두빛 노란 바디를 가진 와인으로 처음 코를 대자마자   부싯돌 향미가 느껴지며 이내 레몬과 미라벨 캐릭터에 자리를 내줍니다. 서늘한 지역에서 자란 밝은 레몬, 노란 매실이 풍부 하고 집중력있습니다.', '핸들링': '적정온도 10-11 °C 와인잔 화이트 디캔팅 NO', '와이너리이야기': '도멘 장 도비사 · 부르고뉴, 프랑스 현재 도멘을 이끌고 있는 장의 손자 파비엔은 특출나게 DONAINE JAN DAVISIAT 뛰어난 와인메이커로, 2021년 부르고뉴 각 지역의 젊은 와인 메이커 7인 트로피에 이름을 올렸습니다. 트로피는 비즈니스를 시작한 지 5년 내 40대 이하의 특출난 와인 메이커들에게만 수여됩니다. Wine Enthusiast 의 2021 TOP 100 리스트에서 #36위로 선정된 와인 생산자이며 대중적으로 잘 알려진 Decanter뿐만 아니라 내노라하는 부르고뉴 전문가들도 도멘 장 도비사에 앞다투어 꾸준한 추천과 고득점을 던지며 품질을 인정받고 있습니다.'}\n",
      "{'대표 맛과 향': ' 서늘한 레몬빛의 이 와인은 하얀 복숭아 꽃의 섬세한 노트가 인상적입니다. 입에서는 청사과, 노란 자두의 생생한 산도가    & . 입맛을 돌게 하며 라임 제스트가 피니시까지 이어집니다.', '핸들링': '적정온도 10-11 °C 와인잔 화이트 디캔팅 NO', '와이너리이야기': '도멘 장 도비사 · 부르고뉴, 프랑스 현재 도멘을 이끌고 있는 장의 손자 파비엔은 특출나게 DONAINE JAN DAVISIAT 뛰어난 와인메이커로, 2021년 부르고뉴 각 지역의 젊은 와인 메이커 7인 트로피에 이름을 올렸습니다. 트로피는 비즈니스를 시작한 지 5년 내 40대 이하의 특출난 와인 메이커들에게만 수여됩니다. Wine Enthusiast 의 2021 TOP 100 리스트에서 #36위로 선정된 와인 생산자이며 대중적으로 잘 알려진 Decanter뿐만 아니라 내노라하는 부르고뉴 전문가들도 도멘 장 도비사에 앞다투어 꾸준한 추천과 고득점을 던지며 품질을 인정받고 있습니다.'}\n",
      "{'대표 맛과 향': '약간의 초록빛을 보이는 투명한 골드 컬러가 눈에 띕니다. 코에서는 신선한 라임, 흰 꽃과 함께 미네랄 노트를 느낄 수 -     있습니다. 입에서는 미네랄과 함께 다채로운 과일의 향연이   펼쳐지며 적절한 산도가 끝 맛을 합니다. 산뜻하게', '핸들링': '적정온도 10-12 °C 와인잔 화이트 디캔팅 NO', '와이너리이야기': '도멘 퐁소 · 부르고뉴, 프랑스 모레 생드니에 위치한 와이너리로, 오랜 전통에도 불구하고 DOMA NE PONSO 전형적이지 않은 특별함을 보이는 와이너리입니다. 늦은 수확과 특별한 줄기 제거 방식, 오크 배럴 숙성 방식으로 도멘 퐁소만의 장기숙성 가능한 특별한 스타일을 만듭니다. 특히 도멘 퐁소는 새 오크 배럴(new oak casks)에서 와인을 숙성시켜 와인에 오크 향을 입히는 유행을 피하고, 건조된 오크통을 재사용하는 방식으로 와인을 숙성시켜 숙성된 와인 그 자체의 맛과 향을 유지합니다. 쉬운 길을 선택하지 않고 부르고뉴의 장인 정신을 바탕으로 최고의 퀄리티 와인을 생산해내는 노력을 기울이고 있습니다.'}\n",
      "{'대표 맛과 향': '타이트한 구조감과 풍부한 향, 날카로운 산미를 갖춘 리슬링 같은 샤르도네로 묘사됩니다. 숙성이 되면서 생기는 자연적 산도와 와인 메이커의 선택적 늦수확에 따라 약 30%만 2차 발효를 진행하여 와인의 깊이감과  복합성, 그리고 생동감을 느낄 수 있습니다. ', '핸들링': '적정온도 10-12 °C 와인잔 화이트 디캔팅 NO'}\n",
      "{'대표 맛과 향': '초록빛 테두리를 두른 여린 레몬색을 지녔으며 흰 꽃, 잘린 청사과, 서양배 캐릭터와 레몬, 자몽 등의 시트러스 계열 과실이 느껴집니다. 입에서는 산뜻한 산도가 와인의 뼈대를 잡아주고, 풍성한 미네랄리티가 지역 토양 특징을 잘 전달해  주어 매우 즐거운 끝인상을 남깁니다. 자칫 비릴수도 있는  해산물,기름기가 풍성한 요리와 찰떡궁합인 와인입니다.', '핸들링': '적정온도 10-11 °C 와인잔 화이트 디캔팅 NO', '와이너리이야기': '메종 라방투레 · 부르고뉴, 프랑스 친구들을 상대로 빚던 와인들의 반응이 뜨겁자 부르고뉴 욘 ROLAND LAVANTUREUX 지방의 수도 Auxerre(오세르)와 파리에서 작은 와인 상업을 시작했습니다. 이를 물려받아 부모인 롤랑과 브리짓이 1979 년에 도멘에서 직접 병입을 시작하며 5헥타르였던 부지를 20헥타르로 늘려 프랑스와 해외에 사업을 확장시켰습니다. 2010년 이래 두 아들 아르노, 다비드가 세대를 잇는 열정을 보입니다. 각 빈티지의 특수함과 가치를 강조하며 테루아의 다양성을 드러내는 것을 목표로 합니다. 각 해마다 탱크와 배럴을 매년 다른 비율로 이용해 깊이감을 극대화 합니다.'}\n",
      "{'대표 맛과 향': '밝은 노란색을 띄는 이 와인은 잘 익어 달달한 배, 사과 등 열매 과실들의 아로마가 느껴집니다. 입에서는 라임, 감귤, 자몽 시트러스 계열 과일, 멜론 등 이국적인 캐릭터가 훌륭 하고, 미네랄리티와 꿀의 풍미, 토스트, 비스킷 등의 크리미,  이스티한 캐릭터가 돋보이는 풍만한 바디 끝에 힘차고 긴  피니쉬가 이어집니다.', '핸들링': '적정온도 10-12 °C 와인잔 화이트 디캔팅 NO', '와이너리이야기': '메종 라방투레 · 부르고뉴, 프랑스 친구들을 상대로 빚던 와인들의 반응이 뜨겁자 부르고뉴 욘 ROLAND LAVANTUREUX 지방의 수도 Auxerre(오세르)와 파리에서 작은 와인 상업을 시작했습니다. 이를 물려받아 부모인 롤랑과 브리짓이 1979 년에 도멘에서 직접 병입을 시작하며 5헥타르였던 부지를 20헥타르로 늘려 프랑스와 해외에 사업을 확장시켰습니다. 2010년 이래 두 아들 아르노, 다비드가 세대를 잇는 열정을 보입니다. 각 빈티지의 특수함과 가치를 강조하며 테루아의 다양성을 드러내는 것을 목표로 합니다. 각 해마다 탱크와 배럴을 매년 다른 비율로 이용해 깊이감을 극대화 합니다.'}\n",
      "{'대표 맛과 향': '짙은 볏짚색으로 코에서는 레몬, 사과, 헤이즐넛, 생크림 캐릭터들의 아름다운 균형감이 길게 이어집니다. 입에선 사과, 배 열매 과일과 미라벨, 흰 멜론 등 이국적 과실미에 아름다운 산도. 곁들인 미묘한 바닐라 캐릭터가 돋보이며 매우 풍성한 레이어를 보여줍니다. 긴 피니쉬에서는 살짝  스모키와 견과류의 고소함, 부싯돌 미네랄리티와 레몬   제스트의 신선함이 흩뿌려져 있습니다.', '핸들링': '적정온도 7-11 °C 와인잔 화이트 디캔팅 NO', '와이너리이야기': '메종 라방투레 · 부르고뉴, 프랑스 친구들을 상대로 빚던 와인들의 반응이 뜨겁자 부르고뉴 욘 ROLAND LAVANTUREUX 지방의 수도 Auxerre(오세르)와 파리에서 작은 와인 상업을 시작했습니다. 이를 물려받아 부모인 롤랑과 브리짓이 1979 년에 도멘에서 직접 병입을 시작하며 5헥타르였던 부지를 20헥타르로 늘려 프랑스와 해외에 사업을 확장시켰습니다. 2010년 이래 두 아들 아르노, 다비드가 세대를 잇는 열정을 보입니다. 각 빈티지의 특수함과 가치를 강조하며 테루아의 다양성을 드러내는 것을 목표로 합니다. 각 해마다 탱크와 배럴을 매년 다른 비율로 이용해 깊이감을 극대화 합니다.'}\n",
      "{'대표 맛과 향': ' 복숭아밭의 향기가 지배적인 이 와인은 입에 머금는 순간 우아한 과일 뉘앙스가 화려합니다. 흐트러짐 없는 탄탄한 구조감과 맛의 밀도가 느껴지며, 긴 피니시에 깔끔하게  전달되는 살짝 짠 듯한 미네랄리티의 여운이 이 와인을  더욱 흥미롭게 만들어줍니다.', '핸들링': '적정온도 10-11 °C 와인잔 화이트 디캔팅 NO'}\n",
      "{'대표 맛과 향': ' 무게감이 느껴지는 볏짚색입니다. 라임 오일의 부드러운 아로마, 백도의 달콤함이 잔잔한 꽃내음과 전해옵니다. 옅은 히비스커스와 패션 프루츠의 캐릭터가 복합적이고  우아합니다.  풍성한 미네랄리티와 생기 있으면서 촘촘한 구조감이 길게 이어집니다.', '핸들링': '적정온도 9-11 °C 와인잔 화이트 디캔팅 NO'}\n",
      "{'대표 맛과 향': ' 농축된 레몬빛의 이 와인은 매력적인 흰 꽃, 아카시아 꿀, 천리향, 노란 자두, 망고 그리고 화이트 누가 향이 은은히 느껴집니다. 입에서는 우아하고 잘 정제된 구조감, 경쾌한  산도가 스모키함, 벌꿀집 왁시함이 긴 피니쉬 백후추향과 어우러집니다.', '핸들링': '적정온도 10-12 °C 와인잔 화이트 디캔팅 NO'}\n",
      "{'대표 맛과 향': '눈부신 황금색에 토스트와 커피향과 같은 강렬하며 복합적인 아로마가 천천히 올라옵니다. 입안에서 느껴지는 단단하면서 꽉 조여주는 산미가 완벽하게 균형을 잡아주며 흰 복숭아와 아몬드, 길게 지속되는 미네랄 느낌이 와인에 고급스러움을 더해줍니다.', '핸들링': '적정온도 12-14 °C 와인잔 화이트 디캔팅 NO', '와이너리이야기': '루이 라뚜르 · 부르고뉴, 프랑스 부르고뉴에서 가장 많은 그랑 크뤼 포도밭을 소유하고 있는 200년 이상된 가족 경영 와이너리로 혁신적인 농사기법과 환경 보전의 선두주자로써 부르고뉴에서 가장 명성있는 브랜드입니다. 해외시장 개발 및 아데쉬, 샤블리, 보졸레 지역 등에 끊임없이 새로운 도전을 해 부르고뉴 와인을 넓히는데 선구자 역할을 하며 세계 유명한 와인회사들도 구입하여 사용하는 전통 프렌치 오크 배럴을 직접 생산하여 사용하는 등 전통과 혁신, 완벽을 지키려 끊임없이 노력을 하고있습니다.'}\n",
      "{'대표 맛과 향': '윤기돌고 신선한 사과와 배 캐릭터가 코에서 맴도는 이 와인은 통통하고 쥬시한 복숭아, 하얀 천도 복숭아 과육, 망고 캐릭터가     둥글고 생동감 있으며 살짝 레몬 패스트리 느낌이 와인을 더욱    &  돋보이게 합니다. 매우 길고 촘촘한 미네랄 느낌은 피니시까지 이어집니다.', '핸들링': '적정온도 10-12 °C 와인잔 화이트 디캔팅 NO', '와이너리이야기': '도멘 장 도비사 · 부르고뉴, 프랑스 현재 도멘을 이끌고 있는 장의 손자 파비엔은 특출나게 DONANG HAM DAIVISIAT 뛰어난 와인메이커로, 2021년 부르고뉴 각 지역의 젊은 와인 메이커 7인 트로피에 이름을 올렸습니다. 트로피는 비즈니스를 시작한 지 5년 내 40대 이하의 특출난 와인 메이커들에게만 수여됩니다. Wine Enthusiast 의 2021 TOP 100 리스트에서 #36위로 선정된 와인 생산자이며 대중적으로 잘 알려진 Decanter뿐만 아니라 내노라하는 부르고뉴 전문가들도 도멘 장 도비사에 앞다투어 꾸준한 추천과 고득점을 던지며 품질을 인정받고 있습니다.'}\n",
      "{'대표 맛과 향': '아름다운 금빛을 띄며 잘 익은 멜론과 배와 같은 과일의 향이 강렬히 퍼지고 바닐라와 아몬드잼의 달콤쌉싸름한 아로마가 더해집니다. 입안에서는 신선한 아몬드 열매의 먹는듯한 향과 크리미하고 부드러운 질감을 느낄 수 있으며 뒤이어 오크향과 스파이시함, 미네랄리티, 산도가 어우러져 마지막까지 훌륭한 균형을 유지해줍니다.', '핸들링': '적정온도 12-14 °C 와인잔 화이트 디캔팅 NO', '와이너리이야기': '루이 라뚜르 · 부르고뉴, 프랑스 부르고뉴에서 가장 많은 그랑 크뤼 포도밭을 소유하고 있는 200년 이상된 가족 경영 와이너리로 혁신적인 농사기법과 환경 보전의 선두주자로써 부르고뉴에서 가장 명성있는 브랜드입니다. 해외시장 개발 및 아데쉬, 샤블리, 보졸레 지역 등에 끊임없이 새로운 도전을 해 부르고뉴 와인을 넓히는데 선구자 역할을 하며 세계 유명한 와인회사들도 구입하여 사용하는 전통 프렌치 오크 배럴을 직접 생산하여 사용하는 등 전통과 혁신, 완벽을 지키려 끊임없이 노력을 하고있습니다.'}\n",
      "{'대표 맛과 향': '밝고 옅은 황금빛은 바닐라향이 첨가된 신선한 헤이즐넛의 강력한 아로마를 눈으로 보여주는 듯 합니다. 입 안 전체에 바닐라 아로마와 함께 신선한 아몬드의 풍미와 스모키한 향, 토스트 아로마가 느껴지고, 맛의 끝에선 시트러스의 상큼한 아로마가 고급스럽게 돋보이며 오랫동안 이어지는 여운으로 남아 즐거움을 줍니다.', '핸들링': '적정온도 12-14 °C 와인잔 아로마 콜렉터 디캔팅 NO', '와이너리이야기': '루이 라뚜르 · 부르고뉴, 프랑스 부르고뉴에서 가장 많은 그랑 크뤼 포도밭을 소유하고 있는 200년 이상된 가족 경영 와이너리로 혁신적인 농사기법과 환경 보전의 선두주자로써 부르고뉴에서 가장 명성있는 브랜드입니다. 해외시장 개발 및 아데쉬, 샤블리, 보졸레 지역 등에 끊임없이 새로운 도전을 해 부르고뉴 와인을 넓히는데 선구자 역할을 하며 세계 유명한 와인회사들도 구입하여 사용하는 전통 프렌치 오크 배럴을 직접 생산하여 사용하는 등 전통과 혁신, 완벽을 지키려 끊임없이 노력을 하고있습니다.'}\n",
      "{'대표 맛과 향': '루산느, 마르사네, 그르나슈 블랑, 샤도네이 등론 블렌딩 으로 만들어진 텐션 화이트 블렌드는 감귤류와 잘 익은  멜론 아로마가 매혹적입니다. 입에선 풀바디의 바디감과 함께 복숭아와 살구의 뉘앙스가 더해지며 다채로운 맛이 펼쳐집니다. 적절한 밸런스의 산도와 함께 옅은 헤이즐넛 뉘앙스로 마무리 됩니다.', '핸들링': '적정온도 8-10°C 와인잔 화이트 디캔팅 NO'}\n",
      "{'대표 맛과 향': '생기있게 빛나는 골드 컬러를 보여줍니다. 전체적으로 와인이 과실 풍미로 꽉차 있는데, 키위, 천도 복숭아와 레몬 껍질, 열대 과일의 느낌이 강하게 느껴집니다. 시트러스 계열의 향과 허브의 풍미가 더해져 복합미가 훌륭하고 실키한 텍스처가 입 안에 긴 여운을 남깁니다.    바디 - 2020 -    탄닌  당도  산도', '핸들링': '적정온도 8-11 °C 와인잔 화이트 디캔팅 NO 적정시기 2021-2040', '페어링': '스시 회'}\n",
      "{'대표 맛과 향': '여린 페일 핑크 컬러로 붉은 과실, 베리류의 풍미와 함께 미네랄리티가 느껴지는 허브 향이 어우러져 매력적입니다. 산딸기와 라즈베리 과일과 플로럴한 풍미가 입안에서 후각을 자극하고, 마신 후의 미네랄 터치가 긴 여운을 남깁니다.    바디    탄닌  당도  산도', '핸들링': '적정온도 °C 와인잔 아로마 디캔팅 콜렉터 적정시기 NO 8-12 2021-2045', '페어링': '봉골레 파스타 멕시칸 음식'}\n",
      "{'대표 맛과 향': '옅은 레몬빛의 컬러가 돋보입니다. 코에서는 라임, 레몬, 복숭아 등 신선한 과일향을 맡을 수 있습니다. 입에서는 잘 익은 복숭아, 멜론 등 과실 풍미와 입안을 가득 채우는 크리미한 질감이 매력적입니다. 뒤이어 따라오는 적당한 산미는 입맛을 돋우어줍니다.  바디  탄닌       당도  산도', '핸들링': '적정온도 10-12 °C 와인잔 화이트 디캔팅 NO 적정시기 2022-2028', '페어링': '부리타 치즈 샐러드 오일 파스타'}\n",
      "{'대표 맛과 향': ' 밝은 레몬 컬러가 돋보이는 와인으로, 코에서는 신선한 허브, 레몬, 복숭아, 풋사과의 아로마가 느껴집니다. 입에서는 산뜻한 사과, 모과, 배의 과일 풍미와 균형 잡힌 산미가 어우러지고, 입안을 감싸는 미네랄리티의 밸런스가 매력적인 와인입니다.   바디  탄닌  당도  산도', '핸들링': '적정온도 10-12 °C 와인잔 화이트 디캔팅 NO 적정시기 2021-2024'}\n",
      "{'대표 맛과 향': '매혹적인 적갈색을 보여주며 딸기, 라즈베리와 같은 베리류의 아로마가 인상적입니다. 완벽한 밸런스를 유지하는 우아하고 풍성한 말린 과일 아로마와 함께 호두와 스파이시함, 복합적인 과일향이 느껴지는 달콤한 피니쉬로 이어집니다. 풍부한 붉은 계열 과일 맛은 치즈,또는 초콜릿 케익과도 아주 잘 어울리는  마리아주를 이룹니다.   바디  탄닌 10  당도  산도', '핸들링': '적정온도 10-18 °C 와인잔 포트와인 디캔팅 NO 적정시기 2021-2030', '페어링': '초콜릿 케이크 치즈'}\n",
      "{'대표 맛과 향': '반짝이는 레드 루비 컬러에 산딸기, 체리 향과 붉은 꽃 향기가 오래 지속됩니다. 섬세하며 우아한 산도와 강인 하게 느껴지는 탄닌이 아주 매력적인 와인으로 구조감이 단단하여 입안에서는 묵직함을 느낄 수 있습니다.  바디 -- 1   탄닌    당도     &  산도', '핸들링': '적정온도 13°C 아로마 와인잔 콜렉터 디캔팅 30분 적정시기 2025-2033', '페어링': '소고기 요리 닭고기 요리'}\n",
      "{'대표 맛과 향': '옅은 오렌지빛이 비치는 연핑크 색상을 띄며, 산딸기와 블랙 커런트 과실의 향이 가득하고, 뒤이어 바닐라향과 말린 허브의 스파이시한 향이 더해집니다. 프레쉬하고  & 생동감 넘치는 산도 그리고 잘 다듬어진 탄닌이 와인에   풀바디감과 우아함을 동시에 더해줍니다.', '핸들링': '적정온도 8-10 °C 와인잔 플루트 디캔팅 NO', '와이너리이야기': '샴페인 팔머 샴페인, 프랑스 CHAMPAGNE Pdincr&Co. 1947년 샹파뉴 지역에서 최고의 샴페인 블렌드를 만들고자 가장 뛰어난 7명의 와인 재배자들이 모여 설립하였습니다. 이 7명의 와인 재배자들은 샹파뉴 AOC 중에서도 프리미에 크뤼와 그랑 크뤼 포도밭을 주로 소유하고 있는 인물입니다. 재능과 경험을 바탕으로 완벽한 하모니를 갖춘 세계적인 샴페인 브랜드인 Champagne Palmer & Co.를 개발했으며, 샴페인의 대표적인 개척자이자 선구자인 이들은 현재 랭스의 중심가에서 기반을 두고 있는 프리미엄 샴페인 브랜드로 샴페인 팔머를 키워내고 있습니다.'}\n",
      "{'대표 맛과 향': '   검붉은색을 띄는 이 와인은 진한 블루베리 잼과 잘 익은  체리 향이 인상적입니다. 따뜻한 향신료의 향이 은은히 이어지며, 부드러운 타닌이 입안을 매끄럽게 감싸고, 긴 여운은 입안을 오랫동안 즐겁게 합니다.', '핸들링': '적정온도 14-16 °C 와인잔 유니버설 디캔팅 30분'}\n",
      "{'대표 맛과 향': '놀랄만큼 생동감 있고 풍부한 질감의 볏짚빛 뫼르소는 시트러스 계열 과일, 구운 사과와 감초 사탕의 특별한 캐릭터가 잘 어우러집니다. 오크, 버터, 브리오슈 그리고  토스트 레이어링이 집중력 있는 산도와 즐거움을 주는   긴 피니쉬와 함께 이어집니다.', '핸들링': '적정온도 9-11 °C 와인잔 화이트 디캔팅 NO', '와이너리이야기': '도멘 미쉘롯 · 부르고뉴, 프랑스 오직 뫼르소만을 6세대동안 만들어온 뫼르소 장인인 도멘 미쉘은 뫼르소 프리미에 크뤼 4개와 빌라주 7개를 포함해 19헥타르(약 57,000평)를 소유하고 있습니다. 현 소유주 Jean-Francois Mestre는 건강이 좋지 않은 장인 Bernard Michelot로부터 2009년 와이너리를 이어받아 운영하며, 23살 젊은 와인 메이커이자 아들인 Nicolas Mestre가 와인 메이킹을 맡고 있습니다. 그는 젊지만 오히려 더욱 전통적 부르고뉴 스타일의 양조를 보여주고 있다는 평가를 받고 있으며, 순수한 샤르도네의 모습을 더욱 끌어내기 위하여 극소량의 와인은 암포라와 콘크리트 에그통 숙성을 거친 와인도 선보이고 있습니다.'}\n",
      "{'대표 맛과 향': '조금 낯설게도 느껴지는 풋풋하고 신선한 과일향과 -산도, 미네랄이 뚜렷히 느껴지는 와인으로 와인 애호가들에게 새로운 발견의 기쁨을 선사합니다. 44개 빈티지의 샤또 페트뤼스를 생산한 최고 양조 전문가 장 끌로드 베루에가  고향에서 생산하는 와인으로, 테루아와 와인 메이커의 개성을 담고 있습니다.    바디  탄닌  당도  산도', '핸들링': '적정온도 12 °C 와인잔 화이트 디캔팅 NO 적정시기 2025', '페어링': '치즈'}\n",
      "{'대표 맛과 향': \"연둣빛 테두리를 두른 샛노란 이 와인은 아오리 사과, 백도, 잔디, 멜론, 파인애플의 향과 버터, 오크, 바닐라   ' 생강, 헤이즐넛 캐릭터들이 잘 어우러져 있으며 살짝   짠듯한 피니쉬가 인상적입니다.\", '핸들링': '적정온도 9-11 °C 와인잔 화이트 디캔팅 NO', '와이너리이야기': '도멘 미쉘롯 · 부르고뉴, 프랑스 오직 뫼르소만을 6세대동안 만들어온 뫼르소 장인인 도멘 미쉘은 뫼르소 프리미에 크뤼 4개와 빌라주 7개를 포함해 19헥타르(약 57,000평)를 소유하고 있습니다. 현 소유주 Jean-Francois Mestre는 건강이 좋지 않은 장인 Bernard Michelot로부터 2009년 와이너리를 이어받아 운영하며, 23살 젊은 와인 메이커이자 아들인 Nicolas Mestre가 와인 메이킹을 맡고 있습니다. 그는 젊지만 오히려 더욱 전통적 부르고뉴 스타일의 양조를 보여주고 있다는 평가를 받고 있으며, 순수한 샤르도네의 모습을 더욱 끌어내기 위하여 극소량의 와인은 암포라와 콘크리트 에그통 숙성을 거친 와인도 선보이고 있습니다.'}\n",
      "{'대표 맛과 향': '짙은 레몬빛을 띄며 꿀에 절인 자몽청, 딱딱한 백도, 살구, 홍옥, 허브 캐릭터들이 뫼르소 특징인 부싯돌과 석회암의 힌트와 잘 어우러져 미네랄 위주 아름다움을 보여줍니다.  오크 캐릭터가 잘 녹아들어 섬세함이 느껴지고 아니스 씨, 토피와 구운 아몬드, 버터의 우아한 향미가 긴 여운까지   이어집니다.', '핸들링': '적정온도 9-11 °C 와인잔 화이트 디캔팅 NO', '와이너리이야기': '도멘 미쉘롯 · 부르고뉴, 프랑스 오직 뫼르소만을 6세대동안 만들어온 뫼르소 장인인 도멘 미쉘은 뫼르소 프리미에 크뤼 4개와 빌라주 7개를 포함해 19헥타르(약 57,000평)를 소유하고 있습니다. 현 소유주 Jean-Francois Mestre는 건강이 좋지 않은 장인 Bernard Michelot로부터 2009년 와이너리를 이어받아 운영하며, 23살 젊은 와인 메이커이자 아들인 Nicolas Mestre가 와인 메이킹을 맡고 있습니다. 그는 젊지만 오히려 더욱 전통적 부르고뉴 스타일의 양조를 보여주고 있다는 평가를 받고 있으며, 순수한 샤르도네의 모습을 더욱 끌어내기 위하여 극소량의 와인은 암포라와 콘크리트 에그통 숙성을 거친 와인도 선보이고 있습니다.'}\n",
      "{'대표 맛과 향': '청사과빛 테두리를 두른 볏짚색을 띄며 천도 복숭아, 29 서양배, 멜론, 오렌지 껍질에 얹힌 아카시아 꽃, 꿀  향미가 돋보이며 휘핑크림, 치즈와 버터 향미와 함께  비스킷, 헤이즐넛과 아몬드 향이 좋은 밸런스를 이루고   있습니다.', '핸들링': '적정온도 10-12°C 와인잔 화이트 디캔팅 NO', '와이너리이야기': '도멘 미쉘롯 · 부르고뉴, 프랑스 오직 뫼르소만을 6세대동안 만들어온 뫼르소 장인인 도멘 미쉘은 뫼르소 프리미에 크뤼 4개와 빌라주 7개를 포함해 19헥타르(약 57,000평)를 소유하고 있습니다. 현 소유주 Jean-Francois Mestre는 건강이 좋지 않은 장인 Bernard Michelot로부터 2009년 와이너리를 이어받아 운영하며, 23살 젊은 와인 메이커이자 아들인 Nicolas Mestre가 와인 메이킹을 맡고 있습니다. 그는 젊지만 오히려 더욱 전통적 부르고뉴 스타일의 양조를 보여주고 있다는 평가를 받고 있으며, 순수한 샤르도네의 모습을 더욱 끌어내기 위하여 극소량의 와인은 암포라와 콘크리트 에그통 숙성을 거친 와인도 선보이고 있습니다.'}\n",
      "{'대표 맛과 향': '빛나는 볏짚 색의 이 와인은 빨간 사과, 복숭아, 멜론,  레몬, 라임의 캐릭터에 적절한 산도와 오크, 바닐라, · 헤이즐넛 캐릭터가 어우러져 즐거움을 주며 장기   숙성이 가능한 와인입니다.', '핸들링': '적정온도 12-14 °C 와인잔 화이트 디캔팅 NO', '와이너리이야기': '도멘 미쉘롯 · 부르고뉴, 프랑스 오직 뫼르소만을 6세대동안 만들어온 뫼르소 장인인 도멘 미쉘은 뫼르소 프리미에 크뤼 4개와 빌라주 7개를 포함해 19헥타르(약 57,000평)를 소유하고 있습니다. 현 소유주 Jean-Francois Mestre는 건강이 좋지 않은 장인 Bernard Michelot로부터 2009년 와이너리를 이어받아 운영하며, 23살 젊은 와인 메이커이자 아들인 Nicolas Mestre가 와인 메이킹을 맡고 있습니다. 그는 젊지만 오히려 더욱 전통적 부르고뉴 스타일의 양조를 보여주고 있다는 평가를 받고 있으며, 순수한 샤르도네의 모습을 더욱 끌어내기 위하여 극소량의 와인은 암포라와 콘크리트 에그통 숙성을 거친 와인도 선보이고 있습니다.'}\n",
      "{'대표 맛과 향': '마르사네 지역 남서부 끝쪽 석회질 토양 영향으로 산도와 미네랄 캐릭터가 도드라집니다. 산뜻하고 신선한 복숭아, 멜론의 아로마가 지배적이며, 입에서는 매끄러운 질감을 느낄 수 있습니다. 미네랄리티와 더불어 부싯돌 뉘앙스와  산도의 통해 버건디 화이트 와인의 완벽한 절묘한 조화를     예시를 보입니다. 40년 이상 수령 올드바인 포도로 만든 도멘 마크 로이의 대표 화이트 와인입니다.', '핸들링': '적정온도 8-10°C 와인잔 화이트 디캔팅 NO', '와이너리이야기': '도멘 마크로이 · 부르고뉴, 프랑스 도멘 마크로이 현 와인메이커 알렉산드리느 로이는 지브리 Domaine Marc ROY 샹베르땡과 마르사네 지역에 위치한 로이 가문의 포도밭을 4대째 운영하고 있습니다. 4헥타르에 불과한 소규모 밭이나 개인 정원처럼 최고의 노력으로 포도를 재배하고 있습니다. 대부분의 나무가 100년 이상의 수령을 가진 올드바인 밭을 관리하는데 있어 알렉산드린느 로이는 진정한 농부의 자세로 끊임없이 밭을 갈고 뿌리를 관리하는 등 포도 자체의 품질 향상에 최선의 노력을 다하고 있으며, 최고 품질의 포도를 통해 세계적으로 인정받는 사랑스럽고 우아한 와인을 생산 하고 있습니다.'}\n",
      "{'대표 맛과 향': '맑고 부드러운 복숭아 컬러로 꽃밭을 거닐며 갓 따온 과일의 강렬하고 매력적인 향기, 잘 익은 파인애플, 상큼한 배, 딸기 향이 인상적입니다. 첫 맛부터 혀 전체에 걸쳐 상쾌함을 느낄  수 있으며 깨끗한 피니쉬와 균형을 이루는 신선한 레드 과실,  9  열대과일의 산도가 만나 훌륭한 밸런스를 선보입니다.', '핸들링': '적정온도 10 °C 와인잔 유니버설 디캔팅 NO'}\n",
      "{'대표 맛과 향': '잘 익은 체리빛 컬러로 코에서는 강렬하고 복합적인 아로마를 느낄 수 있습니다. 블랙커런트, 카시스, 바이올렛 꽃, 정향, 넛맥, 타바코, 로즈마리등의 향이 조화를 이루며 입 안에서는 균형 잡히고 탄탄한 조화가 잘 이뤄진 탄닌감과 생기 넘치는 탄닌, 깊이감을 느낄 수 있는 와인입니다.', '핸들링': '적정온도 16-18°C 와인잔 유니버설 디캔팅 60분'}\n",
      "{'대표 맛과 향': ' 연한 페일 핑크빛을 띄고 라벤더, 라즈베리, 스트로베리, 시트러스향이 느껴집니다. 크리스피한 산미가 인상적이며 흰 후추의 신선함이 밸런스를 맞춥니다. 피니쉬 쥬시함을 느낄 수 있는 와인으로 즐기기 편한 와인입니다.', '핸들링': '적정온도 8-10°C 아로마 와인잔 콜렉터 디캔팅 30분'}\n",
      "{'대표 맛과 향': '토치한 레몬과 라임 그리고 꿀에 살짝 스치듯 졸인 천도 복숭아, 아카시아 꽃 꿀, 베르가못, 로즈페탈 등 아름다운 캐릭터들이 재단한 듯이 윤곽이 뚜렷한 산도와 정확한    밸런스를 이룹니다. 살짝 짠듯한 부싯돌 미네랄리티가    긴 여운이 돋보이며 복합성과 풍만함이 극대화 되도록 장기숙성이 가능한 와인입니다.', '핸들링': '적정온도 12-15 °C 와인잔 화이트 디캔팅 NO', '와이너리이야기': '트림 바크 · 보르도, 프랑스 TRIMBACH \"정통 알자스 와인\" 명가로 알려져 있는 트림바크 가문은 1626년부터 약400년에 걸쳐 현재 13대째 가족 경영으로 운영되고 있습니다. 1898년 프레데릭 에밀 트림바크가 브뤼셀 국제 박람회에 와인을 출품해 인정을 받게 되면서 알자스 와인의 명가로 세계적인 명성을 쌓았으며 프랑스 27개 Michelin 3스타 레스토랑에 모두 리스팅된 유일한 프랑스 와인 브랜드 입니다.'}\n",
      "{'대표 맛과 향': '깊은 루비 컬러로 레드베리류의 아로마와 스모키함, 코 끝에는  스위트한 스파이스의 향이 느껴집니다. 입 안에선 꽉찬 질감을 느낄 수 있으며 블랙베리, 블랙커런트, 바이올렛꽃, 후추, 정향, 토바코가 느껴지며 긴 피니쉬와 복합미, 산미가 인상적입니다.', '핸들링': '적정온도 16-18°C 와인잔 유니버설 디캔팅 60분'}\n",
      "{'대표 맛과 향': '연한 핑크빛으로 말린 시트러스의 농축된 향과 풍미가 느껴지며 입 안에서는 설탕을 입힌 배 그리고 파인애플  풍미, 크리미한 피니쉬와 풍부한 향신료가 느껴지는 강렬하고 우아한 와인입니다.', '핸들링': '적정온도 10-12 °C 와인잔 화이트 디캔팅 NO', '와이너리이야기': \"샤또 데스클랑 · 프로방스, 프랑스 Chiteau 가장 상징적인 프로방스 로제 와인의 생산자입니다. D'ESCLANS 현대적인 와인 메이킹 기법으로 풍부하고 과일이 두드러지는 새로운 스타일의 로제 와인을 선보입니다.\"}\n",
      "{'대표 맛과 향': '빛나고 투명한 옅은 핑크빛으로 섬세한 레드베리, 스파이스,  꽃향이 느껴집니다. 입 안에서는 오크 터치가 크림같은 질감을 더하며 단단한 산미와 길고 매끄러운 피니쉬가 인상적입니다.', '핸들링': '적정온도 10-12 °C 와인잔 화이트 디캔팅 NO', '와이너리이야기': \"샤또 데스클랑 · 프로방스, 프랑스 Chiteau 가장 상징적인 프로방스 로제 와인의 생산자입니다. D'ESCLANS 현대적인 와인 메이킹 기법으로 풍부하고 과일이 두드러지는 새로운 스타일의 로제 와인을 선보입니다.\"}\n",
      "{'대표 맛과 향': '  10년의 세월을 거쳐 숙성을 마친 돔페리뇽 로제는 뚜렷하고 선명한 빛깔, 생기발랄하며 섬세한 향기로 마음을 사로잡습니다.', '핸들링': '적정온도 8-10°C 와인잔 플루트 디캔팅 NO', '와이너리이야기': '돔페리뇽 · 샴페인, 프랑스 Dom Perignon 럭셔리의 가능성을 처음으로 발견한 돔 페리뇽 수사는 그의 일생을 바쳐 연구한 정제술과 제조기법으로 현재 우리가 말하는 샴페인 제조법의 기반을 다져졌습니다. 현재 럭셔리한 샴페인, 가장 살아있는 관능미를 느낄 수 있는 세계 최고의 와인입니다.'}\n",
      "{'대표 맛과 향': '금빛과 초롯빛으로 반짝거리는 연한 노란색이  아름다운 샴페인으로 미네랄리티와 라이트한     스모키함, 자몽, 흰꽃, 브리오쉬가 느껴집니다. 청량한 미네랄감이 입 안을 감쌉니다.', '핸들링': '적정온도 8-10°C 와인잔 플루트 디캔팅 NO'}\n",
      "{'대표 맛과 향': '&  각 연도에 생산된 포도에 대한 모엣 & 샹동 셀러 마스터의 자유롭고 개인적 해석이 담겨있습니다. 2023 2023 한 해에 생산된 포도의 특성을 독특하게 표현해 냈습니다.', '핸들링': '적정온도 8-10°C 와인잔 플루트 디캔팅 NO', '와이너리이야기': '모엣 샹동 · 샴페인, 프랑스 MOET&CHANDON 1743년 창립된 모엣&샹동은 \"샴페인의 마법을 세상에 나눈다\"는 신조에 따라 모든 자리에 어울리는 개성 넘치는 샴페인들을 선보여온 오늘날 세계에서 가장 사랑받는 샴페인 중 하나입니다.'}\n",
      "{'대표 맛과 향': '토치된 레몬과 라임, 레몬 꽃, 사과, 레몬 그라스와 유자,  오렌지 잎에 곁들여진 크림, 브리오슈, 견과류, 바닐라빈  캐릭터가 아름답습니다. 중간정도의 산도와 스모키함이   느껴지는 긴 와인의 생동감과 균형감을 피니쉬가 놀라윤   살려줍니다.', '핸들링': '적정온도 10-12°C 와인잔 화이트 디캔팅 NO', '와이너리이야기': '도멘 미쉘롯 · 부르고뉴, 프랑스 오직 뫼르소만을 6세대동안 만들어온 뫼르소 장인인 도멘 미쉘은 뫼르소 프리미에 크뤼 4개와 빌라주 7개를 포함해 19헥타르(약 57,000평)를 소유하고 있습니다. 현 소유주 Jean-Francois Mestre는 건강이 좋지 않은 장인 Bernard Michelot로부터 2009년 와이너리를 이어받아 운영하며, 23살 젊은 와인 메이커이자 아들인 Nicolas Mestre가 와인 메이킹을 맡고 있습니다. 그는 젊지만 오히려 더욱 전통적 부르고뉴 스타일의 양조를 보여주고 있다는 평가를 받고 있으며, 순수한 샤르도네의 모습을 더욱 끌어내기 위하여 극소량의 와인은 암포라와 콘크리트 에그통 숙성을 거친 와인도 선보이고 있습니다.'}\n",
      "{'대표 맛과 향': '균형 잡힌 산도와 부드럽고 세련된 탄닌이 특징으로 소량의 메를로가 구조감을 지니면서도 복합적인 맛을 선사해줍니다. 14  다크 레드, 블랙 아로마가 특징인 풍부하고 육즙이 많은 레드 와인으로 탄닌과 오크 터치가 조화를 이루는 즐거운 마무리의 와인입니다.', '핸들링': '적정온도 15-20 °C 와인잔 버사이즈 디캔팅 1시간', '와이너리이야기': '샤또 생 미셸 · 워싱턴, 미국 Chatcadeffedelle 미국 와인의 기준을 세운 최초의 워싱턴 프리미엄 와인 브랜드로 워싱턴의 포도 재배와 양조의 역사 그 자체이며 워싱턴을 넘어 전 세계적으로 성공한 와인 그룹으로 손꼽힙니다. 워싱턴에서 가장 오래된 포도나무가 있는 콜드 크릭 빈야드를 소유하고 있어 와인에서 노련미, 숙성미를 동시에 느낄 수 있습니다. 또한 콜럼비아 밸리가 가진 다양한 매력의 와인을 선보이기로 유명합니다. 샤또 생 미셸은 단조로웠던 캘리포니아 위주의 미국 와인에서 벗어나 새로운 척도를 마련한 워싱턴주 1위 와이너리 입니다.'}\n",
      "{'대표 맛과 향': '2020 빈티지는 기온이 평균보다 따뜻하여 긴 숙성시간을 통해 좋은 향미를 자아내고, 최소의 강우량으로 평균보다 수확량이 낮아 풍미가 고농축된 고품질의 포도를 탄생시켰 14        습니다. 감귤류와 열대 과일의 향으로 시작하여 구스베리, 자몽과 구아바의 신선하고 육즙이 풍부한 피니시로 이어 집니다.', '핸들링': '적정온도 7-12 °C 와인잔 화이트 디캔팅 NO', '와이너리이야기': '샤또 생 미셸 · 워싱턴, 미국 Chatcadeffedelle 미국 와인의 기준을 세운 최초의 워싱턴 프리미엄 와인 브랜드로 워싱턴의 포도 재배와 양조의 역사 그 자체이며 워싱턴을 넘어 전 세계적으로 성공한 와인 그룹으로 손꼽힙니다. 워싱턴에서 가장 오래된 포도나무가 있는 콜드 크릭 빈야드를 소유하고 있어 와인에서 노련미, 숙성미를 동시에 느낄 수 있습니다. 또한 콜럼비아 밸리가 가진 다양한 매력의 와인을 선보이기로 유명합니다. 샤또 생 미셸은 단조로웠던 캘리포니아 위주의 미국 와인에서 벗어나 새로운 척도를 마련한 워싱턴주 1위 와이너리 입니다.'}\n",
      "{'대표 맛과 향': '아주 연한 핑크빛의 와인으로 섬세한 향이 인상적입니다. 코에서는 신선한 레드베리와 꽃 향이 느껴지며 구조적인  풍미와 자몽의 신선한 산미가 느껴지는, 입 안을 깔끔하게 만들어주는 즐기기 쉬운 와인입니다.', '핸들링': '적정온도 8-10°C 아로마 와인잔 콜렉터 디캔팅 30분', '와이너리이야기': \"샤또 데스클랑 · 프로방스, 프랑스 Chiteau 가장 상징적인 프로방스 로제 와인의 생산자입니다. D'ESCLANS 현대적인 와인 메이킹 기법으로 풍부하고 과일이 두드러지는 새로운 스타일의 로제 와인을 선보입니다.\"}\n",
      "{'대표 맛과 향': ' & &  딸기와 붉은 까치밥 나무의 풍부한 향이 주를 이루는 매혹적인 로제 샴페인입니다. &', '핸들링': 'r 디캔팅 8-10°C 적정온도 플루트 와인잔 NO', '와이너리이야기': '모엣 샹동 · 샴페인, 프랑스 MOET&CHANDON 1743년 창립된 모엣&샹동은 \"샴페인의 마법을 세상에 나눈다\"는 신조에 따라 모든 자리에 어울리는 개성 넘치는 샴페인들을 선보여온 오늘날 세계에서 가장 사랑받는 샴페인 중 하나입니다.'}\n",
      "{'대표 맛과 향': '풍부한 풍미와 상쾌한 산도를 지난 포도를 생산해내며 해당 빈티지의 생산 시기는 건강한 토양과 포도가 재배되기 좋은 적당한 기온이 유지되어 적당한 산도와 함께 아름다운 과일 풍미, 향을 만듭니다. 상쾌하고 가벼운 스타일의 샤르도네로 달콤한 라임, 배의 아로마 그리고 스파이스 함이 느껴집니다. 14  과실감과 당도가 어우러져 버터, 카라멜, 바닐라의 느낌을 만들어 내는 특징을 가지고 있습다.', '핸들링': '적정온도 7-12 °C 와인잔 아로마 콜렉터 디캔팅 NO', '와이너리이야기': '샤또 생 미셸 · 워싱턴, 미국 Chatcadeffedelle 미국 와인의 기준을 세운 최초의 워싱턴 프리미엄 와인 브랜드로 워싱턴의 포도 재배와 양조의 역사 그 자체이며 워싱턴을 넘어 전 세계적으로 성공한 와인 그룹으로 손꼽힙니다. 워싱턴에서 가장 오래된 포도나무가 있는 콜드 크릭 빈야드를 소유하고 있어 와인에서 노련미, 숙성미를 동시에 느낄 수 있습니다. 또한 콜럼비아 밸리가 가진 다양한 매력의 와인을 선보이기로 유명합니다. 샤또 생 미셸은 단조로웠던 캘리포니아 위주의 미국 와인에서 벗어나 새로운 척도를 마련한 워싱턴주 1위 와이너리 입니다.'}\n",
      "{'대표 맛과 향': '균형 잡힌 산도와 부드럽고 우아한 탄닌이 어우러진 과일향 14 메를로 와인입니다. 블랙베리와 자두, 체리, 모카의 풍부한 풍미와 아로마로 가득하며 잘 구조화된 균형 있는 와인으로 음식에 곁들여 마시기 편합니다.', '핸들링': '적정온도 15-20 °C 와인잔 버사이즈 디캔팅 30분', '와이너리이야기': '샤또 생 미셸 · 워싱턴, 미국 Chatcadeffedelle 미국 와인의 기준을 세운 최초의 워싱턴 프리미엄 와인 브랜드로 워싱턴의 포도 재배와 양조의 역사 그 자체이며 워싱턴을 넘어 전 세계적으로 성공한 와인 그룹으로 손꼽힙니다. 워싱턴에서 가장 오래된 포도나무가 있는 콜드 크릭 빈야드를 소유하고 있어 와인에서 노련미, 숙성미를 동시에 느낄 수 있습니다. 또한 콜럼비아 밸리가 가진 다양한 매력의 와인을 선보이기로 유명합니다. 샤또 생 미셸은 단조로웠던 캘리포니아 위주의 미국 와인에서 벗어나 새로운 척도를 마련한 워싱턴주 1위 와이너리 입니다.'}\n"
     ]
    }
   ],
   "source": [
    "ocr_file_root_path = './winenara_scrapy/assets/ocr_results/'\n",
    "ocr_file_list = os.listdir(ocr_file_root_path)\n",
    "\n",
    "for data in data_list:\n",
    "    if data['name']+'.json' in ocr_file_list:\n",
    "        with open(os.path.join(ocr_file_root_path, data['name']+'.json'), encoding='utf-8') as f:\n",
    "            ocr_result = json.load(f)\n",
    "        print(ocr_result)"
   ]
  },
  {
   "cell_type": "code",
   "execution_count": 43,
   "metadata": {},
   "outputs": [],
   "source": [
    "with open('./data/unified_wine_data.json', 'w', encoding='utf-8') as json_file:\n",
    "    for data in data_list:\n",
    "        json_file.write(json.dumps(data, ensure_ascii=False) + '\\n')"
   ]
  },
  {
   "attachments": {},
   "cell_type": "markdown",
   "metadata": {},
   "source": [
    "## 와인앤모어 크롤링"
   ]
  },
  {
   "attachments": {},
   "cell_type": "markdown",
   "metadata": {},
   "source": [
    "와인앤모어 크롤링을 위해서는 [Selenium](https://selenium-python.readthedocs.io/)을 사용한다.\n",
    "\n",
    "Scrapy를 사용해서도 할 수 있다.(아마도?) 근데 나는 scrapy로 로그인과 성인인증을 뚫지 못해서 사람이 브라우저와 interaction하는 것과 비슷한 Selenium을 사용하였다."
   ]
  },
  {
   "cell_type": "code",
   "execution_count": 4,
   "metadata": {},
   "outputs": [],
   "source": [
    "import os\n",
    "from time import sleep\n",
    "import configparser\n",
    "\n",
    "from tqdm import tqdm\n",
    "from selenium import webdriver\n",
    "from selenium.webdriver.common.keys import Keys\n",
    "from webdriver_manager.chrome import ChromeDriverManager\n",
    "from selenium.webdriver.common.by import By\n",
    "from selenium.webdriver.support.ui import WebDriverWait\n",
    "from selenium.webdriver.support import expected_conditions as EC"
   ]
  },
  {
   "attachments": {},
   "cell_type": "markdown",
   "metadata": {},
   "source": [
    "아래 코드를 실행하면 크롬이 열리고, 와인앤모어 로그인 페이지로 접속하게 된다."
   ]
  },
  {
   "cell_type": "code",
   "execution_count": 14,
   "metadata": {},
   "outputs": [
    {
     "name": "stderr",
     "output_type": "stream",
     "text": [
      "[WDM] - Downloading: 100%|██████████| 6.30M/6.30M [00:00<00:00, 21.5MB/s]\n",
      "C:\\Users\\chois\\AppData\\Local\\Temp\\ipykernel_17584\\3443994688.py:2: DeprecationWarning: executable_path has been deprecated, please pass in a Service object\n",
      "  driver = webdriver.Chrome(ChromeDriverManager().install())\n"
     ]
    }
   ],
   "source": [
    "# Setup the driver. This one uses chrome with some options and a path to the chromedriver\n",
    "driver = webdriver.Chrome(ChromeDriverManager().install())\n",
    "\n",
    "# implicitly_wait tells the driver to wait before throwing an exception\n",
    "driver.implicitly_wait(30)\n",
    "\n",
    "# go to the login page\n",
    "driver.get('https://www.wineandmore.co.kr/member/login.php') # 와인앤모어 로그인페이지 접속"
   ]
  },
  {
   "attachments": {},
   "cell_type": "markdown",
   "metadata": {},
   "source": [
    "로컬파일로부터 와인앤모어 아이디, 비밀번호 가져오기"
   ]
  },
  {
   "cell_type": "code",
   "execution_count": 10,
   "metadata": {},
   "outputs": [
    {
     "data": {
      "text/plain": [
       "['./secrets.ini']"
      ]
     },
     "execution_count": 10,
     "metadata": {},
     "output_type": "execute_result"
    }
   ],
   "source": [
    "config = configparser.ConfigParser()\n",
    "config.read('./secrets.ini')"
   ]
  },
  {
   "cell_type": "code",
   "execution_count": 11,
   "metadata": {},
   "outputs": [],
   "source": [
    "wineandmore_id = config['WINE_AND_MORE']['ID']\n",
    "wineandmore_password = config['WINE_AND_MORE']['PASSWORD']"
   ]
  },
  {
   "attachments": {},
   "cell_type": "markdown",
   "metadata": {},
   "source": [
    "아래 코드를 실행하면 아이디, 패스워드를 입력하는 부분이 채워진다."
   ]
  },
  {
   "cell_type": "code",
   "execution_count": 15,
   "metadata": {},
   "outputs": [
    {
     "name": "stderr",
     "output_type": "stream",
     "text": [
      "C:\\Users\\chois\\AppData\\Local\\Temp\\ipykernel_17584\\600041264.py:2: DeprecationWarning: find_element_by_* commands are deprecated. Please use find_element() instead\n",
      "  username = driver.find_element_by_id(\"loginId\")\n",
      "C:\\Users\\chois\\AppData\\Local\\Temp\\ipykernel_17584\\600041264.py:3: DeprecationWarning: find_element_by_* commands are deprecated. Please use find_element() instead\n",
      "  password = driver.find_element_by_id(\"loginPwd\")\n",
      "C:\\Users\\chois\\AppData\\Local\\Temp\\ipykernel_17584\\600041264.py:10: DeprecationWarning: find_element_by_class_name is deprecated. Please use find_element(by=By.CLASS_NAME, value=name) instead\n",
      "  driver.find_element_by_class_name('member_login_order_btn').click()\n"
     ]
    }
   ],
   "source": [
    "# the driver.get method will navigate to a page given by the URL\n",
    "username = driver.find_element_by_id(\"loginId\")\n",
    "password = driver.find_element_by_id(\"loginPwd\")\n",
    "\n",
    "# Target the form elements and send_keys to simulate key strokes\n",
    "username.send_keys(wineandmore_id)\n",
    "password.send_keys(wineandmore_password)\n",
    "\n",
    "# Submit form\n",
    "driver.find_element_by_class_name('member_login_order_btn').click()\n",
    "\n",
    "# Allow time for the website to load\n",
    "sleep(5)"
   ]
  },
  {
   "attachments": {},
   "cell_type": "markdown",
   "metadata": {},
   "source": [
    "### 상품목록페이지에서 각 상품 상세페이지 링크 추출\n",
    "\n",
    "상품리스트 페이지는 다음과 같은 url구조를 갖고있다. idx에 페이지 번호가 들어가게된다.\n",
    "\n",
    "https://www.wineandmore.co.kr/goods/goods_list.php?page={idx}&cateCd=001\n",
    "\n",
    "페이지는 1~28까지 있으므로 순회하며 크롤링한다.(정말 나중에는 바꿔줘야하는 안좋은 코드다..)\n",
    "\n",
    "<img src=\"./assets/wineandmore_mainpage.png\" width=\"500\" height=\"500\">"
   ]
  },
  {
   "attachments": {},
   "cell_type": "markdown",
   "metadata": {},
   "source": [
    "### 상품 상세페이지에서 와인 데이터 가져오기\n",
    "<img src=\"./assets/wineanndmore_detailpage.png\" width=\"800\" height=\"500\">"
   ]
  },
  {
   "attachments": {},
   "cell_type": "markdown",
   "metadata": {},
   "source": [
    "위의 이미지는 와인앤모어의 상세페이지이다. 상세페이지로부터 아래의 값들을 가져온다.\n",
    "- url: 해당 페이지의 url\n",
    "- name: 한글 이름\n",
    "- price: 가격\n",
    "- feature_img_url: 와인에 대한 상세 정보가 담겨있는 이미지 url\n",
    "- img_url: 이미지 url 리스트\n",
    "- pickup_info: 해당 와인의 픽업이나 구매가 가능한 와인앤모어 오프라인 매장"
   ]
  },
  {
   "attachments": {},
   "cell_type": "markdown",
   "metadata": {},
   "source": [
    "예를 들어 위의 이미지에 대해서는 아래와 같이 만들어진다.\n",
    "```json\n",
    "\"url\": \"https://www.wineandmore.co.kr/goods/goods_view.php?goodsNo=1000002401\", \n",
    "\"name\": \"장 미셸 기불로 사비니 레 본 블랑\", \n",
    "\"price\": \"53,000\", \n",
    "\"feature_img_url\": \"https://shinsegaelnb.cdn-nhncommerce.com/data/editor/goods/230426/f2dcc9b3248c7d163cbb29c4d452cb4b_173014.jpg\",\n",
    "\"img_url\": \"https://shinsegaelnb.cdn-nhncommerce.com/data/goods/23/02/08/1000002401/1000002401_detail_048.jpg\", \n",
    "\"pickup_info\": [\"와인앤모어 교대역점\", \"와인앤모어 다산점\", \"와인앤모어 서울대입구역점\", \"와인앤모어 스타필드 위례점\", \"와인앤모어 여의도점\"]\n",
    "```"
   ]
  },
  {
   "attachments": {},
   "cell_type": "markdown",
   "metadata": {},
   "source": [
    "여기서 feature_img_url이라는 것이 있는데, 이는 아래 사진과 같다. 나중에 OCR을 통해 데이터를 뽑아와야한다.\n",
    "\n",
    "<img src=\"./assets/wineandmore_feature_img.png\" width=\"500\" height=\"500\">"
   ]
  },
  {
   "attachments": {},
   "cell_type": "markdown",
   "metadata": {},
   "source": [
    "아래 함수는 상세페이지에서 데이터를 가져오는 코드이다."
   ]
  },
  {
   "cell_type": "code",
   "execution_count": null,
   "metadata": {},
   "outputs": [],
   "source": [
    "def get_detail_info(detail_url):\n",
    "    driver.get(detail_url)\n",
    "    # Allow time for the website to load\n",
    "    sleep(10)\n",
    "    data_dict = {}\n",
    "    data_dict['url'] = driver.current_url\n",
    "\n",
    "    name = driver.find_element(By.CSS_SELECTOR, \".item_detail_tit h3\")\n",
    "    data_dict['name'] = name.text if name else \"\"\n",
    "\n",
    "    price = driver.find_element(By.CSS_SELECTOR, \"dl.item_price strong strong\")\n",
    "    data_dict['price'] = price.text if price else \"\"\n",
    "\n",
    "    data_dict['feature_img_url'] = driver.find_elements(By.CSS_SELECTOR, '.js-smart-img')[3].get_attribute('src')\n",
    "\n",
    "    img_url = driver.find_element(By.CSS_SELECTOR, \".zoom_layer_open img.middle\")\n",
    "    data_dict['img_url'] = img_url.get_attribute('src')\n",
    "\n",
    "    pickup_info_list = driver.find_elements(By.CSS_SELECTOR, \".form_element select option\")\n",
    "    data_dict['pickup_info'] = [pickup_info.text for pickup_info in pickup_info_list if pickup_info.text != \"매장선택\"]\n",
    "\n",
    "    return data_dict"
   ]
  },
  {
   "attachments": {},
   "cell_type": "markdown",
   "metadata": {},
   "source": [
    "아래 코드를 실행하면 페이지를 순회하면 크롤링을 진행하고, 이를 data_list에 저장한다."
   ]
  },
  {
   "cell_type": "code",
   "execution_count": null,
   "metadata": {},
   "outputs": [],
   "source": [
    "# Navigate to product list page\n",
    "data_list = []\n",
    "for idx in range(1, 29):\n",
    "    driver.get(f'https://www.wineandmore.co.kr/goods/goods_list.php?page={idx}&cateCd=001')\n",
    "    sleep(10)\n",
    "    product_links = driver.find_elements_by_css_selector(\"div.item_photo_box a\")\n",
    "    links = set()\n",
    "    for link in product_links:\n",
    "        links.add(link.get_attribute('href'))\n",
    "    for detail_url in tqdm(links):\n",
    "        data_list.append(get_detail_info(detail_url))"
   ]
  },
  {
   "attachments": {},
   "cell_type": "markdown",
   "metadata": {},
   "source": [
    "아래 코드를 통해 수집한 데이터를 [json 파일](./wine_and_more.json)로 저장한다."
   ]
  },
  {
   "cell_type": "code",
   "execution_count": null,
   "metadata": {},
   "outputs": [],
   "source": [
    "import json\n",
    "\n",
    "with open('wine_data.json', 'w', encoding='utf-8') as json_file:\n",
    "    for data in data_list:\n",
    "        json_file.write(json.dumps(data, ensure_ascii=False) + '\\n')"
   ]
  },
  {
   "cell_type": "code",
   "execution_count": 16,
   "metadata": {},
   "outputs": [],
   "source": [
    "driver.close()"
   ]
  },
  {
   "attachments": {},
   "cell_type": "markdown",
   "metadata": {},
   "source": [
    "## CU 와인 크롤링"
   ]
  },
  {
   "attachments": {},
   "cell_type": "markdown",
   "metadata": {},
   "source": [
    "PocketCU라는 CU편의점 재고를 확인하는 앱이있다. 다행히 이 앱을 웹에서도 확인할 수 있다. 크게 아래의 3가지 url로 확인가능하다.\n",
    "- 지도에서 아이템 재고 확인: [https://www.pocketcu.co.kr/search/stock?isRecommend=Y&item_cd={아이템id}](https://www.pocketcu.co.kr/search/stock?isRecommend=Y&item_cd=5011007015534)\n",
    "\n",
    "<img src=\"./assets/cu_map.png\" width=250 height=350>\n",
    "\n",
    "- 아이템이름으로 검색: [https://www.pocketcu.co.kr/search/total/product/cubar?searchWord={아이템이름}](https://www.pocketcu.co.kr/search/total/product/cubar?searchWord=%EC%9C%84%EC%8A%A4%ED%82%A4)\n",
    "\n",
    "<img src=\"./assets/cu_itemlist.png\" width=250 height=350>\n",
    "\n",
    "- 특정 매장에 어떤 아이템의 재고 확인: [https://www.pocketcu.co.kr/search/stock/storeItems/{점포id}?searchWord={아이템이름}](https://www.pocketcu.co.kr/search/stock/storeItems/04456?searchWord=%EC%A0%9C%EC%9E%84%EC%8A%A8)\n",
    "\n",
    "<img src=\"./assets/cu_detailpage.png\" width=250 height=350>"
   ]
  }
 ],
 "metadata": {
  "kernelspec": {
   "display_name": "nemo",
   "language": "python",
   "name": "python3"
  },
  "language_info": {
   "codemirror_mode": {
    "name": "ipython",
    "version": 3
   },
   "file_extension": ".py",
   "mimetype": "text/x-python",
   "name": "python",
   "nbconvert_exporter": "python",
   "pygments_lexer": "ipython3",
   "version": "3.10.11"
  },
  "orig_nbformat": 4
 },
 "nbformat": 4,
 "nbformat_minor": 2
}
