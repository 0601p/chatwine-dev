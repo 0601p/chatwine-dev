{
 "cells": [
  {
   "cell_type": "markdown",
   "metadata": {},
   "source": [
    "unifiew_wine_data.json과 vivino_link_processed와 같은 와인 찾기"
   ]
  },
  {
   "cell_type": "code",
   "execution_count": 1,
   "metadata": {},
   "outputs": [],
   "source": [
    "unified_file_path = './data/unified_wine_data.json'\n",
    "vivino_file_path = './data/vivino_processed.json'"
   ]
  },
  {
   "cell_type": "code",
   "execution_count": 2,
   "metadata": {},
   "outputs": [],
   "source": [
    "import json\n",
    "import pandas as pd"
   ]
  },
  {
   "cell_type": "code",
   "execution_count": 3,
   "metadata": {},
   "outputs": [],
   "source": [
    "unified_wine_list = []\n",
    "with open(unified_file_path, 'r', encoding='utf-8') as f:\n",
    "    for line in f:\n",
    "        unified_wine_list.append(json.loads(line))\n"
   ]
  },
  {
   "cell_type": "code",
   "execution_count": 10,
   "metadata": {},
   "outputs": [
    {
     "name": "stdout",
     "output_type": "stream",
     "text": [
      "{'url': 'https://www.winenara.com/shop/product/product_view?product_cd=02A915', 'site_name': 'winenara', 'price': '1100000', 'name': '아르망 드 브리냑 브룻 골드', 'en_name': 'Armand De Brignac Brut Gold', 'img_url': 'https://www.winenara.com/uploads/product/550/5d34562dced8f6af44a5bc1a072a7898.png', 'body': -1, 'acidity': '', 'tannin': '', 'sweetness': 2, 'alcohol': -1, 'wine_type': '스파클링', 'country': '프랑스', 'grape': '', 'rating': '4.4', 'pickup_location': '', 'vivino_link': 'https://www.vivino.com/US-CA/en/armand-de-brignac-brut-champagne-gold/w/2240674?ref=nav-search', 'flavor_description': '전통 샴페인의 진수를 보여주는 와인으로, 복합적이며 풀바디한 느낌이 압도적입니다. 프레쉬하면서도 생생한 아로마 중에서도 특히 은은한 꽃향기가 매력적입니다. 섬세한 과일향은 고소한 브리오슈향과 완벽히 어우러지며, 크리미한 텍스쳐는 놀라운 깊이감과 긴 여운을 보여줍니다.', 'pairing': '기름진 생선 요리, 돼지고기 요리', 'id': 3}\n"
     ]
    }
   ],
   "source": [
    "print(unified_wine_list[2])"
   ]
  },
  {
   "cell_type": "code",
   "execution_count": 4,
   "metadata": {},
   "outputs": [],
   "source": [
    "from vivino import get_driver, vivino_search"
   ]
  },
  {
   "cell_type": "code",
   "execution_count": 5,
   "metadata": {},
   "outputs": [],
   "source": [
    "driver = get_driver()"
   ]
  },
  {
   "cell_type": "code",
   "execution_count": 8,
   "metadata": {},
   "outputs": [
    {
     "ename": "KeyboardInterrupt",
     "evalue": "",
     "output_type": "error",
     "traceback": [
      "\u001b[1;31m---------------------------------------------------------------------------\u001b[0m",
      "\u001b[1;31mKeyboardInterrupt\u001b[0m                         Traceback (most recent call last)",
      "Cell \u001b[1;32mIn[8], line 3\u001b[0m\n\u001b[0;32m      1\u001b[0m \u001b[39mfor\u001b[39;00m wine \u001b[39min\u001b[39;00m unified_wine_list:\n\u001b[0;32m      2\u001b[0m     wine_en_name \u001b[39m=\u001b[39m wine[\u001b[39m'\u001b[39m\u001b[39men_name\u001b[39m\u001b[39m'\u001b[39m]\u001b[39m.\u001b[39mreplace(\u001b[39m'\u001b[39m\u001b[39m \u001b[39m\u001b[39m'\u001b[39m, \u001b[39m'\u001b[39m\u001b[39m-\u001b[39m\u001b[39m'\u001b[39m)\n\u001b[1;32m----> 3\u001b[0m     vivino_search(drvier, name\u001b[39m=\u001b[39;49mwine_en_name)\n",
      "File \u001b[1;32mc:\\Users\\chois\\Desktop\\chatwine\\vivino.py:31\u001b[0m, in \u001b[0;36mvivino_search\u001b[1;34m(driver, name, country, state, minPrice, maxPrice, noPriceIncluded, minRatings, maxRatings, minAverage, maxAverage)\u001b[0m\n\u001b[0;32m     29\u001b[0m \u001b[39m# Go to the search page\u001b[39;00m\n\u001b[0;32m     30\u001b[0m driver\u001b[39m.\u001b[39mget(\u001b[39mf\u001b[39m\u001b[39m'\u001b[39m\u001b[39mhttps://www.vivino.com/search/wines?q=\u001b[39m\u001b[39m{\u001b[39;00mname\u001b[39m}\u001b[39;00m\u001b[39m&start=\u001b[39m\u001b[39m{\u001b[39;00mindex\u001b[39m}\u001b[39;00m\u001b[39m'\u001b[39m)\n\u001b[1;32m---> 31\u001b[0m time\u001b[39m.\u001b[39;49msleep(\u001b[39m2\u001b[39;49m)  \u001b[39m# ensure page load\u001b[39;00m\n\u001b[0;32m     33\u001b[0m \u001b[39m# Collect items\u001b[39;00m\n\u001b[0;32m     34\u001b[0m soup \u001b[39m=\u001b[39m BeautifulSoup(driver\u001b[39m.\u001b[39mpage_source, \u001b[39m'\u001b[39m\u001b[39mhtml.parser\u001b[39m\u001b[39m'\u001b[39m)\n",
      "\u001b[1;31mKeyboardInterrupt\u001b[0m: "
     ]
    }
   ],
   "source": [
    "for wine in unified_wine_list:\n",
    "    wine_en_name = wine['en_name'].replace(' ', '-')\n",
    "    vivino_search(driver, name=wine_en_name)"
   ]
  }
 ],
 "metadata": {
  "kernelspec": {
   "display_name": ".venv",
   "language": "python",
   "name": "python3"
  },
  "language_info": {
   "codemirror_mode": {
    "name": "ipython",
    "version": 3
   },
   "file_extension": ".py",
   "mimetype": "text/x-python",
   "name": "python",
   "nbconvert_exporter": "python",
   "pygments_lexer": "ipython3",
   "version": "3.10.11"
  },
  "orig_nbformat": 4
 },
 "nbformat": 4,
 "nbformat_minor": 2
}
