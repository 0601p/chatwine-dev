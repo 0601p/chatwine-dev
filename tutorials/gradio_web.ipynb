{
 "cells": [
  {
   "attachments": {},
   "cell_type": "markdown",
   "metadata": {},
   "source": [
    "## 이 문서를 수정할 당신에게...\n",
    "#### 현재 상황은 아래와 같습니다.\n",
    "1. 우리의 최종 목표는 앱을 통해 챗봇을 배포하는 것입니다. 하지만 그 이전에 우리 챗봇에 대한 팀원들의 피드백을 받고, 미리 테스트를 하기 위한 간단한 web 배포가 필요합니다. \n",
    "2. GPT4로 생성한 대화 데이터셋을 검증하고, 수정하기 위해 사람이 interaction 할 수 있는 web UI가 필요합니다.\n",
    "\n",
    "#### 당신의 목표는 아래와 같습니다.\n",
    "총 두가지 버전의 웹 UI를 개발해야합니다.\n",
    "1. gradio를 활용해서 우리 챗봇을 미니멀하게 체험할 수 있는 web ui를 제작합니다.\n",
    "2. 대화 데이터셋팀이 제작한 데이터셋 검증 UI 제작\n",
    "- 대화 데이터셋 제작팀은 각 모듈의 평가를 위한 대화 데이터셋을 GPT4를 이용해 수집했습니다. 이렇게 수집한 데이터셋은 언어모델이 만든 데이터 이므로 이를 사람이 검증하는 과정이 필요합니다. 이를 위해 gradio를 사용해 web UI를 구성하도록 합니다. web UI 구성은 아래 논문을 참고하세요.\n",
    "[Building a Role Specified Open-Domain Dialogue System Leveraging Large-Scale Language Models 논문](https://arxiv.org/pdf/2205.00176.pdf)\n",
    "- 제작된 대화 데이터셋을 불러와서 유저의 말이나 챗봇의 대답에 대해 사람이 ok하거나 수정하기 위한 UI가 필요합니다.\n",
    "3. 대화 기록과 assistant의 output을 로깅할 수 있도록 합니다.\n",
    "\n",
    "#### 참고 사항\n",
    "아래는 위의 작업을 수행하기 위한 좋은 자료들입니다. 위의 문제해결 전에 아래 자료들을 먼저 학습하는 것을 매우 강력하게 추천합니다.\n",
    "- [gradio documentation](https://gradio.app/quickstart/)"
   ]
  },
  {
   "cell_type": "code",
   "execution_count": null,
   "metadata": {},
   "outputs": [],
   "source": []
  }
 ],
 "metadata": {
  "language_info": {
   "name": "python"
  },
  "orig_nbformat": 4
 },
 "nbformat": 4,
 "nbformat_minor": 2
}
