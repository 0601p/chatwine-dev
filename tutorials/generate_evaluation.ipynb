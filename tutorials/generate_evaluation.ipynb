{
 "cells": [
  {
   "attachments": {},
   "cell_type": "markdown",
   "metadata": {},
   "source": [
    "### Assistant evaluation 제작"
   ]
  },
  {
   "attachments": {},
   "cell_type": "markdown",
   "metadata": {},
   "source": [
    "[대화 데이터셋 파일](./templates/examples/dialog_generate_prompt_examples.yaml)로 부터 [assistant evaluation 파일](./evaluation_data/assistant_evaluation.yaml)을 제작합니다.\n",
    "\n",
    "단계는 아래와 같습니다.\n",
    "1. 수집된 대화 데이터셋을 기반으로 대화를 자릅니다.\n",
    "2. 사람이 직접 annotation을 지정합니다.\n",
    "\n",
    "Agent의 행동 단계는 아래와 같습니다.\n",
    "1. 시작하기: 자기 소개로 대화를 시작하세요. 정중함, 존중, 전문적인 어조를 유지하세요.\n",
    "2. 분석: 와인 추천을 위한 고객의 니즈를 파악합니다. 와인 데이터베이스 도구는 사용할 수 없습니다. 고객이 와인을 즐길 때, 와인과 함께 무엇을 먹을지, 원하는 가격대에 대해 물어봅니다. 한 번에 한 가지 질문만 하세요.\n",
    "3. 가격대 확인: 고객이 선호하는 가격대를 묻습니다. 다시 한 번 말씀드리지만, 이를 위한 도구는 제공되지 않습니다. 그러나 고객의 선호도와 가격대를 알고 있다면 도구를 사용하여 가장 적합한 와인 세 가지를 검색하고 와인을 추천하세요. 각 와인 추천은 비비노 링크, 가격, 등급, 와인 유형, 풍미 설명 및 이미지가 포함된 목록 형식의 제품 카드 형태로 이루어져야 합니다. 데이터베이스에 있는 와인만 추천에 사용하세요. 데이터베이스에 적합한 와인이 없는 경우 고객에게 알려주세요. 추천을 한 후 고객이 추천한 와인을 좋아하는지 문의합니다.\n",
    "4. 와인 추천: 고객의 요구와 가격대에 따라 가장 적합한 와인 3가지를 제안합니다. 추천하기 전에 고객이 와인을 즐길 상황, 와인과 함께 먹을 음식, 원하는 가격대를 파악해야 합니다. 각 와인 추천은 비비노 링크, 가격, 등급, 와인 유형, 풍미 설명 및 이미지가 포함된 목록 형식의 제품 카드 형태로 이루어져야 합니다. 데이터베이스에 있는 와인만 추천에 사용하세요. 데이터베이스에 적합한 와인이 없는 경우 고객에게 알려주세요. 추천을 한 후 고객이 추천한 와인을 좋아하는지 문의합니다.\n",
    "5. 판매: 고객이 추천 와인을 승인하면 자세한 설명을 제공합니다. 비비노 링크, 가격, 등급, 와인 종류, 풍미 설명 및 이미지가 포함된 목록 형식의 제품 카드를 제공합니다.\n",
    "6. 위치 제안: 고객의 위치와 상황에 따라 와인 바를 추천하세요. 추천하기 전에 항상 지도 도구를 사용하여 고객이 선호하는 위치의 지역을 찾아보세요. 그런 다음 와인 바 데이터베이스 도구를 사용하여 적합한 와인 바를 찾습니다. 와인 바의 이름, URL, 등급, 주소, 메뉴, 영업시간, 휴일, 전화, 요약, 이미지가 포함된 이미지를 목록 형식으로 제품 카드에 입력합니다. 추천에는 데이터베이스에 있는 와인 바만 사용하세요. 데이터베이스에 적합한 와인 바가 없는 경우 고객에게 알려주세요. 추천을 한 후 고객이 추천한 와인을 좋아하는지 문의합니다.\n",
    "7. 대화 마무리하기: 고객의 의견에 적절하게 응답하여 대화를 마무리합니다.\n",
    "8. 질문 답변: 이 단계에서는 고객의 문의에 답변합니다. 가능한 경우 검색 도구 또는 와인 데이터베이스 도구를 사용하여 구체적인 답변을 제공하세요. 가능한 자세하게 답변 설명합니다.\n",
    "9. 기타 상황: 상황이 1~8단계 중 어느 단계에도 해당하지 않는 경우 이 단계를 사용합니다. "
   ]
  },
  {
   "cell_type": "code",
   "execution_count": 19,
   "metadata": {},
   "outputs": [],
   "source": [
    "from ruamel.yaml import YAML\n",
    "import re"
   ]
  },
  {
   "cell_type": "code",
   "execution_count": 26,
   "metadata": {},
   "outputs": [],
   "source": [
    "yaml = YAML()\n",
    "yaml.indent(mapping=4, sequence=4)\n",
    "yaml.default_flow_style = False\n",
    "yaml.preserve_quotes = True\n",
    "\n",
    "# ruamel.yaml을 사용하여 입력 YAML 파일을 파싱합니다.\n",
    "with open('../model/templates/examples/dialog_generate_prompt_examples.yaml', 'r', encoding='utf-8') as f:\n",
    "    data = yaml.load(f)\n",
    "\n",
    "output_data = []\n",
    "\n",
    "for item in data:\n",
    "    # 대화를 줄바꿈('\\n') 단위로 분할합니다.\n",
    "    lines = item['conversation'].split('\\n')\n",
    "\n",
    "    for i in range(1, len(lines), 2):\n",
    "        # 현재의 대화 단계를 가져와서 output_data에 추가합니다.\n",
    "        output_item = {}\n",
    "        \n",
    "        conversation = '\\n'.join(lines[:i]).strip() + '\\n'\n",
    "        conversation = conversation.replace('유저:', 'User:')\n",
    "        conversation = conversation.replace('어시스턴트:', '이우선:')\n",
    "        conversation = conversation.replace('\\n', '<END_OF_TURN>\\n')\n",
    "        output_item['conversation'] = conversation\n",
    "        output_item['answer'] = '\\n'\n",
    "        output_data.append(output_item)\n",
    "\n",
    "# ruamel.yaml을 사용하여 output_data를 새로운 YAML 파일에 쓰기\n",
    "with open('../data/legacy/evaluation_data/assistant_evaluation.yaml', 'w', encoding='utf-8') as f:\n",
    "    yaml.dump(output_data, f)\n"
   ]
  }
 ],
 "metadata": {
  "kernelspec": {
   "display_name": ".venv",
   "language": "python",
   "name": "python3"
  },
  "language_info": {
   "codemirror_mode": {
    "name": "ipython",
    "version": 3
   },
   "file_extension": ".py",
   "mimetype": "text/x-python",
   "name": "python",
   "nbconvert_exporter": "python",
   "pygments_lexer": "ipython3",
   "version": "3.10.11"
  },
  "orig_nbformat": 4
 },
 "nbformat": 4,
 "nbformat_minor": 2
}
